{
 "cells": [
  {
   "cell_type": "markdown",
   "id": "227b49a0",
   "metadata": {},
   "source": [
    "https://spacy.io/usage/spacy-101"
   ]
  },
  {
   "cell_type": "code",
   "execution_count": null,
   "id": "4cb72e09",
   "metadata": {},
   "outputs": [],
   "source": [
    "!pip install spacy"
   ]
  },
  {
   "cell_type": "markdown",
   "id": "9d605cce",
   "metadata": {},
   "source": [
    "### 1. Basic Structure of Spacy"
   ]
  },
  {
   "cell_type": "code",
   "execution_count": 1,
   "id": "805a0289",
   "metadata": {},
   "outputs": [],
   "source": [
    "import spacy"
   ]
  },
  {
   "cell_type": "markdown",
   "id": "39d1bd13",
   "metadata": {},
   "source": [
    "#### Create a blank English nlp object\n",
    "\n",
    "* contains the processing pipeline\n",
    "* includes language-specific rules for tokenization etc.\n",
    "\n",
    "https://spacy.io/usage/models#languages"
   ]
  },
  {
   "cell_type": "code",
   "execution_count": 2,
   "id": "7ed205f8",
   "metadata": {},
   "outputs": [],
   "source": [
    "nlp = spacy.blank(\"en\")"
   ]
  },
  {
   "cell_type": "markdown",
   "id": "34ff0ed5",
   "metadata": {},
   "source": [
    "#### Created by processing a string of text with the nlp object"
   ]
  },
  {
   "cell_type": "code",
   "execution_count": 3,
   "id": "f2103f5d",
   "metadata": {},
   "outputs": [],
   "source": [
    "doc = nlp(\"Hello world!\")"
   ]
  },
  {
   "cell_type": "markdown",
   "id": "a6c9e5ed",
   "metadata": {},
   "source": [
    "#### Iterate over tokens in a Doc"
   ]
  },
  {
   "cell_type": "code",
   "execution_count": 4,
   "id": "0cb8c1c2",
   "metadata": {},
   "outputs": [
    {
     "name": "stdout",
     "output_type": "stream",
     "text": [
      "Hello\n",
      "world\n",
      "!\n"
     ]
    }
   ],
   "source": [
    "for token in doc:\n",
    "    print(token.text)"
   ]
  },
  {
   "cell_type": "markdown",
   "id": "64791f1c",
   "metadata": {},
   "source": [
    "![alt text](token.png \"Title\")"
   ]
  },
  {
   "cell_type": "markdown",
   "id": "2d463cc9",
   "metadata": {},
   "source": [
    "### 2. Span and Indexing"
   ]
  },
  {
   "cell_type": "markdown",
   "id": "3ee523b4",
   "metadata": {},
   "source": [
    "#### Index into the Doc to get a single Token"
   ]
  },
  {
   "cell_type": "code",
   "execution_count": 5,
   "id": "944290e7",
   "metadata": {},
   "outputs": [],
   "source": [
    "doc = nlp(\"Hello world!\")"
   ]
  },
  {
   "cell_type": "markdown",
   "id": "88e6c0fb",
   "metadata": {},
   "source": [
    "#### Index into the Doc to get a single Token"
   ]
  },
  {
   "cell_type": "code",
   "execution_count": 6,
   "id": "bb7671a4",
   "metadata": {},
   "outputs": [],
   "source": [
    "token = doc[0]"
   ]
  },
  {
   "cell_type": "markdown",
   "id": "000df01d",
   "metadata": {},
   "source": [
    "#### Get the token text via the .text attribute"
   ]
  },
  {
   "cell_type": "code",
   "execution_count": 7,
   "id": "40b5a969",
   "metadata": {},
   "outputs": [
    {
     "name": "stdout",
     "output_type": "stream",
     "text": [
      "Hello\n"
     ]
    }
   ],
   "source": [
    "print(token.text)"
   ]
  },
  {
   "cell_type": "markdown",
   "id": "83df7e4f",
   "metadata": {},
   "source": [
    "#### A slice from the Doc is a Span object"
   ]
  },
  {
   "cell_type": "markdown",
   "id": "a8fc6bd6",
   "metadata": {},
   "source": [
    "![alt text](span.png \"Title\")"
   ]
  },
  {
   "cell_type": "code",
   "execution_count": 9,
   "id": "f430ca13",
   "metadata": {},
   "outputs": [
    {
     "name": "stdout",
     "output_type": "stream",
     "text": [
      "world!\n"
     ]
    }
   ],
   "source": [
    "###Hello world!\n",
    "\n",
    "span = doc[1:2]\n",
    "print(span.text)"
   ]
  },
  {
   "cell_type": "markdown",
   "id": "db0a8e6a",
   "metadata": {},
   "source": [
    "### 3. Lexical Attributes\n",
    "\n",
    "* The attributes of Token object, that give you information on the type of token.\n",
    "\n",
    "https://spacy.io/usage/linguistic-features"
   ]
  },
  {
   "cell_type": "code",
   "execution_count": 18,
   "id": "83536d5f",
   "metadata": {},
   "outputs": [],
   "source": [
    "doc = nlp(\"It costs $5.\")"
   ]
  },
  {
   "cell_type": "markdown",
   "id": "0b7e8626",
   "metadata": {},
   "source": [
    "#### List Comprehension: https://www.w3schools.com/python/python_lists_comprehension.asp"
   ]
  },
  {
   "cell_type": "code",
   "execution_count": null,
   "id": "4e834d2a",
   "metadata": {},
   "outputs": [],
   "source": [
    "print(\"Index:   \", [token.i for token in doc])"
   ]
  },
  {
   "cell_type": "code",
   "execution_count": null,
   "id": "928088ea",
   "metadata": {},
   "outputs": [],
   "source": [
    "print(\"Text:    \", [token.text for token in doc])"
   ]
  },
  {
   "cell_type": "code",
   "execution_count": null,
   "id": "3689a851",
   "metadata": {},
   "outputs": [],
   "source": [
    "print(\"is_alpha:\", [token.is_alpha for token in doc])"
   ]
  },
  {
   "cell_type": "code",
   "execution_count": null,
   "id": "d7144d27",
   "metadata": {},
   "outputs": [],
   "source": [
    "print(\"is_punct:\", [token.is_punct for token in doc])"
   ]
  },
  {
   "cell_type": "code",
   "execution_count": null,
   "id": "d9a1ff68",
   "metadata": {},
   "outputs": [],
   "source": [
    "print(\"like_num:\", [token.like_num for token in doc])"
   ]
  },
  {
   "cell_type": "code",
   "execution_count": 19,
   "id": "f4094033",
   "metadata": {},
   "outputs": [
    {
     "name": "stdout",
     "output_type": "stream",
     "text": [
      "Parts of Speech: ['', '', '', '', '']\n"
     ]
    }
   ],
   "source": [
    "print(\"Parts of Speech:\", [token.pos_ for token in doc])"
   ]
  },
  {
   "cell_type": "markdown",
   "id": "08437743",
   "metadata": {},
   "source": [
    "### Exercise: "
   ]
  },
  {
   "cell_type": "markdown",
   "id": "4860d6c8",
   "metadata": {},
   "source": [
    "#### Number 1:"
   ]
  },
  {
   "cell_type": "code",
   "execution_count": null,
   "id": "3c283feb",
   "metadata": {},
   "outputs": [],
   "source": [
    "import spacy\n",
    "\n",
    "# Create the English nlp object\n",
    "nlp = spacy.blank(\"en\")\n",
    "\n",
    "# Process a text\n",
    "doc = nlp(\"This is a sentence.\")\n",
    "\n",
    "# Print the document text\n",
    "print(doc.text)"
   ]
  },
  {
   "cell_type": "markdown",
   "id": "1bb65b94",
   "metadata": {},
   "source": [
    "#### Number 2:"
   ]
  },
  {
   "cell_type": "code",
   "execution_count": 14,
   "id": "45b8407e",
   "metadata": {},
   "outputs": [
    {
     "name": "stdout",
     "output_type": "stream",
     "text": [
      "Liebe Grüße!\n"
     ]
    }
   ],
   "source": [
    "import spacy\n",
    "\n",
    "# Create the German nlp object\n",
    "nlp = spacy.blank(\"de\")\n",
    "\n",
    "# Process a text (this is German for: \"Kind regards!\")\n",
    "doc = nlp(\"Liebe Grüße!\")\n",
    "\n",
    "# Print the document text\n",
    "print(doc.text)"
   ]
  },
  {
   "cell_type": "markdown",
   "id": "81647c34",
   "metadata": {},
   "source": [
    "#### Number 3:"
   ]
  },
  {
   "cell_type": "code",
   "execution_count": null,
   "id": "96d8c8ea",
   "metadata": {},
   "outputs": [],
   "source": [
    "import spacy\n",
    "\n",
    "# Create the Spanish nlp object\n",
    "nlp = spacy.blank(\"es\")\n",
    "\n",
    "# Process a text (this is Spanish for: \"How are you?\")\n",
    "doc = nlp(\"¿Cómo estás?\")\n",
    "\n",
    "# Print the document text\n",
    "print(doc.text)"
   ]
  },
  {
   "cell_type": "markdown",
   "id": "227a677f",
   "metadata": {},
   "source": [
    "### Number 4:"
   ]
  },
  {
   "cell_type": "code",
   "execution_count": 16,
   "id": "d3c6cad5",
   "metadata": {},
   "outputs": [
    {
     "name": "stdout",
     "output_type": "stream",
     "text": [
      "I\n"
     ]
    }
   ],
   "source": [
    "import spacy\n",
    "\n",
    "nlp = spacy.blank(\"en\")\n",
    "\n",
    "# Process the text\n",
    "doc = nlp(\"I like tree kangaroos and narwhals.\")\n",
    "\n",
    "# Select the first token\n",
    "first_token = doc[0]\n",
    "\n",
    "# Print the first token's text\n",
    "print(first_token.text)"
   ]
  },
  {
   "cell_type": "markdown",
   "id": "7f5df212",
   "metadata": {},
   "source": [
    "### Number 5:"
   ]
  },
  {
   "cell_type": "code",
   "execution_count": 15,
   "id": "52ea8681",
   "metadata": {},
   "outputs": [
    {
     "name": "stdout",
     "output_type": "stream",
     "text": [
      "tree kangaroos\n",
      "tree kangaroos and narwhals\n"
     ]
    }
   ],
   "source": [
    "import spacy\n",
    "\n",
    "nlp = spacy.blank(\"en\")\n",
    "\n",
    "# Process the text\n",
    "doc = nlp(\"I like tree kangaroos and narwhals.\")\n",
    "\n",
    "# A slice of the Doc for \"tree kangaroos\"\n",
    "tree_kangaroos = doc[2:4]\n",
    "print(tree_kangaroos.text)\n",
    "\n",
    "# A slice of the Doc for \"tree kangaroos and narwhals\" (without the \".\")\n",
    "tree_kangaroos_and_narwhals = doc[2:6]\n",
    "print(tree_kangaroos_and_narwhals.text)"
   ]
  },
  {
   "cell_type": "markdown",
   "id": "cd0d1a55",
   "metadata": {},
   "source": [
    "### Number 6:"
   ]
  },
  {
   "cell_type": "code",
   "execution_count": 17,
   "id": "b5401d18",
   "metadata": {},
   "outputs": [
    {
     "name": "stdout",
     "output_type": "stream",
     "text": [
      "Percentage found: 60\n",
      "Percentage found: 4\n"
     ]
    }
   ],
   "source": [
    "import spacy\n",
    "\n",
    "nlp = spacy.blank(\"en\")\n",
    "\n",
    "# Process the text\n",
    "doc = nlp(\n",
    "    \"In 1990, more than 60% of people in East Asia were in extreme poverty. \"\n",
    "    \"Now less than 4% are.\"\n",
    ")\n",
    "\n",
    "# Iterate over the tokens in the doc\n",
    "for token in doc:\n",
    "    # Check if the token resembles a number\n",
    "    if token.like_num:\n",
    "        # Get the next token in the document\n",
    "        next_token = doc[token.i + 1]\n",
    "        # Check if the next token's text equals \"%\"\n",
    "        if next_token.text == \"%\":\n",
    "            print(\"Percentage found:\", token.text)"
   ]
  }
 ],
 "metadata": {
  "kernelspec": {
   "display_name": "Python 3 (ipykernel)",
   "language": "python",
   "name": "python3"
  },
  "language_info": {
   "codemirror_mode": {
    "name": "ipython",
    "version": 3
   },
   "file_extension": ".py",
   "mimetype": "text/x-python",
   "name": "python",
   "nbconvert_exporter": "python",
   "pygments_lexer": "ipython3",
   "version": "3.9.12"
  }
 },
 "nbformat": 4,
 "nbformat_minor": 5
}
