{
 "cells": [
  {
   "cell_type": "code",
   "execution_count": null,
   "id": "6d3999ce",
   "metadata": {},
   "outputs": [],
   "source": [
    "import spacy\n",
    "\n",
    "nlp = spacy.load(\"en_core_web_sm\")\n",
    "\n",
    "doc = nlp(\"I love coffee\")\n",
    "print(\"hash value:\", nlp..[\"coffee\"])\n",
    "print(\"string value:\", nlp..[3197928453018144401])"
   ]
  },
  {
   "cell_type": "code",
   "execution_count": null,
   "id": "2b8811b0",
   "metadata": {},
   "outputs": [],
   "source": [
    "doc = nlp(\"I love coffee\")\n",
    "print(\"hash value:\", doc..[\"coffee\"])"
   ]
  },
  {
   "cell_type": "markdown",
   "id": "21fb5eab",
   "metadata": {},
   "source": [
    "### Lexemes: entries in the vocabulary"
   ]
  },
  {
   "cell_type": "code",
   "execution_count": null,
   "id": "4a3a428e",
   "metadata": {},
   "outputs": [],
   "source": [
    "doc = nlp(\"I love coffee\")\n",
    "lexeme = nlp.vocab[\"coffee\"]\n",
    "\n",
    "# Print the lexical attributes\n",
    "print(lexeme.text, lexeme.orth, lexeme.is_alpha)"
   ]
  },
  {
   "cell_type": "markdown",
   "id": "267de72b",
   "metadata": {},
   "source": [
    "Contains the context-independent information about a word\n",
    "\n",
    "* Word text: lexeme.text and lexeme.orth (the hash)\n",
    "* Lexical attributes like lexeme.is_alpha\n",
    "* Not context-dependent part-of-speech tags, dependencies or entity labels"
   ]
  },
  {
   "cell_type": "markdown",
   "id": "d90517b2",
   "metadata": {},
   "source": [
    "### Exercise"
   ]
  },
  {
   "cell_type": "markdown",
   "id": "2311f463",
   "metadata": {},
   "source": [
    "#### Number 1"
   ]
  },
  {
   "cell_type": "code",
   "execution_count": null,
   "id": "00216d84",
   "metadata": {},
   "outputs": [],
   "source": [
    "import spacy\n",
    "\n",
    "nlp = spacy.blank(\"en\")\n",
    "doc = nlp(\"I have a cat\")\n",
    "\n",
    "# Look up the hash for the word \"cat\"\n",
    "cat_hash = ____.____.____[____]\n",
    "print(cat_hash)\n",
    "\n",
    "# Look up the cat_hash to get the string\n",
    "cat_string = ____.____.____[____]\n",
    "print(cat_string)"
   ]
  },
  {
   "cell_type": "markdown",
   "id": "70db4c46",
   "metadata": {},
   "source": [
    "#### Number 2"
   ]
  },
  {
   "cell_type": "code",
   "execution_count": null,
   "id": "5694c33b",
   "metadata": {},
   "outputs": [],
   "source": [
    "import spacy\n",
    "\n",
    "nlp = spacy.blank(\"en\")\n",
    "doc = nlp(\"David Bowie is a PERSON\")\n",
    "\n",
    "# Look up the hash for the string label \"PERSON\"\n",
    "person_hash = ____.____.____[____]\n",
    "print(person_hash)\n",
    "\n",
    "# Look up the person_hash to get the string\n",
    "person_string = ____.____.____[____]\n",
    "print(person_string)"
   ]
  },
  {
   "cell_type": "markdown",
   "id": "85a36228",
   "metadata": {},
   "source": [
    "### The Doc Object"
   ]
  },
  {
   "cell_type": "code",
   "execution_count": null,
   "id": "feebd35e",
   "metadata": {},
   "outputs": [],
   "source": [
    "import spacy\n",
    "nlp = spacy.blank(\"en\")\n",
    "\n",
    "# Import the Doc class\n",
    "from spacy.tokens import Doc\n",
    "\n",
    "# The words and spaces to create the doc from\n",
    "words = [\"Hello\", \"world\", \"!\"]\n",
    "spaces = [True, False, False]\n",
    "\n",
    "# Create a doc manually\n",
    "doc = Doc(nlp., =words, =spaces)"
   ]
  },
  {
   "cell_type": "markdown",
   "id": "edad03fb",
   "metadata": {},
   "source": [
    "#### Import the Doc and Span classes"
   ]
  },
  {
   "cell_type": "code",
   "execution_count": null,
   "id": "18bf189a",
   "metadata": {},
   "outputs": [],
   "source": [
    "from spacy.tokens import Doc, Span\n",
    "\n",
    "# The words and spaces to create the doc from\n",
    "words = [\"Hello\", \"world\", \"!\"]\n",
    "spaces = [True, False, False]\n",
    "\n",
    "# Create a doc manually\n",
    "doc = Doc(nlp., =words, =spaces)\n",
    "\n",
    "# Create a span manually\n",
    "span = (doc, 0, 2)\n",
    "\n",
    "# Create a span with a label\n",
    "span_with_label = (doc, 0, 1, label=\"GREETING\")\n",
    "\n",
    "# Add span to the doc.ents\n",
    "doc.ents = [span_with_label]\n",
    "doc"
   ]
  },
  {
   "cell_type": "code",
   "execution_count": null,
   "id": "bc77452f",
   "metadata": {},
   "outputs": [],
   "source": [
    "from spacy import \n",
    "(doc, style=\"ent\")"
   ]
  },
  {
   "cell_type": "markdown",
   "id": "9818ab7c",
   "metadata": {},
   "source": [
    "Best practices\n",
    "\n",
    "* Doc and Span are very powerful and hold references and relationships of words and sentences\n",
    "  - Convert result to strings as late as possible\n",
    "  - Use token attributes if available – for example, token.i for the token index\n",
    "* Don't forget to pass in the shared vocab"
   ]
  },
  {
   "cell_type": "markdown",
   "id": "3bf2a69c",
   "metadata": {},
   "source": [
    "### Exercise"
   ]
  },
  {
   "cell_type": "markdown",
   "id": "44a20bf3",
   "metadata": {},
   "source": [
    "#### Number 1:"
   ]
  },
  {
   "cell_type": "code",
   "execution_count": null,
   "id": "f1faaef7",
   "metadata": {},
   "outputs": [],
   "source": [
    "nlp = spacy.blank(\"en\")\n",
    "\n",
    "# Import the Doc class\n",
    "from ____ import ____\n",
    "\n",
    "# Desired text: \"spaCy is cool!\"\n",
    "words = [\"spaCy\", \"is\", \"cool\", \"!\"]\n",
    "spaces = [True, True, False, False]\n",
    "\n",
    "# Create a Doc from the words and spaces\n",
    "doc = ____(____, words=words, spaces=spaces)\n",
    "print(doc.text)"
   ]
  },
  {
   "cell_type": "markdown",
   "id": "9a178e6c",
   "metadata": {},
   "source": [
    "#### Number 2:"
   ]
  },
  {
   "cell_type": "code",
   "execution_count": null,
   "id": "15d1be63",
   "metadata": {},
   "outputs": [],
   "source": [
    "import spacy\n",
    "\n",
    "nlp = spacy.blank(\"en\")\n",
    "\n",
    "# Import the Doc class\n",
    "from ____ import ____\n",
    "\n",
    "# Desired text: \"Go, get started!\"\n",
    "words = [\"Go\", \",\", \"get\", \"started\", \"!\"]\n",
    "spaces = [____, ____, ____, ____, ____]\n",
    "\n",
    "# Create a Doc from the words and spaces\n",
    "doc = ____(____, ____=____, ____=____)\n",
    "print(doc.text)"
   ]
  },
  {
   "cell_type": "markdown",
   "id": "fea7df13",
   "metadata": {},
   "source": [
    "#### Number 3:"
   ]
  },
  {
   "cell_type": "code",
   "execution_count": null,
   "id": "d3a865b9",
   "metadata": {},
   "outputs": [],
   "source": [
    "import spacy\n",
    "\n",
    "nlp = spacy.blank(\"en\")\n",
    "\n",
    "# Import the Doc class\n",
    "from ____ import ____\n",
    "\n",
    "# Desired text: \"Oh, really?!\"\n",
    "words = [____, ____, ____, ____, ____]\n",
    "spaces = [____, ____, ____, ____, ____]\n",
    "\n",
    "# Create a Doc from the words and spaces\n",
    "doc = ____(____, ____=____, ____=____)\n",
    "print(doc.text)"
   ]
  },
  {
   "cell_type": "markdown",
   "id": "907e46b0",
   "metadata": {},
   "source": [
    "#### Number 4:"
   ]
  },
  {
   "cell_type": "code",
   "execution_count": null,
   "id": "d501a50c",
   "metadata": {},
   "outputs": [],
   "source": [
    "import spacy\n",
    "\n",
    "nlp = spacy.blank(\"en\")\n",
    "\n",
    "# Import the Doc and Span classes\n",
    "from spacy.____ import ____, ____\n",
    "\n",
    "words = [\"I\", \"like\", \"David\", \"Bowie\"]\n",
    "spaces = [True, True, True, False]\n",
    "\n",
    "# Create a doc from the words and spaces\n",
    "doc = ____(____, ____, ____)\n",
    "print(doc.text)\n",
    "\n",
    "# Create a span for \"David Bowie\" from the doc and assign it the label \"PERSON\"\n",
    "span = ____(____, ____, ____, label=____)\n",
    "print(span.text, span.label_)\n",
    "\n",
    "# Add the span to the doc's entities\n",
    "____.____ = [____]\n",
    "\n",
    "# Print entities' text and labels\n",
    "print([(ent.text, ent.label_) for ent in doc.ents])"
   ]
  }
 ],
 "metadata": {
  "kernelspec": {
   "display_name": "Python 3 (ipykernel)",
   "language": "python",
   "name": "python3"
  },
  "language_info": {
   "codemirror_mode": {
    "name": "ipython",
    "version": 3
   },
   "file_extension": ".py",
   "mimetype": "text/x-python",
   "name": "python",
   "nbconvert_exporter": "python",
   "pygments_lexer": "ipython3",
   "version": "3.9.12"
  }
 },
 "nbformat": 4,
 "nbformat_minor": 5
}
