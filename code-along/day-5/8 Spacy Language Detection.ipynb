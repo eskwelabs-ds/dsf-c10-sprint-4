{
 "cells": [
  {
   "cell_type": "code",
   "execution_count": null,
   "id": "0b29c1dd",
   "metadata": {},
   "outputs": [],
   "source": [
    "!pip install spacy-language-detection"
   ]
  },
  {
   "cell_type": "code",
   "execution_count": null,
   "id": "e266e2fb",
   "metadata": {},
   "outputs": [],
   "source": [
    "import spacy\n",
    "from spacy.language import Language\n",
    "from \n",
    "\n",
    "\n",
    "def get_lang_detector_function(nlp, name):\n",
    "    return LanguageDetector()\n",
    "\n",
    "nlp = spacy.load(\"en_core_web_sm\")\n",
    "nlp.add_pipe('', last=True)\n",
    "text = 'This is an english text.'\n",
    "doc = nlp(text)\n",
    "print(doc._.language)"
   ]
  },
  {
   "cell_type": "markdown",
   "id": "f073499c",
   "metadata": {},
   "source": [
    "### Second Way To Initialize Process Pipelines"
   ]
  },
  {
   "cell_type": "code",
   "execution_count": null,
   "id": "b3a5991b",
   "metadata": {},
   "outputs": [],
   "source": [
    "import spacy\n",
    "from spacy.language import Language\n",
    "from spacy_langdetect import LanguageDetector\n",
    "\n",
    "def get_lang_detector(nlp, name):\n",
    "    return LanguageDetector()\n",
    "\n",
    "nlp = spacy.load(\"en_core_web_sm\")\n",
    "\n",
    "nlp.add_pipe('', last=True)\n",
    "text = 'This is an english text.'\n",
    "doc = nlp(text)\n",
    "print(doc._.language)"
   ]
  },
  {
   "cell_type": "markdown",
   "id": "8564f060",
   "metadata": {},
   "source": [
    "### Trying Different Language"
   ]
  },
  {
   "cell_type": "code",
   "execution_count": null,
   "id": "9a0af565",
   "metadata": {},
   "outputs": [],
   "source": [
    "import pandas as pd\n",
    "\n",
    "details = {\n",
    "    'message' : ['Time is Gold', \n",
    "                  'One only dies once, and if one does not die well, a good opportunity is lost and will not present itself again', \n",
    "                  'Ignorance is servitude, because as a man thinks, so he is; a man who does not think for himself and allowed himself to be guided by the thought of another is like the beast led by a halter.', \n",
    "                  'Ang pagsusumikap at pagpipilit na kumita ng ikakabuhay ay pagpapahayag ng tunay na pagmamahal sa sarili, sa asawa, anak, kapatid, at kababayan.',\n",
    "                  \"Kalakip din nito'y pag-ibig sa Bayan. Ang lahat ng lalong sa gunita'y mahal. Mula sa masaya'y gasong kasanggulan hanggang sa katawa'y mapasa-libingan.\"\n",
    "                 ],\n",
    "}\n",
    "  \n",
    "df = pd.DataFrame(details)\n",
    "df"
   ]
  },
  {
   "cell_type": "code",
   "execution_count": null,
   "id": "25f6f9fb",
   "metadata": {},
   "outputs": [],
   "source": [
    "def get_lang_detector(nlp, name):\n",
    "    return LanguageDetector()\n",
    "\n",
    "\n",
    "nlp = spacy.load(\"en_core_web_sm\")\n",
    "Language.factory(\"\", func=get_lang_detector)\n",
    "nlp.add_pipe('language_detector', last=True)\n",
    "\n",
    "def get_language_feature(message):\n",
    "    text = message\n",
    "    doc = nlp(text)\n",
    "    print(doc._.language)\n",
    "    \n",
    "    return doc._.language[]\n",
    "\n",
    "df['language'] = df.apply(lambda x: get_language_feature(x['message']), axis=1)"
   ]
  }
 ],
 "metadata": {
  "kernelspec": {
   "display_name": "Python 3 (ipykernel)",
   "language": "python",
   "name": "python3"
  },
  "language_info": {
   "codemirror_mode": {
    "name": "ipython",
    "version": 3
   },
   "file_extension": ".py",
   "mimetype": "text/x-python",
   "name": "python",
   "nbconvert_exporter": "python",
   "pygments_lexer": "ipython3",
   "version": "3.9.12"
  }
 },
 "nbformat": 4,
 "nbformat_minor": 5
}
