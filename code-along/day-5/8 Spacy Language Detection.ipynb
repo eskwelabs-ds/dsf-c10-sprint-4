{
 "cells": [
  {
   "cell_type": "code",
   "execution_count": null,
   "id": "0b29c1dd",
   "metadata": {},
   "outputs": [],
   "source": [
    "!pip install spacy-language-detection"
   ]
  },
  {
   "cell_type": "code",
   "execution_count": 9,
   "id": "e266e2fb",
   "metadata": {},
   "outputs": [
    {
     "name": "stdout",
     "output_type": "stream",
     "text": [
      "{'language': 'en', 'score': 0.9999957102834282}\n"
     ]
    }
   ],
   "source": [
    "import spacy\n",
    "from spacy.language import Language\n",
    "from spacy_langdetect import LanguageDetector\n",
    "\n",
    "@Language.component(\"get_lang_detector\")\n",
    "def get_lang_detector_function(nlp, name):\n",
    "    return LanguageDetector()\n",
    "\n",
    "nlp = spacy.load(\"en_core_web_sm\")\n",
    "nlp.add_pipe('language_detector', last=True)\n",
    "text = 'This is an english text.'\n",
    "doc = nlp(text)\n",
    "print(doc._.language)"
   ]
  },
  {
   "cell_type": "markdown",
   "id": "f073499c",
   "metadata": {},
   "source": [
    "### Second Way To Initialize Process Pipelines"
   ]
  },
  {
   "cell_type": "code",
   "execution_count": 11,
   "id": "b3a5991b",
   "metadata": {},
   "outputs": [
    {
     "name": "stdout",
     "output_type": "stream",
     "text": [
      "{'language': 'tl', 'score': 0.9999977145584822}\n"
     ]
    }
   ],
   "source": [
    "import spacy\n",
    "from spacy.language import Language\n",
    "from spacy_langdetect import LanguageDetector\n",
    "\n",
    "def get_lang_detector(nlp, name):\n",
    "    return LanguageDetector()\n",
    "\n",
    "nlp = spacy.load(\"en_core_web_sm\")\n",
    "Language.factory(\"language_detector_v1_2\", func=get_lang_detector)\n",
    "nlp.add_pipe('language_detector_v1_2', last=True)\n",
    "text = 'Ang hindi magmahal sa sariling wika, daig pa ang hayop at malansang isda.'\n",
    "doc = nlp(text)\n",
    "print(doc._.language)"
   ]
  },
  {
   "cell_type": "markdown",
   "id": "8564f060",
   "metadata": {},
   "source": [
    "### Trying Different Language"
   ]
  },
  {
   "cell_type": "code",
   "execution_count": 12,
   "id": "9a0af565",
   "metadata": {},
   "outputs": [
    {
     "data": {
      "text/html": [
       "<div>\n",
       "<style scoped>\n",
       "    .dataframe tbody tr th:only-of-type {\n",
       "        vertical-align: middle;\n",
       "    }\n",
       "\n",
       "    .dataframe tbody tr th {\n",
       "        vertical-align: top;\n",
       "    }\n",
       "\n",
       "    .dataframe thead th {\n",
       "        text-align: right;\n",
       "    }\n",
       "</style>\n",
       "<table border=\"1\" class=\"dataframe\">\n",
       "  <thead>\n",
       "    <tr style=\"text-align: right;\">\n",
       "      <th></th>\n",
       "      <th>message</th>\n",
       "    </tr>\n",
       "  </thead>\n",
       "  <tbody>\n",
       "    <tr>\n",
       "      <th>0</th>\n",
       "      <td>Time is Gold</td>\n",
       "    </tr>\n",
       "    <tr>\n",
       "      <th>1</th>\n",
       "      <td>One only dies once, and if one does not die we...</td>\n",
       "    </tr>\n",
       "    <tr>\n",
       "      <th>2</th>\n",
       "      <td>Ignorance is servitude, because as a man think...</td>\n",
       "    </tr>\n",
       "    <tr>\n",
       "      <th>3</th>\n",
       "      <td>Ang pagsusumikap at pagpipilit na kumita ng ik...</td>\n",
       "    </tr>\n",
       "    <tr>\n",
       "      <th>4</th>\n",
       "      <td>Kalakip din nito'y pag-ibig sa Bayan. Ang laha...</td>\n",
       "    </tr>\n",
       "  </tbody>\n",
       "</table>\n",
       "</div>"
      ],
      "text/plain": [
       "                                             message\n",
       "0                                       Time is Gold\n",
       "1  One only dies once, and if one does not die we...\n",
       "2  Ignorance is servitude, because as a man think...\n",
       "3  Ang pagsusumikap at pagpipilit na kumita ng ik...\n",
       "4  Kalakip din nito'y pag-ibig sa Bayan. Ang laha..."
      ]
     },
     "execution_count": 12,
     "metadata": {},
     "output_type": "execute_result"
    }
   ],
   "source": [
    "import pandas as pd\n",
    "\n",
    "details = {\n",
    "    'message' : ['Time is Gold', \n",
    "                  'One only dies once, and if one does not die well, a good opportunity is lost and will not present itself again', \n",
    "                  'Ignorance is servitude, because as a man thinks, so he is; a man who does not think for himself and allowed himself to be guided by the thought of another is like the beast led by a halter.', \n",
    "                  'Ang pagsusumikap at pagpipilit na kumita ng ikakabuhay ay pagpapahayag ng tunay na pagmamahal sa sarili, sa asawa, anak, kapatid, at kababayan.',\n",
    "                  \"Kalakip din nito'y pag-ibig sa Bayan. Ang lahat ng lalong sa gunita'y mahal. Mula sa masaya'y gasong kasanggulan hanggang sa katawa'y mapasa-libingan.\"\n",
    "                 ],\n",
    "}\n",
    "  \n",
    "df = pd.DataFrame(details)\n",
    "df"
   ]
  },
  {
   "cell_type": "code",
   "execution_count": 14,
   "id": "25f6f9fb",
   "metadata": {},
   "outputs": [
    {
     "name": "stdout",
     "output_type": "stream",
     "text": [
      "{'language': 'en', 'score': 0.9999954754872127}\n",
      "{'language': 'en', 'score': 0.9999961414337294}\n",
      "{'language': 'en', 'score': 0.9999962663119681}\n",
      "{'language': 'tl', 'score': 0.999995800514529}\n",
      "{'language': 'tl', 'score': 0.999995129118494}\n"
     ]
    }
   ],
   "source": [
    "def get_lang_detector(nlp, name):\n",
    "    return LanguageDetector()\n",
    "\n",
    "\n",
    "nlp = spacy.load(\"en_core_web_sm\")\n",
    "Language.factory(\"language_detector_v1_3\", func=get_lang_detector)\n",
    "nlp.add_pipe('language_detector_v1_3', last=True)\n",
    "\n",
    "def get_language_feature(message):\n",
    "    text = message\n",
    "    doc = nlp(text)\n",
    "    print(doc._.language)\n",
    "    \n",
    "    return doc._.language['language']\n",
    "\n",
    "df['language'] = df.apply(lambda x: get_language_feature(x['message']), axis=1)"
   ]
  },
  {
   "cell_type": "code",
   "execution_count": 15,
   "id": "042e0596",
   "metadata": {},
   "outputs": [
    {
     "data": {
      "text/html": [
       "<div>\n",
       "<style scoped>\n",
       "    .dataframe tbody tr th:only-of-type {\n",
       "        vertical-align: middle;\n",
       "    }\n",
       "\n",
       "    .dataframe tbody tr th {\n",
       "        vertical-align: top;\n",
       "    }\n",
       "\n",
       "    .dataframe thead th {\n",
       "        text-align: right;\n",
       "    }\n",
       "</style>\n",
       "<table border=\"1\" class=\"dataframe\">\n",
       "  <thead>\n",
       "    <tr style=\"text-align: right;\">\n",
       "      <th></th>\n",
       "      <th>message</th>\n",
       "      <th>language</th>\n",
       "    </tr>\n",
       "  </thead>\n",
       "  <tbody>\n",
       "    <tr>\n",
       "      <th>0</th>\n",
       "      <td>Time is Gold</td>\n",
       "      <td>en</td>\n",
       "    </tr>\n",
       "    <tr>\n",
       "      <th>1</th>\n",
       "      <td>One only dies once, and if one does not die we...</td>\n",
       "      <td>en</td>\n",
       "    </tr>\n",
       "    <tr>\n",
       "      <th>2</th>\n",
       "      <td>Ignorance is servitude, because as a man think...</td>\n",
       "      <td>en</td>\n",
       "    </tr>\n",
       "    <tr>\n",
       "      <th>3</th>\n",
       "      <td>Ang pagsusumikap at pagpipilit na kumita ng ik...</td>\n",
       "      <td>tl</td>\n",
       "    </tr>\n",
       "    <tr>\n",
       "      <th>4</th>\n",
       "      <td>Kalakip din nito'y pag-ibig sa Bayan. Ang laha...</td>\n",
       "      <td>tl</td>\n",
       "    </tr>\n",
       "  </tbody>\n",
       "</table>\n",
       "</div>"
      ],
      "text/plain": [
       "                                             message language\n",
       "0                                       Time is Gold       en\n",
       "1  One only dies once, and if one does not die we...       en\n",
       "2  Ignorance is servitude, because as a man think...       en\n",
       "3  Ang pagsusumikap at pagpipilit na kumita ng ik...       tl\n",
       "4  Kalakip din nito'y pag-ibig sa Bayan. Ang laha...       tl"
      ]
     },
     "execution_count": 15,
     "metadata": {},
     "output_type": "execute_result"
    }
   ],
   "source": [
    "df"
   ]
  }
 ],
 "metadata": {
  "kernelspec": {
   "display_name": "Python 3 (ipykernel)",
   "language": "python",
   "name": "python3"
  },
  "language_info": {
   "codemirror_mode": {
    "name": "ipython",
    "version": 3
   },
   "file_extension": ".py",
   "mimetype": "text/x-python",
   "name": "python",
   "nbconvert_exporter": "python",
   "pygments_lexer": "ipython3",
   "version": "3.9.12"
  }
 },
 "nbformat": 4,
 "nbformat_minor": 5
}
