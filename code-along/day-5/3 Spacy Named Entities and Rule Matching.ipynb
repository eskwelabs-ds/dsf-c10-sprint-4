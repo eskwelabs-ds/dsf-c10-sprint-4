{
 "cells": [
  {
   "cell_type": "markdown",
   "id": "56c27435",
   "metadata": {},
   "source": [
    "Named entities are \"real world objects\" that are assigned a name – for example, a person, an organization or a country."
   ]
  },
  {
   "cell_type": "code",
   "execution_count": null,
   "id": "20e55dc2",
   "metadata": {},
   "outputs": [],
   "source": [
    "import spacy\n",
    "nlp = spacy.load(\"en_core_web_sm\")"
   ]
  },
  {
   "cell_type": "code",
   "execution_count": null,
   "id": "434c6fd7",
   "metadata": {},
   "outputs": [],
   "source": [
    "doc = nlp(\"Apple is looking at buying U.K. startup for $1 billion\")\n",
    "\n",
    "# Iterate over the predicted entities\n",
    "for ent in doc.:\n",
    "    # Print the entity text and its label\n",
    "    print(ent.text, ent.)"
   ]
  },
  {
   "cell_type": "code",
   "execution_count": null,
   "id": "a2d3a363",
   "metadata": {},
   "outputs": [],
   "source": [
    "spacy.explain(\"GPE\")"
   ]
  },
  {
   "cell_type": "code",
   "execution_count": null,
   "id": "b3786055",
   "metadata": {},
   "outputs": [],
   "source": [
    "spacy.explain(\"NNP\")"
   ]
  },
  {
   "cell_type": "code",
   "execution_count": null,
   "id": "07d372c6",
   "metadata": {},
   "outputs": [],
   "source": [
    "spacy.explain(\"dobj\")"
   ]
  },
  {
   "cell_type": "markdown",
   "id": "759be643",
   "metadata": {},
   "source": [
    "#### Visualizers: https://spacy.io/usage/visualizers"
   ]
  },
  {
   "cell_type": "code",
   "execution_count": null,
   "id": "f568ccb6",
   "metadata": {},
   "outputs": [],
   "source": [
    "from spacy import \n",
    "(doc, style=\"ent\")"
   ]
  },
  {
   "cell_type": "markdown",
   "id": "8f7d7256",
   "metadata": {},
   "source": [
    "#### Exercise"
   ]
  },
  {
   "cell_type": "code",
   "execution_count": null,
   "id": "87b81732",
   "metadata": {},
   "outputs": [],
   "source": [
    "import spacy\n",
    "\n",
    "nlp = spacy.load(\"en_core_web_sm\")\n",
    "\n",
    "text = \"Upcoming iPhone X release date leaked as Apple reveals pre-orders\"\n",
    "\n",
    "# Process the text\n",
    "doc = ____\n",
    "\n",
    "# Iterate over the entities\n",
    "for ____ in ____.____:\n",
    "    # Print the entity text and label\n",
    "    print(____.____, ____.____)\n",
    "\n",
    "# Get the span for \"iPhone X\"\n",
    "iphone_x = ____\n",
    "\n",
    "# Print the span text\n",
    "print(\"Missing entity:\", iphone_x.text)"
   ]
  },
  {
   "cell_type": "markdown",
   "id": "1e399efe",
   "metadata": {},
   "source": [
    "### Rule Matching"
   ]
  },
  {
   "cell_type": "markdown",
   "id": "a11d567c",
   "metadata": {},
   "source": [
    "Why not just regular expressions?\n",
    "\n",
    "* Match on Doc objects, not just strings\n",
    "* Match on tokens and token attributes\n",
    "* Use a model's predictions\n",
    "* Example: \"duck\" (verb) vs. \"duck\" (noun)"
   ]
  },
  {
   "cell_type": "markdown",
   "id": "01a4796c",
   "metadata": {},
   "source": [
    "#### Matching Text"
   ]
  },
  {
   "cell_type": "code",
   "execution_count": null,
   "id": "f28e084d",
   "metadata": {},
   "outputs": [],
   "source": [
    "import spacy\n",
    "\n",
    "# Import the Matcher\n",
    "from spacy.matcher import \n",
    "\n",
    "# Load a pipeline and create the nlp object\n",
    "nlp = spacy.load(\"en_core_web_sm\")\n",
    "\n",
    "# Initialize the matcher with the shared vocab\n",
    "matcher = (nlp.vocab)\n",
    "\n",
    "# Add the pattern to the matcher\n",
    "pattern = [{\"\": \"\"}, {\"\": \"\"}]\n",
    "matcher.add(\"\", [pattern])\n",
    "\n",
    "# Process some text\n",
    "doc = nlp(\"Upcoming iPhone X release date leaked\")\n",
    "\n",
    "# Call the matcher on the doc\n",
    "matches = (doc)"
   ]
  },
  {
   "cell_type": "code",
   "execution_count": null,
   "id": "4cebf6a8",
   "metadata": {},
   "outputs": [],
   "source": [
    "for match_id, start, end in matches:\n",
    "    # Get the matched span\n",
    "    matched_span = doc[:]\n",
    "    print(matched_span.text)"
   ]
  },
  {
   "cell_type": "markdown",
   "id": "e6c62c32",
   "metadata": {},
   "source": [
    "#### Matching lexical attributes"
   ]
  },
  {
   "cell_type": "code",
   "execution_count": null,
   "id": "9b083a4a",
   "metadata": {},
   "outputs": [],
   "source": [
    "doc = nlp(\"2018 FIFA World Cup: France won!\")"
   ]
  },
  {
   "cell_type": "code",
   "execution_count": null,
   "id": "c1da7889",
   "metadata": {},
   "outputs": [],
   "source": [
    "pattern = [\n",
    "    {\"IS_DIGIT\": True},\n",
    "    {\"LOWER\": \"fifa\"},\n",
    "    {\"LOWER\": \"world\"},\n",
    "    {\"LOWER\": \"cup\"},\n",
    "    {\"IS_PUNCT\": True}\n",
    "]"
   ]
  },
  {
   "cell_type": "code",
   "execution_count": null,
   "id": "9cbafe57",
   "metadata": {},
   "outputs": [],
   "source": [
    "matcher.add(\"FIFA_PATTERN\", [pattern])"
   ]
  },
  {
   "cell_type": "code",
   "execution_count": null,
   "id": "51223f65",
   "metadata": {},
   "outputs": [],
   "source": [
    "matches = (doc)"
   ]
  },
  {
   "cell_type": "code",
   "execution_count": null,
   "id": "77ac391b",
   "metadata": {},
   "outputs": [],
   "source": [
    "for match_id, start, end in matches:\n",
    "    # Get the matched span\n",
    "    matched_span = doc[:]\n",
    "    print(matched_span.text)"
   ]
  },
  {
   "cell_type": "markdown",
   "id": "9d64160d",
   "metadata": {},
   "source": [
    "#### Matching other token attributes"
   ]
  },
  {
   "cell_type": "code",
   "execution_count": null,
   "id": "7406fe54",
   "metadata": {},
   "outputs": [],
   "source": [
    "doc = nlp(\"I loved dogs but now I love cats more.\")"
   ]
  },
  {
   "cell_type": "code",
   "execution_count": null,
   "id": "b6b0ac32",
   "metadata": {},
   "outputs": [],
   "source": [
    "pattern = [\n",
    "    {\"LEMMA\": \"love\", \"POS\": \"VERB\"},\n",
    "    {\"POS\": \"NOUN\"}\n",
    "]\n",
    "\n",
    "matcher.add(\"POS_PATTERN\", [pattern])"
   ]
  },
  {
   "cell_type": "code",
   "execution_count": null,
   "id": "bead97fb",
   "metadata": {},
   "outputs": [],
   "source": [
    "matches = (doc)"
   ]
  },
  {
   "cell_type": "code",
   "execution_count": null,
   "id": "d519d520",
   "metadata": {},
   "outputs": [],
   "source": [
    "for match_id, start, end in matches:\n",
    "    # Get the matched span\n",
    "    matched_span = doc[:]\n",
    "    print(matched_span.text)"
   ]
  },
  {
   "cell_type": "markdown",
   "id": "302917b4",
   "metadata": {},
   "source": [
    "#### Using operators and quantifiers (1)\n",
    "\n",
    "* !  Negation: match 0 times\n",
    "* ?  Optional: match 0 or 1 times\n",
    "* \\+  Match 1 or more times\n",
    "* \\* Match 0 or more times"
   ]
  },
  {
   "cell_type": "code",
   "execution_count": null,
   "id": "e7df6c56",
   "metadata": {},
   "outputs": [],
   "source": [
    "doc = nlp(\"I bought a smartphone. Now I'm buying apps.\")"
   ]
  },
  {
   "cell_type": "code",
   "execution_count": null,
   "id": "345336a5",
   "metadata": {},
   "outputs": [],
   "source": [
    "pattern = [\n",
    "    {\"LEMMA\": \"buy\"},\n",
    "    {\"POS\": \"DET\", \"OP\": \"?\"},  # optional: match 0 or 1 times\n",
    "    {\"POS\": \"NOUN\"}\n",
    "]"
   ]
  },
  {
   "cell_type": "code",
   "execution_count": null,
   "id": "dad00052",
   "metadata": {},
   "outputs": [],
   "source": [
    "matcher.add(\"POS_PATTERN\", [pattern])"
   ]
  },
  {
   "cell_type": "code",
   "execution_count": null,
   "id": "8f2082d0",
   "metadata": {},
   "outputs": [],
   "source": [
    "matches = (doc)"
   ]
  },
  {
   "cell_type": "code",
   "execution_count": null,
   "id": "929ca546",
   "metadata": {},
   "outputs": [],
   "source": [
    "for match_id, start, end in matches:\n",
    "    # Get the matched span\n",
    "    matched_span = doc[:]\n",
    "    print(matched_span.text)"
   ]
  },
  {
   "cell_type": "markdown",
   "id": "adf04853",
   "metadata": {},
   "source": [
    "### Exercise"
   ]
  },
  {
   "cell_type": "markdown",
   "id": "990a11cf",
   "metadata": {},
   "source": [
    "#### Number 1"
   ]
  },
  {
   "cell_type": "code",
   "execution_count": null,
   "id": "f0eabfd2",
   "metadata": {},
   "outputs": [],
   "source": [
    "import spacy\n",
    "\n",
    "# Import the Matcher\n",
    "from spacy.____ import ____\n",
    "\n",
    "nlp = spacy.load(\"en_core_web_sm\")\n",
    "doc = nlp(\"Upcoming iPhone X release date leaked as Apple reveals pre-orders\")\n",
    "\n",
    "# Initialize the Matcher with the shared vocabulary\n",
    "matcher = ____(____.____)\n",
    "\n",
    "# Create a pattern matching two tokens: \"iPhone\" and \"X\"\n",
    "pattern = [____]\n",
    "\n",
    "# Add the pattern to the matcher\n",
    "____.____(\"IPHONE_X_PATTERN\", ____)\n",
    "\n",
    "# Use the matcher on the doc\n",
    "matches = ____\n",
    "print(\"Matches:\", [doc[start:end].text for match_id, start, end in matches])"
   ]
  },
  {
   "cell_type": "markdown",
   "id": "18401bf9",
   "metadata": {},
   "source": [
    "#### Number 2:"
   ]
  },
  {
   "cell_type": "code",
   "execution_count": null,
   "id": "ae966fcb",
   "metadata": {},
   "outputs": [],
   "source": [
    "import spacy\n",
    "from spacy.matcher import Matcher\n",
    "\n",
    "nlp = spacy.load(\"en_core_web_sm\")\n",
    "matcher = Matcher(nlp.vocab)\n",
    "\n",
    "doc = nlp(\n",
    "    \"i downloaded Fortnite on my laptop and can't open the game at all. Help? \"\n",
    "    \"so when I was downloading Minecraft, I got the Windows version where it \"\n",
    "    \"is the '.zip' folder and I used the default program to unpack it... do \"\n",
    "    \"I also need to download Winzip?\"\n",
    ")\n",
    "\n",
    "# Write a pattern that matches a form of \"download\" plus proper noun\n",
    "pattern = [{\"LEMMA\": ____}, {\"POS\": ____}]\n",
    "\n",
    "# Add the pattern to the matcher and apply the matcher to the doc\n",
    "matcher.add(\"DOWNLOAD_THINGS_PATTERN\", [pattern])\n",
    "matches = matcher(doc)\n",
    "print(\"Total matches found:\", len(matches))\n",
    "\n",
    "# Iterate over the matches and print the span text\n",
    "for match_id, start, end in matches:\n",
    "    print(\"Match found:\", doc[start:end].text)"
   ]
  },
  {
   "cell_type": "markdown",
   "id": "b8b9f278",
   "metadata": {},
   "source": [
    "#### Number 3:"
   ]
  },
  {
   "cell_type": "code",
   "execution_count": null,
   "id": "68018778",
   "metadata": {},
   "outputs": [],
   "source": [
    "import spacy\n",
    "from spacy.matcher import Matcher\n",
    "\n",
    "nlp = spacy.load(\"en_core_web_sm\")\n",
    "matcher = Matcher(nlp.vocab)\n",
    "\n",
    "doc = nlp(\n",
    "    \"Features of the app include a beautiful design, smart search, automatic \"\n",
    "    \"labels and optional voice responses.\"\n",
    ")\n",
    "\n",
    "# Write a pattern for adjective plus one or two nouns\n",
    "pattern = [{\"POS\": ____}, {\"POS\": ____}, {\"POS\": ____, \"OP\": ____}]\n",
    "\n",
    "# Add the pattern to the matcher and apply the matcher to the doc\n",
    "matcher.add(\"ADJ_NOUN_PATTERN\", [pattern])\n",
    "matches = matcher(doc)\n",
    "print(\"Total matches found:\", len(matches))\n",
    "\n",
    "# Iterate over the matches and print the span text\n",
    "for match_id, start, end in matches:\n",
    "    print(\"Match found:\", doc[start:end].text)"
   ]
  }
 ],
 "metadata": {
  "kernelspec": {
   "display_name": "Python 3 (ipykernel)",
   "language": "python",
   "name": "python3"
  },
  "language_info": {
   "codemirror_mode": {
    "name": "ipython",
    "version": 3
   },
   "file_extension": ".py",
   "mimetype": "text/x-python",
   "name": "python",
   "nbconvert_exporter": "python",
   "pygments_lexer": "ipython3",
   "version": "3.9.12"
  }
 },
 "nbformat": 4,
 "nbformat_minor": 5
}
