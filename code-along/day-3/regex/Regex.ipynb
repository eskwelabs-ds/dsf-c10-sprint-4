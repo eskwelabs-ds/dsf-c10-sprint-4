{
 "cells": [
  {
   "cell_type": "code",
   "execution_count": null,
   "id": "f5ad564c",
   "metadata": {},
   "outputs": [],
   "source": [
    "import re"
   ]
  },
  {
   "cell_type": "code",
   "execution_count": null,
   "id": "c45fd50b",
   "metadata": {},
   "outputs": [],
   "source": [
    "sample_text = \"The rain in Spain\""
   ]
  },
  {
   "cell_type": "markdown",
   "id": "0715f3a8",
   "metadata": {},
   "source": [
    "### Using Findall"
   ]
  },
  {
   "cell_type": "code",
   "execution_count": null,
   "id": "55725041",
   "metadata": {},
   "outputs": [],
   "source": [
    "findall_result = re.findall(\"\", sample_text)\n",
    "print(findall_result) "
   ]
  },
  {
   "cell_type": "markdown",
   "id": "e7ea0db8",
   "metadata": {},
   "source": [
    "### Search"
   ]
  },
  {
   "cell_type": "code",
   "execution_count": null,
   "id": "43d138f7",
   "metadata": {},
   "outputs": [],
   "source": [
    "x = re.search(\"ai\", sample_text)\n",
    "print(x)"
   ]
  },
  {
   "cell_type": "code",
   "execution_count": null,
   "id": "398f709d",
   "metadata": {},
   "outputs": [],
   "source": [
    "print(x.span())"
   ]
  },
  {
   "cell_type": "markdown",
   "id": "f91b3016",
   "metadata": {},
   "source": [
    "### Split"
   ]
  },
  {
   "cell_type": "code",
   "execution_count": null,
   "id": "fd4fb388",
   "metadata": {},
   "outputs": [],
   "source": [
    "split_result = re.split(\"\", sample_text)\n",
    "print(split_result) "
   ]
  },
  {
   "cell_type": "code",
   "execution_count": null,
   "id": "fc64abc3",
   "metadata": {},
   "outputs": [],
   "source": [
    "split_result = re.split(\"\", sample_text, )\n",
    "print(split_result) "
   ]
  },
  {
   "cell_type": "markdown",
   "id": "763774fb",
   "metadata": {},
   "source": [
    "### Sub"
   ]
  },
  {
   "cell_type": "code",
   "execution_count": null,
   "id": "fc508548",
   "metadata": {},
   "outputs": [],
   "source": [
    "sub_result = re.sub(\"\", \"\", sample_text)\n",
    "print(sub_result) "
   ]
  },
  {
   "cell_type": "code",
   "execution_count": null,
   "id": "c01a06d3",
   "metadata": {},
   "outputs": [],
   "source": [
    "sub_result = re.sub(\"\", \"\", sample_text, 2)\n",
    "print(sub_result) "
   ]
  },
  {
   "cell_type": "markdown",
   "id": "9827e458",
   "metadata": {},
   "source": [
    "### Regular Expressions: Disjunction\n",
    "#### Letters inside square brackets"
   ]
  },
  {
   "cell_type": "code",
   "execution_count": null,
   "id": "f4481159",
   "metadata": {},
   "outputs": [],
   "source": [
    "findall_result = re.findall(\"\", \"data,Data\")\n",
    "print(findall_result) "
   ]
  },
  {
   "cell_type": "code",
   "execution_count": null,
   "id": "7876b43d",
   "metadata": {},
   "outputs": [],
   "source": [
    "findall_result = re.findall(\"\", \"3 little pigs and 4 chickens\")\n",
    "print(findall_result)"
   ]
  },
  {
   "cell_type": "markdown",
   "id": "9049d69e",
   "metadata": {},
   "source": [
    "### Regular Expressions: Range"
   ]
  },
  {
   "cell_type": "code",
   "execution_count": null,
   "id": "e0298c28",
   "metadata": {},
   "outputs": [],
   "source": [
    "findall_result = re.findall(\"\", \"Magandang Gabi\")\n",
    "print(findall_result) "
   ]
  },
  {
   "cell_type": "code",
   "execution_count": null,
   "id": "9f7c21c8",
   "metadata": {},
   "outputs": [],
   "source": [
    "findall_result = re.findall(\"\", \"Magandang Gabi\")\n",
    "print(findall_result) "
   ]
  },
  {
   "cell_type": "code",
   "execution_count": null,
   "id": "a148de5d",
   "metadata": {},
   "outputs": [],
   "source": [
    "findall_result = re.findall(\"\", \"Magandang Gabi\")\n",
    "print(findall_result) "
   ]
  },
  {
   "cell_type": "code",
   "execution_count": null,
   "id": "d046f6b7",
   "metadata": {},
   "outputs": [],
   "source": [
    "findall_result = re.findall(\"\", \"Chapter 1: A whole new world\")\n",
    "print(findall_result) "
   ]
  },
  {
   "cell_type": "code",
   "execution_count": null,
   "id": "29b6d021",
   "metadata": {},
   "outputs": [],
   "source": [
    "findall_result = re.findall(\"\", \"Chapter 1: A whole new world\")\n",
    "print(findall_result) "
   ]
  },
  {
   "cell_type": "markdown",
   "id": "230fcf58",
   "metadata": {},
   "source": [
    "### Regular Expressions: Negation\n",
    "* not"
   ]
  },
  {
   "cell_type": "code",
   "execution_count": null,
   "id": "8e36b2ad",
   "metadata": {},
   "outputs": [],
   "source": [
    "findall_result = re.findall(\"\", \"Magandang Gabi\")\n",
    "print(findall_result) "
   ]
  },
  {
   "cell_type": "markdown",
   "id": "21ff4835",
   "metadata": {},
   "source": [
    "* Starts with"
   ]
  },
  {
   "cell_type": "code",
   "execution_count": null,
   "id": "bb63fc81",
   "metadata": {},
   "outputs": [],
   "source": [
    "findall_result = re.findall(\"\", \"Magandang Gabi\")\n",
    "print(findall_result) "
   ]
  },
  {
   "cell_type": "markdown",
   "id": "2a777b7e",
   "metadata": {},
   "source": [
    "### Regular Expressions: Pipe\n",
    "* Either or"
   ]
  },
  {
   "cell_type": "code",
   "execution_count": null,
   "id": "3be9b325",
   "metadata": {},
   "outputs": [],
   "source": [
    "findall_result = re.findall(\"\", \"Magandang Gabi\")\n",
    "print(findall_result) "
   ]
  },
  {
   "cell_type": "markdown",
   "id": "798bd209",
   "metadata": {},
   "source": [
    "### Regular Expressions: Special Characters"
   ]
  },
  {
   "cell_type": "markdown",
   "id": "8a6084e9",
   "metadata": {},
   "source": [
    "* endswith"
   ]
  },
  {
   "cell_type": "code",
   "execution_count": null,
   "id": "f32e54f5",
   "metadata": {},
   "outputs": [],
   "source": [
    "findall_result = re.findall(\"\", \"Magandang Gabi\")\n",
    "print(findall_result) "
   ]
  },
  {
   "cell_type": "markdown",
   "id": "0db34772",
   "metadata": {},
   "source": [
    "* any character except new line (\\n)"
   ]
  },
  {
   "cell_type": "code",
   "execution_count": null,
   "id": "001dd8c1",
   "metadata": {},
   "outputs": [],
   "source": [
    "findall_result = re.findall(\".\", \"Magandang Gabi\")\n",
    "print(findall_result) "
   ]
  },
  {
   "cell_type": "code",
   "execution_count": null,
   "id": "12d89210",
   "metadata": {},
   "outputs": [],
   "source": [
    "findall_result = re.findall(\"pa.a\", \"para pata pasa\")\n",
    "print(findall_result) "
   ]
  },
  {
   "cell_type": "markdown",
   "id": "fa524361",
   "metadata": {},
   "source": [
    "* Zero or more occurrences (star)"
   ]
  },
  {
   "cell_type": "code",
   "execution_count": null,
   "id": "2a560b6a",
   "metadata": {},
   "outputs": [],
   "source": [
    "findall_result = re.findall(\"\", \"mn man maan main woman\")\n",
    "print(findall_result) "
   ]
  },
  {
   "cell_type": "markdown",
   "id": "3171ac3f",
   "metadata": {},
   "source": [
    "*  one or more occurrences (plus)"
   ]
  },
  {
   "cell_type": "code",
   "execution_count": null,
   "id": "814d2d6f",
   "metadata": {},
   "outputs": [],
   "source": [
    "findall_result = re.findall(\"\", \"mn man maan main woman\")\n",
    "print(findall_result) "
   ]
  },
  {
   "cell_type": "markdown",
   "id": "d1b97b90",
   "metadata": {},
   "source": [
    "*  zero or one occurrence (question mark)"
   ]
  },
  {
   "cell_type": "code",
   "execution_count": null,
   "id": "291b3277",
   "metadata": {},
   "outputs": [],
   "source": [
    "findall_result = re.findall(\"\", \"mn man maan main woman\")\n",
    "print(findall_result) "
   ]
  },
  {
   "cell_type": "markdown",
   "id": "f9dee44b",
   "metadata": {},
   "source": [
    "### Regular Expressions: Braces\n",
    "\n",
    "{n,m}\n",
    "This means at least n, and at most m repetitions of the pattern left to it."
   ]
  },
  {
   "cell_type": "code",
   "execution_count": null,
   "id": "7704569e",
   "metadata": {},
   "outputs": [],
   "source": [
    "findall_result = re.findall(\"\", \"abc dat abc daat aabc daaat aabc daaaat \")\n",
    "print(findall_result) "
   ]
  },
  {
   "cell_type": "code",
   "execution_count": null,
   "id": "331831f6",
   "metadata": {},
   "outputs": [],
   "source": [
    "findall_result = re.findall(\"\", \"ab123csde 12 and 345673 1 and 2\")\n",
    "print(findall_result) "
   ]
  },
  {
   "cell_type": "markdown",
   "id": "e13500c9",
   "metadata": {},
   "source": [
    "### Regular Expressions: Group"
   ]
  },
  {
   "cell_type": "code",
   "execution_count": null,
   "id": "10f5bc68",
   "metadata": {},
   "outputs": [],
   "source": [
    "findall_result = re.findall(\"\", \"ab xz abxz axz bxz\")\n",
    "print(findall_result) "
   ]
  }
 ],
 "metadata": {
  "kernelspec": {
   "display_name": "Python 3 (ipykernel)",
   "language": "python",
   "name": "python3"
  },
  "language_info": {
   "codemirror_mode": {
    "name": "ipython",
    "version": 3
   },
   "file_extension": ".py",
   "mimetype": "text/x-python",
   "name": "python",
   "nbconvert_exporter": "python",
   "pygments_lexer": "ipython3",
   "version": "3.9.12"
  }
 },
 "nbformat": 4,
 "nbformat_minor": 5
}
