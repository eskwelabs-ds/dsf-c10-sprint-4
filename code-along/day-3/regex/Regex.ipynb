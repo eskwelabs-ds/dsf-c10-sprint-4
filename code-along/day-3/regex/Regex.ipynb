{
 "cells": [
  {
   "cell_type": "code",
   "execution_count": 1,
   "id": "f5ad564c",
   "metadata": {},
   "outputs": [],
   "source": [
    "import re"
   ]
  },
  {
   "cell_type": "code",
   "execution_count": 2,
   "id": "c45fd50b",
   "metadata": {},
   "outputs": [],
   "source": [
    "sample_text = \"The rain in Spain\""
   ]
  },
  {
   "cell_type": "markdown",
   "id": "0715f3a8",
   "metadata": {},
   "source": [
    "### Using Findall"
   ]
  },
  {
   "cell_type": "code",
   "execution_count": 3,
   "id": "55725041",
   "metadata": {},
   "outputs": [
    {
     "name": "stdout",
     "output_type": "stream",
     "text": [
      "['ai', 'ai']\n"
     ]
    }
   ],
   "source": [
    "findall_result = re.findall(\"ai\", sample_text)\n",
    "print(findall_result) "
   ]
  },
  {
   "cell_type": "markdown",
   "id": "e7ea0db8",
   "metadata": {},
   "source": [
    "### Search"
   ]
  },
  {
   "cell_type": "code",
   "execution_count": 4,
   "id": "43d138f7",
   "metadata": {},
   "outputs": [
    {
     "name": "stdout",
     "output_type": "stream",
     "text": [
      "<re.Match object; span=(5, 7), match='ai'>\n"
     ]
    }
   ],
   "source": [
    "x = re.search(\"ai\", sample_text)\n",
    "print(x)"
   ]
  },
  {
   "cell_type": "code",
   "execution_count": null,
   "id": "398f709d",
   "metadata": {},
   "outputs": [],
   "source": [
    "print(x.span())"
   ]
  },
  {
   "cell_type": "markdown",
   "id": "f91b3016",
   "metadata": {},
   "source": [
    "### Split"
   ]
  },
  {
   "cell_type": "code",
   "execution_count": 5,
   "id": "fd4fb388",
   "metadata": {},
   "outputs": [
    {
     "name": "stdout",
     "output_type": "stream",
     "text": [
      "['The', 'rain', 'in', 'Spain']\n"
     ]
    }
   ],
   "source": [
    "split_result = re.split(\"\\s\", sample_text)\n",
    "print(split_result) "
   ]
  },
  {
   "cell_type": "code",
   "execution_count": 7,
   "id": "fc64abc3",
   "metadata": {},
   "outputs": [
    {
     "name": "stdout",
     "output_type": "stream",
     "text": [
      "['The', 'rain', 'in Spain']\n"
     ]
    }
   ],
   "source": [
    "split_result = re.split(\"\\s\", sample_text, 2)\n",
    "print(split_result) "
   ]
  },
  {
   "cell_type": "markdown",
   "id": "763774fb",
   "metadata": {},
   "source": [
    "### Sub"
   ]
  },
  {
   "cell_type": "code",
   "execution_count": 8,
   "id": "fc508548",
   "metadata": {},
   "outputs": [
    {
     "name": "stdout",
     "output_type": "stream",
     "text": [
      "The1rain1in1Spain\n"
     ]
    }
   ],
   "source": [
    "sub_result = re.sub(\"\\s\", \"1\", sample_text)\n",
    "print(sub_result) "
   ]
  },
  {
   "cell_type": "code",
   "execution_count": 9,
   "id": "c01a06d3",
   "metadata": {},
   "outputs": [
    {
     "name": "stdout",
     "output_type": "stream",
     "text": [
      "The1rain1in Spain\n"
     ]
    }
   ],
   "source": [
    "sub_result = re.sub(\"\\s\", \"1\", sample_text, 2)\n",
    "print(sub_result) "
   ]
  },
  {
   "cell_type": "markdown",
   "id": "9827e458",
   "metadata": {},
   "source": [
    "### Regular Expressions: Disjunction\n",
    "#### Letters inside square brackets"
   ]
  },
  {
   "cell_type": "code",
   "execution_count": 11,
   "id": "f4481159",
   "metadata": {},
   "outputs": [
    {
     "name": "stdout",
     "output_type": "stream",
     "text": [
      "['a', 'a', 'a', 'a']\n"
     ]
    }
   ],
   "source": [
    "findall_result = re.findall(\"[a]\", \"data,Data\")\n",
    "print(findall_result) "
   ]
  },
  {
   "cell_type": "code",
   "execution_count": 12,
   "id": "7876b43d",
   "metadata": {},
   "outputs": [
    {
     "name": "stdout",
     "output_type": "stream",
     "text": [
      "['3', '4']\n"
     ]
    }
   ],
   "source": [
    "findall_result = re.findall(\"[0123456789]\", \"3 little pigs and 4 chickens\")\n",
    "print(findall_result)"
   ]
  },
  {
   "cell_type": "markdown",
   "id": "9049d69e",
   "metadata": {},
   "source": [
    "### Regular Expressions: Range"
   ]
  },
  {
   "cell_type": "code",
   "execution_count": 13,
   "id": "e0298c28",
   "metadata": {},
   "outputs": [
    {
     "name": "stdout",
     "output_type": "stream",
     "text": [
      "['M', 'G']\n"
     ]
    }
   ],
   "source": [
    "findall_result = re.findall(\"[A-Z]\", \"Magandang Gabi\")\n",
    "print(findall_result) "
   ]
  },
  {
   "cell_type": "code",
   "execution_count": 15,
   "id": "9f7c21c8",
   "metadata": {},
   "outputs": [
    {
     "name": "stdout",
     "output_type": "stream",
     "text": [
      "['M', 'a', 'g', 'a', 'n', 'd', 'a', 'n', 'g', 'G', 'a', 'b', 'i']\n"
     ]
    }
   ],
   "source": [
    "findall_result = re.findall(\"[a-zA-Z]\", \"Magandang Gabi\")\n",
    "print(findall_result) "
   ]
  },
  {
   "cell_type": "code",
   "execution_count": 16,
   "id": "a148de5d",
   "metadata": {},
   "outputs": [
    {
     "name": "stdout",
     "output_type": "stream",
     "text": [
      "['M', 'a', 'g', 'a', 'n', 'd', 'a', 'n', 'g', ' ', 'G', 'a', 'b', 'i']\n"
     ]
    }
   ],
   "source": [
    "findall_result = re.findall(\"\\D\", \"Magandang Gabi\")\n",
    "print(findall_result) "
   ]
  },
  {
   "cell_type": "code",
   "execution_count": 17,
   "id": "d046f6b7",
   "metadata": {},
   "outputs": [
    {
     "name": "stdout",
     "output_type": "stream",
     "text": [
      "['1']\n"
     ]
    }
   ],
   "source": [
    "findall_result = re.findall(\"\\d\", \"Chapter 1: A whole new world\")\n",
    "print(findall_result) "
   ]
  },
  {
   "cell_type": "code",
   "execution_count": 18,
   "id": "29b6d021",
   "metadata": {},
   "outputs": [
    {
     "name": "stdout",
     "output_type": "stream",
     "text": [
      "['1']\n"
     ]
    }
   ],
   "source": [
    "findall_result = re.findall(\"[0-3]\", \"Chapter 1: A whole new world\")\n",
    "print(findall_result) "
   ]
  },
  {
   "cell_type": "markdown",
   "id": "230fcf58",
   "metadata": {},
   "source": [
    "### Regular Expressions: Negation\n",
    "* not"
   ]
  },
  {
   "cell_type": "code",
   "execution_count": 20,
   "id": "8e36b2ad",
   "metadata": {},
   "outputs": [
    {
     "name": "stdout",
     "output_type": "stream",
     "text": [
      "['a', 'g', 'a', 'n', 'd', 'a', 'n', 'g', ' ', 'a', 'b', 'i']\n"
     ]
    }
   ],
   "source": [
    "findall_result = re.findall(\"[^A-Z]\", \"Magandang Gabi\")\n",
    "print(findall_result) "
   ]
  },
  {
   "cell_type": "markdown",
   "id": "21ff4835",
   "metadata": {},
   "source": [
    "* Starts with"
   ]
  },
  {
   "cell_type": "code",
   "execution_count": 21,
   "id": "bb63fc81",
   "metadata": {},
   "outputs": [
    {
     "name": "stdout",
     "output_type": "stream",
     "text": [
      "['M']\n"
     ]
    }
   ],
   "source": [
    "findall_result = re.findall(\"^[A-Z]\", \"Magandang Gabi\")\n",
    "print(findall_result) "
   ]
  },
  {
   "cell_type": "markdown",
   "id": "2a777b7e",
   "metadata": {},
   "source": [
    "### Regular Expressions: Pipe\n",
    "* Either or"
   ]
  },
  {
   "cell_type": "code",
   "execution_count": 22,
   "id": "3be9b325",
   "metadata": {},
   "outputs": [
    {
     "name": "stdout",
     "output_type": "stream",
     "text": [
      "['M', 'G']\n"
     ]
    }
   ],
   "source": [
    "findall_result = re.findall(\"M|G\", \"Magandang Gabi\")\n",
    "print(findall_result) "
   ]
  },
  {
   "cell_type": "markdown",
   "id": "798bd209",
   "metadata": {},
   "source": [
    "### Regular Expressions: Special Characters"
   ]
  },
  {
   "cell_type": "markdown",
   "id": "8a6084e9",
   "metadata": {},
   "source": [
    "* endswith"
   ]
  },
  {
   "cell_type": "code",
   "execution_count": 23,
   "id": "f32e54f5",
   "metadata": {},
   "outputs": [
    {
     "name": "stdout",
     "output_type": "stream",
     "text": [
      "['Gabi']\n"
     ]
    }
   ],
   "source": [
    "findall_result = re.findall(\"Gabi$\", \"Magandang Gabi\")\n",
    "print(findall_result) "
   ]
  },
  {
   "cell_type": "markdown",
   "id": "0db34772",
   "metadata": {},
   "source": [
    "* any character except new line (\\n)"
   ]
  },
  {
   "cell_type": "code",
   "execution_count": 24,
   "id": "001dd8c1",
   "metadata": {},
   "outputs": [
    {
     "name": "stdout",
     "output_type": "stream",
     "text": [
      "['M', 'a', 'g', 'a', 'n', 'd', 'a', 'n', 'g', ' ', 'G', 'a', 'b', 'i']\n"
     ]
    }
   ],
   "source": [
    "findall_result = re.findall(\".\", \"Magandang Gabi\")\n",
    "print(findall_result) "
   ]
  },
  {
   "cell_type": "code",
   "execution_count": 26,
   "id": "12d89210",
   "metadata": {},
   "outputs": [
    {
     "name": "stdout",
     "output_type": "stream",
     "text": [
      "['para', 'pata', 'pasa']\n"
     ]
    }
   ],
   "source": [
    "findall_result = re.findall(\"pa.a\", \"para pata pasa data\")\n",
    "print(findall_result) "
   ]
  },
  {
   "cell_type": "markdown",
   "id": "fa524361",
   "metadata": {},
   "source": [
    "* Zero or more occurrences (star)"
   ]
  },
  {
   "cell_type": "code",
   "execution_count": 27,
   "id": "2a560b6a",
   "metadata": {},
   "outputs": [
    {
     "name": "stdout",
     "output_type": "stream",
     "text": [
      "['mn', 'man', 'maan', 'man']\n"
     ]
    }
   ],
   "source": [
    "findall_result = re.findall(\"ma*n\", \"mn man maan main woman\")\n",
    "print(findall_result) "
   ]
  },
  {
   "cell_type": "markdown",
   "id": "3171ac3f",
   "metadata": {},
   "source": [
    "*  one or more occurrences (plus)"
   ]
  },
  {
   "cell_type": "code",
   "execution_count": 28,
   "id": "814d2d6f",
   "metadata": {},
   "outputs": [
    {
     "name": "stdout",
     "output_type": "stream",
     "text": [
      "['man', 'maan', 'man']\n"
     ]
    }
   ],
   "source": [
    "findall_result = re.findall(\"ma+n\", \"mn man maan main woman\")\n",
    "print(findall_result) "
   ]
  },
  {
   "cell_type": "markdown",
   "id": "d1b97b90",
   "metadata": {},
   "source": [
    "*  zero or one occurrence (question mark)"
   ]
  },
  {
   "cell_type": "code",
   "execution_count": 29,
   "id": "291b3277",
   "metadata": {},
   "outputs": [
    {
     "name": "stdout",
     "output_type": "stream",
     "text": [
      "['mn', 'man', 'man']\n"
     ]
    }
   ],
   "source": [
    "findall_result = re.findall(\"ma?n\", \"mn man maan main woman\")\n",
    "print(findall_result) "
   ]
  },
  {
   "cell_type": "markdown",
   "id": "f9dee44b",
   "metadata": {},
   "source": [
    "### Regular Expressions: Braces\n",
    "\n",
    "{n,m}\n",
    "This means at least n, and at most m repetitions of the pattern left to it."
   ]
  },
  {
   "cell_type": "code",
   "execution_count": 30,
   "id": "7704569e",
   "metadata": {},
   "outputs": [
    {
     "name": "stdout",
     "output_type": "stream",
     "text": [
      "['aa', 'aa', 'aaa', 'aa', 'aaa']\n"
     ]
    }
   ],
   "source": [
    "findall_result = re.findall(\"a{2,3}\", \"abc dat abc daat aabc daaat aabc daaaat \")\n",
    "print(findall_result) "
   ]
  },
  {
   "cell_type": "code",
   "execution_count": 31,
   "id": "331831f6",
   "metadata": {},
   "outputs": [
    {
     "name": "stdout",
     "output_type": "stream",
     "text": [
      "['123', '12', '3456', '73']\n"
     ]
    }
   ],
   "source": [
    "findall_result = re.findall(\"[0-9]{2,4}\", \"ab123csde 12 and 345673 1 and 2\")\n",
    "print(findall_result) "
   ]
  },
  {
   "cell_type": "markdown",
   "id": "e13500c9",
   "metadata": {},
   "source": [
    "### Regular Expressions: Group"
   ]
  },
  {
   "cell_type": "code",
   "execution_count": 32,
   "id": "10f5bc68",
   "metadata": {},
   "outputs": [
    {
     "name": "stdout",
     "output_type": "stream",
     "text": [
      "['b', 'a', 'b']\n"
     ]
    }
   ],
   "source": [
    "findall_result = re.findall(\"(a|b|c)xz\", \"ab xz abxz axz bxz\")\n",
    "print(findall_result) "
   ]
  }
 ],
 "metadata": {
  "kernelspec": {
   "display_name": "Python 3 (ipykernel)",
   "language": "python",
   "name": "python3"
  },
  "language_info": {
   "codemirror_mode": {
    "name": "ipython",
    "version": 3
   },
   "file_extension": ".py",
   "mimetype": "text/x-python",
   "name": "python",
   "nbconvert_exporter": "python",
   "pygments_lexer": "ipython3",
   "version": "3.9.12"
  }
 },
 "nbformat": 4,
 "nbformat_minor": 5
}
