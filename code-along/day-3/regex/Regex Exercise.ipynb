{
 "cells": [
  {
   "cell_type": "markdown",
   "id": "2e6838d5",
   "metadata": {},
   "source": [
    "### Matching Characters\n",
    "* abcdefg\n",
    "* abcde\n",
    "* abc\n",
    "\n",
    "\n",
    "### Non Matching\n",
    "* zwx"
   ]
  },
  {
   "cell_type": "code",
   "execution_count": 2,
   "id": "60dd0af1",
   "metadata": {},
   "outputs": [
    {
     "name": "stdout",
     "output_type": "stream",
     "text": [
      "['a', 'b', 'c', 'd', 'e', 'f', 'g', ' ', 'a', 'b', 'c', 'd', 'e', ' ', 'a', 'b', 'c', ' ']\n"
     ]
    }
   ],
   "source": [
    "import re\n",
    "\n",
    "question_one = \"abcdefg abcde abc zwx\"\n",
    "findall_result = re.findall(\"[^zwx]\", question_one)\n",
    "print(findall_result) "
   ]
  },
  {
   "cell_type": "markdown",
   "id": "463c2f2e",
   "metadata": {},
   "source": [
    "### Get All Digits"
   ]
  },
  {
   "cell_type": "code",
   "execution_count": 4,
   "id": "5ec15fd8",
   "metadata": {},
   "outputs": [
    {
     "name": "stdout",
     "output_type": "stream",
     "text": [
      "['1', '2', '3', '1', '2', '3', '1', '2', '3']\n"
     ]
    }
   ],
   "source": [
    "question_two = \"abc123xyz  define '123'  var g = 123;\"\n",
    "findall_result = re.findall(\"[0-3]\", question_two)\n",
    "print(findall_result) "
   ]
  },
  {
   "cell_type": "markdown",
   "id": "ed830e13",
   "metadata": {},
   "source": [
    "### Matching with wildcards \n",
    "* match \tcat. \n",
    "* match \t896.\n",
    "* match \t?=+.\n",
    "* skip \tabc1"
   ]
  },
  {
   "cell_type": "code",
   "execution_count": 9,
   "id": "e084745a",
   "metadata": {},
   "outputs": [
    {
     "name": "stdout",
     "output_type": "stream",
     "text": [
      "['cat.', '896.', '?=+.']\n"
     ]
    }
   ],
   "source": [
    "question_three = \"cat. 896. ?=+. abc1\"\n",
    "findall_result = re.findall(\"...\\.\", question_three)\n",
    "print(findall_result) "
   ]
  },
  {
   "cell_type": "markdown",
   "id": "35ed1aab",
   "metadata": {},
   "source": [
    "### Matching characters \n",
    "* match \tcan \t\n",
    "* match \tman \n",
    "* match \tfan \n",
    "* skip \tdan \n",
    "* skip \tran \n",
    "* skip \tpan"
   ]
  },
  {
   "cell_type": "code",
   "execution_count": 11,
   "id": "11d708c8",
   "metadata": {},
   "outputs": [
    {
     "name": "stdout",
     "output_type": "stream",
     "text": [
      "['can', 'man', 'fan']\n"
     ]
    }
   ],
   "source": [
    "question_four = \"can man fan dan ran pan\"\n",
    "findall_result = re.findall(\"[cmf]an\", question_four)\n",
    "print(findall_result) "
   ]
  },
  {
   "cell_type": "markdown",
   "id": "7d093c88",
   "metadata": {},
   "source": [
    "### Excluding characters \n",
    "* match hog\n",
    "* match dog \n",
    "* skip bog "
   ]
  },
  {
   "cell_type": "code",
   "execution_count": 13,
   "id": "c7d951f0",
   "metadata": {},
   "outputs": [
    {
     "name": "stdout",
     "output_type": "stream",
     "text": [
      "['hog', 'dog']\n"
     ]
    }
   ],
   "source": [
    "question_five = \"hog dog bog\"\n",
    "findall_result = re.findall(\"[d|h]og\", question_five)\n",
    "print(findall_result) "
   ]
  },
  {
   "cell_type": "markdown",
   "id": "a61ffde2",
   "metadata": {},
   "source": [
    "### Matching repeated characters \n",
    "* match \twazzzzzup\n",
    "* match \twazzzup \n",
    "* skip \t    wazup"
   ]
  },
  {
   "cell_type": "code",
   "execution_count": 14,
   "id": "f1f44b7e",
   "metadata": {},
   "outputs": [
    {
     "name": "stdout",
     "output_type": "stream",
     "text": [
      "['wazzzzzup', 'wazzzup']\n"
     ]
    }
   ],
   "source": [
    "question_five = \"wazzzzzup wazzzup wazup\"\n",
    "findall_result = re.findall(\"waz{3,5}up\", question_five)\n",
    "print(findall_result) "
   ]
  }
 ],
 "metadata": {
  "kernelspec": {
   "display_name": "Python 3 (ipykernel)",
   "language": "python",
   "name": "python3"
  },
  "language_info": {
   "codemirror_mode": {
    "name": "ipython",
    "version": 3
   },
   "file_extension": ".py",
   "mimetype": "text/x-python",
   "name": "python",
   "nbconvert_exporter": "python",
   "pygments_lexer": "ipython3",
   "version": "3.9.12"
  }
 },
 "nbformat": 4,
 "nbformat_minor": 5
}
