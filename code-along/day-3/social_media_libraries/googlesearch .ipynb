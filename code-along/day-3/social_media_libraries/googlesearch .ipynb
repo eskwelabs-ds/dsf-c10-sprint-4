{
 "cells": [
  {
   "cell_type": "code",
   "execution_count": null,
   "id": "cfbe6210",
   "metadata": {},
   "outputs": [],
   "source": [
    "!pip install googlesearch-python"
   ]
  },
  {
   "cell_type": "markdown",
   "id": "75d72494",
   "metadata": {},
   "source": [
    "* Reference: https://pypi.org/project/googlesearch-python/"
   ]
  },
  {
   "cell_type": "markdown",
   "id": "f913b505",
   "metadata": {},
   "source": [
    "#### Getting URLs"
   ]
  },
  {
   "cell_type": "code",
   "execution_count": 1,
   "id": "1cfd616d",
   "metadata": {},
   "outputs": [],
   "source": [
    "try:\n",
    "    from googlesearch import search\n",
    "except ImportError:\n",
    "    print(\"No module named 'google' found\")"
   ]
  },
  {
   "cell_type": "code",
   "execution_count": 2,
   "id": "55ca816d",
   "metadata": {},
   "outputs": [],
   "source": [
    "keywords = \"energy, sustainability, fashion, uk\" "
   ]
  },
  {
   "cell_type": "code",
   "execution_count": 3,
   "id": "04821c9c",
   "metadata": {},
   "outputs": [
    {
     "name": "stdout",
     "output_type": "stream",
     "text": [
      "https://erjjiostudios.com/environment/the-rise-of-sustainable-fashion-in-the-uk/\n",
      "https://www.glamourmagazine.co.uk/gallery/sustainable-fashion-brands\n",
      "https://www.commonobjective.co/article/the-issues-energy\n",
      "https://earth.org/uk-sustainable-fashion-brands/\n",
      "https://www.vogue.co.uk/fashion/article/fashion-shows-sustainability\n",
      "https://hbr.org/2022/01/the-myth-of-sustainable-fashion\n",
      "https://goodonyou.eco/most-ethical-and-sustainable-clothing-brands-from-uk/\n",
      "https://www.uswitch.com/gas-electricity/green-energy/sustainable-fashion/\n",
      "https://assets.publishing.service.gov.uk/government/uploads/system/uploads/attachment_data/file/69193/pb13206-clothing-action-plan-100216.pdf\n",
      "https://www.london.ac.uk/reduce-the-juice/how-have-impact/sustainable-fashion\n",
      "https://www.harpersbazaar.com/uk/fashion/what-to-wear/a41158/how-to-be-sustainable-fashion/\n"
     ]
    }
   ],
   "source": [
    "for results in search(keywords, num_results=10):\n",
    "    print(results)"
   ]
  },
  {
   "cell_type": "markdown",
   "id": "64fbf095",
   "metadata": {},
   "source": [
    "### Google Trends\n",
    "* https://pypi.org/project/pytrends/"
   ]
  },
  {
   "cell_type": "code",
   "execution_count": 4,
   "id": "9fc9706f",
   "metadata": {},
   "outputs": [
    {
     "name": "stdout",
     "output_type": "stream",
     "text": [
      "Requirement already satisfied: pytrends in c:\\users\\rheyannmagcalas\\anaconda3\\lib\\site-packages (4.8.0)\n",
      "Requirement already satisfied: requests>=2.0 in c:\\users\\rheyannmagcalas\\anaconda3\\lib\\site-packages (from pytrends) (2.27.1)\n",
      "Requirement already satisfied: pandas>=0.25 in c:\\users\\rheyannmagcalas\\appdata\\roaming\\python\\python39\\site-packages (from pytrends) (1.4.2)\n",
      "Requirement already satisfied: lxml in c:\\users\\rheyannmagcalas\\anaconda3\\lib\\site-packages (from pytrends) (4.8.0)\n",
      "Requirement already satisfied: pytz>=2020.1 in c:\\users\\rheyannmagcalas\\appdata\\roaming\\python\\python39\\site-packages (from pandas>=0.25->pytrends) (2022.1)\n",
      "Requirement already satisfied: numpy>=1.18.5 in c:\\users\\rheyannmagcalas\\appdata\\roaming\\python\\python39\\site-packages (from pandas>=0.25->pytrends) (1.22.4)\n",
      "Requirement already satisfied: python-dateutil>=2.8.1 in c:\\users\\rheyannmagcalas\\anaconda3\\lib\\site-packages (from pandas>=0.25->pytrends) (2.8.2)\n",
      "Requirement already satisfied: certifi>=2017.4.17 in c:\\users\\rheyannmagcalas\\anaconda3\\lib\\site-packages (from requests>=2.0->pytrends) (2021.10.8)\n",
      "Requirement already satisfied: urllib3<1.27,>=1.21.1 in c:\\users\\rheyannmagcalas\\appdata\\roaming\\python\\python39\\site-packages (from requests>=2.0->pytrends) (1.26.9)\n",
      "Requirement already satisfied: charset-normalizer~=2.0.0 in c:\\users\\rheyannmagcalas\\appdata\\roaming\\python\\python39\\site-packages (from requests>=2.0->pytrends) (2.0.12)\n",
      "Requirement already satisfied: idna<4,>=2.5 in c:\\users\\rheyannmagcalas\\anaconda3\\lib\\site-packages (from requests>=2.0->pytrends) (3.3)\n",
      "Requirement already satisfied: six>=1.5 in c:\\users\\rheyannmagcalas\\anaconda3\\lib\\site-packages (from python-dateutil>=2.8.1->pandas>=0.25->pytrends) (1.16.0)\n"
     ]
    },
    {
     "name": "stderr",
     "output_type": "stream",
     "text": [
      "WARNING: There was an error checking the latest version of pip.\n"
     ]
    }
   ],
   "source": [
    "!pip install pytrends"
   ]
  },
  {
   "cell_type": "code",
   "execution_count": 6,
   "id": "49a80b15",
   "metadata": {},
   "outputs": [],
   "source": [
    "import pandas as pd\n",
    "import datetime      \n",
    "from pytrends.request import TrendReq\n",
    "import time"
   ]
  },
  {
   "cell_type": "code",
   "execution_count": 7,
   "id": "1abb6412",
   "metadata": {},
   "outputs": [],
   "source": [
    "pytrend = TrendReq(hl='en-US') # language of the query"
   ]
  },
  {
   "cell_type": "code",
   "execution_count": 10,
   "id": "f91a52df",
   "metadata": {},
   "outputs": [],
   "source": [
    "pytrend.build_payload(\n",
    "    kw_list=[\"covid\"],\n",
    "    cat=0, # to specify what of google trend you want to search (images? news?)\n",
    "    timeframe='2020-01-01 2022-07-11', # date range of what you want\n",
    "    geo='PH') # what country you want to pull the data from"
   ]
  },
  {
   "cell_type": "code",
   "execution_count": 11,
   "id": "9e0185f4",
   "metadata": {},
   "outputs": [],
   "source": [
    "extracted_data = []\n",
    "\n",
    "data = pytrend.interest_over_time()\n",
    "if not data.empty:\n",
    "    data = data.drop(labels=['isPartial'] ,axis='columns')\n",
    "extracted_data.append(data)"
   ]
  },
  {
   "cell_type": "code",
   "execution_count": 12,
   "id": "8e2da539",
   "metadata": {},
   "outputs": [
    {
     "data": {
      "text/plain": [
       "[            covid\n",
       " date             \n",
       " 2020-01-05      0\n",
       " 2020-01-12      0\n",
       " 2020-01-19      0\n",
       " 2020-01-26      0\n",
       " 2020-02-02      0\n",
       " ...           ...\n",
       " 2022-06-05      6\n",
       " 2022-06-12      6\n",
       " 2022-06-19      5\n",
       " 2022-06-26      5\n",
       " 2022-07-03      5\n",
       " \n",
       " [131 rows x 1 columns]]"
      ]
     },
     "execution_count": 12,
     "metadata": {},
     "output_type": "execute_result"
    }
   ],
   "source": [
    "extracted_data"
   ]
  }
 ],
 "metadata": {
  "kernelspec": {
   "display_name": "Python 3 (ipykernel)",
   "language": "python",
   "name": "python3"
  },
  "language_info": {
   "codemirror_mode": {
    "name": "ipython",
    "version": 3
   },
   "file_extension": ".py",
   "mimetype": "text/x-python",
   "name": "python",
   "nbconvert_exporter": "python",
   "pygments_lexer": "ipython3",
   "version": "3.9.12"
  }
 },
 "nbformat": 4,
 "nbformat_minor": 5
}
