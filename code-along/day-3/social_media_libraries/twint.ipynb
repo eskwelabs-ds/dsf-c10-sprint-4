{
 "cells": [
  {
   "cell_type": "markdown",
   "id": "ccd453bb",
   "metadata": {},
   "source": [
    "Twint Lib\n",
    "\n",
    "Simple to use, the radius 30km might cover Johor(Malaysia).\n",
    "Also some tweets dont have Geo tag, so we might miss out a lot of tweets, refer to this Medium article to read up more\n",
    "Installation: Might face problem installing using pip, use this code instead:"
   ]
  },
  {
   "cell_type": "code",
   "execution_count": null,
   "id": "7ca4fb8a",
   "metadata": {},
   "outputs": [],
   "source": [
    "!pip install --user --upgrade git+https://github.com/twintproject/twint.git@origin/master#egg=twint"
   ]
  },
  {
   "cell_type": "code",
   "execution_count": null,
   "id": "29827d7b",
   "metadata": {},
   "outputs": [],
   "source": [
    "import twint\n",
    "import pandas as pd\n",
    "import nest_asyncio\n",
    "nest_asyncio.apply()"
   ]
  },
  {
   "cell_type": "code",
   "execution_count": null,
   "id": "a49444ba",
   "metadata": {},
   "outputs": [],
   "source": [
    "c = twint.Config()\n",
    "c.Search = \"covid\"\n",
    "c.Store_object = True\n",
    "c.Lang=\"en\"\n",
    "c.Since=\"2022-01-01\"\n",
    "c.Until=\"2022-01-30\"\n",
    "c.Geo=\"1.290270,103.851959,30km\"\n",
    "c.Limit = 1000\n",
    "c.Store_csv = True\n",
    "c.Output = \"S-1.csv\"\n",
    "result = twint.run.Search(c)"
   ]
  },
  {
   "cell_type": "code",
   "execution_count": null,
   "id": "0f6d1120",
   "metadata": {},
   "outputs": [],
   "source": [
    "data = pd.read_csv(\"S-1.csv\")\n",
    "data.head()"
   ]
  },
  {
   "cell_type": "code",
   "execution_count": null,
   "id": "498ca6a2",
   "metadata": {},
   "outputs": [],
   "source": [
    "data.columns"
   ]
  },
  {
   "cell_type": "code",
   "execution_count": null,
   "id": "0dca726a",
   "metadata": {},
   "outputs": [],
   "source": [
    "data[['tweet']].head()"
   ]
  },
  {
   "cell_type": "code",
   "execution_count": null,
   "id": "763c5ff2",
   "metadata": {},
   "outputs": [],
   "source": [
    "import random\n",
    "from time import sleep\n",
    "\n",
    "keywords = ['covid', 'pandemic', 'depression']\n",
    "\n",
    "for _keywords in keywords:\n",
    "    counter = 0\n",
    "    while counter < 3:\n",
    "        c = twint.Config()\n",
    "        c.Search = _keywords\n",
    "        c.Store_object = True\n",
    "        c.Lang=\"en\"\n",
    "        c.Since=\"2022-01-01\"\n",
    "        c.Until=\"2022-01-30\"\n",
    "        c.Geo=\"1.290270,103.851959,30km\"\n",
    "        c.Limit = 1000\n",
    "        c.Store_csv = True\n",
    "        c.Output = f\"{_keywords}.csv\"\n",
    "        result = twint.run.Search(c)\n",
    "        \n",
    "        if result is None:\n",
    "            counter +=1\n",
    "            sleep(random.randint(5, 10))\n",
    "        else:\n",
    "            break"
   ]
  }
 ],
 "metadata": {
  "kernelspec": {
   "display_name": "Python 3 (ipykernel)",
   "language": "python",
   "name": "python3"
  },
  "language_info": {
   "codemirror_mode": {
    "name": "ipython",
    "version": 3
   },
   "file_extension": ".py",
   "mimetype": "text/x-python",
   "name": "python",
   "nbconvert_exporter": "python",
   "pygments_lexer": "ipython3",
   "version": "3.9.12"
  }
 },
 "nbformat": 4,
 "nbformat_minor": 5
}
