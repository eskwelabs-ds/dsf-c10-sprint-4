{
 "cells": [
  {
   "cell_type": "markdown",
   "id": "34bd8554",
   "metadata": {},
   "source": [
    "### Bag of Words"
   ]
  },
  {
   "cell_type": "code",
   "execution_count": null,
   "id": "7352300b",
   "metadata": {},
   "outputs": [],
   "source": [
    "from sklearn.feature_extraction.text import "
   ]
  },
  {
   "cell_type": "code",
   "execution_count": null,
   "id": "9b8b38fe",
   "metadata": {},
   "outputs": [],
   "source": [
    "sents = ['coronavirus is a highly infectious disease',\n",
    "   'coronavirus affects older people the most', \n",
    "   'older people are at high risk due to this disease']"
   ]
  },
  {
   "cell_type": "code",
   "execution_count": null,
   "id": "177fac38",
   "metadata": {},
   "outputs": [],
   "source": [
    "cv = ()"
   ]
  },
  {
   "cell_type": "code",
   "execution_count": null,
   "id": "ab45513d",
   "metadata": {},
   "outputs": [],
   "source": [
    "X = cv.(sents) \n",
    "X = X.()"
   ]
  },
  {
   "cell_type": "code",
   "execution_count": null,
   "id": "521eb37c",
   "metadata": {},
   "outputs": [],
   "source": [
    "X"
   ]
  },
  {
   "cell_type": "code",
   "execution_count": null,
   "id": "9088c212",
   "metadata": {},
   "outputs": [],
   "source": [
    "sorted(cv.())"
   ]
  },
  {
   "cell_type": "markdown",
   "id": "d476e89c",
   "metadata": {},
   "source": [
    "* You can see that every row is the associated vector representation of respective sentences in ‘sents’.\n",
    "* The length of each vector is equal to the length of vocabulary.\n",
    "* Every member of the list represents the frequency of the associated word as present in sorted vocabulary."
   ]
  },
  {
   "cell_type": "code",
   "execution_count": null,
   "id": "3b4384ec",
   "metadata": {},
   "outputs": [],
   "source": [
    "cv = (ngram_range=())"
   ]
  },
  {
   "cell_type": "code",
   "execution_count": null,
   "id": "602f411b",
   "metadata": {},
   "outputs": [],
   "source": [
    "X = cv.(sents) \n",
    "X = X.()"
   ]
  },
  {
   "cell_type": "code",
   "execution_count": null,
   "id": "8b44170f",
   "metadata": {},
   "outputs": [],
   "source": [
    "X"
   ]
  },
  {
   "cell_type": "code",
   "execution_count": null,
   "id": "2f894a5a",
   "metadata": {},
   "outputs": [],
   "source": [
    "sorted(cv.)"
   ]
  },
  {
   "cell_type": "code",
   "execution_count": null,
   "id": "4b56e764",
   "metadata": {},
   "outputs": [],
   "source": []
  }
 ],
 "metadata": {
  "kernelspec": {
   "display_name": "Python 3 (ipykernel)",
   "language": "python",
   "name": "python3"
  },
  "language_info": {
   "codemirror_mode": {
    "name": "ipython",
    "version": 3
   },
   "file_extension": ".py",
   "mimetype": "text/x-python",
   "name": "python",
   "nbconvert_exporter": "python",
   "pygments_lexer": "ipython3",
   "version": "3.9.12"
  }
 },
 "nbformat": 4,
 "nbformat_minor": 5
}
