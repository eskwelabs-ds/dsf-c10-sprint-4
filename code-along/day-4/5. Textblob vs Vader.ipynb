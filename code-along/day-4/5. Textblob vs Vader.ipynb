{
 "cells": [
  {
   "cell_type": "code",
   "execution_count": null,
   "id": "e8139647",
   "metadata": {},
   "outputs": [],
   "source": [
    "from vaderSentiment.vaderSentiment import \n",
    "from textblob import "
   ]
  },
  {
   "cell_type": "code",
   "execution_count": null,
   "id": "f49b546a",
   "metadata": {},
   "outputs": [],
   "source": [
    "# VADER\n",
    "vader_sentiment = SentimentIntensityAnalyzer()\n",
    "def vader_sentiment_scores(text):\n",
    "    score = vader_sentiment.polarity_scores(text)\n",
    "    \n",
    "    return score['compound']\n",
    "\n",
    "def textblob_sentiment_scores(text):\n",
    "    textblob_sentiment = TextBlob(text)\n",
    "    score = textblob_sentiment.sentiment.polarity\n",
    "    \n",
    "    return score"
   ]
  },
  {
   "cell_type": "markdown",
   "id": "b79b4dcd",
   "metadata": {},
   "source": [
    "### Check Sentiment Difference"
   ]
  },
  {
   "cell_type": "code",
   "execution_count": null,
   "id": "52633099",
   "metadata": {},
   "outputs": [],
   "source": [
    "text = 'grabngoinfo.com is a fantastic website for step by step machine learning tutorials.'\n",
    "\n",
    "print(f\"Sentence: {text} \\nVADER sentiment score: {vader_sentiment_scores(text)} \\\n",
    "\\nTextBlob sentiment score: {textblob_sentiment_scores(text)}\")"
   ]
  },
  {
   "cell_type": "code",
   "execution_count": null,
   "id": "06c323e2",
   "metadata": {},
   "outputs": [],
   "source": [
    "text = 'grabngoinfo.com is a FANTASTIC website for step by step machine learning tutorials.'\n",
    "\n",
    "print(f\"Sentence: {text} \\nVADER sentiment score: {vader_sentiment_scores(text)} \\\n",
    "\\nTextBlob sentiment score: {textblob_sentiment_scores(text)}\")"
   ]
  },
  {
   "cell_type": "markdown",
   "id": "8ea8bd0d",
   "metadata": {},
   "source": [
    "****************************"
   ]
  },
  {
   "cell_type": "code",
   "execution_count": null,
   "id": "5c77c339",
   "metadata": {},
   "outputs": [],
   "source": [
    "text = 'grabngoinfo.com is a FANTASTIC FANTASTIC FANTASTIC website for step by step machine learning tutorials.'\n",
    "\n",
    "print(f\"Sentence: {text} \\nVADER sentiment score: {vader_sentiment_scores(text)} \\\n",
    "\\nTextBlob sentiment score: {textblob_sentiment_scores(text)}\")"
   ]
  },
  {
   "cell_type": "markdown",
   "id": "3480ead8",
   "metadata": {},
   "source": [
    "****************************"
   ]
  },
  {
   "cell_type": "code",
   "execution_count": null,
   "id": "fe6f73dc",
   "metadata": {},
   "outputs": [],
   "source": [
    "text = 'grabngoinfo.com is a FANTASTIC FANTASTIC FANTASTIC website for step by step machine learning tutorials!'\n",
    "\n",
    "print(f\"Sentence: {text} \\nVADER sentiment score: {vader_sentiment_scores(text)} \\\n",
    "\\nTextBlob sentiment score: {textblob_sentiment_scores(text)}\")"
   ]
  },
  {
   "cell_type": "code",
   "execution_count": null,
   "id": "29d4a208",
   "metadata": {},
   "outputs": [],
   "source": []
  }
 ],
 "metadata": {
  "kernelspec": {
   "display_name": "Python 3 (ipykernel)",
   "language": "python",
   "name": "python3"
  },
  "language_info": {
   "codemirror_mode": {
    "name": "ipython",
    "version": 3
   },
   "file_extension": ".py",
   "mimetype": "text/x-python",
   "name": "python",
   "nbconvert_exporter": "python",
   "pygments_lexer": "ipython3",
   "version": "3.9.12"
  }
 },
 "nbformat": 4,
 "nbformat_minor": 5
}
