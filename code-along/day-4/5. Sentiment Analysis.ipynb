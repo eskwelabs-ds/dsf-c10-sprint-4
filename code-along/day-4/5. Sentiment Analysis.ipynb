{
 "cells": [
  {
   "cell_type": "code",
   "execution_count": null,
   "id": "4cdf74a9",
   "metadata": {},
   "outputs": [],
   "source": [
    "pip install -U textblob"
   ]
  },
  {
   "cell_type": "code",
   "execution_count": null,
   "id": "b95beadc",
   "metadata": {},
   "outputs": [],
   "source": [
    "!python -m textblob.download_corpora"
   ]
  },
  {
   "cell_type": "code",
   "execution_count": null,
   "id": "483b7b4b",
   "metadata": {},
   "outputs": [],
   "source": [
    "from textblob import "
   ]
  },
  {
   "cell_type": "code",
   "execution_count": null,
   "id": "529c9d16",
   "metadata": {},
   "outputs": [],
   "source": [
    "review = 'WordPress.com works really well with Google for a great SEO ranking.'\n",
    "\n",
    "blob = (review)\n",
    "for sentence in blob.sentences:\n",
    "    print(sentence.sentiment)"
   ]
  },
  {
   "cell_type": "markdown",
   "id": "6bcf43c7",
   "metadata": {},
   "source": [
    " * when a modifier word is used, TextBlob ignores the subjectivity and polarity and will just use the intensity of the word"
   ]
  },
  {
   "cell_type": "code",
   "execution_count": null,
   "id": "0beaf993",
   "metadata": {},
   "outputs": [],
   "source": [
    "(\"very good\").sentiment"
   ]
  },
  {
   "cell_type": "markdown",
   "id": "ba5feefd",
   "metadata": {},
   "source": [
    "* negation multiples the polarity by -0.5\n",
    "\n",
    "words: neither, never, no nobody, none, no one, nor, not, nothing, nowhere. "
   ]
  },
  {
   "cell_type": "code",
   "execution_count": null,
   "id": "e83f1ae5",
   "metadata": {},
   "outputs": [],
   "source": [
    "(\"not good\").sentiment"
   ]
  },
  {
   "cell_type": "markdown",
   "id": "1f95121c",
   "metadata": {},
   "source": [
    "* Similarly, combining the above two cases i.e. negation with modifiers, the inverse intensity of the modifier is used for polarity and subjectivity"
   ]
  },
  {
   "cell_type": "code",
   "execution_count": null,
   "id": "6e62f4f8",
   "metadata": {},
   "outputs": [],
   "source": [
    "from textblob import TextBlob\n",
    "from textblob.sentiments import NaiveBayesAnalyzer\n",
    "\n",
    "# Preparing an input sentence\n",
    "sentence = '''The platform provides universal access to the world's best education, partnering with top universities and organizations to offer courses online.'''\n",
    "\n",
    "analysis_polarity = TextBlob(sentence).polarity\n",
    "analysis_subjectivity = TextBlob(sentence).subjectivity\n",
    "analysis_sentiment = TextBlob(sentence, analyzer = NaiveBayesAnalyzer()).sentiment\n",
    "\n",
    "print(analysis_polarity)\n",
    "print(analysis_subjectivity)\n",
    "print(analysis_sentiment)"
   ]
  },
  {
   "cell_type": "markdown",
   "id": "1700e538",
   "metadata": {},
   "source": [
    "### Other Use Cases"
   ]
  },
  {
   "cell_type": "code",
   "execution_count": null,
   "id": "fd28df2b",
   "metadata": {},
   "outputs": [],
   "source": [
    "import random\n",
    "from textblob import Word\n",
    "\n",
    "blob = TextBlob('I am a graduate of computer science from a good university and I am interested in machine learning and crypto, I am also the first daughter and I have five sisters and we are from London')\n",
    "\n",
    "nouns = list()\n",
    "for word, tag in blob.:\n",
    "    if tag == 'NN':\n",
    "        nouns.append(word.lemmatize())\n",
    "print(nouns)"
   ]
  },
  {
   "cell_type": "code",
   "execution_count": null,
   "id": "339ea54e",
   "metadata": {},
   "outputs": [],
   "source": [
    "print(\"This text is about...\")\n",
    "for item in random.sample(nouns, 5):\n",
    "    word = Word(item)\n",
    "print(word.pluralize())"
   ]
  },
  {
   "cell_type": "markdown",
   "id": "b7cb7f94",
   "metadata": {},
   "source": [
    "* correction"
   ]
  },
  {
   "cell_type": "code",
   "execution_count": null,
   "id": "cb0f8ec1",
   "metadata": {},
   "outputs": [],
   "source": [
    "blob = TextBlob('I have a car and big huse')\n",
    "blob.()"
   ]
  },
  {
   "cell_type": "markdown",
   "id": "2ef9db45",
   "metadata": {},
   "source": [
    "### VADER\n",
    "* Valence aware dictionary for sentiment reasoning (VADER)"
   ]
  },
  {
   "cell_type": "code",
   "execution_count": null,
   "id": "67d92e96",
   "metadata": {},
   "outputs": [],
   "source": [
    "!pip install vaderSentiment"
   ]
  },
  {
   "cell_type": "code",
   "execution_count": null,
   "id": "008380be",
   "metadata": {},
   "outputs": [],
   "source": [
    "from vaderSentiment.vaderSentiment import \n",
    "\n",
    "def sentiment_scores(sentence):\n",
    " \n",
    "    # Create a SentimentIntensityAnalyzer object.\n",
    "    sid_obj = ()\n",
    " \n",
    "    # polarity_scores method of SentimentIntensityAnalyzer\n",
    "    # object gives a sentiment dictionary.\n",
    "    # which contains pos, neg, neu, and compound scores.\n",
    "    sentiment_dict = sid_obj.(sentence)\n",
    "     \n",
    "    print(\"Overall sentiment dictionary is : \", sentiment_dict)\n",
    "    print(\"sentence was rated as \", sentiment_dict['neg']*100, \"% Negative\")\n",
    "    print(\"sentence was rated as \", sentiment_dict['neu']*100, \"% Neutral\")\n",
    "    print(\"sentence was rated as \", sentiment_dict['pos']*100, \"% Positive\")\n",
    " \n",
    "    print(\"Sentence Overall Rated As\", end = \" \")\n",
    " \n",
    "    # decide sentiment as positive, negative and neutral\n",
    "    if sentiment_dict['compound'] >= 0.05 :\n",
    "        print(\"Positive\")\n",
    " \n",
    "    elif sentiment_dict['compound'] <= - 0.05 :\n",
    "        print(\"Negative\")\n",
    " \n",
    "    else :\n",
    "        print(\"Neutral\")"
   ]
  },
  {
   "cell_type": "code",
   "execution_count": null,
   "id": "872cf619",
   "metadata": {},
   "outputs": [],
   "source": [
    "print(\"\\n1st statement :\")\n",
    "sentence = \"I love NLP\"\n",
    "\n",
    "# function calling\n",
    "sentiment_scores(sentence)\n",
    "\n",
    "print(\"\\n2nd Statement :\")\n",
    "sentence = \"study is going on as usual\"\n",
    "sentiment_scores(sentence)\n",
    "\n",
    "print(\"\\n3rd Statement :\")\n",
    "sentence = \"I am very sad today.\"\n",
    "sentiment_scores(sentence)"
   ]
  }
 ],
 "metadata": {
  "kernelspec": {
   "display_name": "Python 3 (ipykernel)",
   "language": "python",
   "name": "python3"
  },
  "language_info": {
   "codemirror_mode": {
    "name": "ipython",
    "version": 3
   },
   "file_extension": ".py",
   "mimetype": "text/x-python",
   "name": "python",
   "nbconvert_exporter": "python",
   "pygments_lexer": "ipython3",
   "version": "3.9.12"
  }
 },
 "nbformat": 4,
 "nbformat_minor": 5
}
