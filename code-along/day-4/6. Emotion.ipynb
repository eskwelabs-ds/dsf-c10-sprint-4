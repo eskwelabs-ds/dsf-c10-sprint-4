{
 "cells": [
  {
   "cell_type": "code",
   "execution_count": 1,
   "id": "31d5231e",
   "metadata": {},
   "outputs": [
    {
     "name": "stdout",
     "output_type": "stream",
     "text": [
      "Requirement already satisfied: NRCLex in c:\\users\\rheyannmagcalas\\anaconda3\\lib\\site-packages (3.0.0)\n",
      "Requirement already satisfied: textblob in c:\\users\\rheyannmagcalas\\anaconda3\\lib\\site-packages (from NRCLex) (0.17.1)\n",
      "Requirement already satisfied: nltk>=3.1 in c:\\users\\rheyannmagcalas\\anaconda3\\lib\\site-packages (from textblob->NRCLex) (3.7)\n",
      "Requirement already satisfied: tqdm in c:\\users\\rheyannmagcalas\\anaconda3\\lib\\site-packages (from nltk>=3.1->textblob->NRCLex) (4.64.0)\n",
      "Requirement already satisfied: click in c:\\users\\rheyannmagcalas\\anaconda3\\lib\\site-packages (from nltk>=3.1->textblob->NRCLex) (8.0.4)\n",
      "Requirement already satisfied: joblib in c:\\users\\rheyannmagcalas\\anaconda3\\lib\\site-packages (from nltk>=3.1->textblob->NRCLex) (1.1.0)"
     ]
    },
    {
     "name": "stderr",
     "output_type": "stream",
     "text": [
      "WARNING: There was an error checking the latest version of pip.\n"
     ]
    },
    {
     "name": "stdout",
     "output_type": "stream",
     "text": [
      "\n",
      "Requirement already satisfied: regex>=2021.8.3 in c:\\users\\rheyannmagcalas\\anaconda3\\lib\\site-packages (from nltk>=3.1->textblob->NRCLex) (2022.3.15)\n",
      "Requirement already satisfied: colorama in c:\\users\\rheyannmagcalas\\anaconda3\\lib\\site-packages (from click->nltk>=3.1->textblob->NRCLex) (0.4.4)\n"
     ]
    }
   ],
   "source": [
    "!pip install NRCLex"
   ]
  },
  {
   "cell_type": "code",
   "execution_count": 2,
   "id": "602c5d1e",
   "metadata": {},
   "outputs": [],
   "source": [
    "from nrclex import \n",
    "\n",
    "import numpy as np\n",
    "import pandas as pd"
   ]
  },
  {
   "cell_type": "markdown",
   "id": "907bec81",
   "metadata": {},
   "source": [
    "### Detect emotions: sentence"
   ]
  },
  {
   "cell_type": "code",
   "execution_count": 3,
   "id": "72c038e7",
   "metadata": {},
   "outputs": [
    {
     "name": "stdout",
     "output_type": "stream",
     "text": [
      "\n",
      " ['your', 'website', 'is', 'horrible']\n",
      "\n",
      " {'horrible': ['anger', 'disgust', 'fear', 'negative']}\n"
     ]
    }
   ],
   "source": [
    "# Assign emotion\n",
    "text = 'your website is horrible'\n",
    "  \n",
    "# Create object\n",
    "emotion = (text)\n",
    "  \n",
    "# Using methods to classify emotion\n",
    "print('\\n', emotion.words)\n",
    "print('\\n', emotion.)"
   ]
  },
  {
   "cell_type": "markdown",
   "id": "22c36602",
   "metadata": {},
   "source": [
    "### Let's look at a longer example"
   ]
  },
  {
   "cell_type": "code",
   "execution_count": 4,
   "id": "3ed384e1",
   "metadata": {},
   "outputs": [
    {
     "name": "stdout",
     "output_type": "stream",
     "text": [
      "\n",
      " {'humbled': ['positive', 'sadness'], 'challenge': ['anger', 'fear', 'negative'], 'encourage': ['joy', 'positive', 'trust'], 'growth': ['positive'], 'build': ['positive']}\n",
      "\n",
      " {'positive': 4, 'sadness': 1, 'anger': 1, 'fear': 1, 'negative': 1, 'joy': 1, 'trust': 1}\n"
     ]
    }
   ],
   "source": [
    "text = 'I am humbled and honored to be surrounded by colleagues who challenge,'\\\n",
    "        'support and encourage me at each stage.'\\\n",
    "        'Through them, I’ve learned work isn’t just'\\\n",
    "        'about the tasks we set out to do, but the experiences,'\\\n",
    "        'growth and friendships we build along the way.'\n",
    "\n",
    "emotion = NRCLex(text)\n",
    "print('\\n', emotion.)\n",
    "print('\\n', emotion.)"
   ]
  },
  {
   "cell_type": "markdown",
   "id": "b276233f",
   "metadata": {},
   "source": [
    "### \"Top emotions\" returns the dominant emotion"
   ]
  },
  {
   "cell_type": "code",
   "execution_count": 5,
   "id": "7d360f26",
   "metadata": {},
   "outputs": [
    {
     "name": "stdout",
     "output_type": "stream",
     "text": [
      "\n",
      " [('positive', 0.4)]\n"
     ]
    }
   ],
   "source": [
    "print('\\n', emotion.)"
   ]
  },
  {
   "cell_type": "markdown",
   "id": "71df5123",
   "metadata": {},
   "source": [
    "### \"Affect frequencies\" standardizes \"Raw emotion scores\""
   ]
  },
  {
   "cell_type": "markdown",
   "id": "5e6ddf96",
   "metadata": {},
   "source": [
    "* Assuming each sentence can only have a total score of 1, this is going to tell us which emotion weighs more and which emotions weigh less?"
   ]
  },
  {
   "cell_type": "code",
   "execution_count": 6,
   "id": "7a22c556",
   "metadata": {},
   "outputs": [
    {
     "name": "stdout",
     "output_type": "stream",
     "text": [
      "\n",
      " {'fear': 0.1, 'anger': 0.1, 'anticip': 0.0, 'trust': 0.1, 'surprise': 0.0, 'positive': 0.4, 'negative': 0.1, 'sadness': 0.1, 'disgust': 0.0, 'joy': 0.1}\n"
     ]
    }
   ],
   "source": [
    "print('\\n', emotion.)"
   ]
  },
  {
   "cell_type": "code",
   "execution_count": 7,
   "id": "f2661a52",
   "metadata": {},
   "outputs": [
    {
     "data": {
      "text/html": [
       "<div>\n",
       "<style scoped>\n",
       "    .dataframe tbody tr th:only-of-type {\n",
       "        vertical-align: middle;\n",
       "    }\n",
       "\n",
       "    .dataframe tbody tr th {\n",
       "        vertical-align: top;\n",
       "    }\n",
       "\n",
       "    .dataframe thead th {\n",
       "        text-align: right;\n",
       "    }\n",
       "</style>\n",
       "<table border=\"1\" class=\"dataframe\">\n",
       "  <thead>\n",
       "    <tr style=\"text-align: right;\">\n",
       "      <th></th>\n",
       "      <th>Unnamed: 0</th>\n",
       "      <th>id</th>\n",
       "      <th>keyword</th>\n",
       "      <th>location</th>\n",
       "      <th>text</th>\n",
       "      <th>target</th>\n",
       "      <th>emoji_count</th>\n",
       "      <th>hashtags</th>\n",
       "      <th>mentions</th>\n",
       "    </tr>\n",
       "  </thead>\n",
       "  <tbody>\n",
       "    <tr>\n",
       "      <th>0</th>\n",
       "      <td>0</td>\n",
       "      <td>1</td>\n",
       "      <td>NaN</td>\n",
       "      <td>NaN</td>\n",
       "      <td>our deeds are the reason of this may allah for...</td>\n",
       "      <td>1</td>\n",
       "      <td>0</td>\n",
       "      <td>(' earthquake', 1)</td>\n",
       "      <td>[]</td>\n",
       "    </tr>\n",
       "    <tr>\n",
       "      <th>1</th>\n",
       "      <td>1</td>\n",
       "      <td>4</td>\n",
       "      <td>NaN</td>\n",
       "      <td>NaN</td>\n",
       "      <td>forest fire near la ronge sask canada</td>\n",
       "      <td>1</td>\n",
       "      <td>0</td>\n",
       "      <td>('', 0)</td>\n",
       "      <td>[]</td>\n",
       "    </tr>\n",
       "    <tr>\n",
       "      <th>2</th>\n",
       "      <td>2</td>\n",
       "      <td>5</td>\n",
       "      <td>NaN</td>\n",
       "      <td>NaN</td>\n",
       "      <td>all residents asked to shelter in place are be...</td>\n",
       "      <td>1</td>\n",
       "      <td>0</td>\n",
       "      <td>('', 0)</td>\n",
       "      <td>[]</td>\n",
       "    </tr>\n",
       "    <tr>\n",
       "      <th>3</th>\n",
       "      <td>3</td>\n",
       "      <td>6</td>\n",
       "      <td>NaN</td>\n",
       "      <td>NaN</td>\n",
       "      <td>people receive evacuation orders in california</td>\n",
       "      <td>1</td>\n",
       "      <td>0</td>\n",
       "      <td>(' wildfires', 1)</td>\n",
       "      <td>[]</td>\n",
       "    </tr>\n",
       "    <tr>\n",
       "      <th>4</th>\n",
       "      <td>4</td>\n",
       "      <td>7</td>\n",
       "      <td>NaN</td>\n",
       "      <td>NaN</td>\n",
       "      <td>just got sent this photo from ruby as smoke fr...</td>\n",
       "      <td>1</td>\n",
       "      <td>0</td>\n",
       "      <td>(' alaska, wildfires', 2)</td>\n",
       "      <td>[]</td>\n",
       "    </tr>\n",
       "  </tbody>\n",
       "</table>\n",
       "</div>"
      ],
      "text/plain": [
       "   Unnamed: 0  id keyword location  \\\n",
       "0           0   1     NaN      NaN   \n",
       "1           1   4     NaN      NaN   \n",
       "2           2   5     NaN      NaN   \n",
       "3           3   6     NaN      NaN   \n",
       "4           4   7     NaN      NaN   \n",
       "\n",
       "                                                text  target  emoji_count  \\\n",
       "0  our deeds are the reason of this may allah for...       1            0   \n",
       "1              forest fire near la ronge sask canada       1            0   \n",
       "2  all residents asked to shelter in place are be...       1            0   \n",
       "3    people receive evacuation orders in california        1            0   \n",
       "4  just got sent this photo from ruby as smoke fr...       1            0   \n",
       "\n",
       "                    hashtags mentions  \n",
       "0         (' earthquake', 1)       []  \n",
       "1                    ('', 0)       []  \n",
       "2                    ('', 0)       []  \n",
       "3          (' wildfires', 1)       []  \n",
       "4  (' alaska, wildfires', 2)       []  "
      ]
     },
     "execution_count": 7,
     "metadata": {},
     "output_type": "execute_result"
    }
   ],
   "source": [
    "df = pd.read_csv('twitter_disaster_tweet_clean.csv')\n",
    "df.head()"
   ]
  },
  {
   "cell_type": "code",
   "execution_count": 8,
   "id": "e019cc27",
   "metadata": {},
   "outputs": [
    {
     "data": {
      "text/html": [
       "<div>\n",
       "<style scoped>\n",
       "    .dataframe tbody tr th:only-of-type {\n",
       "        vertical-align: middle;\n",
       "    }\n",
       "\n",
       "    .dataframe tbody tr th {\n",
       "        vertical-align: top;\n",
       "    }\n",
       "\n",
       "    .dataframe thead th {\n",
       "        text-align: right;\n",
       "    }\n",
       "</style>\n",
       "<table border=\"1\" class=\"dataframe\">\n",
       "  <thead>\n",
       "    <tr style=\"text-align: right;\">\n",
       "      <th></th>\n",
       "      <th>Unnamed: 0</th>\n",
       "      <th>id</th>\n",
       "      <th>keyword</th>\n",
       "      <th>location</th>\n",
       "      <th>text</th>\n",
       "      <th>target</th>\n",
       "      <th>emoji_count</th>\n",
       "      <th>hashtags</th>\n",
       "      <th>mentions</th>\n",
       "      <th>emotions</th>\n",
       "    </tr>\n",
       "  </thead>\n",
       "  <tbody>\n",
       "    <tr>\n",
       "      <th>0</th>\n",
       "      <td>0</td>\n",
       "      <td>1</td>\n",
       "      <td>NaN</td>\n",
       "      <td>NaN</td>\n",
       "      <td>our deeds are the reason of this may allah for...</td>\n",
       "      <td>1</td>\n",
       "      <td>0</td>\n",
       "      <td>(' earthquake', 1)</td>\n",
       "      <td>[]</td>\n",
       "      <td>{'fear': 0.0, 'anger': 0.0, 'anticip': 0.0, 't...</td>\n",
       "    </tr>\n",
       "    <tr>\n",
       "      <th>1</th>\n",
       "      <td>1</td>\n",
       "      <td>4</td>\n",
       "      <td>NaN</td>\n",
       "      <td>NaN</td>\n",
       "      <td>forest fire near la ronge sask canada</td>\n",
       "      <td>1</td>\n",
       "      <td>0</td>\n",
       "      <td>('', 0)</td>\n",
       "      <td>[]</td>\n",
       "      <td>{'fear': 1.0, 'anger': 0.0, 'anticip': 0.0, 't...</td>\n",
       "    </tr>\n",
       "    <tr>\n",
       "      <th>2</th>\n",
       "      <td>2</td>\n",
       "      <td>5</td>\n",
       "      <td>NaN</td>\n",
       "      <td>NaN</td>\n",
       "      <td>all residents asked to shelter in place are be...</td>\n",
       "      <td>1</td>\n",
       "      <td>0</td>\n",
       "      <td>('', 0)</td>\n",
       "      <td>[]</td>\n",
       "      <td>{'fear': 0.0, 'anger': 0.0, 'anticip': 0.0, 't...</td>\n",
       "    </tr>\n",
       "    <tr>\n",
       "      <th>3</th>\n",
       "      <td>3</td>\n",
       "      <td>6</td>\n",
       "      <td>NaN</td>\n",
       "      <td>NaN</td>\n",
       "      <td>people receive evacuation orders in california</td>\n",
       "      <td>1</td>\n",
       "      <td>0</td>\n",
       "      <td>(' wildfires', 1)</td>\n",
       "      <td>[]</td>\n",
       "      <td>{'fear': 0.0, 'anger': 0.0, 'anticip': 0.0, 't...</td>\n",
       "    </tr>\n",
       "    <tr>\n",
       "      <th>4</th>\n",
       "      <td>4</td>\n",
       "      <td>7</td>\n",
       "      <td>NaN</td>\n",
       "      <td>NaN</td>\n",
       "      <td>just got sent this photo from ruby as smoke fr...</td>\n",
       "      <td>1</td>\n",
       "      <td>0</td>\n",
       "      <td>(' alaska, wildfires', 2)</td>\n",
       "      <td>[]</td>\n",
       "      <td>{'fear': 0.0, 'anger': 0.0, 'anticip': 0.0, 't...</td>\n",
       "    </tr>\n",
       "  </tbody>\n",
       "</table>\n",
       "</div>"
      ],
      "text/plain": [
       "   Unnamed: 0  id keyword location  \\\n",
       "0           0   1     NaN      NaN   \n",
       "1           1   4     NaN      NaN   \n",
       "2           2   5     NaN      NaN   \n",
       "3           3   6     NaN      NaN   \n",
       "4           4   7     NaN      NaN   \n",
       "\n",
       "                                                text  target  emoji_count  \\\n",
       "0  our deeds are the reason of this may allah for...       1            0   \n",
       "1              forest fire near la ronge sask canada       1            0   \n",
       "2  all residents asked to shelter in place are be...       1            0   \n",
       "3    people receive evacuation orders in california        1            0   \n",
       "4  just got sent this photo from ruby as smoke fr...       1            0   \n",
       "\n",
       "                    hashtags mentions  \\\n",
       "0         (' earthquake', 1)       []   \n",
       "1                    ('', 0)       []   \n",
       "2                    ('', 0)       []   \n",
       "3          (' wildfires', 1)       []   \n",
       "4  (' alaska, wildfires', 2)       []   \n",
       "\n",
       "                                            emotions  \n",
       "0  {'fear': 0.0, 'anger': 0.0, 'anticip': 0.0, 't...  \n",
       "1  {'fear': 1.0, 'anger': 0.0, 'anticip': 0.0, 't...  \n",
       "2  {'fear': 0.0, 'anger': 0.0, 'anticip': 0.0, 't...  \n",
       "3  {'fear': 0.0, 'anger': 0.0, 'anticip': 0.0, 't...  \n",
       "4  {'fear': 0.0, 'anger': 0.0, 'anticip': 0.0, 't...  "
      ]
     },
     "execution_count": 8,
     "metadata": {},
     "output_type": "execute_result"
    }
   ],
   "source": [
    "### Make sure you process the data: lemmatization etc (not shown here)\n",
    "\n",
    "df['emotions'] = df['text'].apply(lambda x: NRCLex(x).affect_frequencies)\n",
    "df.head()"
   ]
  },
  {
   "cell_type": "code",
   "execution_count": 9,
   "id": "50e89641",
   "metadata": {},
   "outputs": [
    {
     "data": {
      "text/html": [
       "<div>\n",
       "<style scoped>\n",
       "    .dataframe tbody tr th:only-of-type {\n",
       "        vertical-align: middle;\n",
       "    }\n",
       "\n",
       "    .dataframe tbody tr th {\n",
       "        vertical-align: top;\n",
       "    }\n",
       "\n",
       "    .dataframe thead th {\n",
       "        text-align: right;\n",
       "    }\n",
       "</style>\n",
       "<table border=\"1\" class=\"dataframe\">\n",
       "  <thead>\n",
       "    <tr style=\"text-align: right;\">\n",
       "      <th></th>\n",
       "      <th>Unnamed: 0</th>\n",
       "      <th>id</th>\n",
       "      <th>keyword</th>\n",
       "      <th>location</th>\n",
       "      <th>text</th>\n",
       "      <th>target</th>\n",
       "      <th>emoji_count</th>\n",
       "      <th>hashtags</th>\n",
       "      <th>mentions</th>\n",
       "      <th>fear</th>\n",
       "      <th>anger</th>\n",
       "      <th>anticip</th>\n",
       "      <th>trust</th>\n",
       "      <th>surprise</th>\n",
       "      <th>positive</th>\n",
       "      <th>negative</th>\n",
       "      <th>sadness</th>\n",
       "      <th>disgust</th>\n",
       "      <th>joy</th>\n",
       "      <th>anticipation</th>\n",
       "    </tr>\n",
       "  </thead>\n",
       "  <tbody>\n",
       "    <tr>\n",
       "      <th>0</th>\n",
       "      <td>0</td>\n",
       "      <td>1</td>\n",
       "      <td>NaN</td>\n",
       "      <td>NaN</td>\n",
       "      <td>our deeds are the reason of this may allah for...</td>\n",
       "      <td>1</td>\n",
       "      <td>0</td>\n",
       "      <td>(' earthquake', 1)</td>\n",
       "      <td>[]</td>\n",
       "      <td>0.0</td>\n",
       "      <td>0.0</td>\n",
       "      <td>0.0</td>\n",
       "      <td>0.000000</td>\n",
       "      <td>0.0</td>\n",
       "      <td>1.000000</td>\n",
       "      <td>0.000000</td>\n",
       "      <td>0.0</td>\n",
       "      <td>0.0</td>\n",
       "      <td>0.0</td>\n",
       "      <td>NaN</td>\n",
       "    </tr>\n",
       "    <tr>\n",
       "      <th>1</th>\n",
       "      <td>1</td>\n",
       "      <td>4</td>\n",
       "      <td>NaN</td>\n",
       "      <td>NaN</td>\n",
       "      <td>forest fire near la ronge sask canada</td>\n",
       "      <td>1</td>\n",
       "      <td>0</td>\n",
       "      <td>('', 0)</td>\n",
       "      <td>[]</td>\n",
       "      <td>1.0</td>\n",
       "      <td>0.0</td>\n",
       "      <td>0.0</td>\n",
       "      <td>0.000000</td>\n",
       "      <td>0.0</td>\n",
       "      <td>0.000000</td>\n",
       "      <td>0.000000</td>\n",
       "      <td>0.0</td>\n",
       "      <td>0.0</td>\n",
       "      <td>0.0</td>\n",
       "      <td>NaN</td>\n",
       "    </tr>\n",
       "    <tr>\n",
       "      <th>2</th>\n",
       "      <td>2</td>\n",
       "      <td>5</td>\n",
       "      <td>NaN</td>\n",
       "      <td>NaN</td>\n",
       "      <td>all residents asked to shelter in place are be...</td>\n",
       "      <td>1</td>\n",
       "      <td>0</td>\n",
       "      <td>('', 0)</td>\n",
       "      <td>[]</td>\n",
       "      <td>0.0</td>\n",
       "      <td>0.0</td>\n",
       "      <td>0.0</td>\n",
       "      <td>0.333333</td>\n",
       "      <td>0.0</td>\n",
       "      <td>0.333333</td>\n",
       "      <td>0.166667</td>\n",
       "      <td>0.0</td>\n",
       "      <td>0.0</td>\n",
       "      <td>0.0</td>\n",
       "      <td>0.166667</td>\n",
       "    </tr>\n",
       "    <tr>\n",
       "      <th>3</th>\n",
       "      <td>3</td>\n",
       "      <td>6</td>\n",
       "      <td>NaN</td>\n",
       "      <td>NaN</td>\n",
       "      <td>people receive evacuation orders in california</td>\n",
       "      <td>1</td>\n",
       "      <td>0</td>\n",
       "      <td>(' wildfires', 1)</td>\n",
       "      <td>[]</td>\n",
       "      <td>0.0</td>\n",
       "      <td>0.0</td>\n",
       "      <td>0.0</td>\n",
       "      <td>0.000000</td>\n",
       "      <td>0.0</td>\n",
       "      <td>0.000000</td>\n",
       "      <td>1.000000</td>\n",
       "      <td>0.0</td>\n",
       "      <td>0.0</td>\n",
       "      <td>0.0</td>\n",
       "      <td>NaN</td>\n",
       "    </tr>\n",
       "    <tr>\n",
       "      <th>4</th>\n",
       "      <td>4</td>\n",
       "      <td>7</td>\n",
       "      <td>NaN</td>\n",
       "      <td>NaN</td>\n",
       "      <td>just got sent this photo from ruby as smoke fr...</td>\n",
       "      <td>1</td>\n",
       "      <td>0</td>\n",
       "      <td>(' alaska, wildfires', 2)</td>\n",
       "      <td>[]</td>\n",
       "      <td>0.0</td>\n",
       "      <td>0.0</td>\n",
       "      <td>0.0</td>\n",
       "      <td>1.000000</td>\n",
       "      <td>0.0</td>\n",
       "      <td>0.000000</td>\n",
       "      <td>0.000000</td>\n",
       "      <td>0.0</td>\n",
       "      <td>0.0</td>\n",
       "      <td>0.0</td>\n",
       "      <td>NaN</td>\n",
       "    </tr>\n",
       "  </tbody>\n",
       "</table>\n",
       "</div>"
      ],
      "text/plain": [
       "   Unnamed: 0  id keyword location  \\\n",
       "0           0   1     NaN      NaN   \n",
       "1           1   4     NaN      NaN   \n",
       "2           2   5     NaN      NaN   \n",
       "3           3   6     NaN      NaN   \n",
       "4           4   7     NaN      NaN   \n",
       "\n",
       "                                                text  target  emoji_count  \\\n",
       "0  our deeds are the reason of this may allah for...       1            0   \n",
       "1              forest fire near la ronge sask canada       1            0   \n",
       "2  all residents asked to shelter in place are be...       1            0   \n",
       "3    people receive evacuation orders in california        1            0   \n",
       "4  just got sent this photo from ruby as smoke fr...       1            0   \n",
       "\n",
       "                    hashtags mentions  fear  anger  anticip     trust  \\\n",
       "0         (' earthquake', 1)       []   0.0    0.0      0.0  0.000000   \n",
       "1                    ('', 0)       []   1.0    0.0      0.0  0.000000   \n",
       "2                    ('', 0)       []   0.0    0.0      0.0  0.333333   \n",
       "3          (' wildfires', 1)       []   0.0    0.0      0.0  0.000000   \n",
       "4  (' alaska, wildfires', 2)       []   0.0    0.0      0.0  1.000000   \n",
       "\n",
       "   surprise  positive  negative  sadness  disgust  joy  anticipation  \n",
       "0       0.0  1.000000  0.000000      0.0      0.0  0.0           NaN  \n",
       "1       0.0  0.000000  0.000000      0.0      0.0  0.0           NaN  \n",
       "2       0.0  0.333333  0.166667      0.0      0.0  0.0      0.166667  \n",
       "3       0.0  0.000000  1.000000      0.0      0.0  0.0           NaN  \n",
       "4       0.0  0.000000  0.000000      0.0      0.0  0.0           NaN  "
      ]
     },
     "execution_count": 9,
     "metadata": {},
     "output_type": "execute_result"
    }
   ],
   "source": [
    "df = pd.concat([df.drop(['emotions'], axis = 1), df['emotions'].apply(pd.Series)], axis = 1)\n",
    "df.head()"
   ]
  },
  {
   "cell_type": "markdown",
   "id": "68ad6f9d",
   "metadata": {},
   "source": [
    "* Limitation: NRCLex can't handle negations\n",
    "* Limitation: NRCLex can't recognize words it doesn't know"
   ]
  },
  {
   "cell_type": "markdown",
   "id": "81a8009b",
   "metadata": {},
   "source": [
    "### References\n",
    "\n",
    "* https://github.com/metalcorebear/NRCLex\n",
    "* https://www.geeksforgeeks.org/emotion-classification-using-nrc-lexicon-in-python/"
   ]
  }
 ],
 "metadata": {
  "kernelspec": {
   "display_name": "Python 3 (ipykernel)",
   "language": "python",
   "name": "python3"
  },
  "language_info": {
   "codemirror_mode": {
    "name": "ipython",
    "version": 3
   },
   "file_extension": ".py",
   "mimetype": "text/x-python",
   "name": "python",
   "nbconvert_exporter": "python",
   "pygments_lexer": "ipython3",
   "version": "3.9.12"
  }
 },
 "nbformat": 4,
 "nbformat_minor": 5
}
