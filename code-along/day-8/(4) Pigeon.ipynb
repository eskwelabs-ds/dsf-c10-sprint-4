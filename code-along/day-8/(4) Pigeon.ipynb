{
 "cells": [
  {
   "cell_type": "code",
   "execution_count": 1,
   "id": "fd7c7012",
   "metadata": {},
   "outputs": [
    {
     "name": "stdout",
     "output_type": "stream",
     "text": [
      "Requirement already satisfied: pigeon-jupyter in c:\\users\\rheyannmagcalas\\anaconda3\\lib\\site-packages (0.1.0)\n",
      "Requirement already satisfied: ipywidgets in c:\\users\\rheyannmagcalas\\anaconda3\\lib\\site-packages (from pigeon-jupyter) (7.6.5)\n"
     ]
    },
    {
     "name": "stderr",
     "output_type": "stream",
     "text": [
      "WARNING: There was an error checking the latest version of pip.\n"
     ]
    },
    {
     "name": "stdout",
     "output_type": "stream",
     "text": [
      "Requirement already satisfied: ipython>=4.0.0 in c:\\users\\rheyannmagcalas\\anaconda3\\lib\\site-packages (from ipywidgets->pigeon-jupyter) (8.2.0)\n",
      "Requirement already satisfied: ipython-genutils~=0.2.0 in c:\\users\\rheyannmagcalas\\anaconda3\\lib\\site-packages (from ipywidgets->pigeon-jupyter) (0.2.0)\n",
      "Requirement already satisfied: nbformat>=4.2.0 in c:\\users\\rheyannmagcalas\\anaconda3\\lib\\site-packages (from ipywidgets->pigeon-jupyter) (5.3.0)\n",
      "Requirement already satisfied: widgetsnbextension~=3.5.0 in c:\\users\\rheyannmagcalas\\anaconda3\\lib\\site-packages (from ipywidgets->pigeon-jupyter) (3.5.2)\n",
      "Requirement already satisfied: jupyterlab-widgets>=1.0.0 in c:\\users\\rheyannmagcalas\\anaconda3\\lib\\site-packages (from ipywidgets->pigeon-jupyter) (1.0.0)\n",
      "Requirement already satisfied: ipykernel>=4.5.1 in c:\\users\\rheyannmagcalas\\anaconda3\\lib\\site-packages (from ipywidgets->pigeon-jupyter) (6.9.1)\n",
      "Requirement already satisfied: traitlets>=4.3.1 in c:\\users\\rheyannmagcalas\\anaconda3\\lib\\site-packages (from ipywidgets->pigeon-jupyter) (5.1.1)\n",
      "Requirement already satisfied: tornado<7.0,>=4.2 in c:\\users\\rheyannmagcalas\\anaconda3\\lib\\site-packages (from ipykernel>=4.5.1->ipywidgets->pigeon-jupyter) (6.1)\n",
      "Requirement already satisfied: debugpy<2.0,>=1.0.0 in c:\\users\\rheyannmagcalas\\anaconda3\\lib\\site-packages (from ipykernel>=4.5.1->ipywidgets->pigeon-jupyter) (1.5.1)\n",
      "Requirement already satisfied: jupyter-client<8.0 in c:\\users\\rheyannmagcalas\\anaconda3\\lib\\site-packages (from ipykernel>=4.5.1->ipywidgets->pigeon-jupyter) (6.1.12)\n",
      "Requirement already satisfied: matplotlib-inline<0.2.0,>=0.1.0 in c:\\users\\rheyannmagcalas\\anaconda3\\lib\\site-packages (from ipykernel>=4.5.1->ipywidgets->pigeon-jupyter) (0.1.2)\n",
      "Requirement already satisfied: nest-asyncio in c:\\users\\rheyannmagcalas\\anaconda3\\lib\\site-packages (from ipykernel>=4.5.1->ipywidgets->pigeon-jupyter) (1.5.5)\n",
      "Requirement already satisfied: decorator in c:\\users\\rheyannmagcalas\\anaconda3\\lib\\site-packages (from ipython>=4.0.0->ipywidgets->pigeon-jupyter) (5.1.1)\n",
      "Requirement already satisfied: stack-data in c:\\users\\rheyannmagcalas\\anaconda3\\lib\\site-packages (from ipython>=4.0.0->ipywidgets->pigeon-jupyter) (0.2.0)\n",
      "Requirement already satisfied: pickleshare in c:\\users\\rheyannmagcalas\\anaconda3\\lib\\site-packages (from ipython>=4.0.0->ipywidgets->pigeon-jupyter) (0.7.5)\n",
      "Requirement already satisfied: colorama in c:\\users\\rheyannmagcalas\\anaconda3\\lib\\site-packages (from ipython>=4.0.0->ipywidgets->pigeon-jupyter) (0.4.4)\n",
      "Requirement already satisfied: backcall in c:\\users\\rheyannmagcalas\\anaconda3\\lib\\site-packages (from ipython>=4.0.0->ipywidgets->pigeon-jupyter) (0.2.0)\n",
      "Requirement already satisfied: prompt-toolkit!=3.0.0,!=3.0.1,<3.1.0,>=2.0.0 in c:\\users\\rheyannmagcalas\\anaconda3\\lib\\site-packages (from ipython>=4.0.0->ipywidgets->pigeon-jupyter) (3.0.20)\n",
      "Requirement already satisfied: jedi>=0.16 in c:\\users\\rheyannmagcalas\\anaconda3\\lib\\site-packages (from ipython>=4.0.0->ipywidgets->pigeon-jupyter) (0.18.1)\n",
      "Requirement already satisfied: setuptools>=18.5 in c:\\users\\rheyannmagcalas\\anaconda3\\lib\\site-packages (from ipython>=4.0.0->ipywidgets->pigeon-jupyter) (61.2.0)\n",
      "Requirement already satisfied: pygments>=2.4.0 in c:\\users\\rheyannmagcalas\\anaconda3\\lib\\site-packages (from ipython>=4.0.0->ipywidgets->pigeon-jupyter) (2.11.2)\n",
      "Requirement already satisfied: fastjsonschema in c:\\users\\rheyannmagcalas\\anaconda3\\lib\\site-packages (from nbformat>=4.2.0->ipywidgets->pigeon-jupyter) (2.15.1)\n",
      "Requirement already satisfied: jupyter-core in c:\\users\\rheyannmagcalas\\anaconda3\\lib\\site-packages (from nbformat>=4.2.0->ipywidgets->pigeon-jupyter) (4.9.2)\n",
      "Requirement already satisfied: jsonschema>=2.6 in c:\\users\\rheyannmagcalas\\anaconda3\\lib\\site-packages (from nbformat>=4.2.0->ipywidgets->pigeon-jupyter) (4.4.0)\n",
      "Requirement already satisfied: notebook>=4.4.1 in c:\\users\\rheyannmagcalas\\anaconda3\\lib\\site-packages (from widgetsnbextension~=3.5.0->ipywidgets->pigeon-jupyter) (6.4.8)\n",
      "Requirement already satisfied: parso<0.9.0,>=0.8.0 in c:\\users\\rheyannmagcalas\\anaconda3\\lib\\site-packages (from jedi>=0.16->ipython>=4.0.0->ipywidgets->pigeon-jupyter) (0.8.3)\n",
      "Requirement already satisfied: attrs>=17.4.0 in c:\\users\\rheyannmagcalas\\appdata\\roaming\\python\\python39\\site-packages (from jsonschema>=2.6->nbformat>=4.2.0->ipywidgets->pigeon-jupyter) (21.4.0)\n",
      "Requirement already satisfied: pyrsistent!=0.17.0,!=0.17.1,!=0.17.2,>=0.14.0 in c:\\users\\rheyannmagcalas\\anaconda3\\lib\\site-packages (from jsonschema>=2.6->nbformat>=4.2.0->ipywidgets->pigeon-jupyter) (0.18.0)\n",
      "Requirement already satisfied: python-dateutil>=2.1 in c:\\users\\rheyannmagcalas\\anaconda3\\lib\\site-packages (from jupyter-client<8.0->ipykernel>=4.5.1->ipywidgets->pigeon-jupyter) (2.8.2)\n",
      "Requirement already satisfied: pyzmq>=13 in c:\\users\\rheyannmagcalas\\anaconda3\\lib\\site-packages (from jupyter-client<8.0->ipykernel>=4.5.1->ipywidgets->pigeon-jupyter) (22.3.0)\n",
      "Requirement already satisfied: pywin32>=1.0 in c:\\users\\rheyannmagcalas\\anaconda3\\lib\\site-packages (from jupyter-core->nbformat>=4.2.0->ipywidgets->pigeon-jupyter) (302)\n",
      "Requirement already satisfied: Send2Trash>=1.8.0 in c:\\users\\rheyannmagcalas\\anaconda3\\lib\\site-packages (from notebook>=4.4.1->widgetsnbextension~=3.5.0->ipywidgets->pigeon-jupyter) (1.8.0)\n",
      "Requirement already satisfied: prometheus-client in c:\\users\\rheyannmagcalas\\anaconda3\\lib\\site-packages (from notebook>=4.4.1->widgetsnbextension~=3.5.0->ipywidgets->pigeon-jupyter) (0.13.1)\n",
      "Requirement already satisfied: jinja2 in c:\\users\\rheyannmagcalas\\anaconda3\\lib\\site-packages (from notebook>=4.4.1->widgetsnbextension~=3.5.0->ipywidgets->pigeon-jupyter) (3.1.2)\n",
      "Requirement already satisfied: nbconvert in c:\\users\\rheyannmagcalas\\anaconda3\\lib\\site-packages (from notebook>=4.4.1->widgetsnbextension~=3.5.0->ipywidgets->pigeon-jupyter) (6.4.4)\n",
      "Requirement already satisfied: argon2-cffi in c:\\users\\rheyannmagcalas\\anaconda3\\lib\\site-packages (from notebook>=4.4.1->widgetsnbextension~=3.5.0->ipywidgets->pigeon-jupyter) (21.3.0)\n",
      "Requirement already satisfied: terminado>=0.8.3 in c:\\users\\rheyannmagcalas\\anaconda3\\lib\\site-packages (from notebook>=4.4.1->widgetsnbextension~=3.5.0->ipywidgets->pigeon-jupyter) (0.13.1)\n",
      "Requirement already satisfied: wcwidth in c:\\users\\rheyannmagcalas\\anaconda3\\lib\\site-packages (from prompt-toolkit!=3.0.0,!=3.0.1,<3.1.0,>=2.0.0->ipython>=4.0.0->ipywidgets->pigeon-jupyter) (0.2.5)\n",
      "Requirement already satisfied: executing in c:\\users\\rheyannmagcalas\\anaconda3\\lib\\site-packages (from stack-data->ipython>=4.0.0->ipywidgets->pigeon-jupyter) (0.8.3)\n",
      "Requirement already satisfied: pure-eval in c:\\users\\rheyannmagcalas\\anaconda3\\lib\\site-packages (from stack-data->ipython>=4.0.0->ipywidgets->pigeon-jupyter) (0.2.2)\n",
      "Requirement already satisfied: asttokens in c:\\users\\rheyannmagcalas\\anaconda3\\lib\\site-packages (from stack-data->ipython>=4.0.0->ipywidgets->pigeon-jupyter) (2.0.5)\n",
      "Requirement already satisfied: six>=1.5 in c:\\users\\rheyannmagcalas\\anaconda3\\lib\\site-packages (from python-dateutil>=2.1->jupyter-client<8.0->ipykernel>=4.5.1->ipywidgets->pigeon-jupyter) (1.16.0)\n",
      "Requirement already satisfied: pywinpty>=1.1.0 in c:\\users\\rheyannmagcalas\\anaconda3\\lib\\site-packages (from terminado>=0.8.3->notebook>=4.4.1->widgetsnbextension~=3.5.0->ipywidgets->pigeon-jupyter) (2.0.2)\n",
      "Requirement already satisfied: argon2-cffi-bindings in c:\\users\\rheyannmagcalas\\anaconda3\\lib\\site-packages (from argon2-cffi->notebook>=4.4.1->widgetsnbextension~=3.5.0->ipywidgets->pigeon-jupyter) (21.2.0)\n",
      "Requirement already satisfied: MarkupSafe>=2.0 in c:\\users\\rheyannmagcalas\\anaconda3\\lib\\site-packages (from jinja2->notebook>=4.4.1->widgetsnbextension~=3.5.0->ipywidgets->pigeon-jupyter) (2.0.1)\n",
      "Requirement already satisfied: defusedxml in c:\\users\\rheyannmagcalas\\anaconda3\\lib\\site-packages (from nbconvert->notebook>=4.4.1->widgetsnbextension~=3.5.0->ipywidgets->pigeon-jupyter) (0.7.1)\n",
      "Requirement already satisfied: entrypoints>=0.2.2 in c:\\users\\rheyannmagcalas\\anaconda3\\lib\\site-packages (from nbconvert->notebook>=4.4.1->widgetsnbextension~=3.5.0->ipywidgets->pigeon-jupyter) (0.4)\n",
      "Requirement already satisfied: mistune<2,>=0.8.1 in c:\\users\\rheyannmagcalas\\anaconda3\\lib\\site-packages (from nbconvert->notebook>=4.4.1->widgetsnbextension~=3.5.0->ipywidgets->pigeon-jupyter) (0.8.4)\n",
      "Requirement already satisfied: nbclient<0.6.0,>=0.5.0 in c:\\users\\rheyannmagcalas\\anaconda3\\lib\\site-packages (from nbconvert->notebook>=4.4.1->widgetsnbextension~=3.5.0->ipywidgets->pigeon-jupyter) (0.5.13)\n",
      "Requirement already satisfied: pandocfilters>=1.4.1 in c:\\users\\rheyannmagcalas\\anaconda3\\lib\\site-packages (from nbconvert->notebook>=4.4.1->widgetsnbextension~=3.5.0->ipywidgets->pigeon-jupyter) (1.5.0)\n",
      "Requirement already satisfied: testpath in c:\\users\\rheyannmagcalas\\anaconda3\\lib\\site-packages (from nbconvert->notebook>=4.4.1->widgetsnbextension~=3.5.0->ipywidgets->pigeon-jupyter) (0.5.0)\n",
      "Requirement already satisfied: bleach in c:\\users\\rheyannmagcalas\\anaconda3\\lib\\site-packages (from nbconvert->notebook>=4.4.1->widgetsnbextension~=3.5.0->ipywidgets->pigeon-jupyter) (4.1.0)\n",
      "Requirement already satisfied: beautifulsoup4 in c:\\users\\rheyannmagcalas\\anaconda3\\lib\\site-packages (from nbconvert->notebook>=4.4.1->widgetsnbextension~=3.5.0->ipywidgets->pigeon-jupyter) (4.9.3)\n",
      "Requirement already satisfied: jupyterlab-pygments in c:\\users\\rheyannmagcalas\\anaconda3\\lib\\site-packages (from nbconvert->notebook>=4.4.1->widgetsnbextension~=3.5.0->ipywidgets->pigeon-jupyter) (0.1.2)\n",
      "Requirement already satisfied: cffi>=1.0.1 in c:\\users\\rheyannmagcalas\\appdata\\roaming\\python\\python39\\site-packages (from argon2-cffi-bindings->argon2-cffi->notebook>=4.4.1->widgetsnbextension~=3.5.0->ipywidgets->pigeon-jupyter) (1.15.0)\n",
      "Requirement already satisfied: soupsieve>1.2 in c:\\users\\rheyannmagcalas\\appdata\\roaming\\python\\python39\\site-packages (from beautifulsoup4->nbconvert->notebook>=4.4.1->widgetsnbextension~=3.5.0->ipywidgets->pigeon-jupyter) (2.3.2.post1)\n",
      "Requirement already satisfied: webencodings in c:\\users\\rheyannmagcalas\\anaconda3\\lib\\site-packages (from bleach->nbconvert->notebook>=4.4.1->widgetsnbextension~=3.5.0->ipywidgets->pigeon-jupyter) (0.5.1)\n",
      "Requirement already satisfied: packaging in c:\\users\\rheyannmagcalas\\anaconda3\\lib\\site-packages (from bleach->nbconvert->notebook>=4.4.1->widgetsnbextension~=3.5.0->ipywidgets->pigeon-jupyter) (21.3)\n",
      "Requirement already satisfied: pycparser in c:\\users\\rheyannmagcalas\\appdata\\roaming\\python\\python39\\site-packages (from cffi>=1.0.1->argon2-cffi-bindings->argon2-cffi->notebook>=4.4.1->widgetsnbextension~=3.5.0->ipywidgets->pigeon-jupyter) (2.21)\n",
      "Requirement already satisfied: pyparsing!=3.0.5,>=2.0.2 in c:\\users\\rheyannmagcalas\\anaconda3\\lib\\site-packages (from packaging->bleach->nbconvert->notebook>=4.4.1->widgetsnbextension~=3.5.0->ipywidgets->pigeon-jupyter) (3.0.4)\n"
     ]
    }
   ],
   "source": [
    "!pip install pigeon-jupyter"
   ]
  },
  {
   "cell_type": "code",
   "execution_count": 2,
   "id": "35872b84",
   "metadata": {},
   "outputs": [
    {
     "data": {
      "application/vnd.jupyter.widget-view+json": {
       "model_id": "bf1d29f6dd104ed5989a647cb491428f",
       "version_major": 2,
       "version_minor": 0
      },
      "text/plain": [
       "HTML(value='0 examples annotated, 3 examples left')"
      ]
     },
     "metadata": {},
     "output_type": "display_data"
    },
    {
     "data": {
      "application/vnd.jupyter.widget-view+json": {
       "model_id": "d2a7da0cefe743cd955bc16ace0fd956",
       "version_major": 2,
       "version_minor": 0
      },
      "text/plain": [
       "HBox(children=(Button(description='positive', style=ButtonStyle()), Button(description='negative', style=Butto…"
      ]
     },
     "metadata": {},
     "output_type": "display_data"
    },
    {
     "data": {
      "application/vnd.jupyter.widget-view+json": {
       "model_id": "c83120119d7f4e2899a11ea09f1a9e08",
       "version_major": 2,
       "version_minor": 0
      },
      "text/plain": [
       "Output()"
      ]
     },
     "metadata": {},
     "output_type": "display_data"
    }
   ],
   "source": [
    "from pigeon import annotate\n",
    "annotations = annotate(\n",
    "  ['I love this movie', 'I was really disappointed by the book'],\n",
    "  options=['positive', 'negative']\n",
    ")"
   ]
  },
  {
   "cell_type": "code",
   "execution_count": 3,
   "id": "2494e2c4",
   "metadata": {},
   "outputs": [
    {
     "data": {
      "text/plain": [
       "[]"
      ]
     },
     "execution_count": 3,
     "metadata": {},
     "output_type": "execute_result"
    }
   ],
   "source": [
    "annotations"
   ]
  }
 ],
 "metadata": {
  "kernelspec": {
   "display_name": "Python 3 (ipykernel)",
   "language": "python",
   "name": "python3"
  },
  "language_info": {
   "codemirror_mode": {
    "name": "ipython",
    "version": 3
   },
   "file_extension": ".py",
   "mimetype": "text/x-python",
   "name": "python",
   "nbconvert_exporter": "python",
   "pygments_lexer": "ipython3",
   "version": "3.9.12"
  }
 },
 "nbformat": 4,
 "nbformat_minor": 5
}
