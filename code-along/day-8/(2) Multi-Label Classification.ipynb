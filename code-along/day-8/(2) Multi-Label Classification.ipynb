{
 "cells": [
  {
   "cell_type": "markdown",
   "id": "missing-technical",
   "metadata": {
    "ExecuteTime": {
     "end_time": "2021-06-08T11:35:00.118868Z",
     "start_time": "2021-06-08T11:34:58.540187Z"
    }
   },
   "source": [
    "### Resources:\n",
    "* https://github.com/Jcharis/Python-Machine-Learning/blob/master/Multi_Label_Text_Classification_with_Skmultilearn/Multi-Label%20Classification%20with%20Python%20and%20Scikit-Multilearn-.ipynb\n",
    "* https://www.youtube.com/watch?v=YyOuDi-zSiI\n",
    "\n",
    "\n",
    "### Dataset: \n",
    "* https://drive.google.com/drive/folders/19Jc42hPSd45PjaYl34iG1RFNFxVyW8zm\n",
    "* https://www.kaggle.com/c/jigsaw-toxic-comment-classification-challenge"
   ]
  },
  {
   "cell_type": "code",
   "execution_count": 1,
   "id": "444db146",
   "metadata": {},
   "outputs": [
    {
     "name": "stdout",
     "output_type": "stream",
     "text": [
      "Requirement already satisfied: scikit-multilearn in c:\\users\\rheyannmagcalas\\anaconda3\\lib\\site-packages (0.2.0)\n"
     ]
    },
    {
     "name": "stderr",
     "output_type": "stream",
     "text": [
      "WARNING: There was an error checking the latest version of pip.\n"
     ]
    }
   ],
   "source": [
    "!pip install scikit-multilearn"
   ]
  },
  {
   "cell_type": "code",
   "execution_count": 2,
   "id": "increasing-firmware",
   "metadata": {
    "ExecuteTime": {
     "end_time": "2021-06-08T11:57:46.255477Z",
     "start_time": "2021-06-08T11:57:44.674986Z"
    }
   },
   "outputs": [],
   "source": [
    "import numpy as np\n",
    "import pandas as pd\n",
    "import \n",
    "\n",
    "from sklearn.linear_model import LogisticRegression\n",
    "from sklearn.neighbors import KNeighborsClassifier\n",
    "from sklearn.tree import DecisionTreeClassifier\n",
    "from sklearn.naive_bayes import GaussianNB,MultinomialNB\n",
    "from sklearn.metrics import accuracy_score,classification_report,\n",
    "\n",
    "### Split Dataset into Train and Text\n",
    "from sklearn.model_selection import train_test_split\n",
    "# Feature engineering\n",
    "from sklearn.feature_extraction.text import TfidfVectorizer\n",
    "\n",
    "# Multi Label Pkgs\n",
    "from skmultilearn.problem_transform import \n",
    "from skmultilearn.problem_transform import \n",
    "from skmultilearn.problem_transform import \n",
    "from skmultilearn.adapt import MLkNN"
   ]
  },
  {
   "cell_type": "code",
   "execution_count": 3,
   "id": "returning-tribune",
   "metadata": {
    "ExecuteTime": {
     "end_time": "2021-06-08T11:57:48.027127Z",
     "start_time": "2021-06-08T11:57:47.150137Z"
    }
   },
   "outputs": [
    {
     "data": {
      "text/html": [
       "<div>\n",
       "<style scoped>\n",
       "    .dataframe tbody tr th:only-of-type {\n",
       "        vertical-align: middle;\n",
       "    }\n",
       "\n",
       "    .dataframe tbody tr th {\n",
       "        vertical-align: top;\n",
       "    }\n",
       "\n",
       "    .dataframe thead th {\n",
       "        text-align: right;\n",
       "    }\n",
       "</style>\n",
       "<table border=\"1\" class=\"dataframe\">\n",
       "  <thead>\n",
       "    <tr style=\"text-align: right;\">\n",
       "      <th></th>\n",
       "      <th>comment_text</th>\n",
       "      <th>toxic</th>\n",
       "      <th>severe_toxic</th>\n",
       "      <th>obscene</th>\n",
       "      <th>threat</th>\n",
       "      <th>insult</th>\n",
       "      <th>identity_hate</th>\n",
       "    </tr>\n",
       "    <tr>\n",
       "      <th>id</th>\n",
       "      <th></th>\n",
       "      <th></th>\n",
       "      <th></th>\n",
       "      <th></th>\n",
       "      <th></th>\n",
       "      <th></th>\n",
       "      <th></th>\n",
       "    </tr>\n",
       "  </thead>\n",
       "  <tbody>\n",
       "    <tr>\n",
       "      <th>0000997932d777bf</th>\n",
       "      <td>Explanation\\nWhy the edits made under my usern...</td>\n",
       "      <td>0</td>\n",
       "      <td>0</td>\n",
       "      <td>0</td>\n",
       "      <td>0</td>\n",
       "      <td>0</td>\n",
       "      <td>0</td>\n",
       "    </tr>\n",
       "    <tr>\n",
       "      <th>000103f0d9cfb60f</th>\n",
       "      <td>D'aww! He matches this background colour I'm s...</td>\n",
       "      <td>0</td>\n",
       "      <td>0</td>\n",
       "      <td>0</td>\n",
       "      <td>0</td>\n",
       "      <td>0</td>\n",
       "      <td>0</td>\n",
       "    </tr>\n",
       "    <tr>\n",
       "      <th>000113f07ec002fd</th>\n",
       "      <td>Hey man, I'm really not trying to edit war. It...</td>\n",
       "      <td>0</td>\n",
       "      <td>0</td>\n",
       "      <td>0</td>\n",
       "      <td>0</td>\n",
       "      <td>0</td>\n",
       "      <td>0</td>\n",
       "    </tr>\n",
       "    <tr>\n",
       "      <th>0001b41b1c6bb37e</th>\n",
       "      <td>\"\\nMore\\nI can't make any real suggestions on ...</td>\n",
       "      <td>0</td>\n",
       "      <td>0</td>\n",
       "      <td>0</td>\n",
       "      <td>0</td>\n",
       "      <td>0</td>\n",
       "      <td>0</td>\n",
       "    </tr>\n",
       "    <tr>\n",
       "      <th>0001d958c54c6e35</th>\n",
       "      <td>You, sir, are my hero. Any chance you remember...</td>\n",
       "      <td>0</td>\n",
       "      <td>0</td>\n",
       "      <td>0</td>\n",
       "      <td>0</td>\n",
       "      <td>0</td>\n",
       "      <td>0</td>\n",
       "    </tr>\n",
       "  </tbody>\n",
       "</table>\n",
       "</div>"
      ],
      "text/plain": [
       "                                                       comment_text  toxic  \\\n",
       "id                                                                           \n",
       "0000997932d777bf  Explanation\\nWhy the edits made under my usern...      0   \n",
       "000103f0d9cfb60f  D'aww! He matches this background colour I'm s...      0   \n",
       "000113f07ec002fd  Hey man, I'm really not trying to edit war. It...      0   \n",
       "0001b41b1c6bb37e  \"\\nMore\\nI can't make any real suggestions on ...      0   \n",
       "0001d958c54c6e35  You, sir, are my hero. Any chance you remember...      0   \n",
       "\n",
       "                  severe_toxic  obscene  threat  insult  identity_hate  \n",
       "id                                                                      \n",
       "0000997932d777bf             0        0       0       0              0  \n",
       "000103f0d9cfb60f             0        0       0       0              0  \n",
       "000113f07ec002fd             0        0       0       0              0  \n",
       "0001b41b1c6bb37e             0        0       0       0              0  \n",
       "0001d958c54c6e35             0        0       0       0              0  "
      ]
     },
     "execution_count": 3,
     "metadata": {},
     "output_type": "execute_result"
    }
   ],
   "source": [
    "df = pd.read_csv('toxic_comment_classification.csv', index_col=0)  \n",
    "df.head()"
   ]
  },
  {
   "cell_type": "code",
   "execution_count": 4,
   "id": "225d487d",
   "metadata": {},
   "outputs": [
    {
     "data": {
      "text/plain": [
       "(159571, 7)"
      ]
     },
     "execution_count": 4,
     "metadata": {},
     "output_type": "execute_result"
    }
   ],
   "source": [
    "df.shape"
   ]
  },
  {
   "cell_type": "code",
   "execution_count": 5,
   "id": "7aed6de7",
   "metadata": {},
   "outputs": [],
   "source": [
    "df = df.head(5000)"
   ]
  },
  {
   "cell_type": "markdown",
   "id": "several-drove",
   "metadata": {},
   "source": [
    "### Creation of New Columns Needed for the Model"
   ]
  },
  {
   "cell_type": "code",
   "execution_count": 6,
   "id": "academic-tuition",
   "metadata": {
    "ExecuteTime": {
     "end_time": "2021-06-08T11:57:50.462177Z",
     "start_time": "2021-06-08T11:57:50.328909Z"
    }
   },
   "outputs": [],
   "source": [
    "df['labels'] = list(zip(df.toxic.to_list(), df.severe_toxic.to_list(), \n",
    "                        df.obscene.to_list(),  df.threat.to_list(),  \n",
    "                        df.insult.to_list(),  df.identity_hate.to_list()))"
   ]
  },
  {
   "cell_type": "code",
   "execution_count": 7,
   "id": "af2fa6c8",
   "metadata": {},
   "outputs": [
    {
     "data": {
      "text/html": [
       "<div>\n",
       "<style scoped>\n",
       "    .dataframe tbody tr th:only-of-type {\n",
       "        vertical-align: middle;\n",
       "    }\n",
       "\n",
       "    .dataframe tbody tr th {\n",
       "        vertical-align: top;\n",
       "    }\n",
       "\n",
       "    .dataframe thead th {\n",
       "        text-align: right;\n",
       "    }\n",
       "</style>\n",
       "<table border=\"1\" class=\"dataframe\">\n",
       "  <thead>\n",
       "    <tr style=\"text-align: right;\">\n",
       "      <th></th>\n",
       "      <th>comment_text</th>\n",
       "      <th>toxic</th>\n",
       "      <th>severe_toxic</th>\n",
       "      <th>obscene</th>\n",
       "      <th>threat</th>\n",
       "      <th>insult</th>\n",
       "      <th>identity_hate</th>\n",
       "      <th>labels</th>\n",
       "    </tr>\n",
       "    <tr>\n",
       "      <th>id</th>\n",
       "      <th></th>\n",
       "      <th></th>\n",
       "      <th></th>\n",
       "      <th></th>\n",
       "      <th></th>\n",
       "      <th></th>\n",
       "      <th></th>\n",
       "      <th></th>\n",
       "    </tr>\n",
       "  </thead>\n",
       "  <tbody>\n",
       "    <tr>\n",
       "      <th>0000997932d777bf</th>\n",
       "      <td>Explanation\\nWhy the edits made under my usern...</td>\n",
       "      <td>0</td>\n",
       "      <td>0</td>\n",
       "      <td>0</td>\n",
       "      <td>0</td>\n",
       "      <td>0</td>\n",
       "      <td>0</td>\n",
       "      <td>(0, 0, 0, 0, 0, 0)</td>\n",
       "    </tr>\n",
       "    <tr>\n",
       "      <th>000103f0d9cfb60f</th>\n",
       "      <td>D'aww! He matches this background colour I'm s...</td>\n",
       "      <td>0</td>\n",
       "      <td>0</td>\n",
       "      <td>0</td>\n",
       "      <td>0</td>\n",
       "      <td>0</td>\n",
       "      <td>0</td>\n",
       "      <td>(0, 0, 0, 0, 0, 0)</td>\n",
       "    </tr>\n",
       "    <tr>\n",
       "      <th>000113f07ec002fd</th>\n",
       "      <td>Hey man, I'm really not trying to edit war. It...</td>\n",
       "      <td>0</td>\n",
       "      <td>0</td>\n",
       "      <td>0</td>\n",
       "      <td>0</td>\n",
       "      <td>0</td>\n",
       "      <td>0</td>\n",
       "      <td>(0, 0, 0, 0, 0, 0)</td>\n",
       "    </tr>\n",
       "    <tr>\n",
       "      <th>0001b41b1c6bb37e</th>\n",
       "      <td>\"\\nMore\\nI can't make any real suggestions on ...</td>\n",
       "      <td>0</td>\n",
       "      <td>0</td>\n",
       "      <td>0</td>\n",
       "      <td>0</td>\n",
       "      <td>0</td>\n",
       "      <td>0</td>\n",
       "      <td>(0, 0, 0, 0, 0, 0)</td>\n",
       "    </tr>\n",
       "    <tr>\n",
       "      <th>0001d958c54c6e35</th>\n",
       "      <td>You, sir, are my hero. Any chance you remember...</td>\n",
       "      <td>0</td>\n",
       "      <td>0</td>\n",
       "      <td>0</td>\n",
       "      <td>0</td>\n",
       "      <td>0</td>\n",
       "      <td>0</td>\n",
       "      <td>(0, 0, 0, 0, 0, 0)</td>\n",
       "    </tr>\n",
       "  </tbody>\n",
       "</table>\n",
       "</div>"
      ],
      "text/plain": [
       "                                                       comment_text  toxic  \\\n",
       "id                                                                           \n",
       "0000997932d777bf  Explanation\\nWhy the edits made under my usern...      0   \n",
       "000103f0d9cfb60f  D'aww! He matches this background colour I'm s...      0   \n",
       "000113f07ec002fd  Hey man, I'm really not trying to edit war. It...      0   \n",
       "0001b41b1c6bb37e  \"\\nMore\\nI can't make any real suggestions on ...      0   \n",
       "0001d958c54c6e35  You, sir, are my hero. Any chance you remember...      0   \n",
       "\n",
       "                  severe_toxic  obscene  threat  insult  identity_hate  \\\n",
       "id                                                                       \n",
       "0000997932d777bf             0        0       0       0              0   \n",
       "000103f0d9cfb60f             0        0       0       0              0   \n",
       "000113f07ec002fd             0        0       0       0              0   \n",
       "0001b41b1c6bb37e             0        0       0       0              0   \n",
       "0001d958c54c6e35             0        0       0       0              0   \n",
       "\n",
       "                              labels  \n",
       "id                                    \n",
       "0000997932d777bf  (0, 0, 0, 0, 0, 0)  \n",
       "000103f0d9cfb60f  (0, 0, 0, 0, 0, 0)  \n",
       "000113f07ec002fd  (0, 0, 0, 0, 0, 0)  \n",
       "0001b41b1c6bb37e  (0, 0, 0, 0, 0, 0)  \n",
       "0001d958c54c6e35  (0, 0, 0, 0, 0, 0)  "
      ]
     },
     "execution_count": 7,
     "metadata": {},
     "output_type": "execute_result"
    }
   ],
   "source": [
    "df.head()"
   ]
  },
  {
   "cell_type": "code",
   "execution_count": 8,
   "id": "quality-excess",
   "metadata": {
    "ExecuteTime": {
     "end_time": "2021-06-08T11:57:51.509070Z",
     "start_time": "2021-06-08T11:57:51.483214Z"
    }
   },
   "outputs": [
    {
     "data": {
      "text/plain": [
       "(538, 8)"
      ]
     },
     "execution_count": 8,
     "metadata": {},
     "output_type": "execute_result"
    }
   ],
   "source": [
    "with_labels = df[df['labels'] != (0, 0, 0, 0, 0, 0)]\n",
    "with_labels.shape"
   ]
  },
  {
   "cell_type": "code",
   "execution_count": 9,
   "id": "removable-digest",
   "metadata": {
    "ExecuteTime": {
     "end_time": "2021-06-08T11:57:52.505437Z",
     "start_time": "2021-06-08T11:57:52.468128Z"
    }
   },
   "outputs": [
    {
     "data": {
      "text/html": [
       "<div>\n",
       "<style scoped>\n",
       "    .dataframe tbody tr th:only-of-type {\n",
       "        vertical-align: middle;\n",
       "    }\n",
       "\n",
       "    .dataframe tbody tr th {\n",
       "        vertical-align: top;\n",
       "    }\n",
       "\n",
       "    .dataframe thead th {\n",
       "        text-align: right;\n",
       "    }\n",
       "</style>\n",
       "<table border=\"1\" class=\"dataframe\">\n",
       "  <thead>\n",
       "    <tr style=\"text-align: right;\">\n",
       "      <th></th>\n",
       "      <th>comment_text</th>\n",
       "      <th>toxic</th>\n",
       "      <th>severe_toxic</th>\n",
       "      <th>obscene</th>\n",
       "      <th>threat</th>\n",
       "      <th>insult</th>\n",
       "      <th>identity_hate</th>\n",
       "      <th>labels</th>\n",
       "    </tr>\n",
       "    <tr>\n",
       "      <th>id</th>\n",
       "      <th></th>\n",
       "      <th></th>\n",
       "      <th></th>\n",
       "      <th></th>\n",
       "      <th></th>\n",
       "      <th></th>\n",
       "      <th></th>\n",
       "      <th></th>\n",
       "    </tr>\n",
       "  </thead>\n",
       "  <tbody>\n",
       "    <tr>\n",
       "      <th>0000997932d777bf</th>\n",
       "      <td>Explanation\\nWhy the edits made under my usern...</td>\n",
       "      <td>0</td>\n",
       "      <td>0</td>\n",
       "      <td>0</td>\n",
       "      <td>0</td>\n",
       "      <td>0</td>\n",
       "      <td>0</td>\n",
       "      <td>(0, 0, 0, 0, 0, 0)</td>\n",
       "    </tr>\n",
       "    <tr>\n",
       "      <th>000103f0d9cfb60f</th>\n",
       "      <td>D'aww! He matches this background colour I'm s...</td>\n",
       "      <td>0</td>\n",
       "      <td>0</td>\n",
       "      <td>0</td>\n",
       "      <td>0</td>\n",
       "      <td>0</td>\n",
       "      <td>0</td>\n",
       "      <td>(0, 0, 0, 0, 0, 0)</td>\n",
       "    </tr>\n",
       "    <tr>\n",
       "      <th>000113f07ec002fd</th>\n",
       "      <td>Hey man, I'm really not trying to edit war. It...</td>\n",
       "      <td>0</td>\n",
       "      <td>0</td>\n",
       "      <td>0</td>\n",
       "      <td>0</td>\n",
       "      <td>0</td>\n",
       "      <td>0</td>\n",
       "      <td>(0, 0, 0, 0, 0, 0)</td>\n",
       "    </tr>\n",
       "    <tr>\n",
       "      <th>0001b41b1c6bb37e</th>\n",
       "      <td>\"\\nMore\\nI can't make any real suggestions on ...</td>\n",
       "      <td>0</td>\n",
       "      <td>0</td>\n",
       "      <td>0</td>\n",
       "      <td>0</td>\n",
       "      <td>0</td>\n",
       "      <td>0</td>\n",
       "      <td>(0, 0, 0, 0, 0, 0)</td>\n",
       "    </tr>\n",
       "    <tr>\n",
       "      <th>0001d958c54c6e35</th>\n",
       "      <td>You, sir, are my hero. Any chance you remember...</td>\n",
       "      <td>0</td>\n",
       "      <td>0</td>\n",
       "      <td>0</td>\n",
       "      <td>0</td>\n",
       "      <td>0</td>\n",
       "      <td>0</td>\n",
       "      <td>(0, 0, 0, 0, 0, 0)</td>\n",
       "    </tr>\n",
       "    <tr>\n",
       "      <th>...</th>\n",
       "      <td>...</td>\n",
       "      <td>...</td>\n",
       "      <td>...</td>\n",
       "      <td>...</td>\n",
       "      <td>...</td>\n",
       "      <td>...</td>\n",
       "      <td>...</td>\n",
       "      <td>...</td>\n",
       "    </tr>\n",
       "    <tr>\n",
       "      <th>04b92907a0db6e77</th>\n",
       "      <td>Evan Blass (Update) \\n\\nI have made the follow...</td>\n",
       "      <td>0</td>\n",
       "      <td>0</td>\n",
       "      <td>0</td>\n",
       "      <td>0</td>\n",
       "      <td>0</td>\n",
       "      <td>0</td>\n",
       "      <td>(0, 0, 0, 0, 0, 0)</td>\n",
       "    </tr>\n",
       "    <tr>\n",
       "      <th>04baeea8d61cac54</th>\n",
       "      <td>Awful bio \\nObviously a hatchet job from a pre...</td>\n",
       "      <td>0</td>\n",
       "      <td>0</td>\n",
       "      <td>0</td>\n",
       "      <td>0</td>\n",
       "      <td>0</td>\n",
       "      <td>0</td>\n",
       "      <td>(0, 0, 0, 0, 0, 0)</td>\n",
       "    </tr>\n",
       "    <tr>\n",
       "      <th>04bb978332bbe669</th>\n",
       "      <td>Yes, of course. I totally  forgot  we have tho...</td>\n",
       "      <td>0</td>\n",
       "      <td>0</td>\n",
       "      <td>0</td>\n",
       "      <td>0</td>\n",
       "      <td>0</td>\n",
       "      <td>0</td>\n",
       "      <td>(0, 0, 0, 0, 0, 0)</td>\n",
       "    </tr>\n",
       "    <tr>\n",
       "      <th>04bbc7a4ebe7919a</th>\n",
       "      <td>\"\\n\\n About Einstein \\n\\nMy search of any docu...</td>\n",
       "      <td>0</td>\n",
       "      <td>0</td>\n",
       "      <td>0</td>\n",
       "      <td>0</td>\n",
       "      <td>0</td>\n",
       "      <td>0</td>\n",
       "      <td>(0, 0, 0, 0, 0, 0)</td>\n",
       "    </tr>\n",
       "    <tr>\n",
       "      <th>04bd1fd9635ac8a6</th>\n",
       "      <td>Don't worry ThuranX, I don't think I will be s...</td>\n",
       "      <td>0</td>\n",
       "      <td>0</td>\n",
       "      <td>0</td>\n",
       "      <td>0</td>\n",
       "      <td>0</td>\n",
       "      <td>0</td>\n",
       "      <td>(0, 0, 0, 0, 0, 0)</td>\n",
       "    </tr>\n",
       "  </tbody>\n",
       "</table>\n",
       "<p>1561 rows × 8 columns</p>\n",
       "</div>"
      ],
      "text/plain": [
       "                                                       comment_text  toxic  \\\n",
       "id                                                                           \n",
       "0000997932d777bf  Explanation\\nWhy the edits made under my usern...      0   \n",
       "000103f0d9cfb60f  D'aww! He matches this background colour I'm s...      0   \n",
       "000113f07ec002fd  Hey man, I'm really not trying to edit war. It...      0   \n",
       "0001b41b1c6bb37e  \"\\nMore\\nI can't make any real suggestions on ...      0   \n",
       "0001d958c54c6e35  You, sir, are my hero. Any chance you remember...      0   \n",
       "...                                                             ...    ...   \n",
       "04b92907a0db6e77  Evan Blass (Update) \\n\\nI have made the follow...      0   \n",
       "04baeea8d61cac54  Awful bio \\nObviously a hatchet job from a pre...      0   \n",
       "04bb978332bbe669  Yes, of course. I totally  forgot  we have tho...      0   \n",
       "04bbc7a4ebe7919a  \"\\n\\n About Einstein \\n\\nMy search of any docu...      0   \n",
       "04bd1fd9635ac8a6  Don't worry ThuranX, I don't think I will be s...      0   \n",
       "\n",
       "                  severe_toxic  obscene  threat  insult  identity_hate  \\\n",
       "id                                                                       \n",
       "0000997932d777bf             0        0       0       0              0   \n",
       "000103f0d9cfb60f             0        0       0       0              0   \n",
       "000113f07ec002fd             0        0       0       0              0   \n",
       "0001b41b1c6bb37e             0        0       0       0              0   \n",
       "0001d958c54c6e35             0        0       0       0              0   \n",
       "...                        ...      ...     ...     ...            ...   \n",
       "04b92907a0db6e77             0        0       0       0              0   \n",
       "04baeea8d61cac54             0        0       0       0              0   \n",
       "04bb978332bbe669             0        0       0       0              0   \n",
       "04bbc7a4ebe7919a             0        0       0       0              0   \n",
       "04bd1fd9635ac8a6             0        0       0       0              0   \n",
       "\n",
       "                              labels  \n",
       "id                                    \n",
       "0000997932d777bf  (0, 0, 0, 0, 0, 0)  \n",
       "000103f0d9cfb60f  (0, 0, 0, 0, 0, 0)  \n",
       "000113f07ec002fd  (0, 0, 0, 0, 0, 0)  \n",
       "0001b41b1c6bb37e  (0, 0, 0, 0, 0, 0)  \n",
       "0001d958c54c6e35  (0, 0, 0, 0, 0, 0)  \n",
       "...                              ...  \n",
       "04b92907a0db6e77  (0, 0, 0, 0, 0, 0)  \n",
       "04baeea8d61cac54  (0, 0, 0, 0, 0, 0)  \n",
       "04bb978332bbe669  (0, 0, 0, 0, 0, 0)  \n",
       "04bbc7a4ebe7919a  (0, 0, 0, 0, 0, 0)  \n",
       "04bd1fd9635ac8a6  (0, 0, 0, 0, 0, 0)  \n",
       "\n",
       "[1561 rows x 8 columns]"
      ]
     },
     "execution_count": 9,
     "metadata": {},
     "output_type": "execute_result"
    }
   ],
   "source": [
    "non_labels = df[df['labels'] == (0, 0, 0, 0, 0, 0)]\n",
    "n = 35\n",
    "non_labels = non_labels.head(int(len(non_labels)*(n/100)))\n",
    "non_labels"
   ]
  },
  {
   "cell_type": "code",
   "execution_count": 10,
   "id": "vertical-wireless",
   "metadata": {
    "ExecuteTime": {
     "end_time": "2021-06-08T11:57:57.112468Z",
     "start_time": "2021-06-08T11:57:57.086358Z"
    }
   },
   "outputs": [
    {
     "data": {
      "text/html": [
       "<div>\n",
       "<style scoped>\n",
       "    .dataframe tbody tr th:only-of-type {\n",
       "        vertical-align: middle;\n",
       "    }\n",
       "\n",
       "    .dataframe tbody tr th {\n",
       "        vertical-align: top;\n",
       "    }\n",
       "\n",
       "    .dataframe thead th {\n",
       "        text-align: right;\n",
       "    }\n",
       "</style>\n",
       "<table border=\"1\" class=\"dataframe\">\n",
       "  <thead>\n",
       "    <tr style=\"text-align: right;\">\n",
       "      <th></th>\n",
       "      <th>comment_text</th>\n",
       "      <th>toxic</th>\n",
       "      <th>severe_toxic</th>\n",
       "      <th>obscene</th>\n",
       "      <th>threat</th>\n",
       "      <th>insult</th>\n",
       "      <th>identity_hate</th>\n",
       "      <th>labels</th>\n",
       "    </tr>\n",
       "    <tr>\n",
       "      <th>id</th>\n",
       "      <th></th>\n",
       "      <th></th>\n",
       "      <th></th>\n",
       "      <th></th>\n",
       "      <th></th>\n",
       "      <th></th>\n",
       "      <th></th>\n",
       "      <th></th>\n",
       "    </tr>\n",
       "  </thead>\n",
       "  <tbody>\n",
       "    <tr>\n",
       "      <th>0002bcb3da6cb337</th>\n",
       "      <td>COCKSUCKER BEFORE YOU PISS AROUND ON MY WORK</td>\n",
       "      <td>1</td>\n",
       "      <td>1</td>\n",
       "      <td>1</td>\n",
       "      <td>0</td>\n",
       "      <td>1</td>\n",
       "      <td>0</td>\n",
       "      <td>(1, 1, 1, 0, 1, 0)</td>\n",
       "    </tr>\n",
       "    <tr>\n",
       "      <th>0005c987bdfc9d4b</th>\n",
       "      <td>Hey... what is it..\\n@ | talk .\\nWhat is it......</td>\n",
       "      <td>1</td>\n",
       "      <td>0</td>\n",
       "      <td>0</td>\n",
       "      <td>0</td>\n",
       "      <td>0</td>\n",
       "      <td>0</td>\n",
       "      <td>(1, 0, 0, 0, 0, 0)</td>\n",
       "    </tr>\n",
       "    <tr>\n",
       "      <th>0007e25b2121310b</th>\n",
       "      <td>Bye! \\n\\nDon't look, come or think of comming ...</td>\n",
       "      <td>1</td>\n",
       "      <td>0</td>\n",
       "      <td>0</td>\n",
       "      <td>0</td>\n",
       "      <td>0</td>\n",
       "      <td>0</td>\n",
       "      <td>(1, 0, 0, 0, 0, 0)</td>\n",
       "    </tr>\n",
       "    <tr>\n",
       "      <th>001810bf8c45bf5f</th>\n",
       "      <td>You are gay or antisemmitian? \\n\\nArchangel WH...</td>\n",
       "      <td>1</td>\n",
       "      <td>0</td>\n",
       "      <td>1</td>\n",
       "      <td>0</td>\n",
       "      <td>1</td>\n",
       "      <td>1</td>\n",
       "      <td>(1, 0, 1, 0, 1, 1)</td>\n",
       "    </tr>\n",
       "    <tr>\n",
       "      <th>00190820581d90ce</th>\n",
       "      <td>FUCK YOUR FILTHY MOTHER IN THE ASS, DRY!</td>\n",
       "      <td>1</td>\n",
       "      <td>0</td>\n",
       "      <td>1</td>\n",
       "      <td>0</td>\n",
       "      <td>1</td>\n",
       "      <td>0</td>\n",
       "      <td>(1, 0, 1, 0, 1, 0)</td>\n",
       "    </tr>\n",
       "  </tbody>\n",
       "</table>\n",
       "</div>"
      ],
      "text/plain": [
       "                                                       comment_text  toxic  \\\n",
       "id                                                                           \n",
       "0002bcb3da6cb337       COCKSUCKER BEFORE YOU PISS AROUND ON MY WORK      1   \n",
       "0005c987bdfc9d4b  Hey... what is it..\\n@ | talk .\\nWhat is it......      1   \n",
       "0007e25b2121310b  Bye! \\n\\nDon't look, come or think of comming ...      1   \n",
       "001810bf8c45bf5f  You are gay or antisemmitian? \\n\\nArchangel WH...      1   \n",
       "00190820581d90ce           FUCK YOUR FILTHY MOTHER IN THE ASS, DRY!      1   \n",
       "\n",
       "                  severe_toxic  obscene  threat  insult  identity_hate  \\\n",
       "id                                                                       \n",
       "0002bcb3da6cb337             1        1       0       1              0   \n",
       "0005c987bdfc9d4b             0        0       0       0              0   \n",
       "0007e25b2121310b             0        0       0       0              0   \n",
       "001810bf8c45bf5f             0        1       0       1              1   \n",
       "00190820581d90ce             0        1       0       1              0   \n",
       "\n",
       "                              labels  \n",
       "id                                    \n",
       "0002bcb3da6cb337  (1, 1, 1, 0, 1, 0)  \n",
       "0005c987bdfc9d4b  (1, 0, 0, 0, 0, 0)  \n",
       "0007e25b2121310b  (1, 0, 0, 0, 0, 0)  \n",
       "001810bf8c45bf5f  (1, 0, 1, 0, 1, 1)  \n",
       "00190820581d90ce  (1, 0, 1, 0, 1, 0)  "
      ]
     },
     "execution_count": 10,
     "metadata": {},
     "output_type": "execute_result"
    }
   ],
   "source": [
    "current_dataset = pd.concat([with_labels, non_labels])\n",
    "current_dataset.head()"
   ]
  },
  {
   "cell_type": "markdown",
   "id": "crazy-constitutional",
   "metadata": {
    "ExecuteTime": {
     "end_time": "2021-06-08T10:27:05.566888Z",
     "start_time": "2021-06-08T10:27:05.383223Z"
    }
   },
   "source": [
    "### Clean Text"
   ]
  },
  {
   "cell_type": "code",
   "execution_count": 11,
   "id": "analyzed-religion",
   "metadata": {
    "ExecuteTime": {
     "end_time": "2021-06-08T11:58:07.719142Z",
     "start_time": "2021-06-08T11:58:00.761451Z"
    }
   },
   "outputs": [],
   "source": [
    "import nltk\n",
    "from nltk.corpus import stopwords\n",
    "import re\n",
    "import sys\n",
    "import warnings\n",
    "\n",
    "if not sys.warnoptions:\n",
    "    warnings.simplefilter(\"ignore\")\n",
    "    \n",
    "def cleanHtml(sentence):\n",
    "    cleanr = re.compile('<.*?>')\n",
    "    cleantext = re.sub(cleanr, ' ', str(sentence))\n",
    "    return cleantext\n",
    "\n",
    "def cleanPunc(sentence): #function to clean the word of any punctuation or special characters\n",
    "    cleaned = re.sub(r'[?|!|\\'|\"|#]',r'',sentence)\n",
    "    cleaned = re.sub(r'[.|,|)|(|\\|/]',r' ',cleaned)\n",
    "    cleaned = cleaned.strip()\n",
    "    cleaned = cleaned.replace(\"\\n\",\" \")\n",
    "    return cleaned\n",
    "\n",
    "def keepAlpha(sentence):\n",
    "    alpha_sent = \"\"\n",
    "    for word in sentence.split():\n",
    "        alpha_word = re.sub('[^a-z A-Z]+', ' ', word)\n",
    "        alpha_sent += alpha_word\n",
    "        alpha_sent += \" \"\n",
    "    alpha_sent = alpha_sent.strip()\n",
    "    return alpha_sent\n",
    "\n",
    "current_dataset['text'] = current_dataset['comment_text'].apply(cleanHtml)\n",
    "current_dataset['text'] = current_dataset['text'].apply(cleanPunc)\n",
    "current_dataset['text'] = current_dataset['text'].apply(keepAlpha)"
   ]
  },
  {
   "cell_type": "code",
   "execution_count": 12,
   "id": "intimate-establishment",
   "metadata": {
    "ExecuteTime": {
     "end_time": "2021-06-08T11:58:23.990574Z",
     "start_time": "2021-06-08T11:58:09.949805Z"
    }
   },
   "outputs": [],
   "source": [
    "stop_words = set(stopwords.words('english'))\n",
    "stop_words.update(['zero','one','two','three','four','five','six','seven','eight','nine','ten','may','also','across','among','beside','however','yet','within'])\n",
    "re_stop_words = re.compile(r\"\\b(\" + \"|\".join(stop_words) + \")\\\\W\", re.I)\n",
    "\n",
    "def removeStopWords(sentence):\n",
    "    global re_stop_words\n",
    "    return re_stop_words.sub(\" \", sentence)\n",
    "\n",
    "current_dataset['text'] = current_dataset['text'].apply(removeStopWords)"
   ]
  },
  {
   "cell_type": "markdown",
   "id": "considered-apparatus",
   "metadata": {},
   "source": [
    "### Lemmatization"
   ]
  },
  {
   "cell_type": "code",
   "execution_count": 13,
   "id": "dress-entrepreneur",
   "metadata": {
    "ExecuteTime": {
     "end_time": "2021-06-08T11:58:56.260702Z",
     "start_time": "2021-06-08T11:58:26.597529Z"
    }
   },
   "outputs": [],
   "source": [
    "import nltk\n",
    "\n",
    "lemmatizer=nltk.stem.()\n",
    "def process_lemma(sentence):\n",
    "    lemmaSentence = \"\"\n",
    "    for word in sentence.split():\n",
    "        lemma = lemmatizer.lemmatize(word)\n",
    "        lemmaSentence += lemma\n",
    "        lemmaSentence += \" \"\n",
    "    lemmaSentence = lemmaSentence.strip()\n",
    "    return lemmaSentence\n",
    "\n",
    "current_dataset['text'] = current_dataset['text'].apply(process_lemma)"
   ]
  },
  {
   "cell_type": "code",
   "execution_count": 14,
   "id": "accepted-swiss",
   "metadata": {
    "ExecuteTime": {
     "end_time": "2021-06-08T11:58:56.272811Z",
     "start_time": "2021-06-08T11:58:56.263642Z"
    }
   },
   "outputs": [],
   "source": [
    "current_dataset = current_dataset.reset_index()"
   ]
  },
  {
   "cell_type": "code",
   "execution_count": 15,
   "id": "isolated-pixel",
   "metadata": {
    "ExecuteTime": {
     "end_time": "2021-06-08T11:58:56.293465Z",
     "start_time": "2021-06-08T11:58:56.275055Z"
    }
   },
   "outputs": [
    {
     "data": {
      "text/html": [
       "<div>\n",
       "<style scoped>\n",
       "    .dataframe tbody tr th:only-of-type {\n",
       "        vertical-align: middle;\n",
       "    }\n",
       "\n",
       "    .dataframe tbody tr th {\n",
       "        vertical-align: top;\n",
       "    }\n",
       "\n",
       "    .dataframe thead th {\n",
       "        text-align: right;\n",
       "    }\n",
       "</style>\n",
       "<table border=\"1\" class=\"dataframe\">\n",
       "  <thead>\n",
       "    <tr style=\"text-align: right;\">\n",
       "      <th></th>\n",
       "      <th>id</th>\n",
       "      <th>comment_text</th>\n",
       "      <th>toxic</th>\n",
       "      <th>severe_toxic</th>\n",
       "      <th>obscene</th>\n",
       "      <th>threat</th>\n",
       "      <th>insult</th>\n",
       "      <th>identity_hate</th>\n",
       "      <th>labels</th>\n",
       "      <th>text</th>\n",
       "    </tr>\n",
       "  </thead>\n",
       "  <tbody>\n",
       "    <tr>\n",
       "      <th>0</th>\n",
       "      <td>0002bcb3da6cb337</td>\n",
       "      <td>COCKSUCKER BEFORE YOU PISS AROUND ON MY WORK</td>\n",
       "      <td>1</td>\n",
       "      <td>1</td>\n",
       "      <td>1</td>\n",
       "      <td>0</td>\n",
       "      <td>1</td>\n",
       "      <td>0</td>\n",
       "      <td>(1, 1, 1, 0, 1, 0)</td>\n",
       "      <td>COCKSUCKER PISS AROUND WORK</td>\n",
       "    </tr>\n",
       "    <tr>\n",
       "      <th>1</th>\n",
       "      <td>0005c987bdfc9d4b</td>\n",
       "      <td>Hey... what is it..\\n@ | talk .\\nWhat is it......</td>\n",
       "      <td>1</td>\n",
       "      <td>0</td>\n",
       "      <td>0</td>\n",
       "      <td>0</td>\n",
       "      <td>0</td>\n",
       "      <td>0</td>\n",
       "      <td>(1, 0, 0, 0, 0, 0)</td>\n",
       "      <td>Hey talk exclusive group WP TALIBANS good dest...</td>\n",
       "    </tr>\n",
       "    <tr>\n",
       "      <th>2</th>\n",
       "      <td>0007e25b2121310b</td>\n",
       "      <td>Bye! \\n\\nDon't look, come or think of comming ...</td>\n",
       "      <td>1</td>\n",
       "      <td>0</td>\n",
       "      <td>0</td>\n",
       "      <td>0</td>\n",
       "      <td>0</td>\n",
       "      <td>0</td>\n",
       "      <td>(1, 0, 0, 0, 0, 0)</td>\n",
       "      <td>Bye Dont look come think comming back Tosser</td>\n",
       "    </tr>\n",
       "    <tr>\n",
       "      <th>3</th>\n",
       "      <td>001810bf8c45bf5f</td>\n",
       "      <td>You are gay or antisemmitian? \\n\\nArchangel WH...</td>\n",
       "      <td>1</td>\n",
       "      <td>0</td>\n",
       "      <td>1</td>\n",
       "      <td>0</td>\n",
       "      <td>1</td>\n",
       "      <td>1</td>\n",
       "      <td>(1, 0, 1, 0, 1, 1)</td>\n",
       "      <td>gay antisemmitian Archangel WHite Tiger Meow G...</td>\n",
       "    </tr>\n",
       "    <tr>\n",
       "      <th>4</th>\n",
       "      <td>00190820581d90ce</td>\n",
       "      <td>FUCK YOUR FILTHY MOTHER IN THE ASS, DRY!</td>\n",
       "      <td>1</td>\n",
       "      <td>0</td>\n",
       "      <td>1</td>\n",
       "      <td>0</td>\n",
       "      <td>1</td>\n",
       "      <td>0</td>\n",
       "      <td>(1, 0, 1, 0, 1, 0)</td>\n",
       "      <td>FUCK FILTHY MOTHER ASS DRY</td>\n",
       "    </tr>\n",
       "    <tr>\n",
       "      <th>...</th>\n",
       "      <td>...</td>\n",
       "      <td>...</td>\n",
       "      <td>...</td>\n",
       "      <td>...</td>\n",
       "      <td>...</td>\n",
       "      <td>...</td>\n",
       "      <td>...</td>\n",
       "      <td>...</td>\n",
       "      <td>...</td>\n",
       "      <td>...</td>\n",
       "    </tr>\n",
       "    <tr>\n",
       "      <th>2094</th>\n",
       "      <td>04b92907a0db6e77</td>\n",
       "      <td>Evan Blass (Update) \\n\\nI have made the follow...</td>\n",
       "      <td>0</td>\n",
       "      <td>0</td>\n",
       "      <td>0</td>\n",
       "      <td>0</td>\n",
       "      <td>0</td>\n",
       "      <td>0</td>\n",
       "      <td>(0, 0, 0, 0, 0, 0)</td>\n",
       "      <td>Evan Blass Update made following comment Talk ...</td>\n",
       "    </tr>\n",
       "    <tr>\n",
       "      <th>2095</th>\n",
       "      <td>04baeea8d61cac54</td>\n",
       "      <td>Awful bio \\nObviously a hatchet job from a pre...</td>\n",
       "      <td>0</td>\n",
       "      <td>0</td>\n",
       "      <td>0</td>\n",
       "      <td>0</td>\n",
       "      <td>0</td>\n",
       "      <td>0</td>\n",
       "      <td>(0, 0, 0, 0, 0, 0)</td>\n",
       "      <td>Awful bio Obviously hatchet job press release ...</td>\n",
       "    </tr>\n",
       "    <tr>\n",
       "      <th>2096</th>\n",
       "      <td>04bb978332bbe669</td>\n",
       "      <td>Yes, of course. I totally  forgot  we have tho...</td>\n",
       "      <td>0</td>\n",
       "      <td>0</td>\n",
       "      <td>0</td>\n",
       "      <td>0</td>\n",
       "      <td>0</td>\n",
       "      <td>0</td>\n",
       "      <td>(0, 0, 0, 0, 0, 0)</td>\n",
       "      <td>Yes course totally forgot guideline Thanks Per...</td>\n",
       "    </tr>\n",
       "    <tr>\n",
       "      <th>2097</th>\n",
       "      <td>04bbc7a4ebe7919a</td>\n",
       "      <td>\"\\n\\n About Einstein \\n\\nMy search of any docu...</td>\n",
       "      <td>0</td>\n",
       "      <td>0</td>\n",
       "      <td>0</td>\n",
       "      <td>0</td>\n",
       "      <td>0</td>\n",
       "      <td>0</td>\n",
       "      <td>(0, 0, 0, 0, 0, 0)</td>\n",
       "      <td>Einstein search document might bear Einsteins ...</td>\n",
       "    </tr>\n",
       "    <tr>\n",
       "      <th>2098</th>\n",
       "      <td>04bd1fd9635ac8a6</td>\n",
       "      <td>Don't worry ThuranX, I don't think I will be s...</td>\n",
       "      <td>0</td>\n",
       "      <td>0</td>\n",
       "      <td>0</td>\n",
       "      <td>0</td>\n",
       "      <td>0</td>\n",
       "      <td>0</td>\n",
       "      <td>(0, 0, 0, 0, 0, 0)</td>\n",
       "      <td>Dont worry ThuranX dont think spending time ha...</td>\n",
       "    </tr>\n",
       "  </tbody>\n",
       "</table>\n",
       "<p>2099 rows × 10 columns</p>\n",
       "</div>"
      ],
      "text/plain": [
       "                    id                                       comment_text  \\\n",
       "0     0002bcb3da6cb337       COCKSUCKER BEFORE YOU PISS AROUND ON MY WORK   \n",
       "1     0005c987bdfc9d4b  Hey... what is it..\\n@ | talk .\\nWhat is it......   \n",
       "2     0007e25b2121310b  Bye! \\n\\nDon't look, come or think of comming ...   \n",
       "3     001810bf8c45bf5f  You are gay or antisemmitian? \\n\\nArchangel WH...   \n",
       "4     00190820581d90ce           FUCK YOUR FILTHY MOTHER IN THE ASS, DRY!   \n",
       "...                ...                                                ...   \n",
       "2094  04b92907a0db6e77  Evan Blass (Update) \\n\\nI have made the follow...   \n",
       "2095  04baeea8d61cac54  Awful bio \\nObviously a hatchet job from a pre...   \n",
       "2096  04bb978332bbe669  Yes, of course. I totally  forgot  we have tho...   \n",
       "2097  04bbc7a4ebe7919a  \"\\n\\n About Einstein \\n\\nMy search of any docu...   \n",
       "2098  04bd1fd9635ac8a6  Don't worry ThuranX, I don't think I will be s...   \n",
       "\n",
       "      toxic  severe_toxic  obscene  threat  insult  identity_hate  \\\n",
       "0         1             1        1       0       1              0   \n",
       "1         1             0        0       0       0              0   \n",
       "2         1             0        0       0       0              0   \n",
       "3         1             0        1       0       1              1   \n",
       "4         1             0        1       0       1              0   \n",
       "...     ...           ...      ...     ...     ...            ...   \n",
       "2094      0             0        0       0       0              0   \n",
       "2095      0             0        0       0       0              0   \n",
       "2096      0             0        0       0       0              0   \n",
       "2097      0             0        0       0       0              0   \n",
       "2098      0             0        0       0       0              0   \n",
       "\n",
       "                  labels                                               text  \n",
       "0     (1, 1, 1, 0, 1, 0)                        COCKSUCKER PISS AROUND WORK  \n",
       "1     (1, 0, 0, 0, 0, 0)  Hey talk exclusive group WP TALIBANS good dest...  \n",
       "2     (1, 0, 0, 0, 0, 0)       Bye Dont look come think comming back Tosser  \n",
       "3     (1, 0, 1, 0, 1, 1)  gay antisemmitian Archangel WHite Tiger Meow G...  \n",
       "4     (1, 0, 1, 0, 1, 0)                         FUCK FILTHY MOTHER ASS DRY  \n",
       "...                  ...                                                ...  \n",
       "2094  (0, 0, 0, 0, 0, 0)  Evan Blass Update made following comment Talk ...  \n",
       "2095  (0, 0, 0, 0, 0, 0)  Awful bio Obviously hatchet job press release ...  \n",
       "2096  (0, 0, 0, 0, 0, 0)  Yes course totally forgot guideline Thanks Per...  \n",
       "2097  (0, 0, 0, 0, 0, 0)  Einstein search document might bear Einsteins ...  \n",
       "2098  (0, 0, 0, 0, 0, 0)  Dont worry ThuranX dont think spending time ha...  \n",
       "\n",
       "[2099 rows x 10 columns]"
      ]
     },
     "execution_count": 15,
     "metadata": {},
     "output_type": "execute_result"
    }
   ],
   "source": [
    "current_dataset"
   ]
  },
  {
   "cell_type": "code",
   "execution_count": 16,
   "id": "clean-despite",
   "metadata": {
    "ExecuteTime": {
     "end_time": "2021-06-08T11:58:56.334279Z",
     "start_time": "2021-06-08T11:58:56.296232Z"
    }
   },
   "outputs": [
    {
     "data": {
      "text/html": [
       "<div>\n",
       "<style scoped>\n",
       "    .dataframe tbody tr th:only-of-type {\n",
       "        vertical-align: middle;\n",
       "    }\n",
       "\n",
       "    .dataframe tbody tr th {\n",
       "        vertical-align: top;\n",
       "    }\n",
       "\n",
       "    .dataframe thead th {\n",
       "        text-align: right;\n",
       "    }\n",
       "</style>\n",
       "<table border=\"1\" class=\"dataframe\">\n",
       "  <thead>\n",
       "    <tr style=\"text-align: right;\">\n",
       "      <th></th>\n",
       "      <th>text</th>\n",
       "      <th>labels</th>\n",
       "      <th>toxic</th>\n",
       "      <th>severe_toxic</th>\n",
       "      <th>obscene</th>\n",
       "      <th>threat</th>\n",
       "      <th>insult</th>\n",
       "      <th>identity_hate</th>\n",
       "    </tr>\n",
       "  </thead>\n",
       "  <tbody>\n",
       "    <tr>\n",
       "      <th>0</th>\n",
       "      <td>COCKSUCKER PISS AROUND WORK</td>\n",
       "      <td>(1, 1, 1, 0, 1, 0)</td>\n",
       "      <td>1</td>\n",
       "      <td>1</td>\n",
       "      <td>1</td>\n",
       "      <td>0</td>\n",
       "      <td>1</td>\n",
       "      <td>0</td>\n",
       "    </tr>\n",
       "    <tr>\n",
       "      <th>1</th>\n",
       "      <td>Hey talk exclusive group WP TALIBANS good dest...</td>\n",
       "      <td>(1, 0, 0, 0, 0, 0)</td>\n",
       "      <td>1</td>\n",
       "      <td>0</td>\n",
       "      <td>0</td>\n",
       "      <td>0</td>\n",
       "      <td>0</td>\n",
       "      <td>0</td>\n",
       "    </tr>\n",
       "    <tr>\n",
       "      <th>2</th>\n",
       "      <td>Bye Dont look come think comming back Tosser</td>\n",
       "      <td>(1, 0, 0, 0, 0, 0)</td>\n",
       "      <td>1</td>\n",
       "      <td>0</td>\n",
       "      <td>0</td>\n",
       "      <td>0</td>\n",
       "      <td>0</td>\n",
       "      <td>0</td>\n",
       "    </tr>\n",
       "    <tr>\n",
       "      <th>3</th>\n",
       "      <td>gay antisemmitian Archangel WHite Tiger Meow G...</td>\n",
       "      <td>(1, 0, 1, 0, 1, 1)</td>\n",
       "      <td>1</td>\n",
       "      <td>0</td>\n",
       "      <td>1</td>\n",
       "      <td>0</td>\n",
       "      <td>1</td>\n",
       "      <td>1</td>\n",
       "    </tr>\n",
       "    <tr>\n",
       "      <th>4</th>\n",
       "      <td>FUCK FILTHY MOTHER ASS DRY</td>\n",
       "      <td>(1, 0, 1, 0, 1, 0)</td>\n",
       "      <td>1</td>\n",
       "      <td>0</td>\n",
       "      <td>1</td>\n",
       "      <td>0</td>\n",
       "      <td>1</td>\n",
       "      <td>0</td>\n",
       "    </tr>\n",
       "    <tr>\n",
       "      <th>...</th>\n",
       "      <td>...</td>\n",
       "      <td>...</td>\n",
       "      <td>...</td>\n",
       "      <td>...</td>\n",
       "      <td>...</td>\n",
       "      <td>...</td>\n",
       "      <td>...</td>\n",
       "      <td>...</td>\n",
       "    </tr>\n",
       "    <tr>\n",
       "      <th>2094</th>\n",
       "      <td>Evan Blass Update made following comment Talk ...</td>\n",
       "      <td>(0, 0, 0, 0, 0, 0)</td>\n",
       "      <td>0</td>\n",
       "      <td>0</td>\n",
       "      <td>0</td>\n",
       "      <td>0</td>\n",
       "      <td>0</td>\n",
       "      <td>0</td>\n",
       "    </tr>\n",
       "    <tr>\n",
       "      <th>2095</th>\n",
       "      <td>Awful bio Obviously hatchet job press release ...</td>\n",
       "      <td>(0, 0, 0, 0, 0, 0)</td>\n",
       "      <td>0</td>\n",
       "      <td>0</td>\n",
       "      <td>0</td>\n",
       "      <td>0</td>\n",
       "      <td>0</td>\n",
       "      <td>0</td>\n",
       "    </tr>\n",
       "    <tr>\n",
       "      <th>2096</th>\n",
       "      <td>Yes course totally forgot guideline Thanks Per...</td>\n",
       "      <td>(0, 0, 0, 0, 0, 0)</td>\n",
       "      <td>0</td>\n",
       "      <td>0</td>\n",
       "      <td>0</td>\n",
       "      <td>0</td>\n",
       "      <td>0</td>\n",
       "      <td>0</td>\n",
       "    </tr>\n",
       "    <tr>\n",
       "      <th>2097</th>\n",
       "      <td>Einstein search document might bear Einsteins ...</td>\n",
       "      <td>(0, 0, 0, 0, 0, 0)</td>\n",
       "      <td>0</td>\n",
       "      <td>0</td>\n",
       "      <td>0</td>\n",
       "      <td>0</td>\n",
       "      <td>0</td>\n",
       "      <td>0</td>\n",
       "    </tr>\n",
       "    <tr>\n",
       "      <th>2098</th>\n",
       "      <td>Dont worry ThuranX dont think spending time ha...</td>\n",
       "      <td>(0, 0, 0, 0, 0, 0)</td>\n",
       "      <td>0</td>\n",
       "      <td>0</td>\n",
       "      <td>0</td>\n",
       "      <td>0</td>\n",
       "      <td>0</td>\n",
       "      <td>0</td>\n",
       "    </tr>\n",
       "  </tbody>\n",
       "</table>\n",
       "<p>2099 rows × 8 columns</p>\n",
       "</div>"
      ],
      "text/plain": [
       "                                                   text              labels  \\\n",
       "0                           COCKSUCKER PISS AROUND WORK  (1, 1, 1, 0, 1, 0)   \n",
       "1     Hey talk exclusive group WP TALIBANS good dest...  (1, 0, 0, 0, 0, 0)   \n",
       "2          Bye Dont look come think comming back Tosser  (1, 0, 0, 0, 0, 0)   \n",
       "3     gay antisemmitian Archangel WHite Tiger Meow G...  (1, 0, 1, 0, 1, 1)   \n",
       "4                            FUCK FILTHY MOTHER ASS DRY  (1, 0, 1, 0, 1, 0)   \n",
       "...                                                 ...                 ...   \n",
       "2094  Evan Blass Update made following comment Talk ...  (0, 0, 0, 0, 0, 0)   \n",
       "2095  Awful bio Obviously hatchet job press release ...  (0, 0, 0, 0, 0, 0)   \n",
       "2096  Yes course totally forgot guideline Thanks Per...  (0, 0, 0, 0, 0, 0)   \n",
       "2097  Einstein search document might bear Einsteins ...  (0, 0, 0, 0, 0, 0)   \n",
       "2098  Dont worry ThuranX dont think spending time ha...  (0, 0, 0, 0, 0, 0)   \n",
       "\n",
       "      toxic  severe_toxic  obscene  threat  insult  identity_hate  \n",
       "0         1             1        1       0       1              0  \n",
       "1         1             0        0       0       0              0  \n",
       "2         1             0        0       0       0              0  \n",
       "3         1             0        1       0       1              1  \n",
       "4         1             0        1       0       1              0  \n",
       "...     ...           ...      ...     ...     ...            ...  \n",
       "2094      0             0        0       0       0              0  \n",
       "2095      0             0        0       0       0              0  \n",
       "2096      0             0        0       0       0              0  \n",
       "2097      0             0        0       0       0              0  \n",
       "2098      0             0        0       0       0              0  \n",
       "\n",
       "[2099 rows x 8 columns]"
      ]
     },
     "execution_count": 16,
     "metadata": {},
     "output_type": "execute_result"
    }
   ],
   "source": [
    "current_dataset[['text', 'labels', 'toxic', 'severe_toxic', 'obscene', 'threat', 'insult', 'identity_hate']]"
   ]
  },
  {
   "cell_type": "markdown",
   "id": "political-apparatus",
   "metadata": {},
   "source": [
    "### Get TFIDF"
   ]
  },
  {
   "cell_type": "code",
   "execution_count": 17,
   "id": "split-impact",
   "metadata": {
    "ExecuteTime": {
     "end_time": "2021-06-08T11:58:56.340129Z",
     "start_time": "2021-06-08T11:58:56.336595Z"
    }
   },
   "outputs": [],
   "source": [
    "tfidf = ()"
   ]
  },
  {
   "cell_type": "code",
   "execution_count": 18,
   "id": "pending-material",
   "metadata": {
    "ExecuteTime": {
     "end_time": "2021-06-08T11:59:04.942205Z",
     "start_time": "2021-06-08T11:59:00.642733Z"
    }
   },
   "outputs": [],
   "source": [
    "Xfeatures = tfidf.(current_dataset['text']).toarray()"
   ]
  },
  {
   "cell_type": "code",
   "execution_count": 19,
   "id": "confused-place",
   "metadata": {
    "ExecuteTime": {
     "end_time": "2021-06-08T11:59:04.949719Z",
     "start_time": "2021-06-08T11:59:04.944749Z"
    }
   },
   "outputs": [
    {
     "data": {
      "text/plain": [
       "array([[0.        , 0.        , 0.        , ..., 0.        , 0.        ,\n",
       "        0.        ],\n",
       "       [0.        , 0.        , 0.        , ..., 0.        , 0.        ,\n",
       "        0.        ],\n",
       "       [0.        , 0.        , 0.        , ..., 0.        , 0.        ,\n",
       "        0.        ],\n",
       "       ...,\n",
       "       [0.        , 0.        , 0.        , ..., 0.        , 0.        ,\n",
       "        0.        ],\n",
       "       [0.        , 0.        , 0.        , ..., 0.03895882, 0.        ,\n",
       "        0.        ],\n",
       "       [0.        , 0.        , 0.        , ..., 0.        , 0.        ,\n",
       "        0.        ]])"
      ]
     },
     "execution_count": 19,
     "metadata": {},
     "output_type": "execute_result"
    }
   ],
   "source": [
    "Xfeatures"
   ]
  },
  {
   "cell_type": "code",
   "execution_count": 20,
   "id": "plastic-cigarette",
   "metadata": {
    "ExecuteTime": {
     "end_time": "2021-06-08T11:59:04.957428Z",
     "start_time": "2021-06-08T11:59:04.952560Z"
    }
   },
   "outputs": [],
   "source": [
    "y = current_dataset[['toxic', 'severe_toxic', 'obscene', 'threat', 'insult', 'identity_hate']]"
   ]
  },
  {
   "cell_type": "code",
   "execution_count": 21,
   "id": "sticky-talent",
   "metadata": {
    "ExecuteTime": {
     "end_time": "2021-06-08T11:59:09.241927Z",
     "start_time": "2021-06-08T11:59:09.232645Z"
    }
   },
   "outputs": [
    {
     "data": {
      "text/html": [
       "<div>\n",
       "<style scoped>\n",
       "    .dataframe tbody tr th:only-of-type {\n",
       "        vertical-align: middle;\n",
       "    }\n",
       "\n",
       "    .dataframe tbody tr th {\n",
       "        vertical-align: top;\n",
       "    }\n",
       "\n",
       "    .dataframe thead th {\n",
       "        text-align: right;\n",
       "    }\n",
       "</style>\n",
       "<table border=\"1\" class=\"dataframe\">\n",
       "  <thead>\n",
       "    <tr style=\"text-align: right;\">\n",
       "      <th></th>\n",
       "      <th>toxic</th>\n",
       "      <th>severe_toxic</th>\n",
       "      <th>obscene</th>\n",
       "      <th>threat</th>\n",
       "      <th>insult</th>\n",
       "      <th>identity_hate</th>\n",
       "    </tr>\n",
       "  </thead>\n",
       "  <tbody>\n",
       "    <tr>\n",
       "      <th>0</th>\n",
       "      <td>1</td>\n",
       "      <td>1</td>\n",
       "      <td>1</td>\n",
       "      <td>0</td>\n",
       "      <td>1</td>\n",
       "      <td>0</td>\n",
       "    </tr>\n",
       "    <tr>\n",
       "      <th>1</th>\n",
       "      <td>1</td>\n",
       "      <td>0</td>\n",
       "      <td>0</td>\n",
       "      <td>0</td>\n",
       "      <td>0</td>\n",
       "      <td>0</td>\n",
       "    </tr>\n",
       "    <tr>\n",
       "      <th>2</th>\n",
       "      <td>1</td>\n",
       "      <td>0</td>\n",
       "      <td>0</td>\n",
       "      <td>0</td>\n",
       "      <td>0</td>\n",
       "      <td>0</td>\n",
       "    </tr>\n",
       "    <tr>\n",
       "      <th>3</th>\n",
       "      <td>1</td>\n",
       "      <td>0</td>\n",
       "      <td>1</td>\n",
       "      <td>0</td>\n",
       "      <td>1</td>\n",
       "      <td>1</td>\n",
       "    </tr>\n",
       "    <tr>\n",
       "      <th>4</th>\n",
       "      <td>1</td>\n",
       "      <td>0</td>\n",
       "      <td>1</td>\n",
       "      <td>0</td>\n",
       "      <td>1</td>\n",
       "      <td>0</td>\n",
       "    </tr>\n",
       "    <tr>\n",
       "      <th>...</th>\n",
       "      <td>...</td>\n",
       "      <td>...</td>\n",
       "      <td>...</td>\n",
       "      <td>...</td>\n",
       "      <td>...</td>\n",
       "      <td>...</td>\n",
       "    </tr>\n",
       "    <tr>\n",
       "      <th>2094</th>\n",
       "      <td>0</td>\n",
       "      <td>0</td>\n",
       "      <td>0</td>\n",
       "      <td>0</td>\n",
       "      <td>0</td>\n",
       "      <td>0</td>\n",
       "    </tr>\n",
       "    <tr>\n",
       "      <th>2095</th>\n",
       "      <td>0</td>\n",
       "      <td>0</td>\n",
       "      <td>0</td>\n",
       "      <td>0</td>\n",
       "      <td>0</td>\n",
       "      <td>0</td>\n",
       "    </tr>\n",
       "    <tr>\n",
       "      <th>2096</th>\n",
       "      <td>0</td>\n",
       "      <td>0</td>\n",
       "      <td>0</td>\n",
       "      <td>0</td>\n",
       "      <td>0</td>\n",
       "      <td>0</td>\n",
       "    </tr>\n",
       "    <tr>\n",
       "      <th>2097</th>\n",
       "      <td>0</td>\n",
       "      <td>0</td>\n",
       "      <td>0</td>\n",
       "      <td>0</td>\n",
       "      <td>0</td>\n",
       "      <td>0</td>\n",
       "    </tr>\n",
       "    <tr>\n",
       "      <th>2098</th>\n",
       "      <td>0</td>\n",
       "      <td>0</td>\n",
       "      <td>0</td>\n",
       "      <td>0</td>\n",
       "      <td>0</td>\n",
       "      <td>0</td>\n",
       "    </tr>\n",
       "  </tbody>\n",
       "</table>\n",
       "<p>2099 rows × 6 columns</p>\n",
       "</div>"
      ],
      "text/plain": [
       "      toxic  severe_toxic  obscene  threat  insult  identity_hate\n",
       "0         1             1        1       0       1              0\n",
       "1         1             0        0       0       0              0\n",
       "2         1             0        0       0       0              0\n",
       "3         1             0        1       0       1              1\n",
       "4         1             0        1       0       1              0\n",
       "...     ...           ...      ...     ...     ...            ...\n",
       "2094      0             0        0       0       0              0\n",
       "2095      0             0        0       0       0              0\n",
       "2096      0             0        0       0       0              0\n",
       "2097      0             0        0       0       0              0\n",
       "2098      0             0        0       0       0              0\n",
       "\n",
       "[2099 rows x 6 columns]"
      ]
     },
     "execution_count": 21,
     "metadata": {},
     "output_type": "execute_result"
    }
   ],
   "source": [
    "y"
   ]
  },
  {
   "cell_type": "markdown",
   "id": "substantial-shelf",
   "metadata": {},
   "source": [
    "### Train, Test Split"
   ]
  },
  {
   "cell_type": "code",
   "execution_count": 22,
   "id": "opening-grounds",
   "metadata": {
    "ExecuteTime": {
     "end_time": "2021-06-08T12:00:06.365116Z",
     "start_time": "2021-06-08T11:59:13.617242Z"
    }
   },
   "outputs": [],
   "source": [
    "from sklearn.model_selection import train_test_split\n",
    "\n",
    "# Split Data \n",
    "X_train,X_test,y_train,y_test = train_test_split(Xfeatures,y,test_size=0.2, random_state=42)"
   ]
  },
  {
   "cell_type": "code",
   "execution_count": 23,
   "id": "placed-surgeon",
   "metadata": {
    "ExecuteTime": {
     "end_time": "2021-06-08T12:00:36.578436Z",
     "start_time": "2021-06-08T12:00:36.538012Z"
    }
   },
   "outputs": [],
   "source": [
    "import skmultilearn"
   ]
  },
  {
   "cell_type": "code",
   "execution_count": 24,
   "id": "judicial-convert",
   "metadata": {
    "ExecuteTime": {
     "end_time": "2021-06-08T12:00:37.896133Z",
     "start_time": "2021-06-08T12:00:37.880297Z"
    }
   },
   "outputs": [],
   "source": [
    "categories = ['toxic', 'severe_toxic', \n",
    "              'obscene', 'threat', \n",
    "              'insult', 'identity_hate']"
   ]
  },
  {
   "cell_type": "markdown",
   "id": "tutorial-bunny",
   "metadata": {},
   "source": [
    "### Binary Relevance"
   ]
  },
  {
   "cell_type": "code",
   "execution_count": 25,
   "id": "round-announcement",
   "metadata": {
    "ExecuteTime": {
     "end_time": "2021-06-08T12:00:39.321016Z",
     "start_time": "2021-06-08T12:00:39.303328Z"
    }
   },
   "outputs": [],
   "source": [
    "binary_rel_clf = (MultinomialNB())"
   ]
  },
  {
   "cell_type": "code",
   "execution_count": 26,
   "id": "creative-angel",
   "metadata": {
    "ExecuteTime": {
     "end_time": "2021-06-08T12:09:34.892356Z",
     "start_time": "2021-06-08T12:00:42.510961Z"
    }
   },
   "outputs": [
    {
     "data": {
      "text/html": [
       "<style>#sk-container-id-1 {color: black;background-color: white;}#sk-container-id-1 pre{padding: 0;}#sk-container-id-1 div.sk-toggleable {background-color: white;}#sk-container-id-1 label.sk-toggleable__label {cursor: pointer;display: block;width: 100%;margin-bottom: 0;padding: 0.3em;box-sizing: border-box;text-align: center;}#sk-container-id-1 label.sk-toggleable__label-arrow:before {content: \"▸\";float: left;margin-right: 0.25em;color: #696969;}#sk-container-id-1 label.sk-toggleable__label-arrow:hover:before {color: black;}#sk-container-id-1 div.sk-estimator:hover label.sk-toggleable__label-arrow:before {color: black;}#sk-container-id-1 div.sk-toggleable__content {max-height: 0;max-width: 0;overflow: hidden;text-align: left;background-color: #f0f8ff;}#sk-container-id-1 div.sk-toggleable__content pre {margin: 0.2em;color: black;border-radius: 0.25em;background-color: #f0f8ff;}#sk-container-id-1 input.sk-toggleable__control:checked~div.sk-toggleable__content {max-height: 200px;max-width: 100%;overflow: auto;}#sk-container-id-1 input.sk-toggleable__control:checked~label.sk-toggleable__label-arrow:before {content: \"▾\";}#sk-container-id-1 div.sk-estimator input.sk-toggleable__control:checked~label.sk-toggleable__label {background-color: #d4ebff;}#sk-container-id-1 div.sk-label input.sk-toggleable__control:checked~label.sk-toggleable__label {background-color: #d4ebff;}#sk-container-id-1 input.sk-hidden--visually {border: 0;clip: rect(1px 1px 1px 1px);clip: rect(1px, 1px, 1px, 1px);height: 1px;margin: -1px;overflow: hidden;padding: 0;position: absolute;width: 1px;}#sk-container-id-1 div.sk-estimator {font-family: monospace;background-color: #f0f8ff;border: 1px dotted black;border-radius: 0.25em;box-sizing: border-box;margin-bottom: 0.5em;}#sk-container-id-1 div.sk-estimator:hover {background-color: #d4ebff;}#sk-container-id-1 div.sk-parallel-item::after {content: \"\";width: 100%;border-bottom: 1px solid gray;flex-grow: 1;}#sk-container-id-1 div.sk-label:hover label.sk-toggleable__label {background-color: #d4ebff;}#sk-container-id-1 div.sk-serial::before {content: \"\";position: absolute;border-left: 1px solid gray;box-sizing: border-box;top: 0;bottom: 0;left: 50%;z-index: 0;}#sk-container-id-1 div.sk-serial {display: flex;flex-direction: column;align-items: center;background-color: white;padding-right: 0.2em;padding-left: 0.2em;position: relative;}#sk-container-id-1 div.sk-item {position: relative;z-index: 1;}#sk-container-id-1 div.sk-parallel {display: flex;align-items: stretch;justify-content: center;background-color: white;position: relative;}#sk-container-id-1 div.sk-item::before, #sk-container-id-1 div.sk-parallel-item::before {content: \"\";position: absolute;border-left: 1px solid gray;box-sizing: border-box;top: 0;bottom: 0;left: 50%;z-index: -1;}#sk-container-id-1 div.sk-parallel-item {display: flex;flex-direction: column;z-index: 1;position: relative;background-color: white;}#sk-container-id-1 div.sk-parallel-item:first-child::after {align-self: flex-end;width: 50%;}#sk-container-id-1 div.sk-parallel-item:last-child::after {align-self: flex-start;width: 50%;}#sk-container-id-1 div.sk-parallel-item:only-child::after {width: 0;}#sk-container-id-1 div.sk-dashed-wrapped {border: 1px dashed gray;margin: 0 0.4em 0.5em 0.4em;box-sizing: border-box;padding-bottom: 0.4em;background-color: white;}#sk-container-id-1 div.sk-label label {font-family: monospace;font-weight: bold;display: inline-block;line-height: 1.2em;}#sk-container-id-1 div.sk-label-container {text-align: center;}#sk-container-id-1 div.sk-container {/* jupyter's `normalize.less` sets `[hidden] { display: none; }` but bootstrap.min.css set `[hidden] { display: none !important; }` so we also need the `!important` here to be able to override the default hidden behavior on the sphinx rendered scikit-learn.org. See: https://github.com/scikit-learn/scikit-learn/issues/21755 */display: inline-block !important;position: relative;}#sk-container-id-1 div.sk-text-repr-fallback {display: none;}</style><div id=\"sk-container-id-1\" class=\"sk-top-container\"><div class=\"sk-text-repr-fallback\"><pre>BinaryRelevance(classifier=MultinomialNB(), require_dense=[True, True])</pre><b>In a Jupyter environment, please rerun this cell to show the HTML representation or trust the notebook. <br />On GitHub, the HTML representation is unable to render, please try loading this page with nbviewer.org.</b></div><div class=\"sk-container\" hidden><div class=\"sk-item sk-dashed-wrapped\"><div class=\"sk-label-container\"><div class=\"sk-label sk-toggleable\"><input class=\"sk-toggleable__control sk-hidden--visually\" id=\"sk-estimator-id-1\" type=\"checkbox\" ><label for=\"sk-estimator-id-1\" class=\"sk-toggleable__label sk-toggleable__label-arrow\">BinaryRelevance</label><div class=\"sk-toggleable__content\"><pre>BinaryRelevance(classifier=MultinomialNB(), require_dense=[True, True])</pre></div></div></div><div class=\"sk-parallel\"><div class=\"sk-parallel-item\"><div class=\"sk-item\"><div class=\"sk-label-container\"><div class=\"sk-label sk-toggleable\"><input class=\"sk-toggleable__control sk-hidden--visually\" id=\"sk-estimator-id-2\" type=\"checkbox\" ><label for=\"sk-estimator-id-2\" class=\"sk-toggleable__label sk-toggleable__label-arrow\">classifier: MultinomialNB</label><div class=\"sk-toggleable__content\"><pre>MultinomialNB()</pre></div></div></div><div class=\"sk-serial\"><div class=\"sk-item\"><div class=\"sk-estimator sk-toggleable\"><input class=\"sk-toggleable__control sk-hidden--visually\" id=\"sk-estimator-id-3\" type=\"checkbox\" ><label for=\"sk-estimator-id-3\" class=\"sk-toggleable__label sk-toggleable__label-arrow\">MultinomialNB</label><div class=\"sk-toggleable__content\"><pre>MultinomialNB()</pre></div></div></div></div></div></div></div></div></div></div>"
      ],
      "text/plain": [
       "BinaryRelevance(classifier=MultinomialNB(), require_dense=[True, True])"
      ]
     },
     "execution_count": 26,
     "metadata": {},
     "output_type": "execute_result"
    }
   ],
   "source": [
    "binary_rel_clf.(X_train,y_train)"
   ]
  },
  {
   "cell_type": "code",
   "execution_count": 27,
   "id": "checked-outreach",
   "metadata": {
    "ExecuteTime": {
     "end_time": "2021-06-08T12:09:47.825437Z",
     "start_time": "2021-06-08T12:09:34.916382Z"
    }
   },
   "outputs": [],
   "source": [
    "br_prediction = binary_rel_clf.predict(X_test)"
   ]
  },
  {
   "cell_type": "code",
   "execution_count": 28,
   "id": "abstract-irish",
   "metadata": {
    "ExecuteTime": {
     "end_time": "2021-06-08T12:09:47.888099Z",
     "start_time": "2021-06-08T12:09:47.841117Z"
    }
   },
   "outputs": [
    {
     "data": {
      "text/plain": [
       "0.7285714285714285"
      ]
     },
     "execution_count": 28,
     "metadata": {},
     "output_type": "execute_result"
    }
   ],
   "source": [
    "accuracy_score(y_test,br_prediction)"
   ]
  },
  {
   "cell_type": "code",
   "execution_count": 29,
   "id": "approved-sociology",
   "metadata": {
    "ExecuteTime": {
     "end_time": "2021-06-08T12:09:47.911280Z",
     "start_time": "2021-06-08T12:09:47.892170Z"
    }
   },
   "outputs": [
    {
     "data": {
      "text/plain": [
       "0.09047619047619047"
      ]
     },
     "execution_count": 29,
     "metadata": {},
     "output_type": "execute_result"
    }
   ],
   "source": [
    "(y_test,br_prediction)"
   ]
  },
  {
   "cell_type": "markdown",
   "id": "e75a67eb",
   "metadata": {},
   "source": [
    "Hamming Loss: https://scikit-learn.org/stable/modules/generated/sklearn.metrics.hamming_loss.html\n",
    "the fraction of labels that are incorrectly predicted."
   ]
  },
  {
   "cell_type": "code",
   "execution_count": 30,
   "id": "dd340116",
   "metadata": {},
   "outputs": [
    {
     "data": {
      "text/plain": [
       "0.25"
      ]
     },
     "execution_count": 30,
     "metadata": {},
     "output_type": "execute_result"
    }
   ],
   "source": [
    "from sklearn.metrics import \n",
    "y_pred = [1, 2, 3, 4]\n",
    "y_true = [2, 2, 3, 4]\n",
    "hamming_loss(y_true, y_pred)"
   ]
  },
  {
   "cell_type": "markdown",
   "id": "sweet-current",
   "metadata": {},
   "source": [
    "### Classifier Chains"
   ]
  },
  {
   "cell_type": "code",
   "execution_count": 31,
   "id": "defined-person",
   "metadata": {
    "ExecuteTime": {
     "end_time": "2021-06-08T12:13:36.076112Z",
     "start_time": "2021-06-08T12:13:36.043621Z"
    }
   },
   "outputs": [],
   "source": [
    "def build_model(model, mlb_estimator,xtrain,ytrain,xtest,ytest):\n",
    "    # Create an Instance\n",
    "    clf = mlb_estimator(model)\n",
    "    clf.fit(xtrain,ytrain)\n",
    "    # Predict\n",
    "    clf_predictions = clf.predict(xtest)\n",
    "    # Check For Accuracy\n",
    "    acc = accuracy_score(ytest,clf_predictions)\n",
    "    ham = hamming_loss(ytest,clf_predictions)\n",
    "    result = {\"accuracy:\":acc,\"hamming_score\":ham}\n",
    "    return result"
   ]
  },
  {
   "cell_type": "code",
   "execution_count": 32,
   "id": "documented-porcelain",
   "metadata": {
    "ExecuteTime": {
     "end_time": "2021-06-08T12:23:00.142801Z",
     "start_time": "2021-06-08T12:13:37.456672Z"
    }
   },
   "outputs": [],
   "source": [
    "clf_chain_model = build_model(,,X_train,y_train,X_test,y_test)"
   ]
  },
  {
   "cell_type": "code",
   "execution_count": 33,
   "id": "undefined-contract",
   "metadata": {
    "ExecuteTime": {
     "end_time": "2021-06-08T12:23:00.247758Z",
     "start_time": "2021-06-08T12:23:00.172684Z"
    }
   },
   "outputs": [
    {
     "data": {
      "text/plain": [
       "{'accuracy:': 0.7380952380952381, 'hamming_score': 0.08611111111111111}"
      ]
     },
     "execution_count": 33,
     "metadata": {},
     "output_type": "execute_result"
    }
   ],
   "source": [
    "clf_chain_model"
   ]
  },
  {
   "cell_type": "markdown",
   "id": "secret-latin",
   "metadata": {},
   "source": [
    "### Label Powerset"
   ]
  },
  {
   "cell_type": "code",
   "execution_count": 34,
   "id": "corresponding-jason",
   "metadata": {
    "ExecuteTime": {
     "end_time": "2021-06-08T12:28:42.514698Z",
     "start_time": "2021-06-08T12:25:44.050862Z"
    }
   },
   "outputs": [],
   "source": [
    "clf_labelP_model = build_model(,,X_train,y_train,X_test,y_test)"
   ]
  },
  {
   "cell_type": "code",
   "execution_count": 35,
   "id": "miniature-industry",
   "metadata": {
    "ExecuteTime": {
     "end_time": "2021-06-08T12:28:42.550544Z",
     "start_time": "2021-06-08T12:28:42.530809Z"
    }
   },
   "outputs": [
    {
     "data": {
      "text/plain": [
       "{'accuracy:': 0.7261904761904762, 'hamming_score': 0.10119047619047619}"
      ]
     },
     "execution_count": 35,
     "metadata": {},
     "output_type": "execute_result"
    }
   ],
   "source": [
    "clf_labelP_model"
   ]
  }
 ],
 "metadata": {
  "kernelspec": {
   "display_name": "Python 3 (ipykernel)",
   "language": "python",
   "name": "python3"
  },
  "language_info": {
   "codemirror_mode": {
    "name": "ipython",
    "version": 3
   },
   "file_extension": ".py",
   "mimetype": "text/x-python",
   "name": "python",
   "nbconvert_exporter": "python",
   "pygments_lexer": "ipython3",
   "version": "3.9.12"
  }
 },
 "nbformat": 4,
 "nbformat_minor": 5
}
