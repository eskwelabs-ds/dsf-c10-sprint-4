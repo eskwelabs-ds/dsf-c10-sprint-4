{
 "cells": [
  {
   "cell_type": "code",
   "execution_count": null,
   "id": "6b24d7a2",
   "metadata": {},
   "outputs": [],
   "source": [
    "!pip install pyLDAvis\n",
    "!pip install gensim"
   ]
  },
  {
   "cell_type": "code",
   "execution_count": 1,
   "id": "0cee98fc",
   "metadata": {},
   "outputs": [],
   "source": [
    "import re\n",
    "import numpy as np\n",
    "import pandas as  pd\n",
    "from pprint import pprint# Gensim\n",
    "import gensim\n",
    "import gensim.corpora as \n",
    "from gensim.utils import \n",
    "from gensim.models import \n",
    "import spacy\n",
    "import pyLDAvis\n",
    "import pyLDAvis.gensim_models as \n",
    "import matplotlib.pyplot as plt"
   ]
  },
  {
   "cell_type": "code",
   "execution_count": 2,
   "id": "fab4fcfa",
   "metadata": {},
   "outputs": [],
   "source": [
    "# NLTK Stop words\n",
    "from nltk.corpus import stopwords\n",
    "stop_words = stopwords.words('english')\n",
    "stop_words.extend(['from', 'subject', 're', 'edu', 'use'])"
   ]
  },
  {
   "cell_type": "code",
   "execution_count": 3,
   "id": "644ceaa7",
   "metadata": {},
   "outputs": [
    {
     "name": "stdout",
     "output_type": "stream",
     "text": [
      "['rec.autos' 'comp.sys.mac.hardware' 'comp.graphics' 'sci.space'\n",
      " 'talk.politics.guns' 'sci.med' 'comp.sys.ibm.pc.hardware'\n",
      " 'comp.os.ms-windows.misc' 'rec.motorcycles' 'talk.religion.misc'\n",
      " 'misc.forsale' 'alt.atheism' 'sci.electronics' 'comp.windows.x'\n",
      " 'rec.sport.hockey' 'rec.sport.baseball' 'soc.religion.christian'\n",
      " 'talk.politics.mideast' 'talk.politics.misc' 'sci.crypt']\n"
     ]
    },
    {
     "data": {
      "text/html": [
       "<div>\n",
       "<style scoped>\n",
       "    .dataframe tbody tr th:only-of-type {\n",
       "        vertical-align: middle;\n",
       "    }\n",
       "\n",
       "    .dataframe tbody tr th {\n",
       "        vertical-align: top;\n",
       "    }\n",
       "\n",
       "    .dataframe thead th {\n",
       "        text-align: right;\n",
       "    }\n",
       "</style>\n",
       "<table border=\"1\" class=\"dataframe\">\n",
       "  <thead>\n",
       "    <tr style=\"text-align: right;\">\n",
       "      <th></th>\n",
       "      <th>content</th>\n",
       "      <th>target</th>\n",
       "      <th>target_names</th>\n",
       "    </tr>\n",
       "  </thead>\n",
       "  <tbody>\n",
       "    <tr>\n",
       "      <th>0</th>\n",
       "      <td>From: lerxst@wam.umd.edu (where's my thing)\\nS...</td>\n",
       "      <td>7</td>\n",
       "      <td>rec.autos</td>\n",
       "    </tr>\n",
       "    <tr>\n",
       "      <th>1</th>\n",
       "      <td>From: guykuo@carson.u.washington.edu (Guy Kuo)...</td>\n",
       "      <td>4</td>\n",
       "      <td>comp.sys.mac.hardware</td>\n",
       "    </tr>\n",
       "    <tr>\n",
       "      <th>2</th>\n",
       "      <td>From: twillis@ec.ecn.purdue.edu (Thomas E Will...</td>\n",
       "      <td>4</td>\n",
       "      <td>comp.sys.mac.hardware</td>\n",
       "    </tr>\n",
       "    <tr>\n",
       "      <th>3</th>\n",
       "      <td>From: jgreen@amber (Joe Green)\\nSubject: Re: W...</td>\n",
       "      <td>1</td>\n",
       "      <td>comp.graphics</td>\n",
       "    </tr>\n",
       "    <tr>\n",
       "      <th>4</th>\n",
       "      <td>From: jcm@head-cfa.harvard.edu (Jonathan McDow...</td>\n",
       "      <td>14</td>\n",
       "      <td>sci.space</td>\n",
       "    </tr>\n",
       "  </tbody>\n",
       "</table>\n",
       "</div>"
      ],
      "text/plain": [
       "                                             content  target  \\\n",
       "0  From: lerxst@wam.umd.edu (where's my thing)\\nS...       7   \n",
       "1  From: guykuo@carson.u.washington.edu (Guy Kuo)...       4   \n",
       "2  From: twillis@ec.ecn.purdue.edu (Thomas E Will...       4   \n",
       "3  From: jgreen@amber (Joe Green)\\nSubject: Re: W...       1   \n",
       "4  From: jcm@head-cfa.harvard.edu (Jonathan McDow...      14   \n",
       "\n",
       "            target_names  \n",
       "0              rec.autos  \n",
       "1  comp.sys.mac.hardware  \n",
       "2  comp.sys.mac.hardware  \n",
       "3          comp.graphics  \n",
       "4              sci.space  "
      ]
     },
     "execution_count": 3,
     "metadata": {},
     "output_type": "execute_result"
    }
   ],
   "source": [
    "# LoadDataset\n",
    "df=pd.read_json('newsgroups.json')\n",
    "print(df.target_names.unique())\n",
    "df.head()"
   ]
  },
  {
   "cell_type": "code",
   "execution_count": 4,
   "id": "14cc9dd2",
   "metadata": {},
   "outputs": [
    {
     "data": {
      "text/plain": [
       "(11314, 3)"
      ]
     },
     "execution_count": 4,
     "metadata": {},
     "output_type": "execute_result"
    }
   ],
   "source": [
    "df.shape"
   ]
  },
  {
   "cell_type": "markdown",
   "id": "ef3935f1",
   "metadata": {},
   "source": [
    "### Initial Data Cleaning"
   ]
  },
  {
   "cell_type": "code",
   "execution_count": 5,
   "id": "c4eb680d",
   "metadata": {},
   "outputs": [
    {
     "name": "stderr",
     "output_type": "stream",
     "text": [
      "<>:5: DeprecationWarning: invalid escape sequence \\S\n",
      "<>:5: DeprecationWarning: invalid escape sequence \\S\n",
      "C:\\Users\\rheyannmagcalas\\AppData\\Local\\Temp\\ipykernel_1612\\3221428114.py:5: DeprecationWarning: invalid escape sequence \\S\n",
      "  data = [re.sub('\\S*@\\S*\\s?', '', sent) for sent in data]\n"
     ]
    }
   ],
   "source": [
    "# Convert to list \n",
    "data = df.content.values.tolist()\n",
    "\n",
    "# Remove Emails \n",
    "data = [re.sub('\\S*@\\S*\\s?', '', sent) for sent in data]  "
   ]
  },
  {
   "cell_type": "code",
   "execution_count": 6,
   "id": "5792afd4",
   "metadata": {},
   "outputs": [
    {
     "name": "stderr",
     "output_type": "stream",
     "text": [
      "<>:2: DeprecationWarning: invalid escape sequence \\s\n",
      "<>:2: DeprecationWarning: invalid escape sequence \\s\n",
      "C:\\Users\\rheyannmagcalas\\AppData\\Local\\Temp\\ipykernel_1612\\1119172684.py:2: DeprecationWarning: invalid escape sequence \\s\n",
      "  data = [re.sub('\\s+', ' ', sent) for sent in data]\n"
     ]
    }
   ],
   "source": [
    "# Remove new line characters \n",
    "data = [re.sub('\\s+', ' ', sent) for sent in data]  "
   ]
  },
  {
   "cell_type": "code",
   "execution_count": 7,
   "id": "00c3910d",
   "metadata": {},
   "outputs": [
    {
     "name": "stdout",
     "output_type": "stream",
     "text": [
      "['From: (wheres my thing) Subject: WHAT car is this!? Nntp-Posting-Host: '\n",
      " 'rac3.wam.umd.edu Organization: University of Maryland, College Park Lines: '\n",
      " '15 I was wondering if anyone out there could enlighten me on this car I saw '\n",
      " 'the other day. It was a 2-door sports car, looked to be from the late 60s/ '\n",
      " 'early 70s. It was called a Bricklin. The doors were really small. In '\n",
      " 'addition, the front bumper was separate from the rest of the body. This is '\n",
      " 'all I know. If anyone can tellme a model name, engine specs, years of '\n",
      " 'production, where this car is made, history, or whatever info you have on '\n",
      " 'this funky looking car, please e-mail. Thanks, - IL ---- brought to you by '\n",
      " 'your neighborhood Lerxst ---- ']\n"
     ]
    }
   ],
   "source": [
    "# Remove distracting single quotes \n",
    "data = [re.sub(\"\\'\", \"\", sent) for sent in data]  \n",
    "pprint(data[:1])"
   ]
  },
  {
   "cell_type": "markdown",
   "id": "157d4434",
   "metadata": {},
   "source": [
    "### Tokenization"
   ]
  },
  {
   "cell_type": "code",
   "execution_count": 9,
   "id": "ada6bdec",
   "metadata": {},
   "outputs": [
    {
     "name": "stdout",
     "output_type": "stream",
     "text": [
      "[['from', 'wheres', 'my', 'thing', 'subject', 'what', 'car', 'is', 'this', 'nntp', 'posting', 'host', 'rac', 'wam', 'umd', 'edu', 'organization', 'university', 'of', 'maryland', 'college', 'park', 'lines', 'was', 'wondering', 'if', 'anyone', 'out', 'there', 'could', 'enlighten', 'me', 'on', 'this', 'car', 'saw', 'the', 'other', 'day', 'it', 'was', 'door', 'sports', 'car', 'looked', 'to', 'be', 'from', 'the', 'late', 'early', 'it', 'was', 'called', 'bricklin', 'the', 'doors', 'were', 'really', 'small', 'in', 'addition', 'the', 'front', 'bumper', 'was', 'separate', 'from', 'the', 'rest', 'of', 'the', 'body', 'this', 'is', 'all', 'know', 'if', 'anyone', 'can', 'tellme', 'model', 'name', 'engine', 'specs', 'years', 'of', 'production', 'where', 'this', 'car', 'is', 'made', 'history', 'or', 'whatever', 'info', 'you', 'have', 'on', 'this', 'funky', 'looking', 'car', 'please', 'mail', 'thanks', 'il', 'brought', 'to', 'you', 'by', 'your', 'neighborhood', 'lerxst']]\n"
     ]
    }
   ],
   "source": [
    "def sent_to_words(sentences):\n",
    "    for sentence in sentences:\n",
    "        yield(gensim.utils.simple_preprocess(str(sentence), deacc=True))            #deacc=True removes punctuations\n",
    "\n",
    "data_words = list(sent_to_words(data))\n",
    "print(data_words[:1])"
   ]
  },
  {
   "cell_type": "markdown",
   "id": "beb0d83c",
   "metadata": {},
   "source": [
    "### Build the bigram and trigram models"
   ]
  },
  {
   "cell_type": "code",
   "execution_count": 10,
   "id": "3751fd71",
   "metadata": {},
   "outputs": [],
   "source": [
    "bigram = gensim.models.(data_words, min_count=5, threshold=100) # higher threshold fewer phrases.\n",
    "trigram = gensim.models.(bigram[data_words], threshold=100)"
   ]
  },
  {
   "cell_type": "code",
   "execution_count": 11,
   "id": "fb776e78",
   "metadata": {},
   "outputs": [
    {
     "name": "stdout",
     "output_type": "stream",
     "text": [
      "['from', 'wheres', 'my', 'thing', 'subject', 'what', 'car', 'is', 'this', 'nntp_posting_host', 'rac_wam_umd_edu', 'organization', 'university', 'of', 'maryland_college_park', 'lines', 'was', 'wondering', 'if', 'anyone', 'out', 'there', 'could', 'enlighten', 'me', 'on', 'this', 'car', 'saw', 'the', 'other', 'day', 'it', 'was', 'door', 'sports', 'car', 'looked', 'to', 'be', 'from', 'the', 'late', 'early', 'it', 'was', 'called', 'bricklin', 'the', 'doors', 'were', 'really', 'small', 'in', 'addition', 'the', 'front_bumper', 'was', 'separate', 'from', 'the', 'rest', 'of', 'the', 'body', 'this', 'is', 'all', 'know', 'if', 'anyone', 'can', 'tellme', 'model', 'name', 'engine', 'specs', 'years', 'of', 'production', 'where', 'this', 'car', 'is', 'made', 'history', 'or', 'whatever', 'info', 'you', 'have', 'on', 'this', 'funky', 'looking', 'car', 'please', 'mail', 'thanks', 'il', 'brought', 'to', 'you', 'by', 'your', 'neighborhood', 'lerxst']\n"
     ]
    }
   ],
   "source": [
    "# Faster way to get a sentence clubbed as a trigram/bigram\n",
    "bigram_mod = gensim.models.phrases.(bigram)\n",
    "trigram_mod = gensim.models.phrases.(trigram)\n",
    "\n",
    "# See trigram example\n",
    "print(trigram_mod[bigram_mod[data_words[0]]])"
   ]
  },
  {
   "cell_type": "markdown",
   "id": "3574af38",
   "metadata": {},
   "source": [
    "### Define function for stopwords, bigrams, trigrams and lemmatization"
   ]
  },
  {
   "cell_type": "code",
   "execution_count": 12,
   "id": "45925a06",
   "metadata": {},
   "outputs": [],
   "source": [
    "def remove_stopwords(texts):\n",
    "    return [[word for word in (str(doc)) if word not in stop_words] for doc in texts]\n",
    "\n",
    "def make_bigrams(texts):\n",
    "    return [[doc] for doc in texts]\n",
    "\n",
    "def make_trigrams(texts):\n",
    "    return [[bigram_mod[doc]] for doc in texts]\n",
    "\n",
    "def lemmatization(texts, allowed_postags=['NOUN', 'ADJ', 'VERB', 'ADV']):\n",
    "    \"\"\"https://spacy.io/api/annotation\"\"\"\n",
    "    texts_out = []\n",
    "    for sent in texts:\n",
    "        doc = nlp(\" \".join(sent)) \n",
    "        texts_out.append([token. for token in doc if token. in allowed_postags])\n",
    "    return texts_out"
   ]
  },
  {
   "cell_type": "code",
   "execution_count": 13,
   "id": "662ee652",
   "metadata": {},
   "outputs": [],
   "source": [
    "# Remove Stop Words\n",
    "data_words_nostops = remove_stopwords(data_words)"
   ]
  },
  {
   "cell_type": "code",
   "execution_count": 14,
   "id": "41c9cb38",
   "metadata": {},
   "outputs": [],
   "source": [
    "# Form Bigrams\n",
    "data_words_bigrams = make_bigrams(data_words_nostops)"
   ]
  },
  {
   "cell_type": "code",
   "execution_count": 15,
   "id": "6694b4b9",
   "metadata": {},
   "outputs": [],
   "source": [
    "# Initialize spacy 'en' model, keeping only tagger component (for efficiency)\n",
    "# python3 -m spacy download en\n",
    "nlp = spacy.load('', disable=['parser', 'ner'])"
   ]
  },
  {
   "cell_type": "code",
   "execution_count": 16,
   "id": "6fbdc302",
   "metadata": {},
   "outputs": [
    {
     "name": "stdout",
     "output_type": "stream",
     "text": [
      "[['s', 'thing', 'car', 'nntp_poste', 'host', 'umd', 'organization', 'park', 'line', 'wonder', 'enlighten', 'car', 'see', 'day', 'door', 'sport', 'car', 'look', 'late', 'early', 'call', 'bricklin', 'door', 'really', 'small', 'addition', 'separate', 'rest', 'body', 'know', 'tellme', 'model', 'name', 'engine', 'spec', 'year', 'production', 'car', 'make', 'history', 'info', 'funky', 'look', 'car', 'mail', 'thank', 'bring', 'neighborhood', 'lerxst']]\n"
     ]
    }
   ],
   "source": [
    "# Do lemmatization keeping only noun, adj, vb, adv\n",
    "data_lemmatized = lemmatization(data_words_bigrams, allowed_postags=['NOUN', 'ADJ', 'VERB', 'ADV'])\n",
    "print(data_lemmatized[:1])"
   ]
  },
  {
   "cell_type": "code",
   "execution_count": 17,
   "id": "5b4694a8",
   "metadata": {},
   "outputs": [],
   "source": [
    "# Create Dictionary \n",
    "id2word = corpora.Dictionary(data_lemmatized)  "
   ]
  },
  {
   "cell_type": "code",
   "execution_count": 18,
   "id": "93dba04a",
   "metadata": {},
   "outputs": [],
   "source": [
    "# Create Corpus \n",
    "texts = data_lemmatized "
   ]
  },
  {
   "cell_type": "code",
   "execution_count": 19,
   "id": "813f76d2",
   "metadata": {},
   "outputs": [],
   "source": [
    "# Term Document Frequency \n",
    "corpus = [id2word.doc2bow(text) for text in texts]  "
   ]
  },
  {
   "cell_type": "code",
   "execution_count": 20,
   "id": "0f2578e2",
   "metadata": {},
   "outputs": [
    {
     "name": "stdout",
     "output_type": "stream",
     "text": [
      "[[(0, 1), (1, 1), (2, 1), (3, 1), (4, 1), (5, 5), (6, 1), (7, 2), (8, 1), (9, 1), (10, 1), (11, 1), (12, 1), (13, 1), (14, 1), (15, 1), (16, 1), (17, 1), (18, 1), (19, 2), (20, 1), (21, 1), (22, 1), (23, 1), (24, 1), (25, 1), (26, 1), (27, 1), (28, 1), (29, 1), (30, 1), (31, 1), (32, 1), (33, 1), (34, 1), (35, 1), (36, 1), (37, 1), (38, 1), (39, 1), (40, 1), (41, 1), (42, 1)]]\n"
     ]
    }
   ],
   "source": [
    "# View \n",
    "print(corpus[:1])"
   ]
  },
  {
   "cell_type": "code",
   "execution_count": 21,
   "id": "915256db",
   "metadata": {},
   "outputs": [
    {
     "data": {
      "text/plain": [
       "[[('addition', 1),\n",
       "  ('body', 1),\n",
       "  ('bricklin', 1),\n",
       "  ('bring', 1),\n",
       "  ('call', 1),\n",
       "  ('car', 5),\n",
       "  ('day', 1),\n",
       "  ('door', 2),\n",
       "  ('early', 1),\n",
       "  ('engine', 1),\n",
       "  ('enlighten', 1),\n",
       "  ('funky', 1),\n",
       "  ('history', 1),\n",
       "  ('host', 1),\n",
       "  ('info', 1),\n",
       "  ('know', 1),\n",
       "  ('late', 1),\n",
       "  ('lerxst', 1),\n",
       "  ('line', 1),\n",
       "  ('look', 2),\n",
       "  ('mail', 1),\n",
       "  ('make', 1),\n",
       "  ('model', 1),\n",
       "  ('name', 1),\n",
       "  ('neighborhood', 1),\n",
       "  ('nntp_poste', 1),\n",
       "  ('organization', 1),\n",
       "  ('park', 1),\n",
       "  ('production', 1),\n",
       "  ('really', 1),\n",
       "  ('rest', 1),\n",
       "  ('s', 1),\n",
       "  ('see', 1),\n",
       "  ('separate', 1),\n",
       "  ('small', 1),\n",
       "  ('spec', 1),\n",
       "  ('sport', 1),\n",
       "  ('tellme', 1),\n",
       "  ('thank', 1),\n",
       "  ('thing', 1),\n",
       "  ('umd', 1),\n",
       "  ('wonder', 1),\n",
       "  ('year', 1)]]"
      ]
     },
     "execution_count": 21,
     "metadata": {},
     "output_type": "execute_result"
    }
   ],
   "source": [
    "[[(id2word[id], freq) for id, freq in cp] for cp in corpus[:1]]"
   ]
  },
  {
   "cell_type": "code",
   "execution_count": 22,
   "id": "f7de87e1",
   "metadata": {},
   "outputs": [],
   "source": [
    "lda_model = gensim.models.ldamodel.LdaModel(corpus=corpus,\n",
    "                                           id2word=id2word,\n",
    "                                           num_topics=8, \n",
    "                                           random_state=100,\n",
    "                                           update_every=1,\n",
    "                                           chunksize=100,\n",
    "                                           passes=10,\n",
    "                                           alpha='auto',\n",
    "                                           per_word_topics=True)"
   ]
  },
  {
   "cell_type": "code",
   "execution_count": 23,
   "id": "6b4f9cce",
   "metadata": {},
   "outputs": [
    {
     "name": "stdout",
     "output_type": "stream",
     "text": [
      "[(0,\n",
      "  '0.032*\"sale\" + 0.030*\"physical\" + 0.019*\"server\" + 0.016*\"item\" + '\n",
      "  '0.014*\"sell\" + 0.014*\"wing\" + 0.012*\"box\" + 0.012*\"direct\" + 0.012*\"nhl\" + '\n",
      "  '0.011*\"recommend\"'),\n",
      " (1,\n",
      "  '0.022*\"line\" + 0.011*\"organization\" + 0.011*\"use\" + 0.010*\"nntp_poste\" + '\n",
      "  '0.010*\"host\" + 0.010*\"get\" + 0.009*\"system\" + 0.008*\"drive\" + 0.008*\"need\" '\n",
      "  '+ 0.007*\"thank\"'),\n",
      " (2,\n",
      "  '0.015*\"write\" + 0.014*\"say\" + 0.011*\"people\" + 0.011*\"think\" + '\n",
      "  '0.011*\"article\" + 0.010*\"know\" + 0.010*\"make\" + 0.009*\"line\" + 0.008*\"go\" + '\n",
      "  '0.007*\"see\"'),\n",
      " (3,\n",
      "  '0.014*\"line\" + 0.014*\"go\" + 0.014*\"get\" + 0.014*\"year\" + 0.013*\"team\" + '\n",
      "  '0.013*\"game\" + 0.012*\"car\" + 0.009*\"good\" + 0.009*\"organization\" + '\n",
      "  '0.009*\"write\"'),\n",
      " (4,\n",
      "  '0.575*\"ax\" + 0.057*\"_\" + 0.018*\"c\" + 0.010*\"cx\" + 0.008*\"rlk\" + 0.005*\"sj\" '\n",
      "  '+ 0.005*\"m\" + 0.003*\"mf\" + 0.003*\"nei\" + 0.003*\"mu\"'),\n",
      " (5,\n",
      "  '0.015*\"government\" + 0.014*\"gun\" + 0.014*\"child\" + 0.013*\"kill\" + '\n",
      "  '0.013*\"law\" + 0.011*\"state\" + 0.011*\"people\" + 0.009*\"death\" + '\n",
      "  '0.008*\"right\" + 0.008*\"public\"'),\n",
      " (6,\n",
      "  '0.018*\"space\" + 0.009*\"israeli\" + 0.008*\"greek\" + 0.008*\"lebanese\" + '\n",
      "  '0.008*\"armenian\" + 0.008*\"village\" + 0.008*\"government\" + 0.007*\"first\" + '\n",
      "  '0.007*\"launch\" + 0.006*\"soldier\"'),\n",
      " (7,\n",
      "  '0.008*\"test\" + 0.007*\"high\" + 0.006*\"research\" + 0.006*\"year\" + '\n",
      "  '0.005*\"power\" + 0.005*\"report\" + 0.005*\"increase\" + 0.005*\"wire\" + '\n",
      "  '0.005*\"effect\" + 0.005*\"low\"')]\n"
     ]
    }
   ],
   "source": [
    "# Print the keyword of topics\n",
    "pprint(lda_model.print_topics())\n",
    "doc_lda = lda_model[corpus]"
   ]
  },
  {
   "cell_type": "code",
   "execution_count": 24,
   "id": "a056cfe3",
   "metadata": {},
   "outputs": [
    {
     "name": "stdout",
     "output_type": "stream",
     "text": [
      "\n",
      "Perplexity:  -8.341446026603764\n",
      "\n",
      "Coherence Score:  0.46851123719778365\n"
     ]
    }
   ],
   "source": [
    "# Compute Perplexity\n",
    "print('\\nPerplexity: ', lda_model.log_perplexity(corpus))  \n",
    "# a measure of how good the model is. lower the better.\n",
    "\n",
    "# Compute Coherence Score\n",
    "coherence_model_lda = CoherenceModel(model=lda_model, texts=data_lemmatized, dictionary=id2word, coherence='c_v')\n",
    "coherence_lda = coherence_model_lda.get_coherence()\n",
    "print('\\nCoherence Score: ', coherence_lda)"
   ]
  },
  {
   "cell_type": "markdown",
   "id": "2e87c1e4",
   "metadata": {},
   "source": [
    "### Visualize the topics"
   ]
  },
  {
   "cell_type": "code",
   "execution_count": 25,
   "id": "907d7251",
   "metadata": {},
   "outputs": [
    {
     "name": "stderr",
     "output_type": "stream",
     "text": [
      "C:\\Users\\rheyannmagcalas\\anaconda3\\lib\\site-packages\\pyLDAvis\\_prepare.py:246: FutureWarning: In a future version of pandas all arguments of DataFrame.drop except for the argument 'labels' will be keyword-only.\n",
      "  default_term_info = default_term_info.sort_values(\n"
     ]
    }
   ],
   "source": [
    "vis = gensimvis.prepare(lda_model, corpus, id2word)"
   ]
  },
  {
   "cell_type": "code",
   "execution_count": 27,
   "id": "2631cc1f",
   "metadata": {},
   "outputs": [
    {
     "data": {
      "text/html": [
       "\n",
       "<link rel=\"stylesheet\" type=\"text/css\" href=\"https://cdn.jsdelivr.net/gh/bmabey/pyLDAvis@3.3.1/pyLDAvis/js/ldavis.v1.0.0.css\">\n",
       "\n",
       "\n",
       "<div id=\"ldavis_el161217073903369129845235341\"></div>\n",
       "<script type=\"text/javascript\">\n",
       "\n",
       "var ldavis_el161217073903369129845235341_data = {\"mdsDat\": {\"x\": [0.2588254855676673, 0.23734357756300337, 0.189015026443558, 0.020538386629495947, -0.06310568544552694, -0.2636911135880866, -0.13245574463596743, -0.24646993253414456], \"y\": [-0.019465827202463152, -0.10329800854183106, -0.07703042334915874, 0.07586075873138662, 0.2586671203271546, -0.19059986534803597, 0.19638297938098223, -0.1405167339980344], \"topics\": [1, 2, 3, 4, 5, 6, 7, 8], \"cluster\": [1, 1, 1, 1, 1, 1, 1, 1], \"Freq\": [35.007329855434016, 26.704876171915636, 11.164246844149536, 9.46235289750335, 6.735145011697225, 4.559648750419625, 4.2798659363619445, 2.08653453251867]}, \"tinfo\": {\"Term\": [\"ax\", \"_\", \"people\", \"line\", \"go\", \"get\", \"say\", \"think\", \"write\", \"team\", \"year\", \"nntp_poste\", \"game\", \"space\", \"car\", \"host\", \"article\", \"organization\", \"government\", \"law\", \"state\", \"sale\", \"child\", \"gun\", \"c\", \"good\", \"right\", \"physical\", \"kill\", \"first\", \"believe\", \"reason\", \"evidence\", \"claim\", \"christian\", \"sense\", \"faith\", \"understand\", \"god\", \"religion\", \"argument\", \"matter\", \"accept\", \"explain\", \"speak\", \"prove\", \"patient\", \"truth\", \"belief\", \"mind\", \"clear\", \"atheist\", \"certainly\", \"church\", \"valid\", \"statement\", \"conclusion\", \"slave\", \"religious\", \"existence\", \"perhaps\", \"agree\", \"say\", \"opinion\", \"love\", \"mean\", \"talk\", \"life\", \"fact\", \"think\", \"thing\", \"people\", \"true\", \"word\", \"tell\", \"many\", \"make\", \"even\", \"know\", \"write\", \"wrong\", \"come\", \"article\", \"man\", \"see\", \"point\", \"way\", \"take\", \"go\", \"s\", \"time\", \"seem\", \"well\", \"give\", \"line\", \"question\", \"good\", \"want\", \"organization\", \"get\", \"m\", \"key\", \"mail\", \"file\", \"window\", \"card\", \"computer\", \"chip\", \"driver\", \"software\", \"info\", \"email\", \"machine\", \"image\", \"version\", \"code\", \"phone\", \"entry\", \"memory\", \"color\", \"ripem\", \"user\", \"internet\", \"pin\", \"application\", \"screen\", \"hardware\", \"choose\", \"graphic\", \"disk\", \"encryption\", \"thank\", \"drive\", \"copy\", \"program\", \"bit\", \"use\", \"system\", \"available\", \"host\", \"line\", \"nntp_poste\", \"need\", \"com\", \"organization\", \"problem\", \"run\", \"work\", \"get\", \"help\", \"new\", \"send\", \"do\", \"also\", \"write\", \"information\", \"look\", \"know\", \"m\", \"want\", \"article\", \"team\", \"game\", \"car\", \"play\", \"player\", \"hockey\", \"bike\", \"season\", \"hit\", \"trade\", \"fan\", \"engine\", \"ride\", \"score\", \"playoff\", \"pen\", \"capable\", \"motorcycle\", \"baseball\", \"sport\", \"pack\", \"rider\", \"stat\", \"helmet\", \"coach\", \"saturn\", \"dog\", \"ice\", \"winner\", \"ball\", \"win\", \"division\", \"year\", \"pick\", \"goal\", \"owner\", \"next\", \"go\", \"guy\", \"last\", \"get\", \"good\", \"line\", \"big\", \"nntp_poste\", \"well\", \"article\", \"organization\", \"first\", \"run\", \"write\", \"host\", \"s\", \"look\", \"time\", \"back\", \"think\", \"take\", \"see\", \"test\", \"wire\", \"scientific\", \"announce\", \"motif\", \"material\", \"food\", \"treatment\", \"health\", \"dn\", \"doctor\", \"diagnosis\", \"syndrome\", \"significant\", \"convert\", \"cable\", \"tumor\", \"analysis\", \"translation\", \"medical\", \"eeg\", \"procedure\", \"degree\", \"improve\", \"ensure\", \"tube\", \"slightly\", \"los_angele\", \"negative\", \"cap\", \"period\", \"trust\", \"ground\", \"eat\", \"research\", \"effect\", \"increase\", \"reduce\", \"study\", \"level\", \"low\", \"high\", \"report\", \"science\", \"power\", \"risk\", \"result\", \"rate\", \"cost\", \"year\", \"cause\", \"service\", \"information\", \"provide\", \"week\", \"case\", \"also\", \"lead\", \"less\", \"group\", \"include\", \"gun\", \"kill\", \"reality\", \"crime\", \"murder\", \"weapon\", \"police\", \"tv\", \"trial\", \"criminal\", \"firearm\", \"cop\", \"court\", \"examine\", \"militia\", \"father\", \"smoke\", \"illegal\", \"colorado\", \"son\", \"girl\", \"amendment\", \"dream\", \"husband\", \"honest\", \"constitution\", \"possess\", \"gang\", \"cub\", \"liar\", \"child\", \"fire\", \"citizen\", \"legal\", \"government\", \"death\", \"law\", \"drug\", \"black\", \"protect\", \"arm\", \"public\", \"state\", \"carry\", \"safety\", \"right\", \"people\", \"country\", \"shoot\", \"case\", \"person\", \"ax\", \"_\", \"c\", \"cx\", \"rlk\", \"sj\", \"mf\", \"nei\", \"mu\", \"r\", \"ip\", \"sy\", \"conversion\", \"lk\", \"wm\", \"gy\", \"hst\", \"kp\", \"bo\", \"ei\", \"gb\", \"ai\", \"bhj\", \"n\", \"qx\", \"ij\", \"ci\", \"hh\", \"gw\", \"bxn\", \"hz\", \"m\", \"wa\", \"israeli\", \"lebanese\", \"armenian\", \"village\", \"launch\", \"turk\", \"orbit\", \"mission\", \"moon\", \"turkish\", \"arab\", \"occupy\", \"terrorism\", \"withdraw\", \"satellite\", \"international\", \"workstation\", \"rocket\", \"northern\", \"ethnic\", \"cambridge\", \"lebanese_resistance\", \"patrol\", \"astronomy\", \"expansion\", \"inhabitant\", \"border\", \"invasion\", \"sky\", \"russian\", \"greek\", \"space\", \"soldier\", \"land\", \"civilian\", \"attack\", \"earth\", \"war\", \"military\", \"government\", \"force\", \"first\", \"policy\", \"year\", \"center\", \"area\", \"sale\", \"physical\", \"server\", \"item\", \"wing\", \"direct\", \"nhl\", \"recommend\", \"upgrade\", \"gateway\", \"vertical\", \"shuttle\", \"band\", \"cd\", \"probe\", \"floppy\", \"sector\", \"widget\", \"icon\", \"daughter\", \"ethernet\", \"buyer\", \"inch\", \"shipping\", \"human_being\", \"routine\", \"jet\", \"guide\", \"grade\", \"stack\", \"usenet\", \"box\", \"sell\", \"offer\", \"price\", \"select\", \"super\", \"distribution\", \"radio\", \"condition\", \"include\"], \"Freq\": [33697.0, 3365.0, 6058.0, 13780.0, 5835.0, 8027.0, 6746.0, 5630.0, 10460.0, 1882.0, 3682.0, 5419.0, 1801.0, 1395.0, 1754.0, 4874.0, 7469.0, 8053.0, 1678.0, 1581.0, 2230.0, 871.0, 1274.0, 1228.0, 1070.0, 5028.0, 3065.0, 815.0, 1165.0, 2945.0, 2735.6533349058654, 2727.8063502912973, 2400.93296434845, 1658.1076832756828, 1420.6449329516022, 1410.9293442647095, 1160.6520665797123, 907.9811736081255, 875.8637618751934, 854.8479118580715, 841.5266559523948, 829.8590648841464, 826.5173700769251, 813.503671628737, 791.0663833470103, 788.8619334460433, 751.1814039822307, 733.524902811365, 710.5365675367372, 702.6389257834549, 692.4624985761182, 624.9735170959918, 607.1561912965296, 600.3310978969555, 562.3379819318936, 548.5220986180059, 534.9087914731027, 516.6282697889336, 509.73533668446305, 509.52144516701696, 788.4399652429995, 1031.3332446546453, 6381.634835279915, 1157.0985233040726, 860.9026186165577, 2156.5625081038515, 1309.7308396144183, 1197.2283018510775, 1672.9447244023495, 4930.3802083920045, 3084.4556566236315, 5107.110026055569, 1240.6148053200973, 1058.5816514674148, 2167.70561181656, 2517.613484987714, 4562.594503738643, 2498.9054421980154, 4626.180475787635, 6742.943550656511, 1071.8409348859157, 2754.4615394837974, 4870.786458915025, 1414.2893741273083, 3297.431049931297, 2255.2744649297256, 2434.3528460295233, 2474.526523937689, 3425.0748859688247, 2275.580905461358, 2931.562039581221, 1813.3671510922543, 2729.7190632682727, 2143.799214126247, 4048.6551483996204, 1908.302296053864, 2496.6832334862684, 2136.0595157785733, 2891.9562245310312, 2785.1839678177407, 2247.3864097911123, 2285.077704826876, 2017.4920883748275, 1966.5151331293132, 1551.5806842859554, 1520.0280733617994, 1498.125134239284, 1263.3940063947416, 1201.909637847328, 1088.2991706244038, 1031.1051080529385, 1018.4200927275541, 996.8574688592412, 926.9208458747856, 904.0509894330262, 881.878787254755, 879.1251748890818, 824.4849952750575, 799.0456707479636, 779.6966945066223, 771.9790990213484, 752.4861801372597, 749.3893752630037, 737.3841112849636, 733.974724691782, 719.3671439742324, 699.0937698394891, 696.1292387429938, 690.6397570803258, 687.0069037302746, 678.7760380330496, 2435.7913263684723, 2632.5490103680368, 936.7245307095047, 1875.254218847712, 1574.006164773425, 3768.820563351334, 3209.9183757084425, 1138.8928116474772, 3427.1593934887783, 7668.840090104858, 3544.7889055385754, 2584.591893442105, 1049.708076172456, 3845.1713855867906, 2053.087721245692, 1718.7203912371795, 2150.7716263889006, 3270.42543685135, 1536.2813636611438, 1844.9800679531998, 1259.3240501500843, 1309.3202612705827, 1806.212262128062, 2415.9360332799324, 1253.9761134181801, 1444.9058387467278, 1683.6210847469156, 1396.5254457319622, 1325.9260951552458, 1312.8480948357533, 1881.8759527385635, 1799.9402198600794, 1753.356975628849, 1291.6613219257965, 881.2202411912505, 733.0427639987311, 654.8519528322904, 614.7341114497434, 545.2765726562834, 478.4077677982623, 477.2273222311247, 467.9342829644801, 449.0591491338061, 434.9032581886516, 344.3050549456435, 342.0383548740579, 326.97423354010283, 316.09588417754804, 295.9226912498792, 270.3947080073121, 270.51828574599864, 244.55839020408524, 234.59538818540472, 225.99934273490243, 225.26718180507413, 216.35508340601527, 210.0473394893295, 209.6498759255749, 207.8594438240416, 207.36571759565106, 1075.0487417391435, 442.6957225615785, 1963.2050403761139, 453.60962328656746, 420.9453388811118, 290.4517575742469, 750.7949893356805, 1997.3379569097917, 435.9454410323378, 829.5012952574156, 1967.6204928600816, 1337.2961734208147, 2057.7787479929675, 577.8193008055969, 1163.060282648659, 1059.3895694525672, 1285.1294941630915, 1310.213386091644, 844.062718990035, 790.497173811573, 1300.998232375595, 988.2581094605888, 790.7546538857433, 680.834385398604, 732.5391642481607, 601.892986068893, 698.9951841000687, 623.94158019083, 607.0401149951373, 927.1086059188344, 570.0843941002676, 381.41561370148884, 382.1721952863379, 374.4296945857785, 370.96070741569, 370.04383792208796, 344.78118912877966, 314.0060239258744, 410.32486905776534, 308.51134874993727, 305.4224364956393, 297.9196879921653, 290.43172222515216, 285.8210660173483, 276.1435560890016, 274.82749607211645, 272.1708231024999, 259.80070286245063, 252.93358370737968, 254.02490081898856, 248.72373222971387, 244.53291140128516, 222.43281951010383, 215.4047186205264, 199.10904554520909, 186.69524260211182, 185.2500885159597, 184.44539223906625, 183.54962071225236, 366.68019898884774, 315.73316862181593, 449.7138101910348, 367.23426841194896, 782.1177709057197, 561.5311367672541, 576.5203217891418, 360.7412770947819, 523.4061762402343, 493.54974961255266, 561.3879537872797, 817.6276030500736, 588.5729530283024, 525.1960201287517, 661.0630748035989, 387.70991597840657, 487.1909640196931, 450.0821608675631, 450.72829672023255, 678.7733028333707, 475.7626060421141, 420.5906016279334, 510.68146856105136, 487.1853001359916, 422.61716753575575, 470.9204102685921, 443.3243546679315, 393.7036359472846, 398.92896513379594, 406.42030091161143, 390.88868574762915, 1227.7044932534423, 1164.2774036607782, 503.8306945571978, 489.0344374941638, 486.9348138657515, 433.4236192542738, 432.2108760659729, 361.2851133798736, 342.4395389821377, 332.579499851207, 300.7475309768338, 299.9474075123631, 275.5392072422334, 275.3074387232007, 232.98214914175742, 220.19873857420515, 217.9771230274431, 214.4425825616798, 209.41386282632024, 205.28863313793266, 202.17755701795465, 198.9692421315987, 197.32531435548876, 195.43415741900864, 194.56511618044047, 187.74211544376095, 186.63314198375895, 180.76755204447863, 181.4373384725895, 171.62892216103978, 1215.4426525615181, 574.7412989613077, 377.07972069605177, 340.1884131629923, 1257.2894282385155, 798.3226928220354, 1129.3907789207992, 456.2962976532647, 462.8495535367788, 437.6261723066385, 265.60478771164793, 715.0127750090239, 985.5914143129799, 438.5940850520649, 349.82775012703405, 734.4915705110296, 950.5428862206901, 360.8984159308283, 314.6766214292584, 374.77646812527837, 326.92683136492224, 33696.64384251064, 3364.2627431622614, 1069.787666074505, 572.2535063098968, 448.3237212290176, 300.823601653242, 197.19488080078767, 179.6992063851562, 178.44057601997338, 163.72559151947524, 159.04766289065248, 145.09938504768573, 128.68669879680485, 111.0708273101294, 110.01913023119897, 111.38644696926215, 106.19256340639048, 85.00647182283132, 85.27415866951605, 82.91754279840674, 84.52789424772764, 86.61268160422968, 78.77765572482777, 77.4858783699122, 76.79094470229408, 76.21820729633168, 74.15344596182752, 76.40397509016934, 69.1155879679592, 61.485994276056886, 95.42760427994416, 269.11534684332906, 86.13508656649148, 518.066154959786, 441.78392584572777, 433.2225413865033, 425.5197444547356, 364.1469396314308, 339.13848682437356, 321.4398763292522, 307.2116604807665, 300.19916638399366, 297.8770989316964, 291.7477600317473, 267.3051321603588, 267.4488748014616, 263.70605826113723, 258.2405844122553, 223.8769219419364, 197.78026740456994, 193.31693158919003, 175.73863606714644, 170.13438947065197, 166.64173277534078, 160.908922207295, 158.16720617116155, 154.66066451568682, 154.57494666198338, 151.6901028169315, 151.01166111949334, 143.92242828070957, 143.7674265252306, 137.96985363376515, 442.0441535677599, 986.7472468469223, 354.08580014848843, 264.3121034688665, 190.25014865358173, 352.80085211918276, 353.19470336928333, 289.500420307858, 240.5651838320937, 420.6487108561031, 266.0718556525474, 376.9341169298054, 207.32575481988843, 347.39483766613034, 241.62902283709744, 245.44000889586317, 870.7638360793017, 814.2097404865332, 512.4147945647593, 422.89189194399125, 385.93834929642367, 329.27592085060985, 322.73690787648445, 299.7414426132976, 265.55764404622005, 257.13131140929755, 194.08874734969848, 153.29605774614953, 149.11603823331228, 145.29467614967777, 145.06142455139835, 143.88094115999905, 142.5841067357463, 134.12360316431472, 135.29183447722224, 132.78459211512143, 131.12748913207835, 129.2266060062415, 127.94415934388734, 121.09217508033782, 120.19257776975371, 118.33745571995541, 117.26099634665793, 111.43944810345775, 104.85406207383802, 101.12141203253479, 190.48280203448994, 332.8339194488664, 386.984934080779, 244.6264978916867, 276.3472664899976, 162.16623785039124, 128.11586329404506, 180.72182963020103, 139.81256418501894, 143.5033373464212, 146.54356385697858], \"Total\": [33697.0, 3365.0, 6058.0, 13780.0, 5835.0, 8027.0, 6746.0, 5630.0, 10460.0, 1882.0, 3682.0, 5419.0, 1801.0, 1395.0, 1754.0, 4874.0, 7469.0, 8053.0, 1678.0, 1581.0, 2230.0, 871.0, 1274.0, 1228.0, 1070.0, 5028.0, 3065.0, 815.0, 1165.0, 2945.0, 2736.728205805768, 2728.8817805087347, 2402.0079772686927, 1659.1827812931097, 1421.7193790990016, 1412.0045283746329, 1161.7266627309948, 909.0563053977687, 876.9382870272449, 855.9225086137434, 842.6015049619941, 830.9343695182795, 827.5926637519268, 814.5786354371091, 792.141488294539, 789.9373985577419, 752.2599284569152, 734.5999304548986, 711.6111661891105, 703.7141343731705, 693.5397568932965, 626.0479701186973, 608.231081253717, 601.405495798068, 563.4144211117123, 549.5969196401383, 535.9834950985594, 517.7106125486216, 510.8100980110412, 510.596209680026, 792.2728375397418, 1044.1338056742613, 6746.016053287712, 1184.3473316604313, 874.1198514890284, 2262.332448874152, 1357.875796013008, 1236.0437666335736, 1758.7638058057832, 5630.310653035321, 3470.2402624087445, 6058.587561017446, 1302.9627501166142, 1097.6530813168076, 2507.089367717475, 3052.0420579038782, 6248.41521345601, 3088.1227802711237, 6465.516343180528, 10460.6699913843, 1134.2535110848673, 3611.947808687304, 7469.556287213099, 1603.5190298282387, 4644.3383877775805, 2896.0683722678323, 3232.1318554928625, 3548.6058764378267, 5835.33216901531, 3240.6353926336783, 4785.552064286636, 2339.1119641077385, 4565.827816356092, 3162.750801250756, 13780.52202912276, 2721.955264305657, 5028.5383911259205, 3571.813071988622, 8053.157897293275, 8027.254649639265, 4437.404504987364, 2286.1411933801037, 2018.5561104570206, 1967.578791911149, 1552.6439768086595, 1521.0921663299823, 1499.1890711202316, 1264.4576738515912, 1202.9730295208565, 1089.362554269776, 1032.1690011882652, 1019.4836878887347, 997.9212992731404, 927.9851465320882, 905.114569888476, 882.9425600888338, 880.1889689632503, 825.5499769311934, 800.1095246454652, 780.7603965161142, 773.0446331397427, 753.550101710541, 750.4533714074593, 738.4478440376895, 735.0388584208614, 720.4308251005745, 700.1574607306094, 697.1981169348724, 691.7029801417177, 688.0702712055846, 679.8393849639633, 2510.7586803119348, 2779.9962398854764, 954.1498378533728, 2066.1316967648063, 1720.6472019275802, 4765.404680675527, 3978.293350684, 1243.0561679838484, 4874.305555249845, 13780.52202912276, 5419.039157872372, 3645.736245935003, 1163.2706288599443, 8053.157897293275, 3164.254024884003, 2510.141458564019, 3625.4916816492187, 8027.254649639265, 2242.5113256919967, 3117.3370885138033, 1641.4637440800486, 1859.7382822839427, 4530.95157330098, 10460.6699913843, 1795.4708495365228, 3162.2996882301645, 6465.516343180528, 4437.404504987364, 3571.813071988622, 7469.556287213099, 1882.9425271439973, 1801.0066430437132, 1754.4237777269207, 1292.7292052075547, 882.2864282162726, 734.1089938437154, 655.9182286706917, 615.8011658381024, 546.3435738477875, 479.4752178386107, 478.29376414878044, 469.00156694672137, 450.12574191275075, 435.96946541776595, 345.37118873879723, 343.10586336135833, 328.04988794438566, 317.1623490193077, 296.98883858019934, 271.4612538111639, 271.5865583692558, 245.62495170030064, 235.66252339685857, 227.0656411269828, 226.33346505475032, 217.4236577421126, 211.11426345750135, 210.7163728450613, 208.92788597763365, 208.43312312893607, 1264.98526742013, 528.7351710166278, 3682.534076896042, 565.1374093379867, 517.8004732530876, 320.210813720679, 1333.0599051873505, 5835.33216901531, 603.398849140313, 1710.5258738177943, 8027.254649639265, 5028.5383911259205, 13780.52202912276, 1153.9661376922406, 5419.039157872372, 4565.827816356092, 7469.556287213099, 8053.157897293275, 2945.354465221378, 2510.141458564019, 10460.6699913843, 4874.305555249845, 3240.6353926336783, 3162.2996882301645, 4785.552064286636, 1959.5353231723054, 5630.310653035321, 3548.6058764378267, 4644.3383877775805, 928.1746433156329, 571.1505147250192, 382.48112860874915, 383.2425791916814, 375.49557274015234, 372.026801580178, 371.10925812232364, 345.84740836789445, 315.07182976412605, 411.7232689750138, 309.5769269879039, 306.4894117784316, 298.9852764416293, 291.4980796019313, 286.8870420432962, 277.2096000103857, 275.900430070931, 273.2368326246462, 260.8665390834582, 253.99908826781459, 255.09658526671066, 249.78945605413392, 245.59877622898838, 223.49928222253348, 216.4715830602318, 200.1752303093485, 187.76207789201948, 186.31609763479548, 185.51198600411342, 184.61678220437148, 369.93322177593865, 318.553165982772, 462.7623343593769, 394.1455978333079, 909.7667340268092, 650.8959819450087, 702.7819884724024, 405.387813868873, 709.0491526366852, 707.8192029325215, 894.8845538933672, 1715.0022027265302, 1104.1364698867376, 904.3962119143112, 1457.4967090649848, 536.2878741310071, 885.8731877650739, 782.0695024876418, 1008.6361879978931, 3682.534076896042, 1208.4019430716467, 852.2613064635589, 1795.4708495365228, 1520.2788162422664, 949.4817668077344, 2360.2112835746484, 4530.95157330098, 952.1748957545124, 1219.301900409429, 2129.6746139690335, 1831.5995085546576, 1228.7702905183207, 1165.34391493552, 504.90063822215404, 490.1002554242757, 488.00125463104195, 434.48952932529, 433.27717775397355, 362.3527691940357, 343.50585605047536, 333.6452994614531, 301.8132626696616, 301.0136123486503, 276.6052055905178, 276.3796196411158, 234.04823461583848, 221.26566571659632, 219.0449646750695, 215.50938083250435, 210.48400969191624, 206.355567381019, 203.24470260642914, 200.03518089613974, 198.39278707223107, 196.50098671003644, 195.63363269486663, 188.80788169855728, 187.70730496687992, 181.83488787718974, 182.51560321030985, 172.69792247978395, 1274.2562633151297, 605.5419765943547, 413.24640269524286, 370.2929021672783, 1678.8798180726274, 1007.2494610462111, 1581.1228645409237, 587.8704568280228, 613.2761106043788, 591.213564582496, 296.53782518606613, 1348.9734173590468, 2230.343035708946, 658.9752048776028, 488.3904946181052, 3065.165745396688, 6058.587561017446, 711.7094821419622, 460.13858734960223, 2360.2112835746484, 1301.4937808114441, 33697.58561608816, 3365.2160540503146, 1070.7336676003972, 573.1972365617455, 449.26582087541044, 301.7735501778605, 198.13709840714978, 180.64217410906176, 179.40635106559617, 164.66742441848947, 160.04173684304817, 146.0451541111575, 129.6456203736475, 112.02562659085318, 110.96629733526345, 112.34991017001452, 107.15888528700263, 85.95021569195323, 86.22253661772879, 83.85932838567987, 85.49698766814205, 87.61533265573085, 79.71946710315422, 78.43344000754382, 77.73374779818216, 77.16057941966298, 75.10183284300986, 77.42661288573763, 70.06884504478235, 62.42824254357132, 142.7442310517278, 4437.404504987364, 168.59439660699726, 519.1476970484538, 442.866012729017, 434.3040195851223, 426.6014302031339, 365.2287028976482, 340.21989628274406, 322.52153054259037, 308.29390870523156, 301.28103468428844, 298.9584797348346, 292.82928240303914, 268.38710117267317, 268.5317903088593, 264.7885088437635, 259.32225547501986, 224.95985602830172, 198.86700158883238, 194.40009292517118, 176.821981185014, 171.21653732884306, 167.7244498163377, 161.991867974528, 159.25043683875393, 155.74300125887214, 155.65884729487706, 152.77170265947618, 152.0947310303646, 145.00433652826854, 144.85136378995585, 139.05143932356722, 508.9436520712106, 1395.8889388852238, 499.4550235246725, 382.1207865330809, 228.84676484067805, 690.6526778005139, 743.2192759484527, 566.1721062215383, 414.85505822960823, 1678.8798180726274, 778.8105681855914, 2945.354465221378, 336.1599700732015, 3682.534076896042, 739.783312256465, 892.1294293225477, 871.8483758299332, 815.2976603515817, 513.4992698774898, 423.977734868146, 387.02425014519383, 330.36278520244207, 323.82259190203314, 300.8290104010621, 266.64238472034964, 258.2163903643731, 195.1766079533908, 154.38322876584232, 150.20125643318949, 146.37924319822312, 146.14702879423535, 144.96584700916955, 143.67067807394983, 135.2078537865698, 136.38651320225145, 133.87116396984706, 132.21619439130805, 130.3117155976136, 129.02956675356873, 122.17664853979048, 121.28029123403941, 119.42196435039644, 118.34637192236588, 112.52439164256047, 105.94011623744159, 102.20678041477579, 208.68116313023413, 479.60264204092437, 980.2090528912922, 665.5644943788614, 1105.565264538571, 279.78302412822245, 146.93519019163097, 495.29598197118514, 309.3665159294908, 472.7491831863848, 1831.5995085546576], \"Category\": [\"Default\", \"Default\", \"Default\", \"Default\", \"Default\", \"Default\", \"Default\", \"Default\", \"Default\", \"Default\", \"Default\", \"Default\", \"Default\", \"Default\", \"Default\", \"Default\", \"Default\", \"Default\", \"Default\", \"Default\", \"Default\", \"Default\", \"Default\", \"Default\", \"Default\", \"Default\", \"Default\", \"Default\", \"Default\", \"Default\", \"Topic1\", \"Topic1\", \"Topic1\", \"Topic1\", \"Topic1\", \"Topic1\", \"Topic1\", \"Topic1\", \"Topic1\", \"Topic1\", \"Topic1\", \"Topic1\", \"Topic1\", \"Topic1\", \"Topic1\", \"Topic1\", \"Topic1\", \"Topic1\", \"Topic1\", \"Topic1\", \"Topic1\", \"Topic1\", \"Topic1\", \"Topic1\", \"Topic1\", \"Topic1\", \"Topic1\", \"Topic1\", \"Topic1\", \"Topic1\", \"Topic1\", \"Topic1\", \"Topic1\", \"Topic1\", \"Topic1\", \"Topic1\", \"Topic1\", \"Topic1\", \"Topic1\", \"Topic1\", \"Topic1\", \"Topic1\", \"Topic1\", \"Topic1\", \"Topic1\", \"Topic1\", \"Topic1\", \"Topic1\", \"Topic1\", \"Topic1\", \"Topic1\", \"Topic1\", \"Topic1\", \"Topic1\", \"Topic1\", \"Topic1\", \"Topic1\", \"Topic1\", \"Topic1\", \"Topic1\", \"Topic1\", \"Topic1\", \"Topic1\", \"Topic1\", \"Topic1\", \"Topic1\", \"Topic1\", \"Topic1\", \"Topic1\", \"Topic1\", \"Topic1\", \"Topic2\", \"Topic2\", \"Topic2\", \"Topic2\", \"Topic2\", \"Topic2\", \"Topic2\", \"Topic2\", \"Topic2\", \"Topic2\", \"Topic2\", \"Topic2\", \"Topic2\", \"Topic2\", \"Topic2\", \"Topic2\", \"Topic2\", \"Topic2\", \"Topic2\", \"Topic2\", \"Topic2\", \"Topic2\", \"Topic2\", \"Topic2\", \"Topic2\", \"Topic2\", \"Topic2\", \"Topic2\", \"Topic2\", \"Topic2\", \"Topic2\", \"Topic2\", \"Topic2\", \"Topic2\", \"Topic2\", \"Topic2\", \"Topic2\", \"Topic2\", \"Topic2\", \"Topic2\", \"Topic2\", \"Topic2\", \"Topic2\", \"Topic2\", \"Topic2\", \"Topic2\", \"Topic2\", \"Topic2\", \"Topic2\", \"Topic2\", \"Topic2\", \"Topic2\", \"Topic2\", \"Topic2\", \"Topic2\", \"Topic2\", \"Topic2\", \"Topic2\", \"Topic2\", \"Topic2\", \"Topic3\", \"Topic3\", \"Topic3\", \"Topic3\", \"Topic3\", \"Topic3\", \"Topic3\", \"Topic3\", \"Topic3\", \"Topic3\", \"Topic3\", \"Topic3\", \"Topic3\", \"Topic3\", \"Topic3\", \"Topic3\", \"Topic3\", \"Topic3\", \"Topic3\", \"Topic3\", \"Topic3\", \"Topic3\", \"Topic3\", \"Topic3\", \"Topic3\", \"Topic3\", \"Topic3\", \"Topic3\", \"Topic3\", \"Topic3\", \"Topic3\", \"Topic3\", \"Topic3\", \"Topic3\", \"Topic3\", \"Topic3\", \"Topic3\", \"Topic3\", \"Topic3\", \"Topic3\", \"Topic3\", \"Topic3\", \"Topic3\", \"Topic3\", \"Topic3\", \"Topic3\", \"Topic3\", \"Topic3\", \"Topic3\", \"Topic3\", \"Topic3\", \"Topic3\", \"Topic3\", \"Topic3\", \"Topic3\", \"Topic3\", \"Topic3\", \"Topic3\", \"Topic3\", \"Topic4\", \"Topic4\", \"Topic4\", \"Topic4\", \"Topic4\", \"Topic4\", \"Topic4\", \"Topic4\", \"Topic4\", \"Topic4\", \"Topic4\", \"Topic4\", \"Topic4\", \"Topic4\", \"Topic4\", \"Topic4\", \"Topic4\", \"Topic4\", \"Topic4\", \"Topic4\", \"Topic4\", \"Topic4\", \"Topic4\", \"Topic4\", \"Topic4\", \"Topic4\", \"Topic4\", \"Topic4\", \"Topic4\", \"Topic4\", \"Topic4\", \"Topic4\", \"Topic4\", \"Topic4\", \"Topic4\", \"Topic4\", \"Topic4\", \"Topic4\", \"Topic4\", \"Topic4\", \"Topic4\", \"Topic4\", \"Topic4\", \"Topic4\", \"Topic4\", \"Topic4\", \"Topic4\", \"Topic4\", \"Topic4\", \"Topic4\", \"Topic4\", \"Topic4\", \"Topic4\", \"Topic4\", \"Topic4\", \"Topic4\", \"Topic4\", \"Topic4\", \"Topic4\", \"Topic4\", \"Topic4\", \"Topic5\", \"Topic5\", \"Topic5\", \"Topic5\", \"Topic5\", \"Topic5\", \"Topic5\", \"Topic5\", \"Topic5\", \"Topic5\", \"Topic5\", \"Topic5\", \"Topic5\", \"Topic5\", \"Topic5\", \"Topic5\", \"Topic5\", \"Topic5\", \"Topic5\", \"Topic5\", \"Topic5\", \"Topic5\", \"Topic5\", \"Topic5\", \"Topic5\", \"Topic5\", \"Topic5\", \"Topic5\", \"Topic5\", \"Topic5\", \"Topic5\", \"Topic5\", \"Topic5\", \"Topic5\", \"Topic5\", \"Topic5\", \"Topic5\", \"Topic5\", \"Topic5\", \"Topic5\", \"Topic5\", \"Topic5\", \"Topic5\", \"Topic5\", \"Topic5\", \"Topic5\", \"Topic5\", \"Topic5\", \"Topic5\", \"Topic5\", \"Topic5\", \"Topic6\", \"Topic6\", \"Topic6\", \"Topic6\", \"Topic6\", \"Topic6\", \"Topic6\", \"Topic6\", \"Topic6\", \"Topic6\", \"Topic6\", \"Topic6\", \"Topic6\", \"Topic6\", \"Topic6\", \"Topic6\", \"Topic6\", \"Topic6\", \"Topic6\", \"Topic6\", \"Topic6\", \"Topic6\", \"Topic6\", \"Topic6\", \"Topic6\", \"Topic6\", \"Topic6\", \"Topic6\", \"Topic6\", \"Topic6\", \"Topic6\", \"Topic6\", \"Topic6\", \"Topic7\", \"Topic7\", \"Topic7\", \"Topic7\", \"Topic7\", \"Topic7\", \"Topic7\", \"Topic7\", \"Topic7\", \"Topic7\", \"Topic7\", \"Topic7\", \"Topic7\", \"Topic7\", \"Topic7\", \"Topic7\", \"Topic7\", \"Topic7\", \"Topic7\", \"Topic7\", \"Topic7\", \"Topic7\", \"Topic7\", \"Topic7\", \"Topic7\", \"Topic7\", \"Topic7\", \"Topic7\", \"Topic7\", \"Topic7\", \"Topic7\", \"Topic7\", \"Topic7\", \"Topic7\", \"Topic7\", \"Topic7\", \"Topic7\", \"Topic7\", \"Topic7\", \"Topic7\", \"Topic7\", \"Topic7\", \"Topic7\", \"Topic7\", \"Topic7\", \"Topic7\", \"Topic8\", \"Topic8\", \"Topic8\", \"Topic8\", \"Topic8\", \"Topic8\", \"Topic8\", \"Topic8\", \"Topic8\", \"Topic8\", \"Topic8\", \"Topic8\", \"Topic8\", \"Topic8\", \"Topic8\", \"Topic8\", \"Topic8\", \"Topic8\", \"Topic8\", \"Topic8\", \"Topic8\", \"Topic8\", \"Topic8\", \"Topic8\", \"Topic8\", \"Topic8\", \"Topic8\", \"Topic8\", \"Topic8\", \"Topic8\", \"Topic8\", \"Topic8\", \"Topic8\", \"Topic8\", \"Topic8\", \"Topic8\", \"Topic8\", \"Topic8\", \"Topic8\", \"Topic8\", \"Topic8\"], \"logprob\": [30.0, 29.0, 28.0, 27.0, 26.0, 25.0, 24.0, 23.0, 22.0, 21.0, 20.0, 19.0, 18.0, 17.0, 16.0, 15.0, 14.0, 13.0, 12.0, 11.0, 10.0, 9.0, 8.0, 7.0, 6.0, 5.0, 4.0, 3.0, 2.0, 1.0, -5.1029, -5.1057, -5.2334, -5.6036, -5.7581, -5.765, -5.9602, -6.2058, -6.2418, -6.2661, -6.2818, -6.2957, -6.2998, -6.3156, -6.3436, -6.3464, -6.3953, -6.4191, -6.451, -6.4621, -6.4767, -6.5793, -6.6082, -6.6195, -6.6849, -6.7098, -6.7349, -6.7697, -6.7831, -6.7835, -6.3469, -6.0784, -4.2558, -5.9633, -6.259, -5.3407, -5.8394, -5.9292, -5.5946, -4.5138, -4.9829, -4.4786, -5.8936, -6.0523, -5.3356, -5.1859, -4.5913, -5.1934, -4.5775, -4.2007, -6.0399, -5.096, -4.526, -5.7626, -4.9161, -5.296, -5.2195, -5.2032, -4.8781, -5.287, -5.0337, -5.514, -5.105, -5.3466, -4.7108, -5.463, -5.1943, -5.3503, -5.0473, -5.0849, -5.2995, -5.0121, -5.1367, -5.1623, -5.3992, -5.4198, -5.4343, -5.6047, -5.6546, -5.7539, -5.8079, -5.8203, -5.8417, -5.9144, -5.9394, -5.9642, -5.9673, -6.0315, -6.0629, -6.0874, -6.0973, -6.1229, -6.127, -6.1432, -6.1478, -6.1679, -6.1965, -6.2007, -6.2087, -6.2139, -6.226, -4.9482, -4.8706, -5.9039, -5.2098, -5.3849, -4.5118, -4.6723, -5.7085, -4.6068, -3.8014, -4.573, -4.8889, -5.79, -4.4917, -5.1192, -5.2969, -5.0727, -4.6536, -5.4092, -5.226, -5.6079, -5.569, -5.2473, -4.9564, -5.6122, -5.4705, -5.3176, -5.5045, -5.5564, -5.5663, -4.3341, -4.3786, -4.4049, -4.7105, -5.0928, -5.2769, -5.3897, -5.453, -5.5728, -5.7037, -5.7061, -5.7258, -5.767, -5.799, -6.0326, -6.0392, -6.0843, -6.1181, -6.184, -6.2743, -6.2738, -6.3747, -6.4163, -6.4536, -6.4569, -6.4972, -6.5268, -6.5287, -6.5373, -6.5397, -4.894, -5.7813, -4.2918, -5.7569, -5.8316, -6.2027, -5.253, -4.2746, -5.7966, -5.1533, -4.2896, -4.6757, -4.2448, -5.5149, -4.8153, -4.9087, -4.7155, -4.6962, -5.1359, -5.2015, -4.7033, -4.9782, -5.2012, -5.3508, -5.2776, -5.4741, -5.3245, -5.4381, -5.4655, -4.8767, -5.363, -5.7649, -5.7629, -5.7833, -5.7927, -5.7951, -5.8658, -5.9593, -5.6918, -5.977, -5.9871, -6.0119, -6.0374, -6.0534, -6.0878, -6.0926, -6.1023, -6.1488, -6.1756, -6.1713, -6.1924, -6.2094, -6.3041, -6.3362, -6.4149, -6.4793, -6.487, -6.4914, -6.4963, -5.8043, -5.9538, -5.6001, -5.8027, -5.0467, -5.3781, -5.3517, -5.8206, -5.4484, -5.5071, -5.3783, -5.0023, -5.331, -5.445, -5.2149, -5.7485, -5.5201, -5.5993, -5.5979, -5.1885, -5.5438, -5.6671, -5.473, -5.5201, -5.6623, -5.5541, -5.6144, -5.7331, -5.72, -5.7014, -5.7403, -4.2559, -4.3089, -5.1465, -5.1763, -5.1806, -5.297, -5.2999, -5.4791, -5.5327, -5.5619, -5.6625, -5.6652, -5.75, -5.7509, -5.9178, -5.9742, -5.9844, -6.0007, -6.0245, -6.0443, -6.0596, -6.0756, -6.0839, -6.0935, -6.098, -6.1337, -6.1396, -6.1716, -6.1679, -6.2234, -4.2659, -5.0148, -5.4363, -5.5393, -4.2321, -4.6863, -4.3393, -5.2456, -5.2314, -5.2874, -5.7868, -4.7965, -4.4755, -5.2852, -5.5113, -4.7696, -4.5117, -5.4802, -5.6172, -5.4424, -5.579, -0.5535, -2.8577, -4.0035, -4.6291, -4.8732, -5.2721, -5.6945, -5.7874, -5.7944, -5.8805, -5.9095, -6.0013, -6.1213, -6.2685, -6.278, -6.2657, -6.3134, -6.5359, -6.5328, -6.5608, -6.5416, -6.5172, -6.612, -6.6286, -6.6376, -6.6451, -6.6725, -6.6426, -6.7429, -6.8599, -6.4203, -5.3835, -6.5228, -4.6652, -4.8245, -4.8441, -4.862, -5.0178, -5.0889, -5.1425, -5.1878, -5.2109, -5.2187, -5.2395, -5.327, -5.3264, -5.3405, -5.3615, -5.5043, -5.6282, -5.651, -5.7463, -5.7788, -5.7995, -5.8345, -5.8517, -5.8741, -5.8747, -5.8935, -5.898, -5.9461, -5.9472, -5.9883, -4.8239, -4.0209, -5.0458, -5.3382, -5.667, -5.0494, -5.0483, -5.2472, -5.4324, -4.8735, -5.3316, -4.9833, -5.5811, -5.0649, -5.4279, -5.4123, -3.4276, -3.4947, -3.9578, -4.1498, -4.2413, -4.4, -4.4201, -4.494, -4.6151, -4.6473, -4.9286, -5.1646, -5.1922, -5.2182, -5.2198, -5.2279, -5.237, -5.2982, -5.2895, -5.3082, -5.3208, -5.3354, -5.3453, -5.4004, -5.4078, -5.4234, -5.4325, -5.4834, -5.5444, -5.5806, -4.9474, -4.3893, -4.2385, -4.6972, -4.5753, -5.1083, -5.344, -5.0, -5.2566, -5.2306, -5.2096], \"loglift\": [30.0, 29.0, 28.0, 27.0, 26.0, 25.0, 24.0, 23.0, 22.0, 21.0, 20.0, 19.0, 18.0, 17.0, 16.0, 15.0, 14.0, 13.0, 12.0, 11.0, 10.0, 9.0, 8.0, 7.0, 6.0, 5.0, 4.0, 3.0, 2.0, 1.0, 1.0492, 1.0492, 1.0492, 1.049, 1.0489, 1.0489, 1.0487, 1.0484, 1.0484, 1.0484, 1.0483, 1.0483, 1.0483, 1.0483, 1.0483, 1.0483, 1.0482, 1.0481, 1.0481, 1.0481, 1.0481, 1.0479, 1.0478, 1.0478, 1.0477, 1.0477, 1.0476, 1.0475, 1.0475, 1.0475, 1.0448, 1.0373, 0.9941, 1.0263, 1.0344, 1.0017, 1.0135, 1.0177, 0.9996, 0.9169, 0.9318, 0.8788, 1.0006, 1.0134, 0.9042, 0.8571, 0.7352, 0.8379, 0.7149, 0.6105, 0.993, 0.7786, 0.622, 0.924, 0.7071, 0.7995, 0.7662, 0.6891, 0.5168, 0.6961, 0.5595, 0.795, 0.5352, 0.6608, -0.1753, 0.6945, 0.3494, 0.5355, 0.0255, -0.0089, 0.3693, 1.3199, 1.3198, 1.3198, 1.3196, 1.3196, 1.3196, 1.3195, 1.3194, 1.3193, 1.3193, 1.3193, 1.3193, 1.3192, 1.3191, 1.3191, 1.3191, 1.319, 1.319, 1.319, 1.3189, 1.3189, 1.3189, 1.3189, 1.3189, 1.3188, 1.3188, 1.3188, 1.3188, 1.3188, 1.3188, 1.29, 1.2658, 1.3019, 1.2234, 1.2312, 1.0857, 1.1057, 1.2328, 0.9681, 0.7342, 0.8959, 0.9763, 1.2176, 0.5811, 0.8878, 0.9416, 0.7982, 0.4224, 0.9421, 0.7958, 1.0553, 0.9694, 0.4006, -0.1452, 0.9614, 0.5371, -0.0252, 0.1642, 0.3294, -0.4183, 2.1919, 2.1919, 2.1918, 2.1916, 2.1912, 2.191, 2.1908, 2.1907, 2.1905, 2.1902, 2.1902, 2.1902, 2.1901, 2.19, 2.1894, 2.1893, 2.1892, 2.1891, 2.1889, 2.1885, 2.1885, 2.1881, 2.1879, 2.1877, 2.1877, 2.1875, 2.1874, 2.1874, 2.1873, 2.1873, 2.0298, 2.0148, 1.5634, 1.9726, 1.9854, 2.0949, 1.6184, 1.1203, 1.8674, 1.4687, 0.7864, 0.868, 0.2908, 1.5008, 0.6536, 0.7315, 0.4325, 0.3766, 0.9427, 1.037, 0.108, 0.5967, 0.7819, 0.6567, 0.3156, 1.0121, 0.1062, 0.4542, 0.1576, 2.3567, 2.356, 2.3551, 2.3551, 2.355, 2.355, 2.355, 2.3548, 2.3545, 2.3544, 2.3544, 2.3544, 2.3543, 2.3542, 2.3541, 2.354, 2.354, 2.3539, 2.3538, 2.3536, 2.3536, 2.3536, 2.3535, 2.3531, 2.3529, 2.3525, 2.3522, 2.3521, 2.3521, 2.3521, 2.349, 2.349, 2.3292, 2.2871, 2.2067, 2.2102, 2.1598, 2.2412, 2.0543, 1.9973, 1.8916, 1.6171, 1.7287, 1.8144, 1.5672, 2.0334, 1.7599, 1.8053, 1.5524, 0.6668, 1.4257, 1.6516, 1.1006, 1.2198, 1.5484, 0.746, 0.0335, 1.4747, 1.2406, 0.7015, 0.8133, 2.697, 2.6969, 2.6957, 2.6957, 2.6956, 2.6954, 2.6954, 2.6949, 2.6947, 2.6946, 2.6943, 2.6943, 2.694, 2.6939, 2.6933, 2.693, 2.6929, 2.6929, 2.6927, 2.6926, 2.6926, 2.6925, 2.6924, 2.6924, 2.6924, 2.6922, 2.6921, 2.6919, 2.6919, 2.6916, 2.6506, 2.6456, 2.6062, 2.613, 2.4087, 2.4654, 2.3614, 2.4445, 2.4164, 2.397, 2.5877, 2.063, 1.8812, 2.2907, 2.3642, 1.2692, 0.8456, 2.0188, 2.3178, 0.8577, 1.3163, 3.0879, 3.0876, 3.087, 3.0863, 3.0858, 3.0848, 3.0832, 3.0827, 3.0825, 3.0822, 3.0817, 3.0814, 3.0805, 3.0794, 3.0794, 3.0793, 3.0789, 3.0769, 3.0769, 3.0766, 3.0765, 3.0764, 3.076, 3.0758, 3.0757, 3.0756, 3.0752, 3.0746, 3.0742, 3.0727, 2.6852, 0.2852, 2.4163, 3.1492, 3.1488, 3.1488, 3.1487, 3.1483, 3.1481, 3.1479, 3.1477, 3.1477, 3.1476, 3.1475, 3.1472, 3.1472, 3.1472, 3.1471, 3.1464, 3.1458, 3.1457, 3.1451, 3.1449, 3.1448, 3.1445, 3.1444, 3.1443, 3.1443, 3.1441, 3.1441, 3.1438, 3.1437, 3.1434, 3.0103, 2.8044, 2.8073, 2.7826, 2.9665, 2.4795, 2.4073, 2.4805, 2.6063, 1.7672, 2.0772, 1.0953, 2.668, 0.7904, 2.0323, 1.8607, 3.8684, 3.8683, 3.8676, 3.8671, 3.8669, 3.8664, 3.8663, 3.866, 3.8656, 3.8655, 3.8641, 3.8626, 3.8624, 3.8622, 3.8622, 3.8622, 3.8621, 3.8616, 3.8616, 3.8615, 3.8614, 3.8613, 3.8612, 3.8607, 3.8607, 3.8605, 3.8605, 3.86, 3.8594, 3.859, 3.7784, 3.5044, 2.9403, 2.8688, 2.4832, 3.3243, 3.7326, 2.8615, 3.0754, 2.6775, 1.344]}, \"token.table\": {\"Topic\": [6, 1, 1, 3, 6, 1, 2, 3, 4, 7, 5, 4, 4, 2, 7, 1, 2, 4, 5, 7, 1, 3, 4, 5, 7, 1, 2, 3, 7, 1, 1, 5, 7, 2, 4, 6, 1, 2, 3, 3, 8, 3, 1, 1, 6, 1, 2, 3, 3, 1, 2, 1, 2, 3, 5, 6, 7, 4, 8, 8, 6, 6, 4, 7, 4, 3, 3, 2, 3, 4, 5, 7, 1, 2, 4, 5, 1, 4, 5, 8, 2, 3, 4, 5, 7, 1, 1, 5, 2, 2, 1, 1, 6, 5, 7, 5, 7, 1, 1, 3, 2, 2, 5, 1, 2, 1, 2, 3, 5, 2, 1, 1, 4, 5, 8, 5, 6, 4, 5, 1, 2, 2, 3, 4, 1, 5, 7, 5, 5, 5, 5, 6, 8, 1, 5, 4, 4, 8, 2, 4, 8, 1, 2, 3, 4, 1, 2, 4, 3, 5, 2, 3, 2, 1, 4, 5, 1, 7, 3, 4, 4, 1, 4, 6, 2, 2, 3, 4, 2, 8, 7, 1, 2, 3, 5, 1, 5, 1, 7, 1, 1, 5, 1, 3, 5, 2, 3, 5, 5, 1, 2, 3, 4, 7, 8, 4, 1, 3, 5, 7, 3, 5, 8, 6, 1, 2, 3, 5, 5, 1, 2, 3, 7, 1, 2, 3, 5, 1, 3, 1, 1, 2, 3, 5, 7, 8, 2, 1, 7, 4, 5, 1, 2, 4, 8, 5, 1, 3, 6, 6, 2, 4, 3, 1, 2, 6, 2, 3, 4, 5, 3, 3, 5, 1, 2, 3, 6, 8, 5, 2, 6, 3, 8, 6, 5, 2, 4, 8, 1, 2, 4, 5, 7, 8, 2, 3, 4, 2, 2, 4, 7, 7, 7, 2, 7, 6, 7, 8, 8, 2, 5, 1, 2, 3, 6, 5, 7, 1, 2, 3, 4, 5, 7, 7, 1, 5, 1, 3, 4, 7, 7, 2, 5, 1, 2, 3, 4, 5, 1, 2, 3, 4, 5, 1, 5, 1, 2, 3, 6, 6, 1, 2, 3, 4, 1, 3, 2, 3, 4, 1, 2, 3, 6, 2, 2, 1, 2, 3, 4, 5, 1, 5, 7, 1, 2, 3, 4, 4, 1, 1, 2, 4, 2, 6, 5, 7, 5, 1, 7, 7, 4, 3, 6, 5, 6, 1, 2, 3, 4, 6, 1, 2, 3, 4, 1, 2, 3, 4, 8, 1, 2, 3, 7, 7, 1, 2, 8, 1, 2, 7, 1, 2, 3, 6, 2, 3, 3, 1, 7, 3, 1, 5, 1, 2, 4, 7, 1, 4, 5, 2, 8, 1, 2, 3, 2, 3, 3, 3, 1, 2, 3, 5, 4, 5, 7, 5, 1, 2, 3, 4, 5, 7, 2, 3, 7, 8, 8, 1, 2, 4, 4, 2, 4, 2, 5, 1, 1, 2, 4, 7, 2, 4, 5, 1, 2, 6, 6, 3, 7, 8, 2, 3, 4, 5, 5, 1, 8, 1, 4, 8, 1, 1, 2, 3, 4, 5, 7, 2, 4, 1, 2, 3, 4, 3, 3, 1, 2, 3, 5, 2, 4, 5, 6, 7, 8, 2, 3, 7, 1, 2, 3, 3, 4, 5, 8, 7, 3, 1, 3, 5, 1, 4, 4, 3, 2, 3, 8, 1, 2, 3, 1, 2, 3, 4, 8, 1, 2, 3, 8, 1, 2, 3, 7, 1, 8, 1, 2, 4, 5, 7, 8, 3, 5, 8, 4, 6, 7, 1, 4, 5, 2, 5, 7, 5, 2, 7, 1, 3, 8, 3, 1, 2, 5, 7, 1, 1, 4, 7, 8, 6, 4, 1, 2, 4, 1, 2, 3, 4, 5, 1, 3, 3, 1, 2, 3, 5, 7, 4, 1, 2, 3, 1, 2, 3, 1, 3, 1, 2, 3, 4, 5, 3, 4, 4, 5, 1, 2, 4, 7, 1, 4, 4, 7, 7, 5, 1, 8, 1, 2, 4, 5, 7, 8, 2, 1, 2, 8, 7, 6, 7, 1, 2, 3, 1, 5, 7, 1, 2, 3, 7, 5, 1, 2, 3, 4, 1, 2, 3, 4, 8, 2, 3, 2, 8, 3, 4, 7, 6, 1, 2, 1, 2, 4, 7, 7, 1, 2, 3, 1, 2, 1, 3, 4, 5, 7], \"Freq\": [0.9996386401256909, 0.999283870220357, 0.9874213385268376, 0.011492779885860378, 0.9929768838731835, 0.442732606505999, 0.3985917683698077, 0.044140838136191324, 0.09777195647166378, 0.016552814301071746, 0.9948250058239645, 0.9954734044719906, 0.9967577214559452, 0.9985866619037077, 0.9971680345755253, 0.03811106200791787, 0.24884281663993435, 0.3284276814211746, 0.10984953166988093, 0.2746238291747023, 0.9992861335299641, 0.06744502151606044, 0.03372251075803022, 0.8970187861636039, 0.9969974498823013, 0.6521137016315833, 0.17578018686969182, 0.17203163756858644, 0.9952293120534056, 0.9983260546016967, 0.16361335245939435, 0.3243308933708348, 0.5111107382138602, 0.9162900513557483, 0.08286029437194212, 0.9999826214229461, 0.507773444159806, 0.18473767516165807, 0.3072156918434203, 0.9931243023785161, 0.9920023542963916, 0.9966704520448424, 0.9991411514909421, 0.9997339137279971, 0.9909750136409812, 0.33623170327678925, 0.16204981575453503, 0.5008812486958356, 0.9986000866715464, 0.0848517928814468, 0.9147720684616251, 0.013044695303908158, 0.12881636612609307, 0.10272697551827674, 0.7549617407136846, 0.9858211476293146, 0.9928023079895775, 0.30441867329734573, 0.6943247822466858, 0.9899340163576388, 0.9771218524600546, 0.9993147991675265, 0.9956365147154341, 0.9956807143077172, 0.996659121684351, 0.9967996088919145, 0.9991884641869336, 0.9992819854350986, 0.14112822350770193, 0.14568074684666008, 0.6661859152675392, 0.04552523338958127, 0.42708040886633575, 0.21438758619679157, 0.19955840533337713, 0.1588840806794404, 0.5743122178667769, 0.39390866816222736, 0.031446490315471934, 0.9905776039820388, 0.19870683423721058, 0.10678802656285467, 0.23925924938766174, 0.12841598130976195, 0.32712281554697253, 0.9979759645771811, 0.04551674703886178, 0.9534973733140872, 0.9988471944283029, 0.9982815258593358, 0.9994940076715719, 0.9976629814528001, 0.9853288155388552, 0.9122886431464631, 0.08469523212235068, 0.1660499768325561, 0.8302498841627804, 0.9992871302026243, 0.9977798577832167, 0.9941084052487432, 0.9989324785875776, 0.9990260821123776, 0.9929495371449434, 0.09713990639542314, 0.9026274488070292, 0.7624694890042972, 0.08333453746924237, 0.13815260530615261, 0.015780958922746894, 0.9992068571315404, 0.9981650645821126, 0.2453732425683878, 0.36594457727871627, 0.08249617638075107, 0.30460126663661935, 0.9957211442060078, 0.9950201142793196, 0.9969080442358831, 0.9966326693974348, 0.016768854707345, 0.9820260537988916, 0.4659757458563263, 0.08625508487127742, 0.44713842847064506, 0.2767983354768696, 0.5072294370921316, 0.21497535699472614, 0.9978120238582431, 0.9977550400921068, 0.9980659117257319, 0.9916960348394792, 0.997911300883223, 0.9934925196434141, 0.20650296480074987, 0.7922565668798, 0.9975619738901708, 0.995140413596055, 0.9958748828152452, 0.9984445321206664, 0.6339643595539356, 0.3654380543925552, 0.009456529987188537, 0.1531957857924543, 0.8378485568649044, 0.9958144970059528, 0.2952028278547741, 0.7038624802584686, 0.9981364018516585, 0.9947219887502975, 0.9929796486415406, 0.9471235831989715, 0.05287776936203905, 0.9991911460215829, 0.020412660409486288, 0.20242554906073904, 0.7756810955604789, 0.5233986961702266, 0.4749607705606426, 0.0659654709907376, 0.9311279943692576, 0.9957012938234193, 0.1351982535474228, 0.8634252101551319, 0.9897527394718962, 0.9985446673582318, 0.998765318717144, 0.9978644699350543, 0.9932019573219347, 0.9981224917031006, 0.9908014718098103, 0.9928947440018219, 0.8092294827023033, 0.06249751507064607, 0.10232753762862258, 0.025905705728765212, 0.9995803605657302, 0.9950082439403192, 0.9988323264671322, 0.9957673636524562, 0.999289650609608, 0.9512363140959168, 0.04832940029776027, 0.9993744976728979, 0.9972950428256514, 0.9942798820029429, 0.9997058354595362, 0.049542395340986645, 0.9495625773689107, 0.9973054110927136, 0.41964388822962945, 0.1578757346494965, 0.28655294633155926, 0.007808907305243914, 0.12799817626421545, 0.9933374168530298, 0.9970109661830155, 0.39290684089315014, 0.03081622281514903, 0.23368968968154682, 0.3415464695345684, 0.9994410664460338, 0.9954085385541985, 0.9952892596683864, 0.9941870739344512, 0.34694302368059976, 0.4073621857937383, 0.2451647650281581, 0.0003737267759575581, 0.9938758423197901, 0.6778909040674731, 0.18781119263809656, 0.12236183762785079, 0.012014857441494393, 0.5869417371278721, 0.05466698223176386, 0.3422255909618571, 0.015937396073837113, 0.18539959880082546, 0.8130544905744533, 0.9989300421236874, 0.49656576241051753, 0.23744474181744413, 0.2658824286515266, 0.7487135091319699, 0.25076244021046884, 0.9911259655847977, 0.998983696525966, 0.12968036781951137, 0.8684654935791518, 0.9724214063855383, 0.025931237503614354, 0.624978102884666, 0.1835961218842257, 0.1906394513682753, 0.9864527892992057, 0.9993731208149607, 0.2767655262152583, 0.722573469639836, 0.98474578760219, 0.9879847685861808, 0.9983468565350977, 0.9965981415573444, 0.9953069027894588, 0.3143796831360262, 0.6849463734708315, 0.9815746442654937, 0.35626776398807253, 0.15918346901594732, 0.4769673174177469, 0.007580165191235586, 0.9975407895102985, 0.9984893335281061, 0.9967611259570336, 0.09396210286954898, 0.7030745120828479, 0.20269554068802267, 0.9891853551490499, 0.9894435343037825, 0.9923614291451301, 0.329260241578296, 0.6655260202114494, 0.996600298138256, 0.9898339420101213, 0.9849589074059334, 0.9929962174886603, 0.9989384026934378, 0.9932917805926523, 0.9920206912301343, 0.07206815648480008, 0.5787291354082431, 0.21347461504209722, 0.02675257324056973, 0.028936456770412157, 0.08025771972170918, 0.07826040066785206, 0.09960414630453898, 0.8210227488245571, 0.998867432380822, 0.6984240375296005, 0.28460501050847353, 0.016708709031808624, 0.9949486544560135, 0.9957332119372402, 0.9980633421571103, 0.9930737483283975, 0.9934908426789332, 0.9977892668021473, 0.9976939004392529, 0.9886234626334884, 0.9995008211288926, 0.998846765389774, 0.7154880993966168, 0.26045870284995737, 0.023973336663743107, 0.9889445804841396, 0.30618590802537016, 0.6908810232367326, 0.3414154728314901, 0.0929538701715872, 0.4852308946063986, 0.009353848570725756, 0.011692310713407195, 0.05904616910270634, 0.9966357986436993, 0.2852403251602759, 0.7140495057781631, 0.40538770946500324, 0.17958885574744962, 0.4137895272777494, 0.9980445265517657, 0.993877050824033, 0.07831638097912924, 0.9181920528587566, 0.35102053056448285, 0.17551026528224142, 0.12220107255632698, 0.3272364291944595, 0.0246042427965759, 0.15540691682885385, 0.1017208910152498, 0.04520928489566658, 0.6979183355768528, 0.9959587094635394, 0.9684123105608864, 0.03074324795431385, 0.2938205092262206, 0.5565101223156053, 0.14934122202705902, 0.0003628309573057799, 0.9908447145348356, 0.3276096835021399, 0.4569459388615755, 0.2153496085569086, 0.9929362108185885, 0.984990786484623, 0.013728094585151542, 0.21120042711399944, 0.16091461113447578, 0.6268965058780618, 0.5063770944196124, 0.31482367641486364, 0.11808704827586868, 0.060621022874444035, 0.9990767816321673, 0.999229097249782, 0.7302651703064714, 0.174124151938076, 0.09250345571710289, 0.0014403652274289378, 0.0014403652274289378, 0.881810551479056, 0.05051390004936601, 0.06735186673248801, 0.8250213962416184, 0.11631556618974366, 0.024246061684622622, 0.03440319563358615, 0.9972399795503532, 0.9988755194723488, 0.9534407735138262, 0.04641227687480378, 0.9960665675037339, 0.9986132840426355, 0.9942610524919813, 0.41701311474488606, 0.5809257841243788, 0.9955212880902135, 0.9989851925117198, 0.9958030026909526, 0.9957480407433185, 0.9960170695775759, 0.9963351607689191, 0.9921610853950095, 0.9979482539818489, 0.9817241216577272, 0.25262387015158194, 0.7090474531398907, 0.03840102260718944, 0.991849658684157, 0.9964450488252314, 0.2537422093088787, 0.5918512973133769, 0.10072699585712758, 0.053250577427653434, 0.1582824591595122, 0.2768067650704265, 0.5633655299942827, 0.0015003076697584093, 0.9974597451734251, 0.13101953673255257, 0.6541750108688716, 0.21461369185909668, 0.9953513631082216, 0.9948317144653657, 0.1171937515579066, 0.5138495260615905, 0.3681085786113733, 0.9769093652433101, 0.02195301944366989, 0.9952823907909942, 0.3591137832988501, 0.47745245393640334, 0.16266910654270178, 0.0006208744524530603, 0.09056533620159624, 0.9056533620159624, 0.997840252578118, 0.9983251421360438, 0.9921479848747917, 0.9967769033425301, 0.8429357417989282, 0.15696727833381255, 0.9946068609987814, 0.00378657434390399, 0.9920709425288783, 0.005406381158195522, 0.7460658009403697, 0.0023050436692287424, 0.25124975994593296, 0.9986491889751234, 0.9984083600202874, 0.07431820882146103, 0.12209420020668599, 0.8033444477367455, 0.998039341506134, 0.9994359180525842, 0.998541938110877, 0.9960298114506759, 0.7786418378769735, 0.10669637601063628, 0.11429288174602138, 0.9970522847277713, 0.2379819345610346, 0.14278916073662076, 0.6157782556766771, 0.9962318729843533, 0.1399660107163263, 0.2051462608048116, 0.09056624222821115, 0.453517319036724, 0.09193845801954768, 0.01852491318304319, 0.5716532712012957, 0.15286297916616928, 0.02442189607980219, 0.24964604881575575, 0.99215154215793, 0.31982261602309203, 0.6488101093828142, 0.030970964792750022, 0.9968395140987744, 0.9074929748843772, 0.09195928812161688, 0.25878973211320977, 0.7408490370299732, 0.9988133255123085, 0.3190204288965848, 0.3512513588263428, 0.320335977056983, 0.00855106304258887, 0.2520435137006889, 0.21720220445382893, 0.5300326832235075, 0.7009667003056759, 0.2986823518598084, 0.99056075618421, 0.995946833923914, 0.47193213383595645, 0.07434547313854109, 0.452537662582424, 0.22248661972693345, 0.028130492149382392, 0.5753964303282761, 0.1738975878325457, 0.9982162070039655, 0.9996768711217053, 0.9972442471556954, 0.05426902153283802, 0.8905053078797511, 0.05180224782679992, 0.9989222054514754, 0.9984140916277977, 0.11592769869573301, 0.06520933051634982, 0.5334485510295839, 0.19653367669510988, 0.08785145916786018, 0.13959622313059594, 0.8595609959694963, 0.22125062899180728, 0.18061275836065901, 0.04741084906967299, 0.5497400832602558, 0.9974990501365972, 0.9974556668775932, 0.564406672819615, 0.06557557296921539, 0.13017240604336786, 0.23946502765872685, 0.9986486768099018, 0.7234920249291659, 0.2759711847667952, 0.9971824678918508, 0.9927978793420119, 0.9880929412095061, 0.6848219625771176, 0.3147232986829103, 0.9924384865868194, 0.7023314024075646, 0.05369317399776636, 0.24408793466800685, 0.05733117312591122, 0.22522960870893693, 0.7166396640738902, 0.9990269227385719, 0.9949011106948851, 0.9934521488742444, 0.9460398477542451, 0.02505182298189712, 0.028905949594496678, 0.4179584069684431, 0.580497787456171, 0.9961275772895342, 0.997776299730448, 0.9980139313162028, 0.9986989861621778, 0.9953318374845797, 0.7098965933827419, 0.1591184660327104, 0.13069676438681357, 0.7750804697763044, 0.17699024516678985, 0.04745390631283496, 0.4181811972494077, 0.5790201192684107, 0.05917105114354861, 0.30503697055036266, 0.24076496672202538, 0.39481373780264334, 0.1127042864438547, 0.7669983601773679, 0.042644865140918, 0.07736996961280836, 0.9992885799199318, 0.9970802882001224, 0.024640330190677174, 0.44000589626209236, 0.4939799528702424, 0.03754716981436522, 0.003520047170096739, 0.9903692845248798, 0.3151224522055406, 0.6845763616878986, 0.9910402912486025, 0.9948607565306191, 0.9974366534860176, 0.9941225006953308, 0.9986273942789711, 0.9959412576779335, 0.9952294512835773, 0.9987492187385776, 0.28831424896637675, 0.7087725287090095, 0.9934309144249254, 0.29228686368546947, 0.7070763099449959, 0.9985589843337247, 0.9946170814779322, 0.9881927558046694, 0.9971886773199705, 0.42011474692374456, 0.05380338274370261, 0.44208446154408976, 0.08384360477560324, 0.9989138955863707, 0.2609128003496726, 0.7376075382858313, 0.12250298908331377, 0.8711323668146757, 0.9928436234839945, 0.9967045987904302, 0.13422841226833807, 0.8068786580175379, 0.05856782782494901, 0.6974569975306648, 0.07693162033368545, 0.17584370361985247, 0.0019726056495816785, 0.047906137204126474, 0.9647421390427748, 0.0346128859045881, 0.9994994392391642, 0.8647477939622904, 0.11527311460106178, 0.01475814962020514, 0.004786426903850316, 0.9942956835498045, 0.9987344587313474, 0.009957149683893165, 0.97022466519855, 0.019516013380430602, 0.8886992734789351, 0.0925007998659981, 0.01844252707608685, 0.875617759624368, 0.12414945516783636, 0.6126774843556241, 0.18493164176491383, 0.15316937108890602, 0.047016519092774704, 0.0022985853778689854, 0.9969232657210925, 0.9966782283135939, 0.9975497622726349, 0.9956162143266225, 0.9524447263660695, 0.0468163805868898, 0.9919851181673389, 0.006278386823843917, 0.9991833235615376, 0.9941289923456947, 0.9967363948265702, 0.9964143887642296, 0.9967939369517642, 0.996266706621162, 0.9988380198327688, 0.9975908379268984, 0.12800591783393483, 0.7909086956001646, 0.052671287502160075, 0.028329178537018367, 0.0814639891066287, 0.9104798782505561, 0.9979429347736504, 0.9974895546533555, 0.9987685869551152, 0.9939715728963187, 0.9985901824031684, 0.5100999898618854, 0.4863744089380768, 0.5980156175448378, 0.37124003223991336, 0.030516714565724398, 0.1536635221763427, 0.33382075507274445, 0.5122117405878089, 0.753063336776786, 0.17047571839112946, 0.06033169707127087, 0.015469665915710478, 0.9965717716429138, 0.15798091679455525, 0.09373534396476944, 0.3022701541335824, 0.4455061853606458, 0.5979200508219703, 0.16645393356216023, 0.2319404153188522, 0.0035042933381507417, 0.9910666891549329, 0.14940885468607507, 0.8498122687170936, 0.9995852385876747, 0.9973535246310545, 0.9955588217757921, 0.9979856190349874, 0.9970221183418924, 0.9912919746042894, 0.964785703265701, 0.034619317019921284, 0.32299067349323435, 0.5932988374756167, 0.060405599910348697, 0.023169271198489914, 0.9956402943580104, 0.6446049828121643, 0.23096034976630417, 0.12437061881041461, 0.9451149937148315, 0.05377986438116112, 0.14310797646282777, 0.5330568459137209, 0.18438390136292232, 0.04507765482510325, 0.09422859171271583], \"Term\": [\"_\", \"accept\", \"agree\", \"agree\", \"ai\", \"also\", \"also\", \"also\", \"also\", \"also\", \"amendment\", \"analysis\", \"announce\", \"application\", \"arab\", \"area\", \"area\", \"area\", \"area\", \"area\", \"argument\", \"arm\", \"arm\", \"arm\", \"armenian\", \"article\", \"article\", \"article\", \"astronomy\", \"atheist\", \"attack\", \"attack\", \"attack\", \"available\", \"available\", \"ax\", \"back\", \"back\", \"back\", \"ball\", \"band\", \"baseball\", \"belief\", \"believe\", \"bhj\", \"big\", \"big\", \"big\", \"bike\", \"bit\", \"bit\", \"black\", \"black\", \"black\", \"black\", \"bo\", \"border\", \"box\", \"box\", \"buyer\", \"bxn\", \"c\", \"cable\", \"cambridge\", \"cap\", \"capable\", \"car\", \"card\", \"carry\", \"carry\", \"carry\", \"carry\", \"case\", \"case\", \"case\", \"case\", \"cause\", \"cause\", \"cause\", \"cd\", \"center\", \"center\", \"center\", \"center\", \"center\", \"certainly\", \"child\", \"child\", \"chip\", \"choose\", \"christian\", \"church\", \"ci\", \"citizen\", \"citizen\", \"civilian\", \"civilian\", \"claim\", \"clear\", \"coach\", \"code\", \"color\", \"colorado\", \"com\", \"com\", \"come\", \"come\", \"come\", \"come\", \"computer\", \"conclusion\", \"condition\", \"condition\", \"condition\", \"condition\", \"constitution\", \"conversion\", \"convert\", \"cop\", \"copy\", \"copy\", \"cost\", \"cost\", \"cost\", \"country\", \"country\", \"country\", \"court\", \"crime\", \"criminal\", \"cub\", \"cx\", \"daughter\", \"death\", \"death\", \"degree\", \"diagnosis\", \"direct\", \"disk\", \"distribution\", \"distribution\", \"division\", \"division\", \"division\", \"dn\", \"do\", \"do\", \"doctor\", \"dog\", \"dream\", \"drive\", \"drive\", \"driver\", \"drug\", \"drug\", \"drug\", \"earth\", \"earth\", \"eat\", \"eat\", \"eeg\", \"effect\", \"effect\", \"ei\", \"email\", \"encryption\", \"engine\", \"ensure\", \"entry\", \"ethernet\", \"ethnic\", \"even\", \"even\", \"even\", \"even\", \"evidence\", \"examine\", \"existence\", \"expansion\", \"explain\", \"fact\", \"fact\", \"faith\", \"fan\", \"father\", \"file\", \"fire\", \"fire\", \"firearm\", \"first\", \"first\", \"first\", \"first\", \"first\", \"floppy\", \"food\", \"force\", \"force\", \"force\", \"force\", \"game\", \"gang\", \"gateway\", \"gb\", \"get\", \"get\", \"get\", \"get\", \"girl\", \"give\", \"give\", \"give\", \"give\", \"go\", \"go\", \"go\", \"go\", \"goal\", \"goal\", \"god\", \"good\", \"good\", \"good\", \"government\", \"government\", \"grade\", \"graphic\", \"greek\", \"greek\", \"ground\", \"ground\", \"group\", \"group\", \"group\", \"guide\", \"gun\", \"guy\", \"guy\", \"gw\", \"gy\", \"hardware\", \"health\", \"helmet\", \"help\", \"help\", \"hh\", \"high\", \"high\", \"high\", \"high\", \"hit\", \"hockey\", \"honest\", \"host\", \"host\", \"host\", \"hst\", \"human_being\", \"husband\", \"hz\", \"hz\", \"ice\", \"icon\", \"ij\", \"illegal\", \"image\", \"improve\", \"inch\", \"include\", \"include\", \"include\", \"include\", \"include\", \"include\", \"increase\", \"increase\", \"increase\", \"info\", \"information\", \"information\", \"information\", \"inhabitant\", \"international\", \"internet\", \"invasion\", \"ip\", \"israeli\", \"item\", \"jet\", \"key\", \"kill\", \"know\", \"know\", \"know\", \"kp\", \"land\", \"land\", \"last\", \"last\", \"last\", \"last\", \"last\", \"last\", \"launch\", \"law\", \"law\", \"lead\", \"lead\", \"lead\", \"lebanese\", \"lebanese_resistance\", \"legal\", \"legal\", \"less\", \"less\", \"less\", \"less\", \"less\", \"level\", \"level\", \"level\", \"level\", \"liar\", \"life\", \"life\", \"line\", \"line\", \"line\", \"line\", \"lk\", \"look\", \"look\", \"look\", \"los_angele\", \"love\", \"love\", \"low\", \"low\", \"low\", \"m\", \"m\", \"m\", \"m\", \"machine\", \"mail\", \"make\", \"make\", \"make\", \"make\", \"make\", \"man\", \"man\", \"man\", \"many\", \"many\", \"many\", \"many\", \"material\", \"matter\", \"mean\", \"mean\", \"medical\", \"memory\", \"mf\", \"military\", \"military\", \"militia\", \"mind\", \"mission\", \"moon\", \"motif\", \"motorcycle\", \"mu\", \"murder\", \"n\", \"need\", \"need\", \"need\", \"negative\", \"nei\", \"new\", \"new\", \"new\", \"new\", \"next\", \"next\", \"next\", \"next\", \"nhl\", \"nntp_poste\", \"nntp_poste\", \"nntp_poste\", \"northern\", \"occupy\", \"offer\", \"offer\", \"offer\", \"opinion\", \"opinion\", \"orbit\", \"organization\", \"organization\", \"organization\", \"organization\", \"owner\", \"owner\", \"pack\", \"patient\", \"patrol\", \"pen\", \"people\", \"people\", \"perhaps\", \"perhaps\", \"period\", \"period\", \"person\", \"person\", \"person\", \"phone\", \"physical\", \"pick\", \"pick\", \"pick\", \"pin\", \"play\", \"player\", \"playoff\", \"point\", \"point\", \"point\", \"police\", \"policy\", \"policy\", \"policy\", \"possess\", \"power\", \"power\", \"power\", \"power\", \"power\", \"power\", \"price\", \"price\", \"price\", \"price\", \"probe\", \"problem\", \"problem\", \"problem\", \"procedure\", \"program\", \"program\", \"protect\", \"protect\", \"prove\", \"provide\", \"provide\", \"provide\", \"provide\", \"public\", \"public\", \"public\", \"question\", \"question\", \"qx\", \"r\", \"radio\", \"radio\", \"radio\", \"rate\", \"rate\", \"rate\", \"rate\", \"reality\", \"reason\", \"recommend\", \"reduce\", \"reduce\", \"reduce\", \"religion\", \"religious\", \"report\", \"report\", \"report\", \"report\", \"report\", \"research\", \"research\", \"result\", \"result\", \"result\", \"result\", \"ride\", \"rider\", \"right\", \"right\", \"right\", \"right\", \"ripem\", \"risk\", \"risk\", \"rlk\", \"rocket\", \"routine\", \"run\", \"run\", \"russian\", \"s\", \"s\", \"s\", \"safety\", \"safety\", \"safety\", \"sale\", \"satellite\", \"saturn\", \"say\", \"say\", \"say\", \"science\", \"science\", \"scientific\", \"score\", \"screen\", \"season\", \"sector\", \"see\", \"see\", \"see\", \"seem\", \"seem\", \"seem\", \"select\", \"select\", \"sell\", \"sell\", \"sell\", \"sell\", \"send\", \"send\", \"send\", \"send\", \"sense\", \"server\", \"service\", \"service\", \"service\", \"service\", \"service\", \"shipping\", \"shoot\", \"shoot\", \"shuttle\", \"significant\", \"sj\", \"sky\", \"slave\", \"slightly\", \"smoke\", \"software\", \"soldier\", \"soldier\", \"son\", \"space\", \"space\", \"speak\", \"sport\", \"stack\", \"stat\", \"state\", \"state\", \"state\", \"state\", \"statement\", \"study\", \"study\", \"super\", \"super\", \"sy\", \"syndrome\", \"system\", \"system\", \"system\", \"take\", \"take\", \"take\", \"take\", \"take\", \"talk\", \"talk\", \"team\", \"tell\", \"tell\", \"tell\", \"tell\", \"terrorism\", \"test\", \"thank\", \"thank\", \"thank\", \"thing\", \"thing\", \"thing\", \"think\", \"think\", \"time\", \"time\", \"time\", \"time\", \"time\", \"trade\", \"translation\", \"treatment\", \"trial\", \"true\", \"true\", \"trust\", \"trust\", \"truth\", \"tube\", \"tumor\", \"turk\", \"turkish\", \"tv\", \"understand\", \"upgrade\", \"use\", \"use\", \"use\", \"use\", \"usenet\", \"usenet\", \"user\", \"valid\", \"version\", \"vertical\", \"village\", \"wa\", \"wa\", \"want\", \"want\", \"want\", \"war\", \"war\", \"war\", \"way\", \"way\", \"way\", \"way\", \"weapon\", \"week\", \"week\", \"week\", \"week\", \"well\", \"well\", \"well\", \"well\", \"widget\", \"win\", \"win\", \"window\", \"wing\", \"winner\", \"wire\", \"withdraw\", \"wm\", \"word\", \"word\", \"work\", \"work\", \"work\", \"work\", \"workstation\", \"write\", \"write\", \"write\", \"wrong\", \"wrong\", \"year\", \"year\", \"year\", \"year\", \"year\"]}, \"R\": 30, \"lambda.step\": 0.01, \"plot.opts\": {\"xlab\": \"PC1\", \"ylab\": \"PC2\"}, \"topic.order\": [3, 2, 4, 8, 6, 5, 7, 1]};\n",
       "\n",
       "function LDAvis_load_lib(url, callback){\n",
       "  var s = document.createElement('script');\n",
       "  s.src = url;\n",
       "  s.async = true;\n",
       "  s.onreadystatechange = s.onload = callback;\n",
       "  s.onerror = function(){console.warn(\"failed to load library \" + url);};\n",
       "  document.getElementsByTagName(\"head\")[0].appendChild(s);\n",
       "}\n",
       "\n",
       "if(typeof(LDAvis) !== \"undefined\"){\n",
       "   // already loaded: just create the visualization\n",
       "   !function(LDAvis){\n",
       "       new LDAvis(\"#\" + \"ldavis_el161217073903369129845235341\", ldavis_el161217073903369129845235341_data);\n",
       "   }(LDAvis);\n",
       "}else if(typeof define === \"function\" && define.amd){\n",
       "   // require.js is available: use it to load d3/LDAvis\n",
       "   require.config({paths: {d3: \"https://d3js.org/d3.v5\"}});\n",
       "   require([\"d3\"], function(d3){\n",
       "      window.d3 = d3;\n",
       "      LDAvis_load_lib(\"https://cdn.jsdelivr.net/gh/bmabey/pyLDAvis@3.3.1/pyLDAvis/js/ldavis.v3.0.0.js\", function(){\n",
       "        new LDAvis(\"#\" + \"ldavis_el161217073903369129845235341\", ldavis_el161217073903369129845235341_data);\n",
       "      });\n",
       "    });\n",
       "}else{\n",
       "    // require.js not available: dynamically load d3 & LDAvis\n",
       "    LDAvis_load_lib(\"https://d3js.org/d3.v5.js\", function(){\n",
       "         LDAvis_load_lib(\"https://cdn.jsdelivr.net/gh/bmabey/pyLDAvis@3.3.1/pyLDAvis/js/ldavis.v3.0.0.js\", function(){\n",
       "                 new LDAvis(\"#\" + \"ldavis_el161217073903369129845235341\", ldavis_el161217073903369129845235341_data);\n",
       "            })\n",
       "         });\n",
       "}\n",
       "</script>"
      ],
      "text/plain": [
       "<IPython.core.display.HTML object>"
      ]
     },
     "execution_count": 27,
     "metadata": {},
     "output_type": "execute_result"
    }
   ],
   "source": [
    "pyLDAvis.display(vis)"
   ]
  },
  {
   "cell_type": "code",
   "execution_count": 28,
   "id": "acb48bde",
   "metadata": {},
   "outputs": [
    {
     "data": {
      "text/plain": [
       "'\\n<link rel=\"stylesheet\" type=\"text/css\" href=\"https://cdn.jsdelivr.net/gh/bmabey/pyLDAvis@3.3.1/pyLDAvis/js/ldavis.v1.0.0.css\">\\n\\n\\n<div id=\"ldavis_el161217073903369122173659319\"></div>\\n<script type=\"text/javascript\">\\n\\nvar ldavis_el161217073903369122173659319_data = {\"mdsDat\": {\"x\": [0.2588254855676673, 0.23734357756300337, 0.189015026443558, 0.020538386629495947, -0.06310568544552694, -0.2636911135880866, -0.13245574463596743, -0.24646993253414456], \"y\": [-0.019465827202463152, -0.10329800854183106, -0.07703042334915874, 0.07586075873138662, 0.2586671203271546, -0.19059986534803597, 0.19638297938098223, -0.1405167339980344], \"topics\": [1, 2, 3, 4, 5, 6, 7, 8], \"cluster\": [1, 1, 1, 1, 1, 1, 1, 1], \"Freq\": [35.007329855434016, 26.704876171915636, 11.164246844149536, 9.46235289750335, 6.735145011697225, 4.559648750419625, 4.2798659363619445, 2.08653453251867]}, \"tinfo\": {\"Term\": [\"ax\", \"_\", \"people\", \"line\", \"go\", \"get\", \"say\", \"think\", \"write\", \"team\", \"year\", \"nntp_poste\", \"game\", \"space\", \"car\", \"host\", \"article\", \"organization\", \"government\", \"law\", \"state\", \"sale\", \"child\", \"gun\", \"c\", \"good\", \"right\", \"physical\", \"kill\", \"first\", \"believe\", \"reason\", \"evidence\", \"claim\", \"christian\", \"sense\", \"faith\", \"understand\", \"god\", \"religion\", \"argument\", \"matter\", \"accept\", \"explain\", \"speak\", \"prove\", \"patient\", \"truth\", \"belief\", \"mind\", \"clear\", \"atheist\", \"certainly\", \"church\", \"valid\", \"statement\", \"conclusion\", \"slave\", \"religious\", \"existence\", \"perhaps\", \"agree\", \"say\", \"opinion\", \"love\", \"mean\", \"talk\", \"life\", \"fact\", \"think\", \"thing\", \"people\", \"true\", \"word\", \"tell\", \"many\", \"make\", \"even\", \"know\", \"write\", \"wrong\", \"come\", \"article\", \"man\", \"see\", \"point\", \"way\", \"take\", \"go\", \"s\", \"time\", \"seem\", \"well\", \"give\", \"line\", \"question\", \"good\", \"want\", \"organization\", \"get\", \"m\", \"key\", \"mail\", \"file\", \"window\", \"card\", \"computer\", \"chip\", \"driver\", \"software\", \"info\", \"email\", \"machine\", \"image\", \"version\", \"code\", \"phone\", \"entry\", \"memory\", \"color\", \"ripem\", \"user\", \"internet\", \"pin\", \"application\", \"screen\", \"hardware\", \"choose\", \"graphic\", \"disk\", \"encryption\", \"thank\", \"drive\", \"copy\", \"program\", \"bit\", \"use\", \"system\", \"available\", \"host\", \"line\", \"nntp_poste\", \"need\", \"com\", \"organization\", \"problem\", \"run\", \"work\", \"get\", \"help\", \"new\", \"send\", \"do\", \"also\", \"write\", \"information\", \"look\", \"know\", \"m\", \"want\", \"article\", \"team\", \"game\", \"car\", \"play\", \"player\", \"hockey\", \"bike\", \"season\", \"hit\", \"trade\", \"fan\", \"engine\", \"ride\", \"score\", \"playoff\", \"pen\", \"capable\", \"motorcycle\", \"baseball\", \"sport\", \"pack\", \"rider\", \"stat\", \"helmet\", \"coach\", \"saturn\", \"dog\", \"ice\", \"winner\", \"ball\", \"win\", \"division\", \"year\", \"pick\", \"goal\", \"owner\", \"next\", \"go\", \"guy\", \"last\", \"get\", \"good\", \"line\", \"big\", \"nntp_poste\", \"well\", \"article\", \"organization\", \"first\", \"run\", \"write\", \"host\", \"s\", \"look\", \"time\", \"back\", \"think\", \"take\", \"see\", \"test\", \"wire\", \"scientific\", \"announce\", \"motif\", \"material\", \"food\", \"treatment\", \"health\", \"dn\", \"doctor\", \"diagnosis\", \"syndrome\", \"significant\", \"convert\", \"cable\", \"tumor\", \"analysis\", \"translation\", \"medical\", \"eeg\", \"procedure\", \"degree\", \"improve\", \"ensure\", \"tube\", \"slightly\", \"los_angele\", \"negative\", \"cap\", \"period\", \"trust\", \"ground\", \"eat\", \"research\", \"effect\", \"increase\", \"reduce\", \"study\", \"level\", \"low\", \"high\", \"report\", \"science\", \"power\", \"risk\", \"result\", \"rate\", \"cost\", \"year\", \"cause\", \"service\", \"information\", \"provide\", \"week\", \"case\", \"also\", \"lead\", \"less\", \"group\", \"include\", \"gun\", \"kill\", \"reality\", \"crime\", \"murder\", \"weapon\", \"police\", \"tv\", \"trial\", \"criminal\", \"firearm\", \"cop\", \"court\", \"examine\", \"militia\", \"father\", \"smoke\", \"illegal\", \"colorado\", \"son\", \"girl\", \"amendment\", \"dream\", \"husband\", \"honest\", \"constitution\", \"possess\", \"gang\", \"cub\", \"liar\", \"child\", \"fire\", \"citizen\", \"legal\", \"government\", \"death\", \"law\", \"drug\", \"black\", \"protect\", \"arm\", \"public\", \"state\", \"carry\", \"safety\", \"right\", \"people\", \"country\", \"shoot\", \"case\", \"person\", \"ax\", \"_\", \"c\", \"cx\", \"rlk\", \"sj\", \"mf\", \"nei\", \"mu\", \"r\", \"ip\", \"sy\", \"conversion\", \"lk\", \"wm\", \"gy\", \"hst\", \"kp\", \"bo\", \"ei\", \"gb\", \"ai\", \"bhj\", \"n\", \"qx\", \"ij\", \"ci\", \"hh\", \"gw\", \"bxn\", \"hz\", \"m\", \"wa\", \"israeli\", \"lebanese\", \"armenian\", \"village\", \"launch\", \"turk\", \"orbit\", \"mission\", \"moon\", \"turkish\", \"arab\", \"occupy\", \"terrorism\", \"withdraw\", \"satellite\", \"international\", \"workstation\", \"rocket\", \"northern\", \"ethnic\", \"cambridge\", \"lebanese_resistance\", \"patrol\", \"astronomy\", \"expansion\", \"inhabitant\", \"border\", \"invasion\", \"sky\", \"russian\", \"greek\", \"space\", \"soldier\", \"land\", \"civilian\", \"attack\", \"earth\", \"war\", \"military\", \"government\", \"force\", \"first\", \"policy\", \"year\", \"center\", \"area\", \"sale\", \"physical\", \"server\", \"item\", \"wing\", \"direct\", \"nhl\", \"recommend\", \"upgrade\", \"gateway\", \"vertical\", \"shuttle\", \"band\", \"cd\", \"probe\", \"floppy\", \"sector\", \"widget\", \"icon\", \"daughter\", \"ethernet\", \"buyer\", \"inch\", \"shipping\", \"human_being\", \"routine\", \"jet\", \"guide\", \"grade\", \"stack\", \"usenet\", \"box\", \"sell\", \"offer\", \"price\", \"select\", \"super\", \"distribution\", \"radio\", \"condition\", \"include\"], \"Freq\": [33697.0, 3365.0, 6058.0, 13780.0, 5835.0, 8027.0, 6746.0, 5630.0, 10460.0, 1882.0, 3682.0, 5419.0, 1801.0, 1395.0, 1754.0, 4874.0, 7469.0, 8053.0, 1678.0, 1581.0, 2230.0, 871.0, 1274.0, 1228.0, 1070.0, 5028.0, 3065.0, 815.0, 1165.0, 2945.0, 2735.6533349058654, 2727.8063502912973, 2400.93296434845, 1658.1076832756828, 1420.6449329516022, 1410.9293442647095, 1160.6520665797123, 907.9811736081255, 875.8637618751934, 854.8479118580715, 841.5266559523948, 829.8590648841464, 826.5173700769251, 813.503671628737, 791.0663833470103, 788.8619334460433, 751.1814039822307, 733.524902811365, 710.5365675367372, 702.6389257834549, 692.4624985761182, 624.9735170959918, 607.1561912965296, 600.3310978969555, 562.3379819318936, 548.5220986180059, 534.9087914731027, 516.6282697889336, 509.73533668446305, 509.52144516701696, 788.4399652429995, 1031.3332446546453, 6381.634835279915, 1157.0985233040726, 860.9026186165577, 2156.5625081038515, 1309.7308396144183, 1197.2283018510775, 1672.9447244023495, 4930.3802083920045, 3084.4556566236315, 5107.110026055569, 1240.6148053200973, 1058.5816514674148, 2167.70561181656, 2517.613484987714, 4562.594503738643, 2498.9054421980154, 4626.180475787635, 6742.943550656511, 1071.8409348859157, 2754.4615394837974, 4870.786458915025, 1414.2893741273083, 3297.431049931297, 2255.2744649297256, 2434.3528460295233, 2474.526523937689, 3425.0748859688247, 2275.580905461358, 2931.562039581221, 1813.3671510922543, 2729.7190632682727, 2143.799214126247, 4048.6551483996204, 1908.302296053864, 2496.6832334862684, 2136.0595157785733, 2891.9562245310312, 2785.1839678177407, 2247.3864097911123, 2285.077704826876, 2017.4920883748275, 1966.5151331293132, 1551.5806842859554, 1520.0280733617994, 1498.125134239284, 1263.3940063947416, 1201.909637847328, 1088.2991706244038, 1031.1051080529385, 1018.4200927275541, 996.8574688592412, 926.9208458747856, 904.0509894330262, 881.878787254755, 879.1251748890818, 824.4849952750575, 799.0456707479636, 779.6966945066223, 771.9790990213484, 752.4861801372597, 749.3893752630037, 737.3841112849636, 733.974724691782, 719.3671439742324, 699.0937698394891, 696.1292387429938, 690.6397570803258, 687.0069037302746, 678.7760380330496, 2435.7913263684723, 2632.5490103680368, 936.7245307095047, 1875.254218847712, 1574.006164773425, 3768.820563351334, 3209.9183757084425, 1138.8928116474772, 3427.1593934887783, 7668.840090104858, 3544.7889055385754, 2584.591893442105, 1049.708076172456, 3845.1713855867906, 2053.087721245692, 1718.7203912371795, 2150.7716263889006, 3270.42543685135, 1536.2813636611438, 1844.9800679531998, 1259.3240501500843, 1309.3202612705827, 1806.212262128062, 2415.9360332799324, 1253.9761134181801, 1444.9058387467278, 1683.6210847469156, 1396.5254457319622, 1325.9260951552458, 1312.8480948357533, 1881.8759527385635, 1799.9402198600794, 1753.356975628849, 1291.6613219257965, 881.2202411912505, 733.0427639987311, 654.8519528322904, 614.7341114497434, 545.2765726562834, 478.4077677982623, 477.2273222311247, 467.9342829644801, 449.0591491338061, 434.9032581886516, 344.3050549456435, 342.0383548740579, 326.97423354010283, 316.09588417754804, 295.9226912498792, 270.3947080073121, 270.51828574599864, 244.55839020408524, 234.59538818540472, 225.99934273490243, 225.26718180507413, 216.35508340601527, 210.0473394893295, 209.6498759255749, 207.8594438240416, 207.36571759565106, 1075.0487417391435, 442.6957225615785, 1963.2050403761139, 453.60962328656746, 420.9453388811118, 290.4517575742469, 750.7949893356805, 1997.3379569097917, 435.9454410323378, 829.5012952574156, 1967.6204928600816, 1337.2961734208147, 2057.7787479929675, 577.8193008055969, 1163.060282648659, 1059.3895694525672, 1285.1294941630915, 1310.213386091644, 844.062718990035, 790.497173811573, 1300.998232375595, 988.2581094605888, 790.7546538857433, 680.834385398604, 732.5391642481607, 601.892986068893, 698.9951841000687, 623.94158019083, 607.0401149951373, 927.1086059188344, 570.0843941002676, 381.41561370148884, 382.1721952863379, 374.4296945857785, 370.96070741569, 370.04383792208796, 344.78118912877966, 314.0060239258744, 410.32486905776534, 308.51134874993727, 305.4224364956393, 297.9196879921653, 290.43172222515216, 285.8210660173483, 276.1435560890016, 274.82749607211645, 272.1708231024999, 259.80070286245063, 252.93358370737968, 254.02490081898856, 248.72373222971387, 244.53291140128516, 222.43281951010383, 215.4047186205264, 199.10904554520909, 186.69524260211182, 185.2500885159597, 184.44539223906625, 183.54962071225236, 366.68019898884774, 315.73316862181593, 449.7138101910348, 367.23426841194896, 782.1177709057197, 561.5311367672541, 576.5203217891418, 360.7412770947819, 523.4061762402343, 493.54974961255266, 561.3879537872797, 817.6276030500736, 588.5729530283024, 525.1960201287517, 661.0630748035989, 387.70991597840657, 487.1909640196931, 450.0821608675631, 450.72829672023255, 678.7733028333707, 475.7626060421141, 420.5906016279334, 510.68146856105136, 487.1853001359916, 422.61716753575575, 470.9204102685921, 443.3243546679315, 393.7036359472846, 398.92896513379594, 406.42030091161143, 390.88868574762915, 1227.7044932534423, 1164.2774036607782, 503.8306945571978, 489.0344374941638, 486.9348138657515, 433.4236192542738, 432.2108760659729, 361.2851133798736, 342.4395389821377, 332.579499851207, 300.7475309768338, 299.9474075123631, 275.5392072422334, 275.3074387232007, 232.98214914175742, 220.19873857420515, 217.9771230274431, 214.4425825616798, 209.41386282632024, 205.28863313793266, 202.17755701795465, 198.9692421315987, 197.32531435548876, 195.43415741900864, 194.56511618044047, 187.74211544376095, 186.63314198375895, 180.76755204447863, 181.4373384725895, 171.62892216103978, 1215.4426525615181, 574.7412989613077, 377.07972069605177, 340.1884131629923, 1257.2894282385155, 798.3226928220354, 1129.3907789207992, 456.2962976532647, 462.8495535367788, 437.6261723066385, 265.60478771164793, 715.0127750090239, 985.5914143129799, 438.5940850520649, 349.82775012703405, 734.4915705110296, 950.5428862206901, 360.8984159308283, 314.6766214292584, 374.77646812527837, 326.92683136492224, 33696.64384251064, 3364.2627431622614, 1069.787666074505, 572.2535063098968, 448.3237212290176, 300.823601653242, 197.19488080078767, 179.6992063851562, 178.44057601997338, 163.72559151947524, 159.04766289065248, 145.09938504768573, 128.68669879680485, 111.0708273101294, 110.01913023119897, 111.38644696926215, 106.19256340639048, 85.00647182283132, 85.27415866951605, 82.91754279840674, 84.52789424772764, 86.61268160422968, 78.77765572482777, 77.4858783699122, 76.79094470229408, 76.21820729633168, 74.15344596182752, 76.40397509016934, 69.1155879679592, 61.485994276056886, 95.42760427994416, 269.11534684332906, 86.13508656649148, 518.066154959786, 441.78392584572777, 433.2225413865033, 425.5197444547356, 364.1469396314308, 339.13848682437356, 321.4398763292522, 307.2116604807665, 300.19916638399366, 297.8770989316964, 291.7477600317473, 267.3051321603588, 267.4488748014616, 263.70605826113723, 258.2405844122553, 223.8769219419364, 197.78026740456994, 193.31693158919003, 175.73863606714644, 170.13438947065197, 166.64173277534078, 160.908922207295, 158.16720617116155, 154.66066451568682, 154.57494666198338, 151.6901028169315, 151.01166111949334, 143.92242828070957, 143.7674265252306, 137.96985363376515, 442.0441535677599, 986.7472468469223, 354.08580014848843, 264.3121034688665, 190.25014865358173, 352.80085211918276, 353.19470336928333, 289.500420307858, 240.5651838320937, 420.6487108561031, 266.0718556525474, 376.9341169298054, 207.32575481988843, 347.39483766613034, 241.62902283709744, 245.44000889586317, 870.7638360793017, 814.2097404865332, 512.4147945647593, 422.89189194399125, 385.93834929642367, 329.27592085060985, 322.73690787648445, 299.7414426132976, 265.55764404622005, 257.13131140929755, 194.08874734969848, 153.29605774614953, 149.11603823331228, 145.29467614967777, 145.06142455139835, 143.88094115999905, 142.5841067357463, 134.12360316431472, 135.29183447722224, 132.78459211512143, 131.12748913207835, 129.2266060062415, 127.94415934388734, 121.09217508033782, 120.19257776975371, 118.33745571995541, 117.26099634665793, 111.43944810345775, 104.85406207383802, 101.12141203253479, 190.48280203448994, 332.8339194488664, 386.984934080779, 244.6264978916867, 276.3472664899976, 162.16623785039124, 128.11586329404506, 180.72182963020103, 139.81256418501894, 143.5033373464212, 146.54356385697858], \"Total\": [33697.0, 3365.0, 6058.0, 13780.0, 5835.0, 8027.0, 6746.0, 5630.0, 10460.0, 1882.0, 3682.0, 5419.0, 1801.0, 1395.0, 1754.0, 4874.0, 7469.0, 8053.0, 1678.0, 1581.0, 2230.0, 871.0, 1274.0, 1228.0, 1070.0, 5028.0, 3065.0, 815.0, 1165.0, 2945.0, 2736.728205805768, 2728.8817805087347, 2402.0079772686927, 1659.1827812931097, 1421.7193790990016, 1412.0045283746329, 1161.7266627309948, 909.0563053977687, 876.9382870272449, 855.9225086137434, 842.6015049619941, 830.9343695182795, 827.5926637519268, 814.5786354371091, 792.141488294539, 789.9373985577419, 752.2599284569152, 734.5999304548986, 711.6111661891105, 703.7141343731705, 693.5397568932965, 626.0479701186973, 608.231081253717, 601.405495798068, 563.4144211117123, 549.5969196401383, 535.9834950985594, 517.7106125486216, 510.8100980110412, 510.596209680026, 792.2728375397418, 1044.1338056742613, 6746.016053287712, 1184.3473316604313, 874.1198514890284, 2262.332448874152, 1357.875796013008, 1236.0437666335736, 1758.7638058057832, 5630.310653035321, 3470.2402624087445, 6058.587561017446, 1302.9627501166142, 1097.6530813168076, 2507.089367717475, 3052.0420579038782, 6248.41521345601, 3088.1227802711237, 6465.516343180528, 10460.6699913843, 1134.2535110848673, 3611.947808687304, 7469.556287213099, 1603.5190298282387, 4644.3383877775805, 2896.0683722678323, 3232.1318554928625, 3548.6058764378267, 5835.33216901531, 3240.6353926336783, 4785.552064286636, 2339.1119641077385, 4565.827816356092, 3162.750801250756, 13780.52202912276, 2721.955264305657, 5028.5383911259205, 3571.813071988622, 8053.157897293275, 8027.254649639265, 4437.404504987364, 2286.1411933801037, 2018.5561104570206, 1967.578791911149, 1552.6439768086595, 1521.0921663299823, 1499.1890711202316, 1264.4576738515912, 1202.9730295208565, 1089.362554269776, 1032.1690011882652, 1019.4836878887347, 997.9212992731404, 927.9851465320882, 905.114569888476, 882.9425600888338, 880.1889689632503, 825.5499769311934, 800.1095246454652, 780.7603965161142, 773.0446331397427, 753.550101710541, 750.4533714074593, 738.4478440376895, 735.0388584208614, 720.4308251005745, 700.1574607306094, 697.1981169348724, 691.7029801417177, 688.0702712055846, 679.8393849639633, 2510.7586803119348, 2779.9962398854764, 954.1498378533728, 2066.1316967648063, 1720.6472019275802, 4765.404680675527, 3978.293350684, 1243.0561679838484, 4874.305555249845, 13780.52202912276, 5419.039157872372, 3645.736245935003, 1163.2706288599443, 8053.157897293275, 3164.254024884003, 2510.141458564019, 3625.4916816492187, 8027.254649639265, 2242.5113256919967, 3117.3370885138033, 1641.4637440800486, 1859.7382822839427, 4530.95157330098, 10460.6699913843, 1795.4708495365228, 3162.2996882301645, 6465.516343180528, 4437.404504987364, 3571.813071988622, 7469.556287213099, 1882.9425271439973, 1801.0066430437132, 1754.4237777269207, 1292.7292052075547, 882.2864282162726, 734.1089938437154, 655.9182286706917, 615.8011658381024, 546.3435738477875, 479.4752178386107, 478.29376414878044, 469.00156694672137, 450.12574191275075, 435.96946541776595, 345.37118873879723, 343.10586336135833, 328.04988794438566, 317.1623490193077, 296.98883858019934, 271.4612538111639, 271.5865583692558, 245.62495170030064, 235.66252339685857, 227.0656411269828, 226.33346505475032, 217.4236577421126, 211.11426345750135, 210.7163728450613, 208.92788597763365, 208.43312312893607, 1264.98526742013, 528.7351710166278, 3682.534076896042, 565.1374093379867, 517.8004732530876, 320.210813720679, 1333.0599051873505, 5835.33216901531, 603.398849140313, 1710.5258738177943, 8027.254649639265, 5028.5383911259205, 13780.52202912276, 1153.9661376922406, 5419.039157872372, 4565.827816356092, 7469.556287213099, 8053.157897293275, 2945.354465221378, 2510.141458564019, 10460.6699913843, 4874.305555249845, 3240.6353926336783, 3162.2996882301645, 4785.552064286636, 1959.5353231723054, 5630.310653035321, 3548.6058764378267, 4644.3383877775805, 928.1746433156329, 571.1505147250192, 382.48112860874915, 383.2425791916814, 375.49557274015234, 372.026801580178, 371.10925812232364, 345.84740836789445, 315.07182976412605, 411.7232689750138, 309.5769269879039, 306.4894117784316, 298.9852764416293, 291.4980796019313, 286.8870420432962, 277.2096000103857, 275.900430070931, 273.2368326246462, 260.8665390834582, 253.99908826781459, 255.09658526671066, 249.78945605413392, 245.59877622898838, 223.49928222253348, 216.4715830602318, 200.1752303093485, 187.76207789201948, 186.31609763479548, 185.51198600411342, 184.61678220437148, 369.93322177593865, 318.553165982772, 462.7623343593769, 394.1455978333079, 909.7667340268092, 650.8959819450087, 702.7819884724024, 405.387813868873, 709.0491526366852, 707.8192029325215, 894.8845538933672, 1715.0022027265302, 1104.1364698867376, 904.3962119143112, 1457.4967090649848, 536.2878741310071, 885.8731877650739, 782.0695024876418, 1008.6361879978931, 3682.534076896042, 1208.4019430716467, 852.2613064635589, 1795.4708495365228, 1520.2788162422664, 949.4817668077344, 2360.2112835746484, 4530.95157330098, 952.1748957545124, 1219.301900409429, 2129.6746139690335, 1831.5995085546576, 1228.7702905183207, 1165.34391493552, 504.90063822215404, 490.1002554242757, 488.00125463104195, 434.48952932529, 433.27717775397355, 362.3527691940357, 343.50585605047536, 333.6452994614531, 301.8132626696616, 301.0136123486503, 276.6052055905178, 276.3796196411158, 234.04823461583848, 221.26566571659632, 219.0449646750695, 215.50938083250435, 210.48400969191624, 206.355567381019, 203.24470260642914, 200.03518089613974, 198.39278707223107, 196.50098671003644, 195.63363269486663, 188.80788169855728, 187.70730496687992, 181.83488787718974, 182.51560321030985, 172.69792247978395, 1274.2562633151297, 605.5419765943547, 413.24640269524286, 370.2929021672783, 1678.8798180726274, 1007.2494610462111, 1581.1228645409237, 587.8704568280228, 613.2761106043788, 591.213564582496, 296.53782518606613, 1348.9734173590468, 2230.343035708946, 658.9752048776028, 488.3904946181052, 3065.165745396688, 6058.587561017446, 711.7094821419622, 460.13858734960223, 2360.2112835746484, 1301.4937808114441, 33697.58561608816, 3365.2160540503146, 1070.7336676003972, 573.1972365617455, 449.26582087541044, 301.7735501778605, 198.13709840714978, 180.64217410906176, 179.40635106559617, 164.66742441848947, 160.04173684304817, 146.0451541111575, 129.6456203736475, 112.02562659085318, 110.96629733526345, 112.34991017001452, 107.15888528700263, 85.95021569195323, 86.22253661772879, 83.85932838567987, 85.49698766814205, 87.61533265573085, 79.71946710315422, 78.43344000754382, 77.73374779818216, 77.16057941966298, 75.10183284300986, 77.42661288573763, 70.06884504478235, 62.42824254357132, 142.7442310517278, 4437.404504987364, 168.59439660699726, 519.1476970484538, 442.866012729017, 434.3040195851223, 426.6014302031339, 365.2287028976482, 340.21989628274406, 322.52153054259037, 308.29390870523156, 301.28103468428844, 298.9584797348346, 292.82928240303914, 268.38710117267317, 268.5317903088593, 264.7885088437635, 259.32225547501986, 224.95985602830172, 198.86700158883238, 194.40009292517118, 176.821981185014, 171.21653732884306, 167.7244498163377, 161.991867974528, 159.25043683875393, 155.74300125887214, 155.65884729487706, 152.77170265947618, 152.0947310303646, 145.00433652826854, 144.85136378995585, 139.05143932356722, 508.9436520712106, 1395.8889388852238, 499.4550235246725, 382.1207865330809, 228.84676484067805, 690.6526778005139, 743.2192759484527, 566.1721062215383, 414.85505822960823, 1678.8798180726274, 778.8105681855914, 2945.354465221378, 336.1599700732015, 3682.534076896042, 739.783312256465, 892.1294293225477, 871.8483758299332, 815.2976603515817, 513.4992698774898, 423.977734868146, 387.02425014519383, 330.36278520244207, 323.82259190203314, 300.8290104010621, 266.64238472034964, 258.2163903643731, 195.1766079533908, 154.38322876584232, 150.20125643318949, 146.37924319822312, 146.14702879423535, 144.96584700916955, 143.67067807394983, 135.2078537865698, 136.38651320225145, 133.87116396984706, 132.21619439130805, 130.3117155976136, 129.02956675356873, 122.17664853979048, 121.28029123403941, 119.42196435039644, 118.34637192236588, 112.52439164256047, 105.94011623744159, 102.20678041477579, 208.68116313023413, 479.60264204092437, 980.2090528912922, 665.5644943788614, 1105.565264538571, 279.78302412822245, 146.93519019163097, 495.29598197118514, 309.3665159294908, 472.7491831863848, 1831.5995085546576], \"Category\": [\"Default\", \"Default\", \"Default\", \"Default\", \"Default\", \"Default\", \"Default\", \"Default\", \"Default\", \"Default\", \"Default\", \"Default\", \"Default\", \"Default\", \"Default\", \"Default\", \"Default\", \"Default\", \"Default\", \"Default\", \"Default\", \"Default\", \"Default\", \"Default\", \"Default\", \"Default\", \"Default\", \"Default\", \"Default\", \"Default\", \"Topic1\", \"Topic1\", \"Topic1\", \"Topic1\", \"Topic1\", \"Topic1\", \"Topic1\", \"Topic1\", \"Topic1\", \"Topic1\", \"Topic1\", \"Topic1\", \"Topic1\", \"Topic1\", \"Topic1\", \"Topic1\", \"Topic1\", \"Topic1\", \"Topic1\", \"Topic1\", \"Topic1\", \"Topic1\", \"Topic1\", \"Topic1\", \"Topic1\", \"Topic1\", \"Topic1\", \"Topic1\", \"Topic1\", \"Topic1\", \"Topic1\", \"Topic1\", \"Topic1\", \"Topic1\", \"Topic1\", \"Topic1\", \"Topic1\", \"Topic1\", \"Topic1\", \"Topic1\", \"Topic1\", \"Topic1\", \"Topic1\", \"Topic1\", \"Topic1\", \"Topic1\", \"Topic1\", \"Topic1\", \"Topic1\", \"Topic1\", \"Topic1\", \"Topic1\", \"Topic1\", \"Topic1\", \"Topic1\", \"Topic1\", \"Topic1\", \"Topic1\", \"Topic1\", \"Topic1\", \"Topic1\", \"Topic1\", \"Topic1\", \"Topic1\", \"Topic1\", \"Topic1\", \"Topic1\", \"Topic1\", \"Topic1\", \"Topic1\", \"Topic1\", \"Topic2\", \"Topic2\", \"Topic2\", \"Topic2\", \"Topic2\", \"Topic2\", \"Topic2\", \"Topic2\", \"Topic2\", \"Topic2\", \"Topic2\", \"Topic2\", \"Topic2\", \"Topic2\", \"Topic2\", \"Topic2\", \"Topic2\", \"Topic2\", \"Topic2\", \"Topic2\", \"Topic2\", \"Topic2\", \"Topic2\", \"Topic2\", \"Topic2\", \"Topic2\", \"Topic2\", \"Topic2\", \"Topic2\", \"Topic2\", \"Topic2\", \"Topic2\", \"Topic2\", \"Topic2\", \"Topic2\", \"Topic2\", \"Topic2\", \"Topic2\", \"Topic2\", \"Topic2\", \"Topic2\", \"Topic2\", \"Topic2\", \"Topic2\", \"Topic2\", \"Topic2\", \"Topic2\", \"Topic2\", \"Topic2\", \"Topic2\", \"Topic2\", \"Topic2\", \"Topic2\", \"Topic2\", \"Topic2\", \"Topic2\", \"Topic2\", \"Topic2\", \"Topic2\", \"Topic2\", \"Topic3\", \"Topic3\", \"Topic3\", \"Topic3\", \"Topic3\", \"Topic3\", \"Topic3\", \"Topic3\", \"Topic3\", \"Topic3\", \"Topic3\", \"Topic3\", \"Topic3\", \"Topic3\", \"Topic3\", \"Topic3\", \"Topic3\", \"Topic3\", \"Topic3\", \"Topic3\", \"Topic3\", \"Topic3\", \"Topic3\", \"Topic3\", \"Topic3\", \"Topic3\", \"Topic3\", \"Topic3\", \"Topic3\", \"Topic3\", \"Topic3\", \"Topic3\", \"Topic3\", \"Topic3\", \"Topic3\", \"Topic3\", \"Topic3\", \"Topic3\", \"Topic3\", \"Topic3\", \"Topic3\", \"Topic3\", \"Topic3\", \"Topic3\", \"Topic3\", \"Topic3\", \"Topic3\", \"Topic3\", \"Topic3\", \"Topic3\", \"Topic3\", \"Topic3\", \"Topic3\", \"Topic3\", \"Topic3\", \"Topic3\", \"Topic3\", \"Topic3\", \"Topic3\", \"Topic4\", \"Topic4\", \"Topic4\", \"Topic4\", \"Topic4\", \"Topic4\", \"Topic4\", \"Topic4\", \"Topic4\", \"Topic4\", \"Topic4\", \"Topic4\", \"Topic4\", \"Topic4\", \"Topic4\", \"Topic4\", \"Topic4\", \"Topic4\", \"Topic4\", \"Topic4\", \"Topic4\", \"Topic4\", \"Topic4\", \"Topic4\", \"Topic4\", \"Topic4\", \"Topic4\", \"Topic4\", \"Topic4\", \"Topic4\", \"Topic4\", \"Topic4\", \"Topic4\", \"Topic4\", \"Topic4\", \"Topic4\", \"Topic4\", \"Topic4\", \"Topic4\", \"Topic4\", \"Topic4\", \"Topic4\", \"Topic4\", \"Topic4\", \"Topic4\", \"Topic4\", \"Topic4\", \"Topic4\", \"Topic4\", \"Topic4\", \"Topic4\", \"Topic4\", \"Topic4\", \"Topic4\", \"Topic4\", \"Topic4\", \"Topic4\", \"Topic4\", \"Topic4\", \"Topic4\", \"Topic4\", \"Topic5\", \"Topic5\", \"Topic5\", \"Topic5\", \"Topic5\", \"Topic5\", \"Topic5\", \"Topic5\", \"Topic5\", \"Topic5\", \"Topic5\", \"Topic5\", \"Topic5\", \"Topic5\", \"Topic5\", \"Topic5\", \"Topic5\", \"Topic5\", \"Topic5\", \"Topic5\", \"Topic5\", \"Topic5\", \"Topic5\", \"Topic5\", \"Topic5\", \"Topic5\", \"Topic5\", \"Topic5\", \"Topic5\", \"Topic5\", \"Topic5\", \"Topic5\", \"Topic5\", \"Topic5\", \"Topic5\", \"Topic5\", \"Topic5\", \"Topic5\", \"Topic5\", \"Topic5\", \"Topic5\", \"Topic5\", \"Topic5\", \"Topic5\", \"Topic5\", \"Topic5\", \"Topic5\", \"Topic5\", \"Topic5\", \"Topic5\", \"Topic5\", \"Topic6\", \"Topic6\", \"Topic6\", \"Topic6\", \"Topic6\", \"Topic6\", \"Topic6\", \"Topic6\", \"Topic6\", \"Topic6\", \"Topic6\", \"Topic6\", \"Topic6\", \"Topic6\", \"Topic6\", \"Topic6\", \"Topic6\", \"Topic6\", \"Topic6\", \"Topic6\", \"Topic6\", \"Topic6\", \"Topic6\", \"Topic6\", \"Topic6\", \"Topic6\", \"Topic6\", \"Topic6\", \"Topic6\", \"Topic6\", \"Topic6\", \"Topic6\", \"Topic6\", \"Topic7\", \"Topic7\", \"Topic7\", \"Topic7\", \"Topic7\", \"Topic7\", \"Topic7\", \"Topic7\", \"Topic7\", \"Topic7\", \"Topic7\", \"Topic7\", \"Topic7\", \"Topic7\", \"Topic7\", \"Topic7\", \"Topic7\", \"Topic7\", \"Topic7\", \"Topic7\", \"Topic7\", \"Topic7\", \"Topic7\", \"Topic7\", \"Topic7\", \"Topic7\", \"Topic7\", \"Topic7\", \"Topic7\", \"Topic7\", \"Topic7\", \"Topic7\", \"Topic7\", \"Topic7\", \"Topic7\", \"Topic7\", \"Topic7\", \"Topic7\", \"Topic7\", \"Topic7\", \"Topic7\", \"Topic7\", \"Topic7\", \"Topic7\", \"Topic7\", \"Topic7\", \"Topic8\", \"Topic8\", \"Topic8\", \"Topic8\", \"Topic8\", \"Topic8\", \"Topic8\", \"Topic8\", \"Topic8\", \"Topic8\", \"Topic8\", \"Topic8\", \"Topic8\", \"Topic8\", \"Topic8\", \"Topic8\", \"Topic8\", \"Topic8\", \"Topic8\", \"Topic8\", \"Topic8\", \"Topic8\", \"Topic8\", \"Topic8\", \"Topic8\", \"Topic8\", \"Topic8\", \"Topic8\", \"Topic8\", \"Topic8\", \"Topic8\", \"Topic8\", \"Topic8\", \"Topic8\", \"Topic8\", \"Topic8\", \"Topic8\", \"Topic8\", \"Topic8\", \"Topic8\", \"Topic8\"], \"logprob\": [30.0, 29.0, 28.0, 27.0, 26.0, 25.0, 24.0, 23.0, 22.0, 21.0, 20.0, 19.0, 18.0, 17.0, 16.0, 15.0, 14.0, 13.0, 12.0, 11.0, 10.0, 9.0, 8.0, 7.0, 6.0, 5.0, 4.0, 3.0, 2.0, 1.0, -5.1029, -5.1057, -5.2334, -5.6036, -5.7581, -5.765, -5.9602, -6.2058, -6.2418, -6.2661, -6.2818, -6.2957, -6.2998, -6.3156, -6.3436, -6.3464, -6.3953, -6.4191, -6.451, -6.4621, -6.4767, -6.5793, -6.6082, -6.6195, -6.6849, -6.7098, -6.7349, -6.7697, -6.7831, -6.7835, -6.3469, -6.0784, -4.2558, -5.9633, -6.259, -5.3407, -5.8394, -5.9292, -5.5946, -4.5138, -4.9829, -4.4786, -5.8936, -6.0523, -5.3356, -5.1859, -4.5913, -5.1934, -4.5775, -4.2007, -6.0399, -5.096, -4.526, -5.7626, -4.9161, -5.296, -5.2195, -5.2032, -4.8781, -5.287, -5.0337, -5.514, -5.105, -5.3466, -4.7108, -5.463, -5.1943, -5.3503, -5.0473, -5.0849, -5.2995, -5.0121, -5.1367, -5.1623, -5.3992, -5.4198, -5.4343, -5.6047, -5.6546, -5.7539, -5.8079, -5.8203, -5.8417, -5.9144, -5.9394, -5.9642, -5.9673, -6.0315, -6.0629, -6.0874, -6.0973, -6.1229, -6.127, -6.1432, -6.1478, -6.1679, -6.1965, -6.2007, -6.2087, -6.2139, -6.226, -4.9482, -4.8706, -5.9039, -5.2098, -5.3849, -4.5118, -4.6723, -5.7085, -4.6068, -3.8014, -4.573, -4.8889, -5.79, -4.4917, -5.1192, -5.2969, -5.0727, -4.6536, -5.4092, -5.226, -5.6079, -5.569, -5.2473, -4.9564, -5.6122, -5.4705, -5.3176, -5.5045, -5.5564, -5.5663, -4.3341, -4.3786, -4.4049, -4.7105, -5.0928, -5.2769, -5.3897, -5.453, -5.5728, -5.7037, -5.7061, -5.7258, -5.767, -5.799, -6.0326, -6.0392, -6.0843, -6.1181, -6.184, -6.2743, -6.2738, -6.3747, -6.4163, -6.4536, -6.4569, -6.4972, -6.5268, -6.5287, -6.5373, -6.5397, -4.894, -5.7813, -4.2918, -5.7569, -5.8316, -6.2027, -5.253, -4.2746, -5.7966, -5.1533, -4.2896, -4.6757, -4.2448, -5.5149, -4.8153, -4.9087, -4.7155, -4.6962, -5.1359, -5.2015, -4.7033, -4.9782, -5.2012, -5.3508, -5.2776, -5.4741, -5.3245, -5.4381, -5.4655, -4.8767, -5.363, -5.7649, -5.7629, -5.7833, -5.7927, -5.7951, -5.8658, -5.9593, -5.6918, -5.977, -5.9871, -6.0119, -6.0374, -6.0534, -6.0878, -6.0926, -6.1023, -6.1488, -6.1756, -6.1713, -6.1924, -6.2094, -6.3041, -6.3362, -6.4149, -6.4793, -6.487, -6.4914, -6.4963, -5.8043, -5.9538, -5.6001, -5.8027, -5.0467, -5.3781, -5.3517, -5.8206, -5.4484, -5.5071, -5.3783, -5.0023, -5.331, -5.445, -5.2149, -5.7485, -5.5201, -5.5993, -5.5979, -5.1885, -5.5438, -5.6671, -5.473, -5.5201, -5.6623, -5.5541, -5.6144, -5.7331, -5.72, -5.7014, -5.7403, -4.2559, -4.3089, -5.1465, -5.1763, -5.1806, -5.297, -5.2999, -5.4791, -5.5327, -5.5619, -5.6625, -5.6652, -5.75, -5.7509, -5.9178, -5.9742, -5.9844, -6.0007, -6.0245, -6.0443, -6.0596, -6.0756, -6.0839, -6.0935, -6.098, -6.1337, -6.1396, -6.1716, -6.1679, -6.2234, -4.2659, -5.0148, -5.4363, -5.5393, -4.2321, -4.6863, -4.3393, -5.2456, -5.2314, -5.2874, -5.7868, -4.7965, -4.4755, -5.2852, -5.5113, -4.7696, -4.5117, -5.4802, -5.6172, -5.4424, -5.579, -0.5535, -2.8577, -4.0035, -4.6291, -4.8732, -5.2721, -5.6945, -5.7874, -5.7944, -5.8805, -5.9095, -6.0013, -6.1213, -6.2685, -6.278, -6.2657, -6.3134, -6.5359, -6.5328, -6.5608, -6.5416, -6.5172, -6.612, -6.6286, -6.6376, -6.6451, -6.6725, -6.6426, -6.7429, -6.8599, -6.4203, -5.3835, -6.5228, -4.6652, -4.8245, -4.8441, -4.862, -5.0178, -5.0889, -5.1425, -5.1878, -5.2109, -5.2187, -5.2395, -5.327, -5.3264, -5.3405, -5.3615, -5.5043, -5.6282, -5.651, -5.7463, -5.7788, -5.7995, -5.8345, -5.8517, -5.8741, -5.8747, -5.8935, -5.898, -5.9461, -5.9472, -5.9883, -4.8239, -4.0209, -5.0458, -5.3382, -5.667, -5.0494, -5.0483, -5.2472, -5.4324, -4.8735, -5.3316, -4.9833, -5.5811, -5.0649, -5.4279, -5.4123, -3.4276, -3.4947, -3.9578, -4.1498, -4.2413, -4.4, -4.4201, -4.494, -4.6151, -4.6473, -4.9286, -5.1646, -5.1922, -5.2182, -5.2198, -5.2279, -5.237, -5.2982, -5.2895, -5.3082, -5.3208, -5.3354, -5.3453, -5.4004, -5.4078, -5.4234, -5.4325, -5.4834, -5.5444, -5.5806, -4.9474, -4.3893, -4.2385, -4.6972, -4.5753, -5.1083, -5.344, -5.0, -5.2566, -5.2306, -5.2096], \"loglift\": [30.0, 29.0, 28.0, 27.0, 26.0, 25.0, 24.0, 23.0, 22.0, 21.0, 20.0, 19.0, 18.0, 17.0, 16.0, 15.0, 14.0, 13.0, 12.0, 11.0, 10.0, 9.0, 8.0, 7.0, 6.0, 5.0, 4.0, 3.0, 2.0, 1.0, 1.0492, 1.0492, 1.0492, 1.049, 1.0489, 1.0489, 1.0487, 1.0484, 1.0484, 1.0484, 1.0483, 1.0483, 1.0483, 1.0483, 1.0483, 1.0483, 1.0482, 1.0481, 1.0481, 1.0481, 1.0481, 1.0479, 1.0478, 1.0478, 1.0477, 1.0477, 1.0476, 1.0475, 1.0475, 1.0475, 1.0448, 1.0373, 0.9941, 1.0263, 1.0344, 1.0017, 1.0135, 1.0177, 0.9996, 0.9169, 0.9318, 0.8788, 1.0006, 1.0134, 0.9042, 0.8571, 0.7352, 0.8379, 0.7149, 0.6105, 0.993, 0.7786, 0.622, 0.924, 0.7071, 0.7995, 0.7662, 0.6891, 0.5168, 0.6961, 0.5595, 0.795, 0.5352, 0.6608, -0.1753, 0.6945, 0.3494, 0.5355, 0.0255, -0.0089, 0.3693, 1.3199, 1.3198, 1.3198, 1.3196, 1.3196, 1.3196, 1.3195, 1.3194, 1.3193, 1.3193, 1.3193, 1.3193, 1.3192, 1.3191, 1.3191, 1.3191, 1.319, 1.319, 1.319, 1.3189, 1.3189, 1.3189, 1.3189, 1.3189, 1.3188, 1.3188, 1.3188, 1.3188, 1.3188, 1.3188, 1.29, 1.2658, 1.3019, 1.2234, 1.2312, 1.0857, 1.1057, 1.2328, 0.9681, 0.7342, 0.8959, 0.9763, 1.2176, 0.5811, 0.8878, 0.9416, 0.7982, 0.4224, 0.9421, 0.7958, 1.0553, 0.9694, 0.4006, -0.1452, 0.9614, 0.5371, -0.0252, 0.1642, 0.3294, -0.4183, 2.1919, 2.1919, 2.1918, 2.1916, 2.1912, 2.191, 2.1908, 2.1907, 2.1905, 2.1902, 2.1902, 2.1902, 2.1901, 2.19, 2.1894, 2.1893, 2.1892, 2.1891, 2.1889, 2.1885, 2.1885, 2.1881, 2.1879, 2.1877, 2.1877, 2.1875, 2.1874, 2.1874, 2.1873, 2.1873, 2.0298, 2.0148, 1.5634, 1.9726, 1.9854, 2.0949, 1.6184, 1.1203, 1.8674, 1.4687, 0.7864, 0.868, 0.2908, 1.5008, 0.6536, 0.7315, 0.4325, 0.3766, 0.9427, 1.037, 0.108, 0.5967, 0.7819, 0.6567, 0.3156, 1.0121, 0.1062, 0.4542, 0.1576, 2.3567, 2.356, 2.3551, 2.3551, 2.355, 2.355, 2.355, 2.3548, 2.3545, 2.3544, 2.3544, 2.3544, 2.3543, 2.3542, 2.3541, 2.354, 2.354, 2.3539, 2.3538, 2.3536, 2.3536, 2.3536, 2.3535, 2.3531, 2.3529, 2.3525, 2.3522, 2.3521, 2.3521, 2.3521, 2.349, 2.349, 2.3292, 2.2871, 2.2067, 2.2102, 2.1598, 2.2412, 2.0543, 1.9973, 1.8916, 1.6171, 1.7287, 1.8144, 1.5672, 2.0334, 1.7599, 1.8053, 1.5524, 0.6668, 1.4257, 1.6516, 1.1006, 1.2198, 1.5484, 0.746, 0.0335, 1.4747, 1.2406, 0.7015, 0.8133, 2.697, 2.6969, 2.6957, 2.6957, 2.6956, 2.6954, 2.6954, 2.6949, 2.6947, 2.6946, 2.6943, 2.6943, 2.694, 2.6939, 2.6933, 2.693, 2.6929, 2.6929, 2.6927, 2.6926, 2.6926, 2.6925, 2.6924, 2.6924, 2.6924, 2.6922, 2.6921, 2.6919, 2.6919, 2.6916, 2.6506, 2.6456, 2.6062, 2.613, 2.4087, 2.4654, 2.3614, 2.4445, 2.4164, 2.397, 2.5877, 2.063, 1.8812, 2.2907, 2.3642, 1.2692, 0.8456, 2.0188, 2.3178, 0.8577, 1.3163, 3.0879, 3.0876, 3.087, 3.0863, 3.0858, 3.0848, 3.0832, 3.0827, 3.0825, 3.0822, 3.0817, 3.0814, 3.0805, 3.0794, 3.0794, 3.0793, 3.0789, 3.0769, 3.0769, 3.0766, 3.0765, 3.0764, 3.076, 3.0758, 3.0757, 3.0756, 3.0752, 3.0746, 3.0742, 3.0727, 2.6852, 0.2852, 2.4163, 3.1492, 3.1488, 3.1488, 3.1487, 3.1483, 3.1481, 3.1479, 3.1477, 3.1477, 3.1476, 3.1475, 3.1472, 3.1472, 3.1472, 3.1471, 3.1464, 3.1458, 3.1457, 3.1451, 3.1449, 3.1448, 3.1445, 3.1444, 3.1443, 3.1443, 3.1441, 3.1441, 3.1438, 3.1437, 3.1434, 3.0103, 2.8044, 2.8073, 2.7826, 2.9665, 2.4795, 2.4073, 2.4805, 2.6063, 1.7672, 2.0772, 1.0953, 2.668, 0.7904, 2.0323, 1.8607, 3.8684, 3.8683, 3.8676, 3.8671, 3.8669, 3.8664, 3.8663, 3.866, 3.8656, 3.8655, 3.8641, 3.8626, 3.8624, 3.8622, 3.8622, 3.8622, 3.8621, 3.8616, 3.8616, 3.8615, 3.8614, 3.8613, 3.8612, 3.8607, 3.8607, 3.8605, 3.8605, 3.86, 3.8594, 3.859, 3.7784, 3.5044, 2.9403, 2.8688, 2.4832, 3.3243, 3.7326, 2.8615, 3.0754, 2.6775, 1.344]}, \"token.table\": {\"Topic\": [6, 1, 1, 3, 6, 1, 2, 3, 4, 7, 5, 4, 4, 2, 7, 1, 2, 4, 5, 7, 1, 3, 4, 5, 7, 1, 2, 3, 7, 1, 1, 5, 7, 2, 4, 6, 1, 2, 3, 3, 8, 3, 1, 1, 6, 1, 2, 3, 3, 1, 2, 1, 2, 3, 5, 6, 7, 4, 8, 8, 6, 6, 4, 7, 4, 3, 3, 2, 3, 4, 5, 7, 1, 2, 4, 5, 1, 4, 5, 8, 2, 3, 4, 5, 7, 1, 1, 5, 2, 2, 1, 1, 6, 5, 7, 5, 7, 1, 1, 3, 2, 2, 5, 1, 2, 1, 2, 3, 5, 2, 1, 1, 4, 5, 8, 5, 6, 4, 5, 1, 2, 2, 3, 4, 1, 5, 7, 5, 5, 5, 5, 6, 8, 1, 5, 4, 4, 8, 2, 4, 8, 1, 2, 3, 4, 1, 2, 4, 3, 5, 2, 3, 2, 1, 4, 5, 1, 7, 3, 4, 4, 1, 4, 6, 2, 2, 3, 4, 2, 8, 7, 1, 2, 3, 5, 1, 5, 1, 7, 1, 1, 5, 1, 3, 5, 2, 3, 5, 5, 1, 2, 3, 4, 7, 8, 4, 1, 3, 5, 7, 3, 5, 8, 6, 1, 2, 3, 5, 5, 1, 2, 3, 7, 1, 2, 3, 5, 1, 3, 1, 1, 2, 3, 5, 7, 8, 2, 1, 7, 4, 5, 1, 2, 4, 8, 5, 1, 3, 6, 6, 2, 4, 3, 1, 2, 6, 2, 3, 4, 5, 3, 3, 5, 1, 2, 3, 6, 8, 5, 2, 6, 3, 8, 6, 5, 2, 4, 8, 1, 2, 4, 5, 7, 8, 2, 3, 4, 2, 2, 4, 7, 7, 7, 2, 7, 6, 7, 8, 8, 2, 5, 1, 2, 3, 6, 5, 7, 1, 2, 3, 4, 5, 7, 7, 1, 5, 1, 3, 4, 7, 7, 2, 5, 1, 2, 3, 4, 5, 1, 2, 3, 4, 5, 1, 5, 1, 2, 3, 6, 6, 1, 2, 3, 4, 1, 3, 2, 3, 4, 1, 2, 3, 6, 2, 2, 1, 2, 3, 4, 5, 1, 5, 7, 1, 2, 3, 4, 4, 1, 1, 2, 4, 2, 6, 5, 7, 5, 1, 7, 7, 4, 3, 6, 5, 6, 1, 2, 3, 4, 6, 1, 2, 3, 4, 1, 2, 3, 4, 8, 1, 2, 3, 7, 7, 1, 2, 8, 1, 2, 7, 1, 2, 3, 6, 2, 3, 3, 1, 7, 3, 1, 5, 1, 2, 4, 7, 1, 4, 5, 2, 8, 1, 2, 3, 2, 3, 3, 3, 1, 2, 3, 5, 4, 5, 7, 5, 1, 2, 3, 4, 5, 7, 2, 3, 7, 8, 8, 1, 2, 4, 4, 2, 4, 2, 5, 1, 1, 2, 4, 7, 2, 4, 5, 1, 2, 6, 6, 3, 7, 8, 2, 3, 4, 5, 5, 1, 8, 1, 4, 8, 1, 1, 2, 3, 4, 5, 7, 2, 4, 1, 2, 3, 4, 3, 3, 1, 2, 3, 5, 2, 4, 5, 6, 7, 8, 2, 3, 7, 1, 2, 3, 3, 4, 5, 8, 7, 3, 1, 3, 5, 1, 4, 4, 3, 2, 3, 8, 1, 2, 3, 1, 2, 3, 4, 8, 1, 2, 3, 8, 1, 2, 3, 7, 1, 8, 1, 2, 4, 5, 7, 8, 3, 5, 8, 4, 6, 7, 1, 4, 5, 2, 5, 7, 5, 2, 7, 1, 3, 8, 3, 1, 2, 5, 7, 1, 1, 4, 7, 8, 6, 4, 1, 2, 4, 1, 2, 3, 4, 5, 1, 3, 3, 1, 2, 3, 5, 7, 4, 1, 2, 3, 1, 2, 3, 1, 3, 1, 2, 3, 4, 5, 3, 4, 4, 5, 1, 2, 4, 7, 1, 4, 4, 7, 7, 5, 1, 8, 1, 2, 4, 5, 7, 8, 2, 1, 2, 8, 7, 6, 7, 1, 2, 3, 1, 5, 7, 1, 2, 3, 7, 5, 1, 2, 3, 4, 1, 2, 3, 4, 8, 2, 3, 2, 8, 3, 4, 7, 6, 1, 2, 1, 2, 4, 7, 7, 1, 2, 3, 1, 2, 1, 3, 4, 5, 7], \"Freq\": [0.9996386401256909, 0.999283870220357, 0.9874213385268376, 0.011492779885860378, 0.9929768838731835, 0.442732606505999, 0.3985917683698077, 0.044140838136191324, 0.09777195647166378, 0.016552814301071746, 0.9948250058239645, 0.9954734044719906, 0.9967577214559452, 0.9985866619037077, 0.9971680345755253, 0.03811106200791787, 0.24884281663993435, 0.3284276814211746, 0.10984953166988093, 0.2746238291747023, 0.9992861335299641, 0.06744502151606044, 0.03372251075803022, 0.8970187861636039, 0.9969974498823013, 0.6521137016315833, 0.17578018686969182, 0.17203163756858644, 0.9952293120534056, 0.9983260546016967, 0.16361335245939435, 0.3243308933708348, 0.5111107382138602, 0.9162900513557483, 0.08286029437194212, 0.9999826214229461, 0.507773444159806, 0.18473767516165807, 0.3072156918434203, 0.9931243023785161, 0.9920023542963916, 0.9966704520448424, 0.9991411514909421, 0.9997339137279971, 0.9909750136409812, 0.33623170327678925, 0.16204981575453503, 0.5008812486958356, 0.9986000866715464, 0.0848517928814468, 0.9147720684616251, 0.013044695303908158, 0.12881636612609307, 0.10272697551827674, 0.7549617407136846, 0.9858211476293146, 0.9928023079895775, 0.30441867329734573, 0.6943247822466858, 0.9899340163576388, 0.9771218524600546, 0.9993147991675265, 0.9956365147154341, 0.9956807143077172, 0.996659121684351, 0.9967996088919145, 0.9991884641869336, 0.9992819854350986, 0.14112822350770193, 0.14568074684666008, 0.6661859152675392, 0.04552523338958127, 0.42708040886633575, 0.21438758619679157, 0.19955840533337713, 0.1588840806794404, 0.5743122178667769, 0.39390866816222736, 0.031446490315471934, 0.9905776039820388, 0.19870683423721058, 0.10678802656285467, 0.23925924938766174, 0.12841598130976195, 0.32712281554697253, 0.9979759645771811, 0.04551674703886178, 0.9534973733140872, 0.9988471944283029, 0.9982815258593358, 0.9994940076715719, 0.9976629814528001, 0.9853288155388552, 0.9122886431464631, 0.08469523212235068, 0.1660499768325561, 0.8302498841627804, 0.9992871302026243, 0.9977798577832167, 0.9941084052487432, 0.9989324785875776, 0.9990260821123776, 0.9929495371449434, 0.09713990639542314, 0.9026274488070292, 0.7624694890042972, 0.08333453746924237, 0.13815260530615261, 0.015780958922746894, 0.9992068571315404, 0.9981650645821126, 0.2453732425683878, 0.36594457727871627, 0.08249617638075107, 0.30460126663661935, 0.9957211442060078, 0.9950201142793196, 0.9969080442358831, 0.9966326693974348, 0.016768854707345, 0.9820260537988916, 0.4659757458563263, 0.08625508487127742, 0.44713842847064506, 0.2767983354768696, 0.5072294370921316, 0.21497535699472614, 0.9978120238582431, 0.9977550400921068, 0.9980659117257319, 0.9916960348394792, 0.997911300883223, 0.9934925196434141, 0.20650296480074987, 0.7922565668798, 0.9975619738901708, 0.995140413596055, 0.9958748828152452, 0.9984445321206664, 0.6339643595539356, 0.3654380543925552, 0.009456529987188537, 0.1531957857924543, 0.8378485568649044, 0.9958144970059528, 0.2952028278547741, 0.7038624802584686, 0.9981364018516585, 0.9947219887502975, 0.9929796486415406, 0.9471235831989715, 0.05287776936203905, 0.9991911460215829, 0.020412660409486288, 0.20242554906073904, 0.7756810955604789, 0.5233986961702266, 0.4749607705606426, 0.0659654709907376, 0.9311279943692576, 0.9957012938234193, 0.1351982535474228, 0.8634252101551319, 0.9897527394718962, 0.9985446673582318, 0.998765318717144, 0.9978644699350543, 0.9932019573219347, 0.9981224917031006, 0.9908014718098103, 0.9928947440018219, 0.8092294827023033, 0.06249751507064607, 0.10232753762862258, 0.025905705728765212, 0.9995803605657302, 0.9950082439403192, 0.9988323264671322, 0.9957673636524562, 0.999289650609608, 0.9512363140959168, 0.04832940029776027, 0.9993744976728979, 0.9972950428256514, 0.9942798820029429, 0.9997058354595362, 0.049542395340986645, 0.9495625773689107, 0.9973054110927136, 0.41964388822962945, 0.1578757346494965, 0.28655294633155926, 0.007808907305243914, 0.12799817626421545, 0.9933374168530298, 0.9970109661830155, 0.39290684089315014, 0.03081622281514903, 0.23368968968154682, 0.3415464695345684, 0.9994410664460338, 0.9954085385541985, 0.9952892596683864, 0.9941870739344512, 0.34694302368059976, 0.4073621857937383, 0.2451647650281581, 0.0003737267759575581, 0.9938758423197901, 0.6778909040674731, 0.18781119263809656, 0.12236183762785079, 0.012014857441494393, 0.5869417371278721, 0.05466698223176386, 0.3422255909618571, 0.015937396073837113, 0.18539959880082546, 0.8130544905744533, 0.9989300421236874, 0.49656576241051753, 0.23744474181744413, 0.2658824286515266, 0.7487135091319699, 0.25076244021046884, 0.9911259655847977, 0.998983696525966, 0.12968036781951137, 0.8684654935791518, 0.9724214063855383, 0.025931237503614354, 0.624978102884666, 0.1835961218842257, 0.1906394513682753, 0.9864527892992057, 0.9993731208149607, 0.2767655262152583, 0.722573469639836, 0.98474578760219, 0.9879847685861808, 0.9983468565350977, 0.9965981415573444, 0.9953069027894588, 0.3143796831360262, 0.6849463734708315, 0.9815746442654937, 0.35626776398807253, 0.15918346901594732, 0.4769673174177469, 0.007580165191235586, 0.9975407895102985, 0.9984893335281061, 0.9967611259570336, 0.09396210286954898, 0.7030745120828479, 0.20269554068802267, 0.9891853551490499, 0.9894435343037825, 0.9923614291451301, 0.329260241578296, 0.6655260202114494, 0.996600298138256, 0.9898339420101213, 0.9849589074059334, 0.9929962174886603, 0.9989384026934378, 0.9932917805926523, 0.9920206912301343, 0.07206815648480008, 0.5787291354082431, 0.21347461504209722, 0.02675257324056973, 0.028936456770412157, 0.08025771972170918, 0.07826040066785206, 0.09960414630453898, 0.8210227488245571, 0.998867432380822, 0.6984240375296005, 0.28460501050847353, 0.016708709031808624, 0.9949486544560135, 0.9957332119372402, 0.9980633421571103, 0.9930737483283975, 0.9934908426789332, 0.9977892668021473, 0.9976939004392529, 0.9886234626334884, 0.9995008211288926, 0.998846765389774, 0.7154880993966168, 0.26045870284995737, 0.023973336663743107, 0.9889445804841396, 0.30618590802537016, 0.6908810232367326, 0.3414154728314901, 0.0929538701715872, 0.4852308946063986, 0.009353848570725756, 0.011692310713407195, 0.05904616910270634, 0.9966357986436993, 0.2852403251602759, 0.7140495057781631, 0.40538770946500324, 0.17958885574744962, 0.4137895272777494, 0.9980445265517657, 0.993877050824033, 0.07831638097912924, 0.9181920528587566, 0.35102053056448285, 0.17551026528224142, 0.12220107255632698, 0.3272364291944595, 0.0246042427965759, 0.15540691682885385, 0.1017208910152498, 0.04520928489566658, 0.6979183355768528, 0.9959587094635394, 0.9684123105608864, 0.03074324795431385, 0.2938205092262206, 0.5565101223156053, 0.14934122202705902, 0.0003628309573057799, 0.9908447145348356, 0.3276096835021399, 0.4569459388615755, 0.2153496085569086, 0.9929362108185885, 0.984990786484623, 0.013728094585151542, 0.21120042711399944, 0.16091461113447578, 0.6268965058780618, 0.5063770944196124, 0.31482367641486364, 0.11808704827586868, 0.060621022874444035, 0.9990767816321673, 0.999229097249782, 0.7302651703064714, 0.174124151938076, 0.09250345571710289, 0.0014403652274289378, 0.0014403652274289378, 0.881810551479056, 0.05051390004936601, 0.06735186673248801, 0.8250213962416184, 0.11631556618974366, 0.024246061684622622, 0.03440319563358615, 0.9972399795503532, 0.9988755194723488, 0.9534407735138262, 0.04641227687480378, 0.9960665675037339, 0.9986132840426355, 0.9942610524919813, 0.41701311474488606, 0.5809257841243788, 0.9955212880902135, 0.9989851925117198, 0.9958030026909526, 0.9957480407433185, 0.9960170695775759, 0.9963351607689191, 0.9921610853950095, 0.9979482539818489, 0.9817241216577272, 0.25262387015158194, 0.7090474531398907, 0.03840102260718944, 0.991849658684157, 0.9964450488252314, 0.2537422093088787, 0.5918512973133769, 0.10072699585712758, 0.053250577427653434, 0.1582824591595122, 0.2768067650704265, 0.5633655299942827, 0.0015003076697584093, 0.9974597451734251, 0.13101953673255257, 0.6541750108688716, 0.21461369185909668, 0.9953513631082216, 0.9948317144653657, 0.1171937515579066, 0.5138495260615905, 0.3681085786113733, 0.9769093652433101, 0.02195301944366989, 0.9952823907909942, 0.3591137832988501, 0.47745245393640334, 0.16266910654270178, 0.0006208744524530603, 0.09056533620159624, 0.9056533620159624, 0.997840252578118, 0.9983251421360438, 0.9921479848747917, 0.9967769033425301, 0.8429357417989282, 0.15696727833381255, 0.9946068609987814, 0.00378657434390399, 0.9920709425288783, 0.005406381158195522, 0.7460658009403697, 0.0023050436692287424, 0.25124975994593296, 0.9986491889751234, 0.9984083600202874, 0.07431820882146103, 0.12209420020668599, 0.8033444477367455, 0.998039341506134, 0.9994359180525842, 0.998541938110877, 0.9960298114506759, 0.7786418378769735, 0.10669637601063628, 0.11429288174602138, 0.9970522847277713, 0.2379819345610346, 0.14278916073662076, 0.6157782556766771, 0.9962318729843533, 0.1399660107163263, 0.2051462608048116, 0.09056624222821115, 0.453517319036724, 0.09193845801954768, 0.01852491318304319, 0.5716532712012957, 0.15286297916616928, 0.02442189607980219, 0.24964604881575575, 0.99215154215793, 0.31982261602309203, 0.6488101093828142, 0.030970964792750022, 0.9968395140987744, 0.9074929748843772, 0.09195928812161688, 0.25878973211320977, 0.7408490370299732, 0.9988133255123085, 0.3190204288965848, 0.3512513588263428, 0.320335977056983, 0.00855106304258887, 0.2520435137006889, 0.21720220445382893, 0.5300326832235075, 0.7009667003056759, 0.2986823518598084, 0.99056075618421, 0.995946833923914, 0.47193213383595645, 0.07434547313854109, 0.452537662582424, 0.22248661972693345, 0.028130492149382392, 0.5753964303282761, 0.1738975878325457, 0.9982162070039655, 0.9996768711217053, 0.9972442471556954, 0.05426902153283802, 0.8905053078797511, 0.05180224782679992, 0.9989222054514754, 0.9984140916277977, 0.11592769869573301, 0.06520933051634982, 0.5334485510295839, 0.19653367669510988, 0.08785145916786018, 0.13959622313059594, 0.8595609959694963, 0.22125062899180728, 0.18061275836065901, 0.04741084906967299, 0.5497400832602558, 0.9974990501365972, 0.9974556668775932, 0.564406672819615, 0.06557557296921539, 0.13017240604336786, 0.23946502765872685, 0.9986486768099018, 0.7234920249291659, 0.2759711847667952, 0.9971824678918508, 0.9927978793420119, 0.9880929412095061, 0.6848219625771176, 0.3147232986829103, 0.9924384865868194, 0.7023314024075646, 0.05369317399776636, 0.24408793466800685, 0.05733117312591122, 0.22522960870893693, 0.7166396640738902, 0.9990269227385719, 0.9949011106948851, 0.9934521488742444, 0.9460398477542451, 0.02505182298189712, 0.028905949594496678, 0.4179584069684431, 0.580497787456171, 0.9961275772895342, 0.997776299730448, 0.9980139313162028, 0.9986989861621778, 0.9953318374845797, 0.7098965933827419, 0.1591184660327104, 0.13069676438681357, 0.7750804697763044, 0.17699024516678985, 0.04745390631283496, 0.4181811972494077, 0.5790201192684107, 0.05917105114354861, 0.30503697055036266, 0.24076496672202538, 0.39481373780264334, 0.1127042864438547, 0.7669983601773679, 0.042644865140918, 0.07736996961280836, 0.9992885799199318, 0.9970802882001224, 0.024640330190677174, 0.44000589626209236, 0.4939799528702424, 0.03754716981436522, 0.003520047170096739, 0.9903692845248798, 0.3151224522055406, 0.6845763616878986, 0.9910402912486025, 0.9948607565306191, 0.9974366534860176, 0.9941225006953308, 0.9986273942789711, 0.9959412576779335, 0.9952294512835773, 0.9987492187385776, 0.28831424896637675, 0.7087725287090095, 0.9934309144249254, 0.29228686368546947, 0.7070763099449959, 0.9985589843337247, 0.9946170814779322, 0.9881927558046694, 0.9971886773199705, 0.42011474692374456, 0.05380338274370261, 0.44208446154408976, 0.08384360477560324, 0.9989138955863707, 0.2609128003496726, 0.7376075382858313, 0.12250298908331377, 0.8711323668146757, 0.9928436234839945, 0.9967045987904302, 0.13422841226833807, 0.8068786580175379, 0.05856782782494901, 0.6974569975306648, 0.07693162033368545, 0.17584370361985247, 0.0019726056495816785, 0.047906137204126474, 0.9647421390427748, 0.0346128859045881, 0.9994994392391642, 0.8647477939622904, 0.11527311460106178, 0.01475814962020514, 0.004786426903850316, 0.9942956835498045, 0.9987344587313474, 0.009957149683893165, 0.97022466519855, 0.019516013380430602, 0.8886992734789351, 0.0925007998659981, 0.01844252707608685, 0.875617759624368, 0.12414945516783636, 0.6126774843556241, 0.18493164176491383, 0.15316937108890602, 0.047016519092774704, 0.0022985853778689854, 0.9969232657210925, 0.9966782283135939, 0.9975497622726349, 0.9956162143266225, 0.9524447263660695, 0.0468163805868898, 0.9919851181673389, 0.006278386823843917, 0.9991833235615376, 0.9941289923456947, 0.9967363948265702, 0.9964143887642296, 0.9967939369517642, 0.996266706621162, 0.9988380198327688, 0.9975908379268984, 0.12800591783393483, 0.7909086956001646, 0.052671287502160075, 0.028329178537018367, 0.0814639891066287, 0.9104798782505561, 0.9979429347736504, 0.9974895546533555, 0.9987685869551152, 0.9939715728963187, 0.9985901824031684, 0.5100999898618854, 0.4863744089380768, 0.5980156175448378, 0.37124003223991336, 0.030516714565724398, 0.1536635221763427, 0.33382075507274445, 0.5122117405878089, 0.753063336776786, 0.17047571839112946, 0.06033169707127087, 0.015469665915710478, 0.9965717716429138, 0.15798091679455525, 0.09373534396476944, 0.3022701541335824, 0.4455061853606458, 0.5979200508219703, 0.16645393356216023, 0.2319404153188522, 0.0035042933381507417, 0.9910666891549329, 0.14940885468607507, 0.8498122687170936, 0.9995852385876747, 0.9973535246310545, 0.9955588217757921, 0.9979856190349874, 0.9970221183418924, 0.9912919746042894, 0.964785703265701, 0.034619317019921284, 0.32299067349323435, 0.5932988374756167, 0.060405599910348697, 0.023169271198489914, 0.9956402943580104, 0.6446049828121643, 0.23096034976630417, 0.12437061881041461, 0.9451149937148315, 0.05377986438116112, 0.14310797646282777, 0.5330568459137209, 0.18438390136292232, 0.04507765482510325, 0.09422859171271583], \"Term\": [\"_\", \"accept\", \"agree\", \"agree\", \"ai\", \"also\", \"also\", \"also\", \"also\", \"also\", \"amendment\", \"analysis\", \"announce\", \"application\", \"arab\", \"area\", \"area\", \"area\", \"area\", \"area\", \"argument\", \"arm\", \"arm\", \"arm\", \"armenian\", \"article\", \"article\", \"article\", \"astronomy\", \"atheist\", \"attack\", \"attack\", \"attack\", \"available\", \"available\", \"ax\", \"back\", \"back\", \"back\", \"ball\", \"band\", \"baseball\", \"belief\", \"believe\", \"bhj\", \"big\", \"big\", \"big\", \"bike\", \"bit\", \"bit\", \"black\", \"black\", \"black\", \"black\", \"bo\", \"border\", \"box\", \"box\", \"buyer\", \"bxn\", \"c\", \"cable\", \"cambridge\", \"cap\", \"capable\", \"car\", \"card\", \"carry\", \"carry\", \"carry\", \"carry\", \"case\", \"case\", \"case\", \"case\", \"cause\", \"cause\", \"cause\", \"cd\", \"center\", \"center\", \"center\", \"center\", \"center\", \"certainly\", \"child\", \"child\", \"chip\", \"choose\", \"christian\", \"church\", \"ci\", \"citizen\", \"citizen\", \"civilian\", \"civilian\", \"claim\", \"clear\", \"coach\", \"code\", \"color\", \"colorado\", \"com\", \"com\", \"come\", \"come\", \"come\", \"come\", \"computer\", \"conclusion\", \"condition\", \"condition\", \"condition\", \"condition\", \"constitution\", \"conversion\", \"convert\", \"cop\", \"copy\", \"copy\", \"cost\", \"cost\", \"cost\", \"country\", \"country\", \"country\", \"court\", \"crime\", \"criminal\", \"cub\", \"cx\", \"daughter\", \"death\", \"death\", \"degree\", \"diagnosis\", \"direct\", \"disk\", \"distribution\", \"distribution\", \"division\", \"division\", \"division\", \"dn\", \"do\", \"do\", \"doctor\", \"dog\", \"dream\", \"drive\", \"drive\", \"driver\", \"drug\", \"drug\", \"drug\", \"earth\", \"earth\", \"eat\", \"eat\", \"eeg\", \"effect\", \"effect\", \"ei\", \"email\", \"encryption\", \"engine\", \"ensure\", \"entry\", \"ethernet\", \"ethnic\", \"even\", \"even\", \"even\", \"even\", \"evidence\", \"examine\", \"existence\", \"expansion\", \"explain\", \"fact\", \"fact\", \"faith\", \"fan\", \"father\", \"file\", \"fire\", \"fire\", \"firearm\", \"first\", \"first\", \"first\", \"first\", \"first\", \"floppy\", \"food\", \"force\", \"force\", \"force\", \"force\", \"game\", \"gang\", \"gateway\", \"gb\", \"get\", \"get\", \"get\", \"get\", \"girl\", \"give\", \"give\", \"give\", \"give\", \"go\", \"go\", \"go\", \"go\", \"goal\", \"goal\", \"god\", \"good\", \"good\", \"good\", \"government\", \"government\", \"grade\", \"graphic\", \"greek\", \"greek\", \"ground\", \"ground\", \"group\", \"group\", \"group\", \"guide\", \"gun\", \"guy\", \"guy\", \"gw\", \"gy\", \"hardware\", \"health\", \"helmet\", \"help\", \"help\", \"hh\", \"high\", \"high\", \"high\", \"high\", \"hit\", \"hockey\", \"honest\", \"host\", \"host\", \"host\", \"hst\", \"human_being\", \"husband\", \"hz\", \"hz\", \"ice\", \"icon\", \"ij\", \"illegal\", \"image\", \"improve\", \"inch\", \"include\", \"include\", \"include\", \"include\", \"include\", \"include\", \"increase\", \"increase\", \"increase\", \"info\", \"information\", \"information\", \"information\", \"inhabitant\", \"international\", \"internet\", \"invasion\", \"ip\", \"israeli\", \"item\", \"jet\", \"key\", \"kill\", \"know\", \"know\", \"know\", \"kp\", \"land\", \"land\", \"last\", \"last\", \"last\", \"last\", \"last\", \"last\", \"launch\", \"law\", \"law\", \"lead\", \"lead\", \"lead\", \"lebanese\", \"lebanese_resistance\", \"legal\", \"legal\", \"less\", \"less\", \"less\", \"less\", \"less\", \"level\", \"level\", \"level\", \"level\", \"liar\", \"life\", \"life\", \"line\", \"line\", \"line\", \"line\", \"lk\", \"look\", \"look\", \"look\", \"los_angele\", \"love\", \"love\", \"low\", \"low\", \"low\", \"m\", \"m\", \"m\", \"m\", \"machine\", \"mail\", \"make\", \"make\", \"make\", \"make\", \"make\", \"man\", \"man\", \"man\", \"many\", \"many\", \"many\", \"many\", \"material\", \"matter\", \"mean\", \"mean\", \"medical\", \"memory\", \"mf\", \"military\", \"military\", \"militia\", \"mind\", \"mission\", \"moon\", \"motif\", \"motorcycle\", \"mu\", \"murder\", \"n\", \"need\", \"need\", \"need\", \"negative\", \"nei\", \"new\", \"new\", \"new\", \"new\", \"next\", \"next\", \"next\", \"next\", \"nhl\", \"nntp_poste\", \"nntp_poste\", \"nntp_poste\", \"northern\", \"occupy\", \"offer\", \"offer\", \"offer\", \"opinion\", \"opinion\", \"orbit\", \"organization\", \"organization\", \"organization\", \"organization\", \"owner\", \"owner\", \"pack\", \"patient\", \"patrol\", \"pen\", \"people\", \"people\", \"perhaps\", \"perhaps\", \"period\", \"period\", \"person\", \"person\", \"person\", \"phone\", \"physical\", \"pick\", \"pick\", \"pick\", \"pin\", \"play\", \"player\", \"playoff\", \"point\", \"point\", \"point\", \"police\", \"policy\", \"policy\", \"policy\", \"possess\", \"power\", \"power\", \"power\", \"power\", \"power\", \"power\", \"price\", \"price\", \"price\", \"price\", \"probe\", \"problem\", \"problem\", \"problem\", \"procedure\", \"program\", \"program\", \"protect\", \"protect\", \"prove\", \"provide\", \"provide\", \"provide\", \"provide\", \"public\", \"public\", \"public\", \"question\", \"question\", \"qx\", \"r\", \"radio\", \"radio\", \"radio\", \"rate\", \"rate\", \"rate\", \"rate\", \"reality\", \"reason\", \"recommend\", \"reduce\", \"reduce\", \"reduce\", \"religion\", \"religious\", \"report\", \"report\", \"report\", \"report\", \"report\", \"research\", \"research\", \"result\", \"result\", \"result\", \"result\", \"ride\", \"rider\", \"right\", \"right\", \"right\", \"right\", \"ripem\", \"risk\", \"risk\", \"rlk\", \"rocket\", \"routine\", \"run\", \"run\", \"russian\", \"s\", \"s\", \"s\", \"safety\", \"safety\", \"safety\", \"sale\", \"satellite\", \"saturn\", \"say\", \"say\", \"say\", \"science\", \"science\", \"scientific\", \"score\", \"screen\", \"season\", \"sector\", \"see\", \"see\", \"see\", \"seem\", \"seem\", \"seem\", \"select\", \"select\", \"sell\", \"sell\", \"sell\", \"sell\", \"send\", \"send\", \"send\", \"send\", \"sense\", \"server\", \"service\", \"service\", \"service\", \"service\", \"service\", \"shipping\", \"shoot\", \"shoot\", \"shuttle\", \"significant\", \"sj\", \"sky\", \"slave\", \"slightly\", \"smoke\", \"software\", \"soldier\", \"soldier\", \"son\", \"space\", \"space\", \"speak\", \"sport\", \"stack\", \"stat\", \"state\", \"state\", \"state\", \"state\", \"statement\", \"study\", \"study\", \"super\", \"super\", \"sy\", \"syndrome\", \"system\", \"system\", \"system\", \"take\", \"take\", \"take\", \"take\", \"take\", \"talk\", \"talk\", \"team\", \"tell\", \"tell\", \"tell\", \"tell\", \"terrorism\", \"test\", \"thank\", \"thank\", \"thank\", \"thing\", \"thing\", \"thing\", \"think\", \"think\", \"time\", \"time\", \"time\", \"time\", \"time\", \"trade\", \"translation\", \"treatment\", \"trial\", \"true\", \"true\", \"trust\", \"trust\", \"truth\", \"tube\", \"tumor\", \"turk\", \"turkish\", \"tv\", \"understand\", \"upgrade\", \"use\", \"use\", \"use\", \"use\", \"usenet\", \"usenet\", \"user\", \"valid\", \"version\", \"vertical\", \"village\", \"wa\", \"wa\", \"want\", \"want\", \"want\", \"war\", \"war\", \"war\", \"way\", \"way\", \"way\", \"way\", \"weapon\", \"week\", \"week\", \"week\", \"week\", \"well\", \"well\", \"well\", \"well\", \"widget\", \"win\", \"win\", \"window\", \"wing\", \"winner\", \"wire\", \"withdraw\", \"wm\", \"word\", \"word\", \"work\", \"work\", \"work\", \"work\", \"workstation\", \"write\", \"write\", \"write\", \"wrong\", \"wrong\", \"year\", \"year\", \"year\", \"year\", \"year\"]}, \"R\": 30, \"lambda.step\": 0.01, \"plot.opts\": {\"xlab\": \"PC1\", \"ylab\": \"PC2\"}, \"topic.order\": [3, 2, 4, 8, 6, 5, 7, 1]};\\n\\nfunction LDAvis_load_lib(url, callback){\\n  var s = document.createElement(\\'script\\');\\n  s.src = url;\\n  s.async = true;\\n  s.onreadystatechange = s.onload = callback;\\n  s.onerror = function(){console.warn(\"failed to load library \" + url);};\\n  document.getElementsByTagName(\"head\")[0].appendChild(s);\\n}\\n\\nif(typeof(LDAvis) !== \"undefined\"){\\n   // already loaded: just create the visualization\\n   !function(LDAvis){\\n       new LDAvis(\"#\" + \"ldavis_el161217073903369122173659319\", ldavis_el161217073903369122173659319_data);\\n   }(LDAvis);\\n}else if(typeof define === \"function\" && define.amd){\\n   // require.js is available: use it to load d3/LDAvis\\n   require.config({paths: {d3: \"https://d3js.org/d3.v5\"}});\\n   require([\"d3\"], function(d3){\\n      window.d3 = d3;\\n      LDAvis_load_lib(\"https://cdn.jsdelivr.net/gh/bmabey/pyLDAvis@3.3.1/pyLDAvis/js/ldavis.v3.0.0.js\", function(){\\n        new LDAvis(\"#\" + \"ldavis_el161217073903369122173659319\", ldavis_el161217073903369122173659319_data);\\n      });\\n    });\\n}else{\\n    // require.js not available: dynamically load d3 & LDAvis\\n    LDAvis_load_lib(\"https://d3js.org/d3.v5.js\", function(){\\n         LDAvis_load_lib(\"https://cdn.jsdelivr.net/gh/bmabey/pyLDAvis@3.3.1/pyLDAvis/js/ldavis.v3.0.0.js\", function(){\\n                 new LDAvis(\"#\" + \"ldavis_el161217073903369122173659319\", ldavis_el161217073903369122173659319_data);\\n            })\\n         });\\n}\\n</script>'"
      ]
     },
     "execution_count": 28,
     "metadata": {},
     "output_type": "execute_result"
    }
   ],
   "source": [
    "pyLDAvis.prepared_data_to_html(vis)"
   ]
  },
  {
   "cell_type": "code",
   "execution_count": null,
   "id": "22e586d3",
   "metadata": {},
   "outputs": [],
   "source": [
    "def format_topics_sentences(ldamodel=None, corpus=corpus, texts=data):\n",
    "    # Init output\n",
    "    sent_topics_df = pd.DataFrame()\n",
    "\n",
    "    # Get main topic in each document\n",
    "    for i, row_list in enumerate(ldamodel[corpus]):\n",
    "        row = row_list[0] if ldamodel.per_word_topics else row_list            \n",
    "        # print(row)\n",
    "        row = sorted(row, key=lambda x: (x[1]), reverse=True)\n",
    "        # Get the Dominant topic, Perc Contribution and Keywords for each document\n",
    "        for j, (topic_num, prop_topic) in enumerate(row):\n",
    "            if j == 0:  # => dominant topic\n",
    "                wp = ldamodel.show_topic(topic_num)\n",
    "                topic_keywords = \", \".join([word for word, prop in wp])\n",
    "                sent_topics_df = sent_topics_df.append(pd.Series([int(topic_num), round(prop_topic,4), topic_keywords]), ignore_index=True)\n",
    "            else:\n",
    "                break\n",
    "    sent_topics_df.columns = ['Dominant_Topic', 'Perc_Contribution', 'Topic_Keywords']\n",
    "\n",
    "    # Add original text to the end of the output\n",
    "    contents = pd.Series(texts)\n",
    "    sent_topics_df = pd.concat([sent_topics_df, contents], axis=1)\n",
    "    return(sent_topics_df)\n",
    "\n",
    "\n",
    "df_topic_sents_keywords = format_topics_sentences(ldamodel=lda_model, corpus=corpus, texts=data_lemmatized)\n",
    "\n",
    "# Format\n",
    "df_dominant_topic = df_topic_sents_keywords.reset_index()\n",
    "df_dominant_topic.columns = ['Document_No', 'Dominant_Topic', 'Topic_Perc_Contrib', 'Keywords', 'Text']\n",
    "df_dominant_topic.head(10)"
   ]
  }
 ],
 "metadata": {
  "kernelspec": {
   "display_name": "Python 3 (ipykernel)",
   "language": "python",
   "name": "python3"
  },
  "language_info": {
   "codemirror_mode": {
    "name": "ipython",
    "version": 3
   },
   "file_extension": ".py",
   "mimetype": "text/x-python",
   "name": "python",
   "nbconvert_exporter": "python",
   "pygments_lexer": "ipython3",
   "version": "3.9.12"
  }
 },
 "nbformat": 4,
 "nbformat_minor": 5
}
