{
 "cells": [
  {
   "cell_type": "code",
   "execution_count": null,
   "id": "bearing-perth",
   "metadata": {
    "ExecuteTime": {
     "end_time": "2021-07-05T08:44:08.713112Z",
     "start_time": "2021-07-05T08:44:00.247062Z"
    }
   },
   "outputs": [],
   "source": [
    "import spacy\n",
    "nlp=spacy.load(\"en_core_web_lg\")\n",
    "nlp"
   ]
  },
  {
   "cell_type": "markdown",
   "id": "minor-agency",
   "metadata": {},
   "source": [
    "### (1) How to tokenize a given text?\n",
    "\n",
    "Q. Print the tokens of the given text document\n",
    "\n",
    "Input :\n",
    "\n",
    "`text=\"Last week, the University of Cambridge shared its own research that shows if everyone wears a mask outside home,dreaded ‘second wave’ of the pandemic can be avoided.\"`\n",
    "\n",
    "Desired Output :\n",
    "\n",
    "`Last`\n",
    "`week`\n",
    "`,`\n",
    "`the`\n",
    "`University`\n",
    "`of`\n",
    "`Cambridge`\n",
    "`shared`\n",
    "`...(truncated)...`"
   ]
  },
  {
   "cell_type": "code",
   "execution_count": null,
   "id": "moving-tract",
   "metadata": {
    "ExecuteTime": {
     "end_time": "2021-07-04T01:42:54.964580Z",
     "start_time": "2021-07-04T01:42:54.213426Z"
    }
   },
   "outputs": [],
   "source": []
  },
  {
   "cell_type": "markdown",
   "id": "rising-indonesian",
   "metadata": {},
   "source": [
    "### (2) How to get the sentences of a text document ?\n",
    "\n",
    "Q. Print the sentences of the given text document\n",
    "\n",
    "Input : \n",
    "\n",
    "`text=\"\"\"The outbreak of coronavirus disease 2019 (COVID-19) has created a global health crisis that has had a deep impact on the way we perceive our world and our everyday lives. Not only the rate of contagion and patterns of transmission threatens our sense of agency, but the safety measures put in place to contain the spread of the virus also require social distancing by refraining from doing what is inherently human, which is to find solace in the company of others. Within this context of physical threat, social and physical distancing, as well as public alarm, what has been (and can be) the role of the different mass media channels in our lives on individual, social and societal levels? Mass media have long been recognized as powerful forces shaping how we experience the world and ourselves. This recognition is accompanied by a growing volume of research, that closely follows the footsteps of technological transformations (e.g. radio, movies, television, the internet, mobiles) and the zeitgeist (e.g. cold war, 9/11, climate change) in an attempt to map mass media major impacts on how we perceive ourselves, both as individuals and citizens. Are media (broadcast and digital) still able to convey a sense of unity reaching large audiences, or are messages lost in the noisy crowd of mass self-communication? \"\"\"`\n",
    "\n",
    "Desired Output :\n",
    "\n",
    "`The outbreak of coronavirus disease 2019 (COVID-19) has created a global health crisis that has had a deep impact on the way we perceive our world and our everyday lives.`\n",
    "\n",
    "`Not only the rate of contagion and patterns of transmission threatens our sense of agency, but the safety measures put in place to contain the spread of the virus also require social distancing by refraining from doing what is inherently human, which is to find solace in the company of others.`\n",
    "\n",
    "`Within this context of physical threat, social and physical distancing, as well as public alarm, what has been (and can be)...(truncated)...`"
   ]
  },
  {
   "cell_type": "code",
   "execution_count": null,
   "id": "touched-rating",
   "metadata": {},
   "outputs": [],
   "source": []
  },
  {
   "cell_type": "markdown",
   "id": "inappropriate-benefit",
   "metadata": {
    "ExecuteTime": {
     "end_time": "2021-07-04T01:43:21.734984Z",
     "start_time": "2021-07-04T01:43:21.676543Z"
    }
   },
   "source": [
    "### (3) How to remove stop words in a text ?\n",
    "\n",
    "Q. Remove all the stopwords ( ‘a’ , ‘the’, ‘was’…) from the text\n",
    "\n",
    "Input :\n",
    "\n",
    "`text=\"\"\"the outbreak of coronavirus disease 2019 (COVID-19) has created a global health crisis that has had a deep impact on the way we perceive our world and our everyday lives. Not only the rate of contagion and patterns of transmission threatens our sense of agency, but the safety measures put in place to contain the spread of the virus also require social distancing by refraining from doing what is inherently human, which is to find solace in the company of others. Within this context of physical threat, social and physical distancing, as well as public alarm, what has been (and can be) the role of the different mass media channels in our lives on individual, social and societal levels? Mass media have long been recognized as powerful forces shaping how we experience the world and ourselves. This recognition is accompanied by a growing volume of research, that closely follows the footsteps of technological transformations (e.g. radio, movies, television, the internet, mobiles) and the zeitgeist (e.g. cold war, 9/11, climate change) in an attempt to map mass media major impacts on how we perceive ourselves, both as individuals and citizens. Are media (broadcast and digital) still able to convey a sense of unity reaching large audiences, or are messages lost in the noisy crowd of mass self-communication? \"\"\"`\n",
    "\n",
    "Desired Output :\n",
    "\n",
    "`'outbreak coronavirus disease 2019 ( COVID-19 ) created global health crisis deep impact way perceive world everyday lives . rate contagion patterns transmission threatens sense agency , safety measures place contain spread virus require social distancing refraining inherently human , find solace company . context physical threat , social physical distancing , public alarm , ( ) role different mass media channels lives individual , social societal levels ? Mass media long recognized powerful forces shaping experience world . recognition accompanied growing volume research , closely follows footsteps technological transformations ( e.g. radio , movies , television , internet , mobiles ) zeitgeist ( e.g. cold war , 9/11 , climate change ) attempt map mass media major impacts perceive , individuals citizens . media ( broadcast digital ) able convey sense unity reaching large audiences , messages lost noisy crowd mass self - communication ?'`"
   ]
  },
  {
   "cell_type": "code",
   "execution_count": null,
   "id": "professional-market",
   "metadata": {},
   "outputs": [],
   "source": []
  },
  {
   "cell_type": "markdown",
   "id": "surprising-message",
   "metadata": {
    "ExecuteTime": {
     "end_time": "2021-07-05T09:06:44.868834Z",
     "start_time": "2021-07-05T09:06:44.863763Z"
    }
   },
   "source": [
    "### (4) How to remove punctuations ?\n",
    "\n",
    "Q. Remove all the punctuations in the given text\n",
    "\n",
    "Input :\n",
    "\n",
    "`text=\"The match has concluded !!! India has won the match . Will we fin the finals too ? !\"`\n",
    "\n",
    "Desired Output :\n",
    "\n",
    "`'The match has concluded India has won the match Will we fin the finals too'`"
   ]
  },
  {
   "cell_type": "code",
   "execution_count": null,
   "id": "controlling-swiss",
   "metadata": {},
   "outputs": [],
   "source": []
  },
  {
   "cell_type": "markdown",
   "id": "moving-bumper",
   "metadata": {},
   "source": [
    "### (5) How to lemmatize a given text ?\n",
    "\n",
    "Q. Perform lemmatzation on the given text\n",
    "\n",
    "Input:\n",
    "\n",
    "`text= \"Dancing is an art. Students should be taught dance as a subject in schools . I danced in many of my school function. Some people are always hesitating to dance.\"`\n",
    "\n",
    "Desired Output:\n",
    "\n",
    "`text= 'dancing be an art . student should be teach dance as a subject in school . I dance in many of my school function . some people be always hesitate to dance .'`"
   ]
  },
  {
   "cell_type": "code",
   "execution_count": null,
   "id": "third-numbers",
   "metadata": {},
   "outputs": [],
   "source": []
  },
  {
   "cell_type": "markdown",
   "id": "israeli-classics",
   "metadata": {},
   "source": [
    "### (6) How to extract usernames from emails ?\n",
    "\n",
    "Q. Extract the usernames from the email addresses present in the text\n",
    "\n",
    "Input :\n",
    "\n",
    "`text= \"The new registrations are potter709@gmail.com , elixir101@gmail.com. If you find any disruptions, kindly contact granger111@gamil.com or severus77@gamil.com \"`\n",
    "\n",
    "Desired Output :\n",
    "\n",
    "`['potter709', 'elixir101', 'granger111', 'severus77']`"
   ]
  },
  {
   "cell_type": "code",
   "execution_count": null,
   "id": "thirty-victor",
   "metadata": {},
   "outputs": [],
   "source": []
  },
  {
   "cell_type": "markdown",
   "id": "swedish-perry",
   "metadata": {},
   "source": [
    "### (7) How to find the most common words in the text excluding stopwords\n",
    "\n",
    "Q. Extract the top 10 most common words in the given text excluding stopwords.\n",
    "\n",
    "Input :\n",
    "\n",
    "`text=\"\"\"Junkfood - Food that do no good to our body. And there's no need of them in our body but still we willingly eat them because they are great in taste and easy to cook or ready to eat. Junk foods have no or very less nutritional value and irrespective of the way they are marketed, they are not healthy to consume.The only reason of their gaining popularity and increased trend of consumption is \n",
    "that they are ready to eat or easy to cook foods. People, of all age groups are moving towards Junkfood as it is hassle free and often ready to grab and eat. Cold drinks, chips, noodles, pizza, burgers, French fries etc. are few examples from the great variety of junk food available in the market.\n",
    " Junkfood is the most dangerous food ever but it is pleasure in eating and it gives a great taste in mouth examples of Junkfood are kurkure and chips.. cold rings are also source of junk food... they shud nt be ate in high amounts as it results fatal to our body... it cn be eated in a limited extend ... in research its found tht ths junk foods r very dangerous fr our health\n",
    "Junkfood is very harmful that is slowly eating away the health of the present generation. The term itself denotes how dangerous it is for our bodies. Most importantly, it tastes so good that people consume it on a daily basis. However, not much awareness is spread about the harmful effects of Junkfood .\n",
    "The problem is more serious than you think. Various studies show that Junkfood impacts our health negatively. They contain higher levels of calories, fats, and sugar. On the contrary, they have very low amounts of healthy nutrients and lack dietary fibers. Parents must discourage their children from consuming junk food because of the ill effects it has on one’s health.\n",
    "Junkfood is the easiest way to gain unhealthy weight. The amount of fats and sugar in the food makes you gain weight rapidly. However, this is not a healthy weight. It is more of fats and cholesterol which will have a harmful impact on your health. Junk food is also one of the main reasons for the increase in obesity nowadays.\n",
    "This food only looks and tastes good, other than that, it has no positive points. The amount of calorie your body requires to stay fit is not fulfilled by this food. For instance, foods like French fries, burgers, candy, and cookies, all have high amounts of sugar and fats. Therefore, this can result in long-term illnesses like diabetes and high blood pressure. This may also result in kidney failure.\"\"\"`\n",
    "\n",
    "Desired Output:\n",
    "\n",
    "`text= {Junkfood: 10,\n",
    " food: 8,\n",
    " good: 5,\n",
    " harmful : 3\n",
    " body: 1,\n",
    " need: 1,...(truncated)`"
   ]
  },
  {
   "cell_type": "code",
   "execution_count": null,
   "id": "intellectual-opera",
   "metadata": {},
   "outputs": [],
   "source": []
  },
  {
   "cell_type": "markdown",
   "id": "utility-bunny",
   "metadata": {},
   "source": [
    "### (8) How to extract all the nouns in a text?\n",
    "\n",
    "Q. Extract and print all the nouns present in the below text\n",
    "\n",
    "Input:\n",
    "\n",
    "`text=\"James works at Microsoft. She lives in manchester and likes to play the flute\"`\n",
    "\n",
    "Desired Output :\n",
    "\n",
    "`James\n",
    "Microsoft\n",
    "manchester\n",
    "flute`"
   ]
  },
  {
   "cell_type": "code",
   "execution_count": null,
   "id": "radio-holiday",
   "metadata": {},
   "outputs": [],
   "source": []
  },
  {
   "cell_type": "markdown",
   "id": "acceptable-separation",
   "metadata": {},
   "source": [
    "### (9) How to extract all the pronouns in a text?\n",
    "\n",
    "Q. Extract and print all the pronouns in the text\n",
    "\n",
    "Input :\n",
    "\n",
    "`text=\"John is happy finally. He had landed his dream job finally. He told his mom. She was elated \"`\n",
    "\n",
    "Desired Output :\n",
    "\n",
    "`He\n",
    "his\n",
    "He\n",
    "his\n",
    "She\n",
    "`"
   ]
  },
  {
   "cell_type": "code",
   "execution_count": null,
   "id": "secure-substance",
   "metadata": {},
   "outputs": [],
   "source": []
  },
  {
   "cell_type": "markdown",
   "id": "possible-fifty",
   "metadata": {},
   "source": [
    "### (10) How to find similarity between two words?\n",
    "\n",
    "Find the similarity between any two words.\n",
    "\n",
    "Input :\n",
    "\n",
    "`word1=\"amazing\"\n",
    "word2=\"terrible\"\n",
    "word3=\"excellent\"`\n",
    "\n",
    "Desired Output:\n",
    "\n",
    "`#> similarity between amazing and terrible is 0.46189071343764604`\n",
    "\n",
    "`#> similarity between amazing and excellent is 0.6388207086737778`"
   ]
  },
  {
   "cell_type": "code",
   "execution_count": null,
   "id": "aboriginal-taiwan",
   "metadata": {},
   "outputs": [],
   "source": []
  },
  {
   "cell_type": "markdown",
   "id": "arranged-neighborhood",
   "metadata": {},
   "source": [
    "### (11) How to find similarity between two documents?\n",
    "\n",
    "Q. Find the similarity between any two text documents\n",
    "\n",
    "Input :\n",
    "  \n",
    "`text1=\"John lives in Canada\"\n",
    "text2=\"James lives in America, though he's not from there\"`\n",
    "\n",
    "Desired Output :\n",
    "\n",
    "`0.792817083631068`"
   ]
  },
  {
   "cell_type": "code",
   "execution_count": null,
   "id": "driving-inspector",
   "metadata": {},
   "outputs": [],
   "source": []
  },
  {
   "cell_type": "markdown",
   "id": "basic-recall",
   "metadata": {},
   "source": [
    "### (12 )How to merge two tokens as one ?\n",
    "\n",
    "Q. Merge the first name and last name as single token in the given sentence\n",
    "\n",
    "Input:\n",
    "\n",
    "`text=\"Robert Langdon is a famous character in various books and movies \"`\n",
    "\n",
    "Desired Output:\n",
    "\n",
    "`Robert Langdon\n",
    "is\n",
    "a\n",
    "famous\n",
    "character\n",
    "in\n",
    "various\n",
    "books\n",
    "and\n",
    "movies`"
   ]
  },
  {
   "cell_type": "code",
   "execution_count": null,
   "id": "engaging-smith",
   "metadata": {},
   "outputs": [],
   "source": []
  },
  {
   "cell_type": "markdown",
   "id": "soviet-witch",
   "metadata": {},
   "source": [
    "### (13) How to extract Noun phrases from a text ?\n",
    "\n",
    "Q. Extract and print the noun phrases in given text document\n",
    "\n",
    "Input:\n",
    "\n",
    "`text=\"There is a empty house on the Elm Street\"`\n",
    "\n",
    "Expected Output :\n",
    "\n",
    "`[a empty house, the Elm Street]`"
   ]
  },
  {
   "cell_type": "code",
   "execution_count": null,
   "id": "aging-style",
   "metadata": {},
   "outputs": [],
   "source": []
  },
  {
   "cell_type": "markdown",
   "id": "killing-diameter",
   "metadata": {},
   "source": [
    "### (14) How to identify named entities in the given text?\n",
    "\n",
    "Q. Identify and print all the named entities with their labels in the below text\n",
    "\n",
    "Input\n",
    "\n",
    "`text=\" Walter works at Google. He lives in London.\"`\n",
    "\n",
    "Desired Output:\n",
    "\n",
    "`Walter PERSON`\n",
    "\n",
    "`Google ORG`\n",
    "\n",
    "`London GPE`"
   ]
  },
  {
   "cell_type": "code",
   "execution_count": null,
   "id": "heard-louisiana",
   "metadata": {},
   "outputs": [],
   "source": []
  },
  {
   "cell_type": "markdown",
   "id": "falling-peoples",
   "metadata": {},
   "source": [
    "### (15) How to identify all the names of Organizations present in the text with NER ?\n",
    "\n",
    "Q. Identify and extract a list of all organizations/Companies mentioned in the given news article\n",
    "\n",
    "Input :\n",
    "\n",
    "`text =\" Google has released it's new model which has got attention of everyone. Amazon is planning to expand into Food delivery, thereby giving competition . Apple is coming up with new iphone model. Flipkart will have to catch up soon.\"`\n",
    "\n",
    "Expected Solution\n",
    "\n",
    "`['Google', 'Amazon', 'Apple', 'Flipkart']`"
   ]
  },
  {
   "cell_type": "code",
   "execution_count": null,
   "id": "alike-radar",
   "metadata": {},
   "outputs": [],
   "source": []
  },
  {
   "cell_type": "markdown",
   "id": "weird-aquatic",
   "metadata": {},
   "source": [
    "### (16) How to replace all names of people in the text with 'UNKNOWN'\n",
    "\n",
    "Q. Identify and replace all the person names in the news article with UNKNOWN to keep privacy\n",
    "\n",
    "Input :\n",
    "\n",
    "`news=\" Walter was arrested yesterday at Brooklyn for murder. The suspicions and fingerprints pointed to Walter  and his friend  Pinkman . The arrest was made by inspector Hank\"`\n",
    "\n",
    "Desired Output :\n",
    "\n",
    "`'UNKNOWN was arrested yesterday at Brooklyn for murder . The suspicions and fingerprints pointed to UNKNOWN   and his friend   UNKNOWN . The arrest was made by inspector UNKNOWN'`"
   ]
  },
  {
   "cell_type": "code",
   "execution_count": null,
   "id": "smaller-reggae",
   "metadata": {},
   "outputs": [],
   "source": []
  },
  {
   "cell_type": "markdown",
   "id": "prescription-aerospace",
   "metadata": {},
   "source": [
    "### (17) How to visualize the named entities using spaCy?\n",
    "\n",
    "Q. Display the named entities prsent in the given document along with their categories using spacy\n",
    "\n",
    "Input :\n",
    "\n",
    "`text=\" Walter was arrested yesterday at Brooklyn for murder. The suspicions and fingerprints pointed to Walter  and his friend  Pinkman . He is from Paris \"`"
   ]
  },
  {
   "cell_type": "code",
   "execution_count": null,
   "id": "automotive-lambda",
   "metadata": {},
   "outputs": [],
   "source": []
  },
  {
   "cell_type": "markdown",
   "id": "academic-influence",
   "metadata": {},
   "source": [
    "### (18) How to implement dependency parsing ?\n",
    "\n",
    "Q. Find the dependencies of all the words in the given text\n",
    "\n",
    "Input :\n",
    "\n",
    "`text=\"Mark plays volleyball every evening.\"`\n",
    "\n",
    "Desired Output :\n",
    "\n",
    "`Mark nsubj`\n",
    "\n",
    "`plays ROOT`\n",
    "\n",
    "`volleyball dobj`\n",
    "\n",
    "`every det`\n",
    "\n",
    "`evening npadvmod`\n",
    "\n",
    "`. punct`"
   ]
  },
  {
   "cell_type": "code",
   "execution_count": null,
   "id": "intensive-acting",
   "metadata": {},
   "outputs": [],
   "source": []
  },
  {
   "cell_type": "markdown",
   "id": "central-discussion",
   "metadata": {},
   "source": [
    "### (19) How to find the ROOT word of any word in a sentence?\n",
    "\n",
    "Q. Find and print the root word / headword of any word in the given sentence\n",
    "\n",
    "Input :\n",
    "\n",
    "`text=\"Mark plays volleyball. Sam is not into sports, he paints a lot\"`\n",
    "\n",
    "Desired Output :\n",
    "\n",
    "`Mark plays`\n",
    "\n",
    "`plays plays`\n",
    "\n",
    "`volleyball plays`\n",
    "\n",
    "`. plays`\n",
    "\n",
    "`Sam is`\n",
    "\n",
    "`is paints`\n",
    "\n",
    "`not is`\n",
    "\n",
    "`into is`\n",
    "\n",
    "`sports into`\n",
    "\n",
    "`, paints`\n",
    "\n",
    "`he paints`\n",
    "\n",
    "`paints paints`\n",
    "\n",
    "`a lot`\n",
    "\n",
    "`lot paints`"
   ]
  },
  {
   "cell_type": "code",
   "execution_count": null,
   "id": "textile-screen",
   "metadata": {},
   "outputs": [],
   "source": []
  },
  {
   "cell_type": "markdown",
   "id": "integral-estonia",
   "metadata": {},
   "source": [
    "### (20) How to visualize the dependency tree in spaCy?\n",
    "\n",
    "Q. Visualize the dependencies of various tokens of the given text using spaCy\n",
    "\n",
    "Input :\n",
    "\n",
    "`text=\"Mark plays volleyball. Sam is not into sports, he paints a lot\"`"
   ]
  },
  {
   "cell_type": "code",
   "execution_count": null,
   "id": "arabic-manhattan",
   "metadata": {},
   "outputs": [],
   "source": []
  },
  {
   "cell_type": "code",
   "execution_count": null,
   "id": "2db9a823",
   "metadata": {},
   "outputs": [],
   "source": []
  }
 ],
 "metadata": {
  "kernelspec": {
   "display_name": "Python 3 (ipykernel)",
   "language": "python",
   "name": "python3"
  },
  "language_info": {
   "codemirror_mode": {
    "name": "ipython",
    "version": 3
   },
   "file_extension": ".py",
   "mimetype": "text/x-python",
   "name": "python",
   "nbconvert_exporter": "python",
   "pygments_lexer": "ipython3",
   "version": "3.9.12"
  }
 },
 "nbformat": 4,
 "nbformat_minor": 5
}
