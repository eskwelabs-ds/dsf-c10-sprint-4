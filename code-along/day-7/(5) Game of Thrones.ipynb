{
 "cells": [
  {
   "cell_type": "code",
   "execution_count": 4,
   "id": "51030ad3",
   "metadata": {},
   "outputs": [],
   "source": [
    "import pandas as pd\n",
    "import networkx as nx\n",
    "import numpy as np\n",
    "import matplotlib.pyplot as plt\n",
    "import warnings\n",
    "warnings.filterwarnings('ignore')"
   ]
  },
  {
   "cell_type": "code",
   "execution_count": 14,
   "id": "e67cc7a4",
   "metadata": {},
   "outputs": [
    {
     "name": "stdout",
     "output_type": "stream",
     "text": [
      "                            Source              Target        Type  weight  \\\n",
      "0                   Addam-Marbrand     Jaime-Lannister  Undirected       3   \n",
      "1                   Addam-Marbrand     Tywin-Lannister  Undirected       6   \n",
      "2                Aegon-I-Targaryen  Daenerys-Targaryen  Undirected       5   \n",
      "3                Aegon-I-Targaryen        Eddard-Stark  Undirected       4   \n",
      "4  Aemon-Targaryen-(Maester-Aemon)      Alliser-Thorne  Undirected       4   \n",
      "\n",
      "   book  weight_inv  \n",
      "0     1    0.333333  \n",
      "1     1    0.166667  \n",
      "2     1    0.200000  \n",
      "3     1    0.250000  \n",
      "4     1    0.250000  \n"
     ]
    }
   ],
   "source": [
    "book_1 = pd.read_csv('book1.csv')\n",
    "book_1['book'] = 1\n",
    "book_1['weight_inv'] = 1/book_1.weight\n",
    "print(book_1.head())"
   ]
  },
  {
   "cell_type": "code",
   "execution_count": 15,
   "id": "e75eaa2f",
   "metadata": {},
   "outputs": [],
   "source": [
    "book_2 = pd.read_csv('book2.csv')\n",
    "book_2['book'] = 2\n",
    "book_2['weight_inv'] = 1/book_2.weight\n",
    "\n",
    "book_3 = pd.read_csv('book3.csv')\n",
    "book_3['book'] = 3\n",
    "book_3['weight_inv'] = 1/book_2.weight\n",
    "\n",
    "book_4 = pd.read_csv('book4.csv')\n",
    "book_4['book'] = 4\n",
    "book_4['weight_inv'] = 1/book_2.weight\n",
    "\n",
    "book_5 = pd.read_csv('book5.csv')\n",
    "book_5['book'] = 5\n",
    "book_5['weight_inv'] = 1/book_2.weight"
   ]
  },
  {
   "cell_type": "code",
   "execution_count": 17,
   "id": "daac9b47",
   "metadata": {},
   "outputs": [
    {
     "data": {
      "text/html": [
       "<div>\n",
       "<style scoped>\n",
       "    .dataframe tbody tr th:only-of-type {\n",
       "        vertical-align: middle;\n",
       "    }\n",
       "\n",
       "    .dataframe tbody tr th {\n",
       "        vertical-align: top;\n",
       "    }\n",
       "\n",
       "    .dataframe thead th {\n",
       "        text-align: right;\n",
       "    }\n",
       "</style>\n",
       "<table border=\"1\" class=\"dataframe\">\n",
       "  <thead>\n",
       "    <tr style=\"text-align: right;\">\n",
       "      <th></th>\n",
       "      <th>Source</th>\n",
       "      <th>Target</th>\n",
       "      <th>Type</th>\n",
       "      <th>weight</th>\n",
       "      <th>book</th>\n",
       "      <th>weight_inv</th>\n",
       "    </tr>\n",
       "  </thead>\n",
       "  <tbody>\n",
       "    <tr>\n",
       "      <th>0</th>\n",
       "      <td>Addam-Marbrand</td>\n",
       "      <td>Jaime-Lannister</td>\n",
       "      <td>Undirected</td>\n",
       "      <td>3</td>\n",
       "      <td>1</td>\n",
       "      <td>0.333333</td>\n",
       "    </tr>\n",
       "    <tr>\n",
       "      <th>1</th>\n",
       "      <td>Addam-Marbrand</td>\n",
       "      <td>Tywin-Lannister</td>\n",
       "      <td>Undirected</td>\n",
       "      <td>6</td>\n",
       "      <td>1</td>\n",
       "      <td>0.166667</td>\n",
       "    </tr>\n",
       "    <tr>\n",
       "      <th>2</th>\n",
       "      <td>Aegon-I-Targaryen</td>\n",
       "      <td>Daenerys-Targaryen</td>\n",
       "      <td>Undirected</td>\n",
       "      <td>5</td>\n",
       "      <td>1</td>\n",
       "      <td>0.200000</td>\n",
       "    </tr>\n",
       "    <tr>\n",
       "      <th>3</th>\n",
       "      <td>Aegon-I-Targaryen</td>\n",
       "      <td>Eddard-Stark</td>\n",
       "      <td>Undirected</td>\n",
       "      <td>4</td>\n",
       "      <td>1</td>\n",
       "      <td>0.250000</td>\n",
       "    </tr>\n",
       "    <tr>\n",
       "      <th>4</th>\n",
       "      <td>Aemon-Targaryen-(Maester-Aemon)</td>\n",
       "      <td>Alliser-Thorne</td>\n",
       "      <td>Undirected</td>\n",
       "      <td>4</td>\n",
       "      <td>1</td>\n",
       "      <td>0.250000</td>\n",
       "    </tr>\n",
       "  </tbody>\n",
       "</table>\n",
       "</div>"
      ],
      "text/plain": [
       "                            Source              Target        Type  weight  \\\n",
       "0                   Addam-Marbrand     Jaime-Lannister  Undirected       3   \n",
       "1                   Addam-Marbrand     Tywin-Lannister  Undirected       6   \n",
       "2                Aegon-I-Targaryen  Daenerys-Targaryen  Undirected       5   \n",
       "3                Aegon-I-Targaryen        Eddard-Stark  Undirected       4   \n",
       "4  Aemon-Targaryen-(Maester-Aemon)      Alliser-Thorne  Undirected       4   \n",
       "\n",
       "   book  weight_inv  \n",
       "0     1    0.333333  \n",
       "1     1    0.166667  \n",
       "2     1    0.200000  \n",
       "3     1    0.250000  \n",
       "4     1    0.250000  "
      ]
     },
     "execution_count": 17,
     "metadata": {},
     "output_type": "execute_result"
    }
   ],
   "source": [
    "books = pd.concat([book_1, book_2, book_3, book_4, book_5])\n",
    "books.head()"
   ]
  },
  {
   "cell_type": "code",
   "execution_count": 18,
   "id": "e51108df",
   "metadata": {},
   "outputs": [],
   "source": [
    "graphs = [nx.(\n",
    "          books[books.book==i],\n",
    "          source='Source', target='Target',\n",
    "          edge_attr=['weight', 'weight_inv'])\n",
    "          for i in range(1, 6)]"
   ]
  },
  {
   "cell_type": "markdown",
   "id": "e4e4e051",
   "metadata": {},
   "source": [
    "### Finding the most important node i.e character in these networks."
   ]
  },
  {
   "cell_type": "code",
   "execution_count": 23,
   "id": "10af7c5f",
   "metadata": {},
   "outputs": [
    {
     "data": {
      "text/plain": [
       "[('Eddard-Stark', 0.3548387096774194),\n",
       " ('Robert-Baratheon', 0.2688172043010753),\n",
       " ('Tyrion-Lannister', 0.24731182795698928),\n",
       " ('Catelyn-Stark', 0.23118279569892475),\n",
       " ('Jon-Snow', 0.19892473118279572)]"
      ]
     },
     "execution_count": 23,
     "metadata": {},
     "output_type": "execute_result"
    }
   ],
   "source": [
    "deg_cen_book1 = nx.(graphs[0])\n",
    "\n",
    "sorted(deg_cen_book1.items(),\n",
    "       key=lambda x:x[1],\n",
    "       reverse=True)[0:5]"
   ]
  },
  {
   "cell_type": "code",
   "execution_count": 25,
   "id": "68f6e202",
   "metadata": {},
   "outputs": [
    {
     "data": {
      "image/png": "[encoded data removed]",
      "text/plain": [
       "<Figure size 432x288 with 1 Axes>"
      ]
     },
     "metadata": {
      "needs_background": "light"
     },
     "output_type": "display_data"
    }
   ],
   "source": [
    "plt.hist(deg_cen_book1.values(), bins=30)\n",
    "plt.show()"
   ]
  },
  {
   "cell_type": "markdown",
   "id": "1472ca28",
   "metadata": {},
   "source": [
    "* A high portion of characters aren't connected to lot of other characters while some characters are highly connected all through the network."
   ]
  },
  {
   "cell_type": "code",
   "execution_count": 24,
   "id": "5849eb5f",
   "metadata": {},
   "outputs": [
    {
     "data": {
      "text/plain": [
       "[('Jon-Snow', 0.1962025316455696),\n",
       " ('Daenerys-Targaryen', 0.18354430379746836),\n",
       " ('Stannis-Baratheon', 0.14873417721518986),\n",
       " ('Tyrion-Lannister', 0.10443037974683544),\n",
       " ('Theon-Greyjoy', 0.10443037974683544)]"
      ]
     },
     "execution_count": 24,
     "metadata": {},
     "output_type": "execute_result"
    }
   ],
   "source": [
    "deg_cen_book5 = nx.degree_centrality(graphs[4])\n",
    "sorted(deg_cen_book5.items(),\n",
    "       key=lambda x:x[1],\n",
    "       reverse=True)[0:5]"
   ]
  },
  {
   "cell_type": "markdown",
   "id": "2414af6b",
   "metadata": {},
   "source": [
    "### Find nodes which are important in the network. "
   ]
  },
  {
   "cell_type": "markdown",
   "id": "d5ce5fa1",
   "metadata": {},
   "source": [
    "#### First check unweighted (just the structure)"
   ]
  },
  {
   "cell_type": "code",
   "execution_count": 28,
   "id": "830444c1",
   "metadata": {},
   "outputs": [
    {
     "data": {
      "text/plain": [
       "[('Eddard-Stark', 0.2696038913836117),\n",
       " ('Robert-Baratheon', 0.21403028397371796),\n",
       " ('Tyrion-Lannister', 0.1902124972697492),\n",
       " ('Jon-Snow', 0.17158135899829566),\n",
       " ('Catelyn-Stark', 0.1513952715347627),\n",
       " ('Daenerys-Targaryen', 0.08627015537511595),\n",
       " ('Robb-Stark', 0.07298399629664767),\n",
       " ('Drogo', 0.06481224290874964),\n",
       " ('Bran-Stark', 0.05579958811784442),\n",
       " ('Sansa-Stark', 0.03714483664326785)]"
      ]
     },
     "execution_count": 28,
     "metadata": {},
     "output_type": "execute_result"
    }
   ],
   "source": [
    "sorted(nx.(graphs[0]).items(),\n",
    "       key=lambda x:x[1], reverse=True)[0:10]"
   ]
  },
  {
   "cell_type": "markdown",
   "id": "48f6bd80",
   "metadata": {},
   "source": [
    "#### Let's care about interactions now"
   ]
  },
  {
   "cell_type": "code",
   "execution_count": 29,
   "id": "ebcfbc0b",
   "metadata": {},
   "outputs": [
    {
     "data": {
      "text/plain": [
       "[('Eddard-Stark', 0.5926474861958733),\n",
       " ('Catelyn-Stark', 0.36855565242662014),\n",
       " ('Jon-Snow', 0.3514094739901191),\n",
       " ('Robert-Baratheon', 0.3329991281604185),\n",
       " ('Tyrion-Lannister', 0.27137460040685846),\n",
       " ('Daenerys-Targaryen', 0.202615518744551),\n",
       " ('Bran-Stark', 0.0945655332752107),\n",
       " ('Robb-Stark', 0.09177564661435629),\n",
       " ('Arya-Stark', 0.06939843068875327),\n",
       " ('Sansa-Stark', 0.06870095902353966)]"
      ]
     },
     "execution_count": 29,
     "metadata": {},
     "output_type": "execute_result"
    }
   ],
   "source": [
    "sorted(nx.betweenness_centrality(graphs[0],\n",
    "       weight='').items(),\n",
    "       key=lambda x:x[1], reverse=True)[0:10]"
   ]
  },
  {
   "cell_type": "markdown",
   "id": "97415926",
   "metadata": {},
   "source": [
    "### Evolution of importance of characters over the books"
   ]
  },
  {
   "cell_type": "code",
   "execution_count": 32,
   "id": "1c140056",
   "metadata": {},
   "outputs": [
    {
     "data": {
      "image/png": "[encoded data removed]",
      "text/plain": [
       "<Figure size 432x288 with 1 Axes>"
      ]
     },
     "metadata": {
      "needs_background": "light"
     },
     "output_type": "display_data"
    }
   ],
   "source": [
    "evol = [nx.degree_centrality(graph)\n",
    "        for graph in graphs]\n",
    "evol_df = pd.DataFrame.from_records(evol).fillna(0)\n",
    "evol_df[['Eddard-Stark',\n",
    "         'Tyrion-Lannister',\n",
    "         'Jon-Snow']].plot()\n",
    "plt.show()"
   ]
  },
  {
   "cell_type": "code",
   "execution_count": 33,
   "id": "a18f2c34",
   "metadata": {},
   "outputs": [
    {
     "data": {
      "text/plain": [
       "{'Arya-Stark',\n",
       " 'Brienne-of-Tarth',\n",
       " 'Catelyn-Stark',\n",
       " 'Cersei-Lannister',\n",
       " 'Daenerys-Targaryen',\n",
       " 'Eddard-Stark',\n",
       " 'Jaime-Lannister',\n",
       " 'Joffrey-Baratheon',\n",
       " 'Jon-Snow',\n",
       " 'Margaery-Tyrell',\n",
       " 'Robb-Stark',\n",
       " 'Robert-Baratheon',\n",
       " 'Sansa-Stark',\n",
       " 'Stannis-Baratheon',\n",
       " 'Theon-Greyjoy',\n",
       " 'Tyrion-Lannister'}"
      ]
     },
     "execution_count": 33,
     "metadata": {},
     "output_type": "execute_result"
    }
   ],
   "source": [
    "set_of_char = set()\n",
    "for i in range(5):\n",
    "    set_of_char |= set(list(\n",
    "        evol_df.T[i].sort_values(\n",
    "            ascending=False)[0:5].index))\n",
    "set_of_char"
   ]
  }
 ],
 "metadata": {
  "kernelspec": {
   "display_name": "Python 3 (ipykernel)",
   "language": "python",
   "name": "python3"
  },
  "language_info": {
   "codemirror_mode": {
    "name": "ipython",
    "version": 3
   },
   "file_extension": ".py",
   "mimetype": "text/x-python",
   "name": "python",
   "nbconvert_exporter": "python",
   "pygments_lexer": "ipython3",
   "version": "3.9.12"
  }
 },
 "nbformat": 4,
 "nbformat_minor": 5
}
