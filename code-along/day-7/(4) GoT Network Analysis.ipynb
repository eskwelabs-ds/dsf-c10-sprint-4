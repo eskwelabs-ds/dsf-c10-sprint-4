{
 "cells": [
  {
   "cell_type": "code",
   "execution_count": null,
   "id": "1377706d",
   "metadata": {},
   "outputs": [],
   "source": [
    "import pandas as pd\n",
    "\n",
    "book1 = pd.read_csv('book1.csv')\n",
    "print(book1.head())"
   ]
  },
  {
   "cell_type": "markdown",
   "id": "d4d5a825",
   "metadata": {},
   "source": [
    "### Load Dataset and Create Network"
   ]
  },
  {
   "cell_type": "code",
   "execution_count": null,
   "id": "762e1f4c",
   "metadata": {},
   "outputs": [],
   "source": [
    "# Importing modules\n",
    "import networkx as nx\n",
    "\n",
    "# Creating an empty graph object\n",
    "G_book1 = nx.()"
   ]
  },
  {
   "cell_type": "code",
   "execution_count": null,
   "id": "9a2c04e5",
   "metadata": {},
   "outputs": [],
   "source": [
    "for _, edge in book1.iterrows():\n",
    "    G_book1.(edge['Source'], edge['Target'], weight=edge['weight'])\n",
    "\n",
    "# Creating a list of networks for all the books\n",
    "books = [G_book1]\n",
    "book_fnames = ['book2.csv', 'book3.csv', 'book4.csv', 'book5.csv']\n",
    "for book_fname in book_fnames:\n",
    "    book = pd.read_csv(book_fname)\n",
    "    G_book = nx.Graph()\n",
    "    for _, edge in book.iterrows():\n",
    "        G_book.add_edge(edge['Source'], edge['Target'], weight=edge['weight'])\n",
    "    books.append(G_book)"
   ]
  },
  {
   "cell_type": "code",
   "execution_count": null,
   "id": "f59ece53",
   "metadata": {},
   "outputs": [],
   "source": [
    "nx.draw_networkx(G_book1)"
   ]
  },
  {
   "cell_type": "markdown",
   "id": "6d791787",
   "metadata": {},
   "source": [
    "### The most important character in Game of Thrones"
   ]
  },
  {
   "cell_type": "code",
   "execution_count": null,
   "id": "df0af5fb",
   "metadata": {},
   "outputs": [],
   "source": [
    "# Calculating the degree centrality of book 1\n",
    "deg_cen_book1 = nx.(books[0])\n",
    "\n",
    "# Calculating the degree centrality of book 5\n",
    "deg_cen_book5 = nx.(books[4])"
   ]
  },
  {
   "cell_type": "code",
   "execution_count": null,
   "id": "9a1719c5",
   "metadata": {},
   "outputs": [],
   "source": [
    "# Sorting the dictionaries according to their degree centrality and storing the top 10\n",
    "sorted_deg_cen_book1 =  sorted(deg_cen_book1.items(), key=lambda x:x[1], reverse=True)[0:10]\n",
    "\n",
    "# Printing out the top 10 of book1 and book5\n",
    "print(sorted_deg_cen_book1)"
   ]
  },
  {
   "cell_type": "code",
   "execution_count": null,
   "id": "23132274",
   "metadata": {},
   "outputs": [],
   "source": [
    "# Sorting the dictionaries according to their degree centrality and storing the top 10\n",
    "sorted_deg_cen_book5 =  sorted(deg_cen_book5.items(), key=lambda x:x[1], reverse=True)[0:10]\n",
    "\n",
    "print(sorted_deg_cen_book5)"
   ]
  },
  {
   "cell_type": "markdown",
   "id": "81baa2ff",
   "metadata": {},
   "source": [
    "### The evolution of character importance"
   ]
  },
  {
   "cell_type": "code",
   "execution_count": null,
   "id": "5f5aa9a3",
   "metadata": {},
   "outputs": [],
   "source": [
    "%matplotlib inline\n",
    "\n",
    "# Creating a list of degree centrality of all the books\n",
    "evol = [nx.(book) for book in books]\n",
    " \n",
    "# Creating a DataFrame from the list of degree centralities in all the books\n",
    "degree_evol_df = pd.DataFrame.from_records(evol)\n",
    "\n",
    "# Plotting the degree centrality evolution of Eddard-Stark, Tyrion-Lannister and Jon-Snow\n",
    "degree_evol_df[['Eddard-Stark', 'Tyrion-Lannister', 'Jon-Snow']].plot()"
   ]
  },
  {
   "cell_type": "markdown",
   "id": "2fae3d5d",
   "metadata": {},
   "source": [
    "Look at various other measures like betweenness centrality and PageRank to find important characters in our Game of Thrones character co-occurrence network"
   ]
  },
  {
   "cell_type": "code",
   "execution_count": null,
   "id": "be85481d",
   "metadata": {},
   "outputs": [],
   "source": [
    "# Creating a list of betweenness centrality of all the books just like we did for degree centrality\n",
    "evol = [nx.(book, weight='weight') for book in books]\n",
    "\n",
    "# Making a DataFrame from the list\n",
    "betweenness_evol_df = pd.DataFrame.from_records(evol)\n",
    "\n",
    "# Finding the top 4 characters in every book\n",
    "set_of_char = set()\n",
    "for i in range(5):\n",
    "    set_of_char |= set(list(betweenness_evol_df.T[i].sort_values(ascending=False)[0:4].index))\n",
    "list_of_char = list(set_of_char)\n",
    "\n",
    "# Plotting the evolution of the top characters\n",
    "betweenness_evol_df[list_of_char].plot(figsize=(13, 7))"
   ]
  },
  {
   "cell_type": "code",
   "execution_count": null,
   "id": "f5eaa915",
   "metadata": {},
   "outputs": [],
   "source": [
    "# Creating a list of pagerank of all the characters in all the books\n",
    "evol = [nx.(book) for book in books]\n",
    "\n",
    "# Making a DataFrame from the list\n",
    "pagerank_evol_df = pd.DataFrame.from_records(evol)\n",
    "\n",
    "# Finding the top 4 characters in every book\n",
    "set_of_char = set()\n",
    "for i in range(5):\n",
    "    set_of_char |= set(list(pagerank_evol_df.T[i].sort_values(ascending=False)[0:4].index))\n",
    "list_of_char = list(set_of_char)\n",
    "\n",
    "# Plotting the top characters\n",
    "pagerank_evol_df[list_of_char].plot(figsize=(13, 7))"
   ]
  }
 ],
 "metadata": {
  "kernelspec": {
   "display_name": "Python 3 (ipykernel)",
   "language": "python",
   "name": "python3"
  },
  "language_info": {
   "codemirror_mode": {
    "name": "ipython",
    "version": 3
   },
   "file_extension": ".py",
   "mimetype": "text/x-python",
   "name": "python",
   "nbconvert_exporter": "python",
   "pygments_lexer": "ipython3",
   "version": "3.9.12"
  }
 },
 "nbformat": 4,
 "nbformat_minor": 5
}
