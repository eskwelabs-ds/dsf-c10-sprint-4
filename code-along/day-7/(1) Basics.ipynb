{
 "cells": [
  {
   "cell_type": "markdown",
   "id": "8dfa660f",
   "metadata": {},
   "source": [
    "Documentation: https://networkx.org/"
   ]
  },
  {
   "cell_type": "code",
   "execution_count": null,
   "id": "d668f240",
   "metadata": {},
   "outputs": [],
   "source": [
    "!pip install networkx"
   ]
  },
  {
   "cell_type": "code",
   "execution_count": null,
   "id": "b4dce657",
   "metadata": {},
   "outputs": [],
   "source": [
    "import networkx as nx\n",
    "import matplotlib.pyplot as plt"
   ]
  },
  {
   "cell_type": "code",
   "execution_count": null,
   "id": "66ddfa85",
   "metadata": {},
   "outputs": [],
   "source": [
    "G = "
   ]
  },
  {
   "cell_type": "code",
   "execution_count": null,
   "id": "632585ce",
   "metadata": {},
   "outputs": [],
   "source": [
    "G."
   ]
  },
  {
   "cell_type": "code",
   "execution_count": null,
   "id": "cca38308",
   "metadata": {},
   "outputs": [],
   "source": [
    "# Visualisation helper function\n",
    "def view_graph(G):\n",
    "    import warnings\n",
    "    warnings.filterwarnings(\"ignore\")\n",
    "    # Print nodes and edges     \n",
    "    print(f'Nodes in graph: {G.nodes}')\n",
    "    print(f'Edges in graph: {G.edges}')\n",
    "    # Create a visualisation using NetworkX and draw using matplotlib\n",
    "    pos = nx.spring_layout(G)\n",
    "    # Extract node attributes and display them as labels\n",
    "    if len(nx.get_node_attributes(G, 'population')) != 0:\n",
    "        labels = {key: key + ':' + str(value) for (key, value) in nx.get_node_attributes(G, 'population').items()}\n",
    "        nx.draw(G, pos=pos, with_labels=True, edge_labels=labels)\n",
    "    else:\n",
    "        nx.draw(G, pos=pos, with_labels=True)\n",
    "    # Extract edge attributes and display them as labels    \n",
    "    if len(nx.get_edge_attributes(G,'distance')) != 0:\n",
    "        edge_labels = nx.get_edge_attributes(G, 'distance')\n",
    "        nx.draw_networkx_edge_labels(G, pos=pos, edge_labels = edge_labels)\n",
    "    plt.figure(figsize=(12,12)) \n",
    "    plt.show()"
   ]
  },
  {
   "cell_type": "markdown",
   "id": "5136ad8d",
   "metadata": {},
   "source": [
    "### Add Nodes"
   ]
  },
  {
   "cell_type": "code",
   "execution_count": null,
   "id": "1efc745a",
   "metadata": {},
   "outputs": [],
   "source": [
    "G.(1)\n",
    "view_graph(G)"
   ]
  },
  {
   "cell_type": "markdown",
   "id": "65004a75",
   "metadata": {},
   "source": [
    "### Add More Nodes"
   ]
  },
  {
   "cell_type": "code",
   "execution_count": null,
   "id": "1e1af80d",
   "metadata": {},
   "outputs": [],
   "source": [
    "G.([2, 3])\n",
    "view_graph(G)"
   ]
  },
  {
   "cell_type": "markdown",
   "id": "1998dd69",
   "metadata": {},
   "source": [
    "### Add Connection: Edge"
   ]
  },
  {
   "cell_type": "code",
   "execution_count": null,
   "id": "15828907",
   "metadata": {},
   "outputs": [],
   "source": [
    "G.(1, 2)\n",
    "view_graph(G)"
   ]
  },
  {
   "cell_type": "markdown",
   "id": "36c73271",
   "metadata": {},
   "source": [
    "### Connect More Nodes"
   ]
  },
  {
   "cell_type": "code",
   "execution_count": null,
   "id": "a871fe7f",
   "metadata": {},
   "outputs": [],
   "source": [
    "G.([(1, 3), (2, 3)])\n",
    "view_graph(G)"
   ]
  },
  {
   "cell_type": "markdown",
   "id": "1edcd5fb",
   "metadata": {},
   "source": [
    "### Example 1: Friendship Network"
   ]
  },
  {
   "cell_type": "code",
   "execution_count": null,
   "id": "60e17bb4",
   "metadata": {},
   "outputs": [],
   "source": [
    "friends = [('Arthur', 'Jenny'), ('Jenny', 'Chris'), ('Chris', 'Arthur')]\n",
    "view_graph(friends)"
   ]
  },
  {
   "cell_type": "markdown",
   "id": "fe0bc8ee",
   "metadata": {},
   "source": [
    "### Check Friends of Arthur"
   ]
  },
  {
   "cell_type": "code",
   "execution_count": null,
   "id": "e6282d5b",
   "metadata": {},
   "outputs": [],
   "source": [
    "list(friends)"
   ]
  },
  {
   "cell_type": "markdown",
   "id": "3fba7746",
   "metadata": {},
   "source": [
    "### Removing Node"
   ]
  },
  {
   "cell_type": "code",
   "execution_count": null,
   "id": "f33a4816",
   "metadata": {},
   "outputs": [],
   "source": [
    "friends('Arthur')\n",
    "view_graph(friends)"
   ]
  },
  {
   "cell_type": "markdown",
   "id": "d9eacd88",
   "metadata": {},
   "source": [
    "### Removing Edge"
   ]
  },
  {
   "cell_type": "code",
   "execution_count": null,
   "id": "242a45c5",
   "metadata": {},
   "outputs": [],
   "source": [
    "friends('Chris',  'Jenny')\n",
    "view_graph(friends)"
   ]
  },
  {
   "cell_type": "code",
   "execution_count": null,
   "id": "a8bec7ed",
   "metadata": {},
   "outputs": [],
   "source": [
    "help(friends)"
   ]
  },
  {
   "cell_type": "markdown",
   "id": "ccf616b3",
   "metadata": {},
   "source": [
    "### Directed Graphs\n",
    "\n",
    "a graph in which the edges have a direction"
   ]
  },
  {
   "cell_type": "code",
   "execution_count": null,
   "id": "bfa4002b",
   "metadata": {},
   "outputs": [],
   "source": [
    "uk_places = [('London', 'Manchester'), ('Manchester', 'Leeds'), ('London', 'Leeds')]\n",
    "view_graph(uk_places)"
   ]
  },
  {
   "cell_type": "markdown",
   "id": "670737cc",
   "metadata": {},
   "source": [
    "### Parent and Child Concept"
   ]
  },
  {
   "cell_type": "code",
   "execution_count": null,
   "id": "6cbcebd7",
   "metadata": {},
   "outputs": [],
   "source": [
    "print(list(uk_places.('London')))\n",
    "print(list(uk_places.('London')))"
   ]
  },
  {
   "cell_type": "markdown",
   "id": "3282642c",
   "metadata": {},
   "source": [
    "### Subgraph: fraction of graph"
   ]
  },
  {
   "cell_type": "code",
   "execution_count": null,
   "id": "9d767b8d",
   "metadata": {},
   "outputs": [],
   "source": [
    "subgraph = uk_places.subgraph(['London', 'Manchester'])\n",
    "view_graph(subgraph)"
   ]
  },
  {
   "cell_type": "markdown",
   "id": "9d15a4f2",
   "metadata": {},
   "source": [
    "### Exercise 1:\n",
    "\n",
    "* Create Graph for the following places:\n",
    "  Northampton - Leicester - Loughborough"
   ]
  },
  {
   "cell_type": "code",
   "execution_count": null,
   "id": "86c3fe8f",
   "metadata": {},
   "outputs": [],
   "source": [
    "uk_places_new = nx.DiGraph([('Northampton', 'Leicester'), ('Leicester', 'Loughborough')])\n",
    "view_graph(uk_places_new)"
   ]
  },
  {
   "cell_type": "markdown",
   "id": "9f106913",
   "metadata": {},
   "source": [
    "### Combining Graphs"
   ]
  },
  {
   "cell_type": "code",
   "execution_count": null,
   "id": "1977eb11",
   "metadata": {},
   "outputs": [],
   "source": [
    "combined_places = nx.(uk_places, uk_places_new)\n",
    "view_graph(combined_places)"
   ]
  },
  {
   "cell_type": "markdown",
   "id": "87e2933c",
   "metadata": {},
   "source": [
    "### Intersection"
   ]
  },
  {
   "cell_type": "code",
   "execution_count": null,
   "id": "b54d60f9",
   "metadata": {},
   "outputs": [],
   "source": [
    "uk_places_to_intersect = nx.DiGraph([('London', 'Manchester'), \n",
    "                                     ('Leeds', 'London'), \n",
    "                                     ('Leeds', 'Manchester')])\n",
    "combined = nx.union(, )\n",
    "view_graph(combined)"
   ]
  },
  {
   "cell_type": "code",
   "execution_count": null,
   "id": "31e387fd",
   "metadata": {},
   "outputs": [],
   "source": [
    "intersected = nx.(uk_places, uk_places_to_intersect)\n",
    "view_graph(intersected)"
   ]
  },
  {
   "cell_type": "code",
   "execution_count": null,
   "id": "3e02c09c",
   "metadata": {},
   "outputs": [],
   "source": [
    "view_graph(uk_places)"
   ]
  },
  {
   "cell_type": "markdown",
   "id": "507c8844",
   "metadata": {},
   "source": [
    "### Getting Number of Connections"
   ]
  },
  {
   "cell_type": "code",
   "execution_count": null,
   "id": "eb4f7e9b",
   "metadata": {},
   "outputs": [],
   "source": [
    "uk_places."
   ]
  },
  {
   "cell_type": "code",
   "execution_count": null,
   "id": "13642590",
   "metadata": {},
   "outputs": [],
   "source": [
    "print('In: ' + str(uk_places.))\n",
    "print('Out: ' + str(uk_places.))"
   ]
  },
  {
   "cell_type": "code",
   "execution_count": null,
   "id": "0aa228f0",
   "metadata": {},
   "outputs": [],
   "source": [
    "uk_places.([])"
   ]
  },
  {
   "cell_type": "markdown",
   "id": "b9169318",
   "metadata": {},
   "source": [
    "### Adding Node Attributes"
   ]
  },
  {
   "cell_type": "code",
   "execution_count": null,
   "id": "daa9b384",
   "metadata": {},
   "outputs": [],
   "source": [
    "view_graph(uk_places)"
   ]
  },
  {
   "cell_type": "code",
   "execution_count": null,
   "id": "65111c55",
   "metadata": {},
   "outputs": [],
   "source": [
    "uk_places.nodes['London'][''] = 8000000\n",
    "uk_places.nodes['Manchester'][''] = 500000\n",
    "uk_places.nodes['Leeds'][''] = 470000\n",
    "view_graph(uk_places)"
   ]
  },
  {
   "cell_type": "markdown",
   "id": "77d1057f",
   "metadata": {},
   "source": [
    "### Adding Edge Attributes"
   ]
  },
  {
   "cell_type": "code",
   "execution_count": null,
   "id": "6d294833",
   "metadata": {
    "scrolled": true
   },
   "outputs": [],
   "source": [
    "uk_places.edges['London', 'Leeds'][''] = 195\n",
    "uk_places.edges['London', 'Manchester'][''] = 208\n",
    "uk_places.edges['Manchester', 'Leeds'][''] = 45\n",
    "view_graph(uk_places)"
   ]
  },
  {
   "cell_type": "markdown",
   "id": "b9547169",
   "metadata": {},
   "source": [
    "### Another Way to Add Attributes"
   ]
  },
  {
   "cell_type": "code",
   "execution_count": null,
   "id": "b0e5d409",
   "metadata": {},
   "outputs": [],
   "source": [
    "node_attributes = {'London': {'population': 8000000},\n",
    "                  'Manchester': {'population': 500000},\n",
    "                  'Leeds': {'population': 470000}\n",
    "                  }\n",
    "\n",
    "nx.(uk_places, )\n",
    "\n",
    "edge_attributes = {('London', 'Leeds'): {'distance': 195},\n",
    "         ('London', 'Manchester'): {'distance': 208},\n",
    "         ('Manchester', 'Leeds'): {'distance': 45},\n",
    "        }\n",
    "\n",
    "nx.(uk_places, )\n",
    "\n",
    "view_graph(uk_places)"
   ]
  },
  {
   "cell_type": "markdown",
   "id": "809c269f",
   "metadata": {},
   "source": [
    "### Saving the network using adjlist"
   ]
  },
  {
   "cell_type": "code",
   "execution_count": null,
   "id": "56945b34",
   "metadata": {},
   "outputs": [],
   "source": [
    "nx.(uk_places, 'cities.adjlist')"
   ]
  },
  {
   "cell_type": "markdown",
   "id": "8a099670",
   "metadata": {},
   "source": [
    "### Reading existing network"
   ]
  },
  {
   "cell_type": "code",
   "execution_count": null,
   "id": "f37df75c",
   "metadata": {},
   "outputs": [],
   "source": [
    "uk_places_adjlist = nx.('cities.adjlist')\n",
    "view_graph(uk_places_adjlist)"
   ]
  },
  {
   "cell_type": "markdown",
   "id": "a8263de9",
   "metadata": {},
   "source": [
    "### Saving the network using gml"
   ]
  },
  {
   "cell_type": "code",
   "execution_count": null,
   "id": "2b7a07ff",
   "metadata": {},
   "outputs": [],
   "source": [
    "nx.(uk_places, 'cities.gml')"
   ]
  },
  {
   "cell_type": "code",
   "execution_count": null,
   "id": "a1a13537",
   "metadata": {},
   "outputs": [],
   "source": [
    "uk_places_gml = nx.('cities.gml')\n",
    "view_graph(uk_places_gml)"
   ]
  },
  {
   "cell_type": "markdown",
   "id": "e761c27a",
   "metadata": {},
   "source": [
    "### Saving the network using graphml"
   ]
  },
  {
   "cell_type": "code",
   "execution_count": null,
   "id": "9b313316",
   "metadata": {},
   "outputs": [],
   "source": [
    "nx.(uk_places, 'cities.graphml')"
   ]
  },
  {
   "cell_type": "code",
   "execution_count": null,
   "id": "91441ff3",
   "metadata": {},
   "outputs": [],
   "source": [
    "uk_places_graphml = nx.('cities.graphml')\n",
    "view_graph(uk_places_graphml)"
   ]
  },
  {
   "cell_type": "markdown",
   "id": "75258d94",
   "metadata": {},
   "source": [
    "### Make a network from pandas df"
   ]
  },
  {
   "cell_type": "code",
   "execution_count": null,
   "id": "f06da6d1",
   "metadata": {},
   "outputs": [],
   "source": [
    "import pandas as pd\n",
    "\n",
    "data = pd.read_csv('marvel.csv')"
   ]
  },
  {
   "cell_type": "code",
   "execution_count": null,
   "id": "41162e10",
   "metadata": {},
   "outputs": [],
   "source": [
    "data.head()"
   ]
  },
  {
   "cell_type": "code",
   "execution_count": null,
   "id": "b569ef31",
   "metadata": {},
   "outputs": [],
   "source": [
    "data.shape"
   ]
  },
  {
   "cell_type": "code",
   "execution_count": null,
   "id": "99f4c576",
   "metadata": {},
   "outputs": [],
   "source": []
  },
  {
   "cell_type": "code",
   "execution_count": null,
   "id": "f5088f01",
   "metadata": {},
   "outputs": [],
   "source": []
  },
  {
   "cell_type": "code",
   "execution_count": null,
   "id": "dce773b7",
   "metadata": {},
   "outputs": [],
   "source": []
  },
  {
   "cell_type": "code",
   "execution_count": null,
   "id": "4a47b680",
   "metadata": {},
   "outputs": [],
   "source": []
  },
  {
   "cell_type": "code",
   "execution_count": null,
   "id": "2513a908",
   "metadata": {},
   "outputs": [],
   "source": []
  }
 ],
 "metadata": {
  "kernelspec": {
   "display_name": "Python 3 (ipykernel)",
   "language": "python",
   "name": "python3"
  },
  "language_info": {
   "codemirror_mode": {
    "name": "ipython",
    "version": 3
   },
   "file_extension": ".py",
   "mimetype": "text/x-python",
   "name": "python",
   "nbconvert_exporter": "python",
   "pygments_lexer": "ipython3",
   "version": "3.9.12"
  }
 },
 "nbformat": 4,
 "nbformat_minor": 5
}
