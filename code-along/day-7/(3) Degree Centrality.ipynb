{
 "cells": [
  {
   "cell_type": "code",
   "execution_count": null,
   "id": "432bd48b",
   "metadata": {},
   "outputs": [],
   "source": [
    "import matplotlib.pyplot as plt\n",
    "import networkx as nx\n",
    "import warnings\n",
    "warnings.filterwarnings(\"ignore\")\n",
    "plt.rcParams[\"figure.figsize\"] = (7,7)"
   ]
  },
  {
   "cell_type": "markdown",
   "id": "c11b727b",
   "metadata": {},
   "source": [
    "### Initial Computation"
   ]
  },
  {
   "cell_type": "code",
   "execution_count": null,
   "id": "c77fb59d",
   "metadata": {},
   "outputs": [],
   "source": [
    "initial_graph = nx.Graph()\n",
    "left = tuple(\"AAABDE\")\n",
    "right = tuple(\"BCEEEF\")\n",
    "edges = list(zip(left, right))\n",
    "graph.(edges)\n",
    "nx.draw(graph, with_labels=True)"
   ]
  },
  {
   "cell_type": "markdown",
   "id": "03f07ece",
   "metadata": {},
   "source": [
    "There are six nodes so each node can have at most 5 links. E has 4 so the degree centrality should be 4/5."
   ]
  },
  {
   "cell_type": "code",
   "execution_count": null,
   "id": "383b9426",
   "metadata": {},
   "outputs": [],
   "source": [
    "degree_centrality = nx.(graph)\n",
    "print(degree_centrality)\n",
    "assert degree_centrality[\"E\"] == 4/5"
   ]
  },
  {
   "cell_type": "markdown",
   "id": "85aa9e75",
   "metadata": {},
   "source": [
    "Looking at E again, you can see that the sum of its shortest paths is 6 so the closeness centrality should be 5/6."
   ]
  },
  {
   "cell_type": "code",
   "execution_count": null,
   "id": "5d642ac3",
   "metadata": {},
   "outputs": [],
   "source": [
    "closeness_centrality = nx.(graph)\n",
    "print(closeness_centrality)\n",
    "assert closeness_centrality[\"E\"] == 5/6"
   ]
  },
  {
   "cell_type": "markdown",
   "id": "43cb843e",
   "metadata": {},
   "source": [
    "### Load Toy Dataset"
   ]
  },
  {
   "cell_type": "code",
   "execution_count": null,
   "id": "fe8600aa",
   "metadata": {},
   "outputs": [],
   "source": [
    "G = nx.()\n",
    "pos = nx.(G)"
   ]
  },
  {
   "cell_type": "code",
   "execution_count": null,
   "id": "04fe16e9",
   "metadata": {},
   "outputs": [],
   "source": [
    "nx.draw(G, pos=pos, with_labels=True)\n",
    "plt.show()"
   ]
  },
  {
   "cell_type": "markdown",
   "id": "3efde8da",
   "metadata": {},
   "source": [
    "### Degree Centrality\n",
    "\n",
    "the number of links incident upon a node (i.e., the number of ties that a node has)"
   ]
  },
  {
   "cell_type": "code",
   "execution_count": null,
   "id": "08687c5d",
   "metadata": {},
   "outputs": [],
   "source": [
    "nx.(G)"
   ]
  },
  {
   "cell_type": "markdown",
   "id": "0aad8393",
   "metadata": {},
   "source": [
    "### In and out centrality"
   ]
  },
  {
   "cell_type": "code",
   "execution_count": null,
   "id": "b800aac4",
   "metadata": {},
   "outputs": [],
   "source": [
    "uk_places = nx.DiGraph([('London', 'Manchester'), ('Manchester', 'Leeds'), ('London', 'Leeds')])\n",
    "nx.(uk_places)"
   ]
  },
  {
   "cell_type": "code",
   "execution_count": null,
   "id": "42095819",
   "metadata": {},
   "outputs": [],
   "source": [
    "uk_places = nx.DiGraph([('London', 'Manchester'), ('Manchester', 'Leeds'), ('London', 'Leeds')])\n",
    "nx.(uk_places)"
   ]
  },
  {
   "cell_type": "markdown",
   "id": "a523a518",
   "metadata": {},
   "source": [
    "### Closeness centrality\n",
    "\n",
    "Measures of closeness or distance to others in the network. "
   ]
  },
  {
   "cell_type": "code",
   "execution_count": null,
   "id": "a5393df3",
   "metadata": {},
   "outputs": [],
   "source": [
    "nx.(G)"
   ]
  },
  {
   "cell_type": "markdown",
   "id": "1214e18c",
   "metadata": {},
   "source": [
    "### Eigenvector centrality\n",
    "\n",
    "Measures of closeness or distance to others in the network. "
   ]
  },
  {
   "cell_type": "code",
   "execution_count": null,
   "id": "96f78bb4",
   "metadata": {},
   "outputs": [],
   "source": [
    "nx.(G)"
   ]
  },
  {
   "cell_type": "markdown",
   "id": "94661c6b",
   "metadata": {},
   "source": [
    "### Page Rank\n",
    "\n",
    "Defined as the measure of directional influence of nodes and, thus, is most suited for directed graphs."
   ]
  },
  {
   "cell_type": "code",
   "execution_count": null,
   "id": "8e4fb249",
   "metadata": {},
   "outputs": [],
   "source": [
    "nx.(uk_places)"
   ]
  },
  {
   "cell_type": "markdown",
   "id": "d60d9045",
   "metadata": {},
   "source": [
    "### Community Detection"
   ]
  },
  {
   "cell_type": "code",
   "execution_count": null,
   "id": "be8ef3a1",
   "metadata": {},
   "outputs": [],
   "source": [
    "communities = nx.community.(G)"
   ]
  },
  {
   "cell_type": "code",
   "execution_count": null,
   "id": "c54b0d3b",
   "metadata": {},
   "outputs": [],
   "source": [
    "community = next(communities)\n",
    "community"
   ]
  },
  {
   "cell_type": "code",
   "execution_count": null,
   "id": "5c745e24",
   "metadata": {},
   "outputs": [],
   "source": [
    "node_color = dict()\n",
    "\n",
    "for node in community[0]:\n",
    "    node_color[node] = 'r'\n",
    "\n",
    "for node in community[1]:\n",
    "    node_color[node] = 'b'\n",
    "\n",
    "node_color = [node_color[node] for node in sorted(node_color)]"
   ]
  },
  {
   "cell_type": "code",
   "execution_count": null,
   "id": "132d2881",
   "metadata": {},
   "outputs": [],
   "source": [
    "nx.draw(G, pos=pos, node_color=node_color, with_labels=True)\n",
    "plt.show()"
   ]
  },
  {
   "cell_type": "code",
   "execution_count": null,
   "id": "82769dfa",
   "metadata": {},
   "outputs": [],
   "source": [
    "next(communities)\n",
    "community = next(communities)\n",
    "community"
   ]
  }
 ],
 "metadata": {
  "kernelspec": {
   "display_name": "Python 3 (ipykernel)",
   "language": "python",
   "name": "python3"
  },
  "language_info": {
   "codemirror_mode": {
    "name": "ipython",
    "version": 3
   },
   "file_extension": ".py",
   "mimetype": "text/x-python",
   "name": "python",
   "nbconvert_exporter": "python",
   "pygments_lexer": "ipython3",
   "version": "3.9.12"
  }
 },
 "nbformat": 4,
 "nbformat_minor": 5
}
