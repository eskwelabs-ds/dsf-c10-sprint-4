{
 "cells": [
  {
   "cell_type": "code",
   "execution_count": 2,
   "id": "c80e8f18",
   "metadata": {},
   "outputs": [
    {
     "name": "stdout",
     "output_type": "stream",
     "text": [
      "Collecting googlesearch-python\n",
      "  Downloading googlesearch_python-1.1.0-py3-none-any.whl (3.6 kB)\n",
      "Collecting beautifulsoup4==4.9.3\n",
      "  Downloading beautifulsoup4-4.9.3-py3-none-any.whl (115 kB)\n",
      "     -------------------------------------- 115.8/115.8 kB 7.0 MB/s eta 0:00:00\n",
      "Collecting requests==2.25.1\n",
      "  Downloading requests-2.25.1-py2.py3-none-any.whl (61 kB)\n",
      "     ---------------------------------------- 61.2/61.2 kB ? eta 0:00:00\n",
      "Requirement already satisfied: soupsieve>1.2 in c:\\users\\rheyannmagcalas\\appdata\\roaming\\python\\python39\\site-packages (from beautifulsoup4==4.9.3->googlesearch-python) (2.3.2.post1)\n",
      "Requirement already satisfied: urllib3<1.27,>=1.21.1 in c:\\users\\rheyannmagcalas\\appdata\\roaming\\python\\python39\\site-packages (from requests==2.25.1->googlesearch-python) (1.26.9)\n",
      "Requirement already satisfied: certifi>=2017.4.17 in c:\\users\\rheyannmagcalas\\anaconda3\\lib\\site-packages (from requests==2.25.1->googlesearch-python) (2021.10.8)\n",
      "Requirement already satisfied: chardet<5,>=3.0.2 in c:\\users\\rheyannmagcalas\\anaconda3\\lib\\site-packages (from requests==2.25.1->googlesearch-python) (4.0.0)\n",
      "Collecting idna<3,>=2.5\n",
      "  Downloading idna-2.10-py2.py3-none-any.whl (58 kB)\n",
      "     ---------------------------------------- 58.8/58.8 kB ? eta 0:00:00\n",
      "Installing collected packages: idna, beautifulsoup4, requests, googlesearch-python\n",
      "  Attempting uninstall: idna\n",
      "    Found existing installation: idna 3.3\n",
      "    Uninstalling idna-3.3:\n",
      "      Successfully uninstalled idna-3.3\n",
      "  Attempting uninstall: beautifulsoup4\n",
      "    Found existing installation: beautifulsoup4 4.11.1\n",
      "    Uninstalling beautifulsoup4-4.11.1:\n",
      "      Successfully uninstalled beautifulsoup4-4.11.1\n",
      "  Attempting uninstall: requests\n",
      "    Found existing installation: requests 2.27.1\n",
      "    Uninstalling requests-2.27.1:\n",
      "      Successfully uninstalled requests-2.27.1\n",
      "Successfully installed beautifulsoup4-4.11.1 googlesearch-python-1.1.0 idna-3.3 requests-2.27.1\n"
     ]
    },
    {
     "name": "stderr",
     "output_type": "stream",
     "text": [
      "ERROR: pip's dependency resolver does not currently take into account all the packages that are installed. This behaviour is the source of the following dependency conflicts.\n",
      "conda-repo-cli 1.0.4 requires pathlib, which is not installed.\n",
      "anaconda-project 0.10.2 requires ruamel-yaml, which is not installed.\n",
      "jupyter-server 1.13.5 requires pywinpty<2; os_name == \"nt\", but you have pywinpty 2.0.2 which is incompatible.\n",
      "WARNING: There was an error checking the latest version of pip.\n"
     ]
    }
   ],
   "source": [
    "!pip install googlesearch-python"
   ]
  },
  {
   "cell_type": "markdown",
   "id": "c96df5d6",
   "metadata": {},
   "source": [
    "* Reference: https://pypi.org/project/googlesearch-python/"
   ]
  },
  {
   "cell_type": "markdown",
   "id": "37c40f25",
   "metadata": {},
   "source": [
    "#### Getting URLs"
   ]
  },
  {
   "cell_type": "code",
   "execution_count": 3,
   "id": "c2f7c3fa",
   "metadata": {},
   "outputs": [],
   "source": [
    "try:\n",
    "    from googlesearch import search\n",
    "except ImportError:\n",
    "    print(\"No module named 'google' found\")"
   ]
  },
  {
   "cell_type": "code",
   "execution_count": 4,
   "id": "2c0fc70b",
   "metadata": {},
   "outputs": [],
   "source": [
    "keywords = \"energy, sustainability, fashion, uk\" "
   ]
  },
  {
   "cell_type": "code",
   "execution_count": 8,
   "id": "8d55d621",
   "metadata": {},
   "outputs": [
    {
     "name": "stdout",
     "output_type": "stream",
     "text": [
      "https://erjjiostudios.com/environment/the-rise-of-sustainable-fashion-in-the-uk/\n",
      "https://www.glamourmagazine.co.uk/gallery/sustainable-fashion-brands\n",
      "https://www.commonobjective.co/article/the-issues-energy\n",
      "https://earth.org/uk-sustainable-fashion-brands/\n",
      "https://www.vogue.co.uk/fashion/article/fashion-shows-sustainability\n",
      "https://hbr.org/2022/01/the-myth-of-sustainable-fashion\n",
      "https://goodonyou.eco/most-ethical-and-sustainable-clothing-brands-from-uk/\n",
      "https://www.uswitch.com/gas-electricity/green-energy/sustainable-fashion/\n",
      "https://assets.publishing.service.gov.uk/government/uploads/system/uploads/attachment_data/file/69193/pb13206-clothing-action-plan-100216.pdf\n",
      "https://www.london.ac.uk/reduce-the-juice/how-have-impact/sustainable-fashion\n",
      "https://www.harpersbazaar.com/uk/fashion/what-to-wear/a41158/how-to-be-sustainable-fashion/\n"
     ]
    }
   ],
   "source": [
    "for results in search(keywords, num_results=10):\n",
    "    print(results)"
   ]
  },
  {
   "cell_type": "markdown",
   "id": "cf1e7334",
   "metadata": {},
   "source": [
    "### Google Trends\n",
    "* https://pypi.org/project/pytrends/"
   ]
  },
  {
   "cell_type": "code",
   "execution_count": 9,
   "id": "262848af",
   "metadata": {},
   "outputs": [
    {
     "name": "stdout",
     "output_type": "stream",
     "text": [
      "Collecting pytrends\n",
      "  Downloading pytrends-4.8.0.tar.gz (19 kB)\n",
      "  Preparing metadata (setup.py): started\n",
      "  Preparing metadata (setup.py): finished with status 'done'\n",
      "Requirement already satisfied: requests>=2.0 in c:\\users\\rheyannmagcalas\\anaconda3\\lib\\site-packages (from pytrends) (2.27.1)\n",
      "Requirement already satisfied: pandas>=0.25 in c:\\users\\rheyannmagcalas\\appdata\\roaming\\python\\python39\\site-packages (from pytrends) (1.4.2)\n",
      "Requirement already satisfied: lxml in c:\\users\\rheyannmagcalas\\anaconda3\\lib\\site-packages (from pytrends) (4.8.0)\n",
      "Requirement already satisfied: pytz>=2020.1 in c:\\users\\rheyannmagcalas\\appdata\\roaming\\python\\python39\\site-packages (from pandas>=0.25->pytrends) (2022.1)\n",
      "Requirement already satisfied: python-dateutil>=2.8.1 in c:\\users\\rheyannmagcalas\\anaconda3\\lib\\site-packages (from pandas>=0.25->pytrends) (2.8.2)\n",
      "Requirement already satisfied: numpy>=1.18.5 in c:\\users\\rheyannmagcalas\\appdata\\roaming\\python\\python39\\site-packages (from pandas>=0.25->pytrends) (1.22.4)\n",
      "Requirement already satisfied: idna<4,>=2.5 in c:\\users\\rheyannmagcalas\\anaconda3\\lib\\site-packages (from requests>=2.0->pytrends) (3.3)\n",
      "Requirement already satisfied: certifi>=2017.4.17 in c:\\users\\rheyannmagcalas\\anaconda3\\lib\\site-packages (from requests>=2.0->pytrends) (2021.10.8)\n",
      "Requirement already satisfied: charset-normalizer~=2.0.0 in c:\\users\\rheyannmagcalas\\appdata\\roaming\\python\\python39\\site-packages (from requests>=2.0->pytrends) (2.0.12)\n",
      "Requirement already satisfied: urllib3<1.27,>=1.21.1 in c:\\users\\rheyannmagcalas\\appdata\\roaming\\python\\python39\\site-packages (from requests>=2.0->pytrends) (1.26.9)\n",
      "Requirement already satisfied: six>=1.5 in c:\\users\\rheyannmagcalas\\anaconda3\\lib\\site-packages (from python-dateutil>=2.8.1->pandas>=0.25->pytrends) (1.16.0)\n",
      "Building wheels for collected packages: pytrends\n",
      "  Building wheel for pytrends (setup.py): started\n",
      "  Building wheel for pytrends (setup.py): finished with status 'done'\n",
      "  Created wheel for pytrends: filename=pytrends-4.8.0-py3-none-any.whl size=16126 sha256=2b7e53ce188c17dbb87733404a52a7e72ce88f9e12f64e650134ba8515e72d1f\n",
      "  Stored in directory: c:\\users\\rheyannmagcalas\\appdata\\local\\pip\\cache\\wheels\\87\\a9\\a3\\c190a7e0872639762e92cf3a84d6845ed086e10966533faf42\n",
      "Successfully built pytrends\n",
      "Installing collected packages: pytrends\n",
      "Successfully installed pytrends-4.8.0\n"
     ]
    },
    {
     "name": "stderr",
     "output_type": "stream",
     "text": [
      "WARNING: There was an error checking the latest version of pip.\n"
     ]
    }
   ],
   "source": [
    "!pip install pytrends"
   ]
  },
  {
   "cell_type": "code",
   "execution_count": 17,
   "id": "1493fb7f",
   "metadata": {},
   "outputs": [],
   "source": [
    "import pandas as pd\n",
    "import datetime      \n",
    "from pytrends.request import TrendReq\n",
    "import time"
   ]
  },
  {
   "cell_type": "code",
   "execution_count": 18,
   "id": "dd8cf8ab",
   "metadata": {},
   "outputs": [],
   "source": [
    "pytrend = TrendReq(hl='en-US') # language of the query"
   ]
  },
  {
   "cell_type": "code",
   "execution_count": 19,
   "id": "3f8798f9",
   "metadata": {},
   "outputs": [],
   "source": [
    "pytrend.build_payload(\n",
    "    kw_list=[\"covid\"],\n",
    "    cat=0, # to specify what of google trend you want to search (images? news?) https://github.com/pat310/google-trends-api/wiki/Google-Trends-Categories\n",
    "    timeframe='2019-01-01 2021-07-07', # date range of what you want\n",
    "    geo='SG') # what country you want to pull the data from"
   ]
  },
  {
   "cell_type": "code",
   "execution_count": 20,
   "id": "73802509",
   "metadata": {},
   "outputs": [],
   "source": [
    "extracted_data = []\n",
    "\n",
    "data = pytrend.interest_over_time()\n",
    "if not data.empty:\n",
    "    data = data.drop(labels=['isPartial'] ,axis='columns')\n",
    "extracted_data.append(data)"
   ]
  },
  {
   "cell_type": "code",
   "execution_count": 21,
   "id": "0fde7112",
   "metadata": {},
   "outputs": [
    {
     "data": {
      "text/plain": [
       "[            covid\n",
       " date             \n",
       " 2019-01-06      0\n",
       " 2019-01-13      0\n",
       " 2019-01-20      0\n",
       " 2019-01-27      0\n",
       " 2019-02-03      0\n",
       " ...           ...\n",
       " 2021-06-06     48\n",
       " 2021-06-13     48\n",
       " 2021-06-20     48\n",
       " 2021-06-27     40\n",
       " 2021-07-04     33\n",
       " \n",
       " [131 rows x 1 columns]]"
      ]
     },
     "execution_count": 21,
     "metadata": {},
     "output_type": "execute_result"
    }
   ],
   "source": [
    "extracted_data"
   ]
  }
 ],
 "metadata": {
  "kernelspec": {
   "display_name": "Python 3 (ipykernel)",
   "language": "python",
   "name": "python3"
  },
  "language_info": {
   "codemirror_mode": {
    "name": "ipython",
    "version": 3
   },
   "file_extension": ".py",
   "mimetype": "text/x-python",
   "name": "python",
   "nbconvert_exporter": "python",
   "pygments_lexer": "ipython3",
   "version": "3.9.12"
  }
 },
 "nbformat": 4,
 "nbformat_minor": 5
}
