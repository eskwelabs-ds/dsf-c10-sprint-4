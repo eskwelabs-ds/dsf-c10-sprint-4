{
 "cells": [
  {
   "cell_type": "markdown",
   "id": "0214abcd",
   "metadata": {},
   "source": [
    "### Bag of Words"
   ]
  },
  {
   "cell_type": "code",
   "execution_count": 1,
   "id": "79bf280d",
   "metadata": {},
   "outputs": [],
   "source": [
    "from sklearn.feature_extraction.text import CountVectorizer"
   ]
  },
  {
   "cell_type": "code",
   "execution_count": 2,
   "id": "d5a2c003",
   "metadata": {},
   "outputs": [],
   "source": [
    "sents = ['coronavirus is a highly infectious disease',\n",
    "   'coronavirus affects older people the most', \n",
    "   'older people are at high risk due to this disease']"
   ]
  },
  {
   "cell_type": "code",
   "execution_count": 3,
   "id": "cfa8d8d7",
   "metadata": {},
   "outputs": [],
   "source": [
    "cv = CountVectorizer()"
   ]
  },
  {
   "cell_type": "code",
   "execution_count": 4,
   "id": "34995b98",
   "metadata": {},
   "outputs": [],
   "source": [
    "X = cv.fit_transform(sents) \n",
    "X = X.toarray()"
   ]
  },
  {
   "cell_type": "code",
   "execution_count": 5,
   "id": "f2be6ed5",
   "metadata": {},
   "outputs": [
    {
     "data": {
      "text/plain": [
       "array([[0, 0, 0, 1, 1, 0, 0, 1, 1, 1, 0, 0, 0, 0, 0, 0, 0],\n",
       "       [1, 0, 0, 1, 0, 0, 0, 0, 0, 0, 1, 1, 1, 0, 1, 0, 0],\n",
       "       [0, 1, 1, 0, 1, 1, 1, 0, 0, 0, 0, 1, 1, 1, 0, 1, 1]], dtype=int64)"
      ]
     },
     "execution_count": 5,
     "metadata": {},
     "output_type": "execute_result"
    }
   ],
   "source": [
    "X"
   ]
  },
  {
   "cell_type": "code",
   "execution_count": 6,
   "id": "973ee2a3",
   "metadata": {},
   "outputs": [
    {
     "data": {
      "text/plain": [
       "['affects',\n",
       " 'are',\n",
       " 'at',\n",
       " 'coronavirus',\n",
       " 'disease',\n",
       " 'due',\n",
       " 'high',\n",
       " 'highly',\n",
       " 'infectious',\n",
       " 'is',\n",
       " 'most',\n",
       " 'older',\n",
       " 'people',\n",
       " 'risk',\n",
       " 'the',\n",
       " 'this',\n",
       " 'to']"
      ]
     },
     "execution_count": 6,
     "metadata": {},
     "output_type": "execute_result"
    }
   ],
   "source": [
    "sorted(cv.vocabulary_.keys())"
   ]
  },
  {
   "cell_type": "markdown",
   "id": "e6091c44",
   "metadata": {},
   "source": [
    "* You can see that every row is the associated vector representation of respective sentences in ‘sents’.\n",
    "* The length of each vector is equal to the length of vocabulary.\n",
    "* Every member of the list represents the frequency of the associated word as present in sorted vocabulary."
   ]
  },
  {
   "cell_type": "code",
   "execution_count": 7,
   "id": "d385de47",
   "metadata": {},
   "outputs": [],
   "source": [
    "cv = CountVectorizer(ngram_range=(2,2))"
   ]
  },
  {
   "cell_type": "code",
   "execution_count": 8,
   "id": "354265f4",
   "metadata": {},
   "outputs": [],
   "source": [
    "X = cv.fit_transform(sents) \n",
    "X = X.toarray()"
   ]
  },
  {
   "cell_type": "code",
   "execution_count": 9,
   "id": "1edd5ec1",
   "metadata": {},
   "outputs": [
    {
     "data": {
      "text/plain": [
       "array([[0, 0, 0, 0, 1, 0, 0, 1, 1, 1, 0, 0, 0, 0, 0, 0, 0],\n",
       "       [1, 0, 0, 1, 0, 0, 0, 0, 0, 0, 1, 0, 1, 0, 1, 0, 0],\n",
       "       [0, 1, 1, 0, 0, 1, 1, 0, 0, 0, 1, 1, 0, 1, 0, 1, 1]], dtype=int64)"
      ]
     },
     "execution_count": 9,
     "metadata": {},
     "output_type": "execute_result"
    }
   ],
   "source": [
    "X"
   ]
  },
  {
   "cell_type": "code",
   "execution_count": 10,
   "id": "06765ee4",
   "metadata": {},
   "outputs": [
    {
     "data": {
      "text/plain": [
       "['affects older',\n",
       " 'are at',\n",
       " 'at high',\n",
       " 'coronavirus affects',\n",
       " 'coronavirus is',\n",
       " 'due to',\n",
       " 'high risk',\n",
       " 'highly infectious',\n",
       " 'infectious disease',\n",
       " 'is highly',\n",
       " 'older people',\n",
       " 'people are',\n",
       " 'people the',\n",
       " 'risk due',\n",
       " 'the most',\n",
       " 'this disease',\n",
       " 'to this']"
      ]
     },
     "execution_count": 10,
     "metadata": {},
     "output_type": "execute_result"
    }
   ],
   "source": [
    "sorted(cv.vocabulary_.keys())"
   ]
  }
 ],
 "metadata": {
  "kernelspec": {
   "display_name": "Python 3 (ipykernel)",
   "language": "python",
   "name": "python3"
  },
  "language_info": {
   "codemirror_mode": {
    "name": "ipython",
    "version": 3
   },
   "file_extension": ".py",
   "mimetype": "text/x-python",
   "name": "python",
   "nbconvert_exporter": "python",
   "pygments_lexer": "ipython3",
   "version": "3.9.12"
  }
 },
 "nbformat": 4,
 "nbformat_minor": 5
}
