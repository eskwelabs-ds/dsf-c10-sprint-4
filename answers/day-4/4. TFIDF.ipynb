{
 "cells": [
  {
   "cell_type": "code",
   "execution_count": 61,
   "id": "aeb951d7",
   "metadata": {},
   "outputs": [],
   "source": [
    "import math\n",
    "import numpy as np\n",
    "import pandas as pd\n",
    "\n",
    "from sklearn.feature_extraction.text import TfidfVectorizer\n",
    "from sklearn.naive_bayes import MultinomialNB\n",
    "from sklearn.metrics import f1_score\n",
    "from sklearn.model_selection import train_test_split\n",
    "from sklearn.preprocessing import LabelEncoder"
   ]
  },
  {
   "cell_type": "code",
   "execution_count": 2,
   "id": "35d57884",
   "metadata": {},
   "outputs": [],
   "source": [
    "doc_a = \"The cat sat on my face\"\n",
    "doc_b = \"The dog sat on my bed\" "
   ]
  },
  {
   "cell_type": "code",
   "execution_count": 3,
   "id": "9845a447",
   "metadata": {},
   "outputs": [],
   "source": [
    "bow_a = doc_a.split(\" \")\n",
    "bow_b = doc_b.split(\" \")"
   ]
  },
  {
   "cell_type": "code",
   "execution_count": 4,
   "id": "9fc6e1e0",
   "metadata": {},
   "outputs": [
    {
     "data": {
      "text/plain": [
       "['The', 'dog', 'sat', 'on', 'my', 'bed']"
      ]
     },
     "execution_count": 4,
     "metadata": {},
     "output_type": "execute_result"
    }
   ],
   "source": [
    "bow_b"
   ]
  },
  {
   "cell_type": "markdown",
   "id": "55c29251",
   "metadata": {},
   "source": [
    "### Merge two sentences"
   ]
  },
  {
   "cell_type": "code",
   "execution_count": 5,
   "id": "aba0424b",
   "metadata": {},
   "outputs": [],
   "source": [
    "word_set = set(bow_a).union(set(bow_b))"
   ]
  },
  {
   "cell_type": "code",
   "execution_count": 6,
   "id": "4df977f9",
   "metadata": {},
   "outputs": [
    {
     "data": {
      "text/plain": [
       "{'The', 'bed', 'cat', 'dog', 'face', 'my', 'on', 'sat'}"
      ]
     },
     "execution_count": 6,
     "metadata": {},
     "output_type": "execute_result"
    }
   ],
   "source": [
    "word_set"
   ]
  },
  {
   "cell_type": "markdown",
   "id": "dcd97ab5",
   "metadata": {},
   "source": [
    "### Convert to dictionary and set initial values to 0"
   ]
  },
  {
   "cell_type": "code",
   "execution_count": 7,
   "id": "ea1d5fdb",
   "metadata": {},
   "outputs": [],
   "source": [
    "word_dict_a = dict.fromkeys(word_set, 0) \n",
    "word_dict_b = dict.fromkeys(word_set, 0) "
   ]
  },
  {
   "cell_type": "markdown",
   "id": "972302a9",
   "metadata": {},
   "source": [
    "### Get count of words per each sentence"
   ]
  },
  {
   "cell_type": "code",
   "execution_count": 8,
   "id": "a17bf7c8",
   "metadata": {},
   "outputs": [],
   "source": [
    "for word in bow_a:\n",
    "    word_dict_a[word]+=1\n",
    "    \n",
    "for word in bow_b:\n",
    "    word_dict_b[word]+=1"
   ]
  },
  {
   "cell_type": "code",
   "execution_count": 9,
   "id": "1caec6af",
   "metadata": {},
   "outputs": [
    {
     "data": {
      "text/plain": [
       "{'bed': 1, 'my': 1, 'cat': 0, 'on': 1, 'face': 0, 'sat': 1, 'The': 1, 'dog': 1}"
      ]
     },
     "execution_count": 9,
     "metadata": {},
     "output_type": "execute_result"
    }
   ],
   "source": [
    "word_dict_b"
   ]
  },
  {
   "cell_type": "markdown",
   "id": "6be0dfb9",
   "metadata": {},
   "source": [
    "### Converting to Dataframe"
   ]
  },
  {
   "cell_type": "code",
   "execution_count": 11,
   "id": "317f26cb",
   "metadata": {},
   "outputs": [
    {
     "data": {
      "text/html": [
       "<div>\n",
       "<style scoped>\n",
       "    .dataframe tbody tr th:only-of-type {\n",
       "        vertical-align: middle;\n",
       "    }\n",
       "\n",
       "    .dataframe tbody tr th {\n",
       "        vertical-align: top;\n",
       "    }\n",
       "\n",
       "    .dataframe thead th {\n",
       "        text-align: right;\n",
       "    }\n",
       "</style>\n",
       "<table border=\"1\" class=\"dataframe\">\n",
       "  <thead>\n",
       "    <tr style=\"text-align: right;\">\n",
       "      <th></th>\n",
       "      <th>bed</th>\n",
       "      <th>my</th>\n",
       "      <th>cat</th>\n",
       "      <th>on</th>\n",
       "      <th>face</th>\n",
       "      <th>sat</th>\n",
       "      <th>The</th>\n",
       "      <th>dog</th>\n",
       "    </tr>\n",
       "  </thead>\n",
       "  <tbody>\n",
       "    <tr>\n",
       "      <th>0</th>\n",
       "      <td>0</td>\n",
       "      <td>1</td>\n",
       "      <td>1</td>\n",
       "      <td>1</td>\n",
       "      <td>1</td>\n",
       "      <td>1</td>\n",
       "      <td>1</td>\n",
       "      <td>0</td>\n",
       "    </tr>\n",
       "    <tr>\n",
       "      <th>1</th>\n",
       "      <td>1</td>\n",
       "      <td>1</td>\n",
       "      <td>0</td>\n",
       "      <td>1</td>\n",
       "      <td>0</td>\n",
       "      <td>1</td>\n",
       "      <td>1</td>\n",
       "      <td>1</td>\n",
       "    </tr>\n",
       "  </tbody>\n",
       "</table>\n",
       "</div>"
      ],
      "text/plain": [
       "   bed  my  cat  on  face  sat  The  dog\n",
       "0    0   1    1   1     1    1    1    0\n",
       "1    1   1    0   1     0    1    1    1"
      ]
     },
     "execution_count": 11,
     "metadata": {},
     "output_type": "execute_result"
    }
   ],
   "source": [
    "pd.DataFrame([word_dict_a, word_dict_b])"
   ]
  },
  {
   "cell_type": "markdown",
   "id": "e25a93e7",
   "metadata": {},
   "source": [
    "### Compute Term Frequency"
   ]
  },
  {
   "cell_type": "markdown",
   "id": "ca94502d",
   "metadata": {},
   "source": [
    "![alt text](tf.png \"Title\")"
   ]
  },
  {
   "cell_type": "code",
   "execution_count": 21,
   "id": "0547ae1a",
   "metadata": {},
   "outputs": [],
   "source": [
    "def computeTF(word_dict, bow):\n",
    "    tf_dict = {}\n",
    "    bow_count = len(bow)\n",
    "    for word, count in word_dict.items():\n",
    "        tf_dict[word] = count/float(bow_count)\n",
    "    \n",
    "    return tf_dict"
   ]
  },
  {
   "cell_type": "code",
   "execution_count": 1,
   "id": "e0571098",
   "metadata": {},
   "outputs": [
    {
     "data": {
      "text/plain": [
       "0.16666666666666666"
      ]
     },
     "execution_count": 1,
     "metadata": {},
     "output_type": "execute_result"
    }
   ],
   "source": [
    "1/6"
   ]
  },
  {
   "cell_type": "code",
   "execution_count": 23,
   "id": "a2c4f275",
   "metadata": {},
   "outputs": [
    {
     "data": {
      "text/plain": [
       "{'bed': 0.0,\n",
       " 'my': 0.16666666666666666,\n",
       " 'cat': 0.16666666666666666,\n",
       " 'on': 0.16666666666666666,\n",
       " 'face': 0.16666666666666666,\n",
       " 'sat': 0.16666666666666666,\n",
       " 'The': 0.16666666666666666,\n",
       " 'dog': 0.0}"
      ]
     },
     "execution_count": 23,
     "metadata": {},
     "output_type": "execute_result"
    }
   ],
   "source": [
    "### bow_a = The cat sat on my face\n",
    "\n",
    "tf_bow_a = computeTF(word_dict_a, bow_a)\n",
    "tf_bow_a"
   ]
  },
  {
   "cell_type": "code",
   "execution_count": 22,
   "id": "02638f74",
   "metadata": {},
   "outputs": [
    {
     "data": {
      "text/plain": [
       "{'bed': 0.16666666666666666,\n",
       " 'my': 0.16666666666666666,\n",
       " 'cat': 0.0,\n",
       " 'on': 0.16666666666666666,\n",
       " 'face': 0.0,\n",
       " 'sat': 0.16666666666666666,\n",
       " 'The': 0.16666666666666666,\n",
       " 'dog': 0.16666666666666666}"
      ]
     },
     "execution_count": 22,
     "metadata": {},
     "output_type": "execute_result"
    }
   ],
   "source": [
    "### The dog sat on my bed\n",
    "\n",
    "tf_bow_b = computeTF(word_dict_b, bow_b)\n",
    "tf_bow_b"
   ]
  },
  {
   "cell_type": "markdown",
   "id": "2edbbd5e",
   "metadata": {},
   "source": [
    "### Compute IDF"
   ]
  },
  {
   "cell_type": "markdown",
   "id": "58166e16",
   "metadata": {},
   "source": [
    "![alt text](idf.png \"Title\")"
   ]
  },
  {
   "cell_type": "code",
   "execution_count": 40,
   "id": "68da270e",
   "metadata": {},
   "outputs": [],
   "source": [
    "def computeIDF(doc_list):\n",
    "    idf_dict = {}\n",
    "    \n",
    "    number_of_items = len(doc_list)  ### 2\n",
    "    \n",
    "    idf_dict = dict.fromkeys(doc_list[0].keys(), 0)\n",
    "    for doc in doc_list:\n",
    "        for word, val in doc.items():\n",
    "            if val > 0:\n",
    "                idf_dict[word] += 1\n",
    "                \n",
    "    print(idf_dict)\n",
    "    \n",
    "    for word, val in idf_dict.items():\n",
    "        idf_dict[word] = math.log10(number_of_items / float(val))\n",
    "        \n",
    "    return idf_dict  "
   ]
  },
  {
   "cell_type": "code",
   "execution_count": 42,
   "id": "ec96d62a",
   "metadata": {},
   "outputs": [
    {
     "name": "stdout",
     "output_type": "stream",
     "text": [
      "{'bed': 1, 'my': 2, 'cat': 1, 'on': 2, 'face': 1, 'sat': 2, 'The': 2, 'dog': 1}\n"
     ]
    },
    {
     "data": {
      "text/plain": [
       "{'bed': 0.3010299956639812,\n",
       " 'my': 0.0,\n",
       " 'cat': 0.3010299956639812,\n",
       " 'on': 0.0,\n",
       " 'face': 0.3010299956639812,\n",
       " 'sat': 0.0,\n",
       " 'The': 0.0,\n",
       " 'dog': 0.3010299956639812}"
      ]
     },
     "execution_count": 42,
     "metadata": {},
     "output_type": "execute_result"
    }
   ],
   "source": [
    "idfs = computeIDF([word_dict_a, word_dict_b])\n",
    "idfs"
   ]
  },
  {
   "cell_type": "markdown",
   "id": "362920af",
   "metadata": {},
   "source": [
    "### TFIDF"
   ]
  },
  {
   "cell_type": "markdown",
   "id": "83bd177e",
   "metadata": {},
   "source": [
    "![alt text](tfidf.png \"Title\")"
   ]
  },
  {
   "cell_type": "code",
   "execution_count": 43,
   "id": "788d8d35",
   "metadata": {},
   "outputs": [],
   "source": [
    "def computeTFIDF(tf_bow, idfs):\n",
    "    tfidf = {}\n",
    "    for word, val in tf_bow.items():\n",
    "        tfidf[word] = val*idfs[word]\n",
    "        \n",
    "    return tfidf"
   ]
  },
  {
   "cell_type": "code",
   "execution_count": 47,
   "id": "3b5de3bc",
   "metadata": {},
   "outputs": [],
   "source": [
    "tfidf_bow_a = computeTFIDF(tf_bow_a, idfs)\n",
    "tfidf_bow_b = computeTFIDF(tf_bow_b, idfs)"
   ]
  },
  {
   "cell_type": "code",
   "execution_count": 48,
   "id": "0f13eee5",
   "metadata": {},
   "outputs": [
    {
     "data": {
      "text/html": [
       "<div>\n",
       "<style scoped>\n",
       "    .dataframe tbody tr th:only-of-type {\n",
       "        vertical-align: middle;\n",
       "    }\n",
       "\n",
       "    .dataframe tbody tr th {\n",
       "        vertical-align: top;\n",
       "    }\n",
       "\n",
       "    .dataframe thead th {\n",
       "        text-align: right;\n",
       "    }\n",
       "</style>\n",
       "<table border=\"1\" class=\"dataframe\">\n",
       "  <thead>\n",
       "    <tr style=\"text-align: right;\">\n",
       "      <th></th>\n",
       "      <th>bed</th>\n",
       "      <th>my</th>\n",
       "      <th>cat</th>\n",
       "      <th>on</th>\n",
       "      <th>face</th>\n",
       "      <th>sat</th>\n",
       "      <th>The</th>\n",
       "      <th>dog</th>\n",
       "    </tr>\n",
       "  </thead>\n",
       "  <tbody>\n",
       "    <tr>\n",
       "      <th>0</th>\n",
       "      <td>0.000000</td>\n",
       "      <td>0.0</td>\n",
       "      <td>0.050172</td>\n",
       "      <td>0.0</td>\n",
       "      <td>0.050172</td>\n",
       "      <td>0.0</td>\n",
       "      <td>0.0</td>\n",
       "      <td>0.000000</td>\n",
       "    </tr>\n",
       "    <tr>\n",
       "      <th>1</th>\n",
       "      <td>0.050172</td>\n",
       "      <td>0.0</td>\n",
       "      <td>0.000000</td>\n",
       "      <td>0.0</td>\n",
       "      <td>0.000000</td>\n",
       "      <td>0.0</td>\n",
       "      <td>0.0</td>\n",
       "      <td>0.050172</td>\n",
       "    </tr>\n",
       "  </tbody>\n",
       "</table>\n",
       "</div>"
      ],
      "text/plain": [
       "        bed   my       cat   on      face  sat  The       dog\n",
       "0  0.000000  0.0  0.050172  0.0  0.050172  0.0  0.0  0.000000\n",
       "1  0.050172  0.0  0.000000  0.0  0.000000  0.0  0.0  0.050172"
      ]
     },
     "execution_count": 48,
     "metadata": {},
     "output_type": "execute_result"
    }
   ],
   "source": [
    "pd.DataFrame([tfidf_bow_a, tfidf_bow_b])"
   ]
  },
  {
   "cell_type": "markdown",
   "id": "2d2e9abb",
   "metadata": {},
   "source": [
    "### Using Scikit Learn Library"
   ]
  },
  {
   "cell_type": "code",
   "execution_count": 58,
   "id": "59331244",
   "metadata": {},
   "outputs": [
    {
     "data": {
      "text/html": [
       "<div>\n",
       "<style scoped>\n",
       "    .dataframe tbody tr th:only-of-type {\n",
       "        vertical-align: middle;\n",
       "    }\n",
       "\n",
       "    .dataframe tbody tr th {\n",
       "        vertical-align: top;\n",
       "    }\n",
       "\n",
       "    .dataframe thead th {\n",
       "        text-align: right;\n",
       "    }\n",
       "</style>\n",
       "<table border=\"1\" class=\"dataframe\">\n",
       "  <thead>\n",
       "    <tr style=\"text-align: right;\">\n",
       "      <th></th>\n",
       "      <th>2</th>\n",
       "      <th>3</th>\n",
       "    </tr>\n",
       "  </thead>\n",
       "  <tbody>\n",
       "    <tr>\n",
       "      <th>0</th>\n",
       "      <td>Positive</td>\n",
       "      <td>im getting on borderlands and i will murder yo...</td>\n",
       "    </tr>\n",
       "    <tr>\n",
       "      <th>1</th>\n",
       "      <td>Positive</td>\n",
       "      <td>I am coming to the borders and I will kill you...</td>\n",
       "    </tr>\n",
       "    <tr>\n",
       "      <th>2</th>\n",
       "      <td>Positive</td>\n",
       "      <td>im getting on borderlands and i will kill you ...</td>\n",
       "    </tr>\n",
       "    <tr>\n",
       "      <th>3</th>\n",
       "      <td>Positive</td>\n",
       "      <td>im coming on borderlands and i will murder you...</td>\n",
       "    </tr>\n",
       "    <tr>\n",
       "      <th>4</th>\n",
       "      <td>Positive</td>\n",
       "      <td>im getting on borderlands 2 and i will murder ...</td>\n",
       "    </tr>\n",
       "  </tbody>\n",
       "</table>\n",
       "</div>"
      ],
      "text/plain": [
       "          2                                                  3\n",
       "0  Positive  im getting on borderlands and i will murder yo...\n",
       "1  Positive  I am coming to the borders and I will kill you...\n",
       "2  Positive  im getting on borderlands and i will kill you ...\n",
       "3  Positive  im coming on borderlands and i will murder you...\n",
       "4  Positive  im getting on borderlands 2 and i will murder ..."
      ]
     },
     "execution_count": 58,
     "metadata": {},
     "output_type": "execute_result"
    }
   ],
   "source": [
    "# load dataset\n",
    "df = pd.read_csv('twitter_training.csv', header=None, usecols=[2,3])\n",
    "df.head()"
   ]
  },
  {
   "cell_type": "code",
   "execution_count": 62,
   "id": "5a965512",
   "metadata": {},
   "outputs": [],
   "source": [
    "# rename columns\n",
    "df.columns = ['Sentiment', 'Text']\n",
    "\n",
    "# remove missing values\n",
    "df = df.dropna()\n",
    "\n",
    "# encode target label\n",
    "le = LabelEncoder()\n",
    "df['Sentiment'] = le.fit_transform(df['Sentiment'])\n",
    "\n",
    "# establish input and output\n",
    "X = list(df['Text'])\n",
    "y = list(df['Sentiment'])\n",
    "\n",
    "# split data into training and testing set\n",
    "X_train, X_test, y_train, y_test = train_test_split(X, y, test_size=0.25, random_state=42)"
   ]
  },
  {
   "cell_type": "code",
   "execution_count": 63,
   "id": "01f7ed35",
   "metadata": {},
   "outputs": [
    {
     "name": "stdout",
     "output_type": "stream",
     "text": [
      "F-1 score : 0.7313\n"
     ]
    }
   ],
   "source": [
    "# create a bag of words for with unigrams and bigrams\n",
    "tfidf = TfidfVectorizer(sublinear_tf=True,norm='l2',encoding='utf-8',ngram_range=(1,1), \n",
    "                        stop_words='english')\n",
    "\n",
    "# convert training data to bag of words\n",
    "X_train_cv = tfidf.fit_transform(X_train)\n",
    "X_test_cv = tfidf.transform(X_test)\n",
    "\n",
    "# train naive bayes classifier\n",
    "clf = MultinomialNB()\n",
    "clf.fit(X_train_cv, y_train)\n",
    "\n",
    "# create predictions\n",
    "y_pred = clf.predict(X_test_cv)\n",
    "\n",
    "# find f-1 score\n",
    "score = f1_score(y_test, y_pred, average='micro')\n",
    "print('F-1 score : {}'.format(np.round(score,4)))"
   ]
  },
  {
   "cell_type": "code",
   "execution_count": 66,
   "id": "9d577805",
   "metadata": {},
   "outputs": [
    {
     "name": "stdout",
     "output_type": "stream",
     "text": [
      "F-1 score of model with n-gram range of (1, 1): 0.7313\n",
      "F-1 score of model with n-gram range of (1, 2): 0.8324\n",
      "F-1 score of model with n-gram range of (1, 3): 0.8519\n",
      "F-1 score of model with n-gram range of (1, 4): 0.8529\n",
      "F-1 score of model with n-gram range of (1, 5): 0.8516\n",
      "F-1 score of model with n-gram range of (1, 6): 0.8482\n",
      "F-1 score of model with n-gram range of (1, 7): 0.8451\n",
      "F-1 score of model with n-gram range of (1, 8): 0.8424\n",
      "F-1 score of model with n-gram range of (1, 9): 0.8404\n",
      "F-1 score of model with n-gram range of (1, 10): 0.8375\n"
     ]
    }
   ],
   "source": [
    "for N in range(1,11):\n",
    "    \n",
    "    # convert training data to bag of words\n",
    "    tfidf = TfidfVectorizer(sublinear_tf=True,norm='l2',encoding='utf-8',ngram_range=(1,N), \n",
    "                        stop_words='english')\n",
    "    X_train_cv = tfidf.fit_transform(X_train)\n",
    "    X_test_cv = tfidf.transform(X_test)\n",
    "    \n",
    "    # train model and generate predictions\n",
    "    clf = MultinomialNB()\n",
    "    clf.fit(X_train_cv, y_train)\n",
    "    y_pred = clf.predict(X_test_cv)\n",
    "    \n",
    "    # compute f-1 score\n",
    "    score = np.round(f1_score(y_test, y_pred, average='micro'), 4)\n",
    "    print('F-1 score of model with n-gram range of {}: {}'.format((1,N), score))"
   ]
  }
 ],
 "metadata": {
  "kernelspec": {
   "display_name": "Python 3 (ipykernel)",
   "language": "python",
   "name": "python3"
  },
  "language_info": {
   "codemirror_mode": {
    "name": "ipython",
    "version": 3
   },
   "file_extension": ".py",
   "mimetype": "text/x-python",
   "name": "python",
   "nbconvert_exporter": "python",
   "pygments_lexer": "ipython3",
   "version": "3.9.12"
  }
 },
 "nbformat": 4,
 "nbformat_minor": 5
}
