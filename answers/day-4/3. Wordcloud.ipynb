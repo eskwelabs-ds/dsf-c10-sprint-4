{
 "cells": [
  {
   "cell_type": "code",
   "execution_count": 1,
   "id": "dbe9febd",
   "metadata": {},
   "outputs": [
    {
     "name": "stdout",
     "output_type": "stream",
     "text": [
      "Requirement already satisfied: wordcloud in c:\\users\\rheyannmagcalas\\anaconda3\\lib\\site-packages (1.8.2.2)\n",
      "Requirement already satisfied: matplotlib in c:\\users\\rheyannmagcalas\\anaconda3\\lib\\site-packages (from wordcloud) (3.5.1)\n",
      "Requirement already satisfied: numpy>=1.6.1 in c:\\users\\rheyannmagcalas\\anaconda3\\lib\\site-packages (from wordcloud) (1.22.4)\n",
      "Requirement already satisfied: pillow in c:\\users\\rheyannmagcalas\\anaconda3\\lib\\site-packages (from wordcloud) (9.0.1)\n",
      "Requirement already satisfied: packaging>=20.0 in c:\\users\\rheyannmagcalas\\anaconda3\\lib\\site-packages (from matplotlib->wordcloud) (21.3)\n",
      "Requirement already satisfied: python-dateutil>=2.7 in c:\\users\\rheyannmagcalas\\anaconda3\\lib\\site-packages (from matplotlib->wordcloud) (2.8.2)\n",
      "Requirement already satisfied: kiwisolver>=1.0.1 in c:\\users\\rheyannmagcalas\\anaconda3\\lib\\site-packages (from matplotlib->wordcloud) (1.3.2)\n",
      "Requirement already satisfied: cycler>=0.10 in c:\\users\\rheyannmagcalas\\anaconda3\\lib\\site-packages (from matplotlib->wordcloud) (0.11.0)\n",
      "Requirement already satisfied: pyparsing>=2.2.1 in c:\\users\\rheyannmagcalas\\anaconda3\\lib\\site-packages (from matplotlib->wordcloud) (3.0.4)\n",
      "Requirement already satisfied: fonttools>=4.22.0 in c:\\users\\rheyannmagcalas\\anaconda3\\lib\\site-packages (from matplotlib->wordcloud) (4.25.0)\n",
      "Requirement already satisfied: six>=1.5 in c:\\users\\rheyannmagcalas\\anaconda3\\lib\\site-packages (from python-dateutil>=2.7->matplotlib->wordcloud) (1.16.0)\n"
     ]
    },
    {
     "name": "stderr",
     "output_type": "stream",
     "text": [
      "WARNING: There was an error checking the latest version of pip.\n"
     ]
    }
   ],
   "source": [
    "!pip install wordcloud"
   ]
  },
  {
   "cell_type": "code",
   "execution_count": 2,
   "id": "78eadf2d",
   "metadata": {},
   "outputs": [
    {
     "name": "stderr",
     "output_type": "stream",
     "text": [
      "UsageError: Line magic function `%` not found.\n"
     ]
    }
   ],
   "source": [
    "import numpy as np\n",
    "import pandas as pd\n",
    "from os import path\n",
    "from PIL import Image\n",
    "from wordcloud import WordCloud, STOPWORDS, ImageColorGenerator\n",
    "\n",
    "import matplotlib.pyplot as plt\n",
    "% matplotlib inline"
   ]
  },
  {
   "cell_type": "markdown",
   "id": "fabad3f2",
   "metadata": {},
   "source": [
    "### Word cloud \n",
    "* A word cloud (also known as a tag cloud) is a visual representation of words. Cloud creators are used to highlight popular words and phrases based on frequency and relevance. They provide you with quick and simple visual insights that can lead to more in-depth analyses."
   ]
  },
  {
   "cell_type": "code",
   "execution_count": null,
   "id": "87ab7236",
   "metadata": {},
   "outputs": [],
   "source": [
    "df = pd.read_csv(\"twitter_disaster_tweet_preprocess\", index_col=0)"
   ]
  },
  {
   "cell_type": "code",
   "execution_count": null,
   "id": "85fc86a9",
   "metadata": {},
   "outputs": [],
   "source": [
    "df.head()"
   ]
  },
  {
   "cell_type": "code",
   "execution_count": null,
   "id": "173b81c0",
   "metadata": {},
   "outputs": [],
   "source": [
    "?WordCloud"
   ]
  },
  {
   "cell_type": "markdown",
   "id": "35b6af05",
   "metadata": {},
   "source": [
    "### Testing one tweet"
   ]
  },
  {
   "cell_type": "code",
   "execution_count": null,
   "id": "48613dbd",
   "metadata": {},
   "outputs": [],
   "source": [
    "# Start with one review:\n",
    "text = df.text[0]\n",
    "\n",
    "# Create and generate a word cloud image:\n",
    "wordcloud = WordCloud().generate(text)\n",
    "\n",
    "# Display the generated image:\n",
    "plt.imshow(wordcloud, interpolation='bilinear')\n",
    "plt.axis(\"off\")\n",
    "plt.show()"
   ]
  },
  {
   "cell_type": "markdown",
   "id": "4cb68f8f",
   "metadata": {},
   "source": [
    "### Updating Styles"
   ]
  },
  {
   "cell_type": "code",
   "execution_count": null,
   "id": "806e3820",
   "metadata": {},
   "outputs": [],
   "source": [
    "# lower max_font_size, change the maximum number of word and lighten the background:\n",
    "wordcloud = WordCloud(max_font_size=50, max_words=100, background_color=\"white\").generate(text)\n",
    "plt.figure()\n",
    "plt.imshow(wordcloud, interpolation=\"bilinear\")\n",
    "plt.axis(\"off\")\n",
    "plt.show()"
   ]
  },
  {
   "cell_type": "code",
   "execution_count": null,
   "id": "685ce676",
   "metadata": {},
   "outputs": [],
   "source": [
    "# Start with one review:\n",
    "text = \" \".join(tweet for tweet in df.text)\n",
    "\n",
    "# Create and generate a word cloud image:\n",
    "wordcloud = WordCloud().generate(text)\n",
    "\n",
    "# Display the generated image:\n",
    "plt.imshow(wordcloud, interpolation='bilinear')\n",
    "plt.axis(\"off\")\n",
    "plt.show()"
   ]
  },
  {
   "cell_type": "code",
   "execution_count": null,
   "id": "dee6b41d",
   "metadata": {},
   "outputs": [],
   "source": [
    "# Save the image in the img folder:\n",
    "wordcloud.to_file(\"wordcloud_tweets.png\")"
   ]
  },
  {
   "cell_type": "markdown",
   "id": "f8345099",
   "metadata": {},
   "source": [
    "### Masking"
   ]
  },
  {
   "cell_type": "code",
   "execution_count": null,
   "id": "a51731a0",
   "metadata": {},
   "outputs": [],
   "source": [
    "twitter_mask = np.array(Image.open(\"Twitter-Logo.png\"))\n",
    "twitter_mask"
   ]
  },
  {
   "cell_type": "code",
   "execution_count": null,
   "id": "29dc889f",
   "metadata": {},
   "outputs": [],
   "source": [
    "def transform_format(val):\n",
    "    if val == 0:\n",
    "        return 255\n",
    "    else:\n",
    "        return val"
   ]
  },
  {
   "cell_type": "code",
   "execution_count": null,
   "id": "29801695",
   "metadata": {},
   "outputs": [],
   "source": [
    "transformed_twitter_mask = np.ndarray((twitter_mask.shape[0],twitter_mask.shape[1]), np.int32)\n",
    "\n",
    "for i in range(len(twitter_mask)):\n",
    "    transformed_twitter_mask[i] = list(map(transform_format, twitter_mask[i]))"
   ]
  },
  {
   "cell_type": "code",
   "execution_count": null,
   "id": "350be6c9",
   "metadata": {},
   "outputs": [],
   "source": [
    "transformed_twitter_mask"
   ]
  },
  {
   "cell_type": "code",
   "execution_count": null,
   "id": "be4a613d",
   "metadata": {},
   "outputs": [],
   "source": [
    "stopwords = set(STOPWORDS)\n",
    "\n",
    "# Create a word cloud image\n",
    "wc = WordCloud(background_color=\"white\", max_words=1000, mask=transformed_twitter_mask,\n",
    "               stopwords=stopwords, contour_width=3, contour_color='firebrick')\n",
    "\n",
    "# Generate a wordcloud\n",
    "wc.generate(\" \".join(tweet for tweet in df.text))\n",
    "\n",
    "# # store to file\n",
    "# wc.to_file(\"tweet.png\")\n",
    "\n",
    "# show\n",
    "plt.figure(figsize=[20,10])\n",
    "plt.imshow(wc, interpolation='bilinear')\n",
    "plt.axis(\"off\")\n",
    "plt.show()"
   ]
  },
  {
   "cell_type": "markdown",
   "id": "4e7185a1",
   "metadata": {},
   "source": [
    "Advantages of Word Clouds : \n",
    "\n",
    "    Analyzing customer and employee feedback.\n",
    "    Identifying new SEO keywords to target.\n",
    "\n",
    "Drawbacks of Word Clouds : \n",
    "\n",
    "    Word Clouds are not perfect for every situation.\n",
    "    Data should be optimized for context."
   ]
  }
 ],
 "metadata": {
  "kernelspec": {
   "display_name": "Python 3 (ipykernel)",
   "language": "python",
   "name": "python3"
  },
  "language_info": {
   "codemirror_mode": {
    "name": "ipython",
    "version": 3
   },
   "file_extension": ".py",
   "mimetype": "text/x-python",
   "name": "python",
   "nbconvert_exporter": "python",
   "pygments_lexer": "ipython3",
   "version": "3.9.12"
  }
 },
 "nbformat": 4,
 "nbformat_minor": 5
}
